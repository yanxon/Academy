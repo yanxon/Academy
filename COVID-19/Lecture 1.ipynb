{
 "cells": [
  {
   "cell_type": "code",
   "execution_count": 19,
   "metadata": {},
   "outputs": [
    {
     "data": {
      "text/plain": [
       "\"https://raw.githubusercontent.com/CSSEGISandData/COVID-19/master/csse_covid_19_data/csse_covid_19_time_series/time_series_covid19_recovered_global.csv\""
      ]
     },
     "execution_count": 19,
     "metadata": {},
     "output_type": "execute_result"
    }
   ],
   "source": [
    "url_confirmed = \"https://raw.githubusercontent.com/CSSEGISandData/COVID-19/master/csse_covid_19_data/csse_covid_19_time_series/time_series_covid19_confirmed_global.csv\"\n",
    "url_deaths = \"https://raw.githubusercontent.com/CSSEGISandData/COVID-19/master/csse_covid_19_data/csse_covid_19_time_series/time_series_covid19_deaths_global.csv\"\n",
    "url_recovered = \"https://raw.githubusercontent.com/CSSEGISandData/COVID-19/master/csse_covid_19_data/csse_covid_19_time_series/time_series_covid19_recovered_global.csv\""
   ]
  },
  {
   "cell_type": "code",
   "execution_count": 20,
   "metadata": {},
   "outputs": [
    {
     "data": {
      "text/plain": [
       "\"covid_recovered.csv\""
      ]
     },
     "execution_count": 20,
     "metadata": {},
     "output_type": "execute_result"
    }
   ],
   "source": [
    "download(url_confirmed, \"covid_confirmed.csv\")\n",
    "download(url_deaths, \"covid_deaths.csv\")\n",
    "download(url_recovered, \"covid_recovered.csv\")"
   ]
  },
  {
   "cell_type": "code",
   "execution_count": 22,
   "metadata": {},
   "outputs": [
    {
     "name": "stderr",
     "output_type": "stream",
     "text": [
      "┌ Info: Precompiling CSV [336ed68f-0bac-5ca0-87d4-7b16caf5d00b]\n",
      "└ @ Base loading.jl:1260\n"
     ]
    }
   ],
   "source": [
    "using CSV"
   ]
  },
  {
   "cell_type": "code",
   "execution_count": 30,
   "metadata": {},
   "outputs": [
    {
     "name": "stderr",
     "output_type": "stream",
     "text": [
      "┌ Warning: `CSV.read(input; kw...)` is deprecated in favor of `DataFrame!(CSV.File(input; kw...))`\n",
      "└ @ CSV C:\\Users\\hgyan\\.julia\\packages\\CSV\\OM6FO\\src\\CSV.jl:40\n"
     ]
    },
    {
     "data": {
      "text/html": [
       "<table class=\"data-frame\"><thead><tr><th></th><th>Province/State</th><th>Country/Region</th><th>Lat</th><th>Long</th><th>1/22/20</th></tr><tr><th></th><th>String?</th><th>String</th><th>Float64</th><th>Float64</th><th>Int64</th></tr></thead><tbody><p>266 rows × 168 columns (omitted printing of 163 columns)</p><tr><th>1</th><td><em>missing</em></td><td>Afghanistan</td><td>33.0</td><td>65.0</td><td>0</td></tr><tr><th>2</th><td><em>missing</em></td><td>Albania</td><td>41.1533</td><td>20.1683</td><td>0</td></tr><tr><th>3</th><td><em>missing</em></td><td>Algeria</td><td>28.0339</td><td>1.6596</td><td>0</td></tr><tr><th>4</th><td><em>missing</em></td><td>Andorra</td><td>42.5063</td><td>1.5218</td><td>0</td></tr><tr><th>5</th><td><em>missing</em></td><td>Angola</td><td>-11.2027</td><td>17.8739</td><td>0</td></tr><tr><th>6</th><td><em>missing</em></td><td>Antigua and Barbuda</td><td>17.0608</td><td>-61.7964</td><td>0</td></tr><tr><th>7</th><td><em>missing</em></td><td>Argentina</td><td>-38.4161</td><td>-63.6167</td><td>0</td></tr><tr><th>8</th><td><em>missing</em></td><td>Armenia</td><td>40.0691</td><td>45.0382</td><td>0</td></tr><tr><th>9</th><td>Australian Capital Territory</td><td>Australia</td><td>-35.4735</td><td>149.012</td><td>0</td></tr><tr><th>10</th><td>New South Wales</td><td>Australia</td><td>-33.8688</td><td>151.209</td><td>0</td></tr><tr><th>11</th><td>Northern Territory</td><td>Australia</td><td>-12.4634</td><td>130.846</td><td>0</td></tr><tr><th>12</th><td>Queensland</td><td>Australia</td><td>-28.0167</td><td>153.4</td><td>0</td></tr><tr><th>13</th><td>South Australia</td><td>Australia</td><td>-34.9285</td><td>138.601</td><td>0</td></tr><tr><th>14</th><td>Tasmania</td><td>Australia</td><td>-41.4545</td><td>145.971</td><td>0</td></tr><tr><th>15</th><td>Victoria</td><td>Australia</td><td>-37.8136</td><td>144.963</td><td>0</td></tr><tr><th>16</th><td>Western Australia</td><td>Australia</td><td>-31.9505</td><td>115.861</td><td>0</td></tr><tr><th>17</th><td><em>missing</em></td><td>Austria</td><td>47.5162</td><td>14.5501</td><td>0</td></tr><tr><th>18</th><td><em>missing</em></td><td>Azerbaijan</td><td>40.1431</td><td>47.5769</td><td>0</td></tr><tr><th>19</th><td><em>missing</em></td><td>Bahamas</td><td>25.0343</td><td>-77.3963</td><td>0</td></tr><tr><th>20</th><td><em>missing</em></td><td>Bahrain</td><td>26.0275</td><td>50.55</td><td>0</td></tr><tr><th>21</th><td><em>missing</em></td><td>Bangladesh</td><td>23.685</td><td>90.3563</td><td>0</td></tr><tr><th>22</th><td><em>missing</em></td><td>Barbados</td><td>13.1939</td><td>-59.5432</td><td>0</td></tr><tr><th>23</th><td><em>missing</em></td><td>Belarus</td><td>53.7098</td><td>27.9534</td><td>0</td></tr><tr><th>24</th><td><em>missing</em></td><td>Belgium</td><td>50.8333</td><td>4.0</td><td>0</td></tr><tr><th>25</th><td><em>missing</em></td><td>Benin</td><td>9.3077</td><td>2.3158</td><td>0</td></tr><tr><th>26</th><td><em>missing</em></td><td>Bhutan</td><td>27.5142</td><td>90.4336</td><td>0</td></tr><tr><th>27</th><td><em>missing</em></td><td>Bolivia</td><td>-16.2902</td><td>-63.5887</td><td>0</td></tr><tr><th>28</th><td><em>missing</em></td><td>Bosnia and Herzegovina</td><td>43.9159</td><td>17.6791</td><td>0</td></tr><tr><th>29</th><td><em>missing</em></td><td>Brazil</td><td>-14.235</td><td>-51.9253</td><td>0</td></tr><tr><th>30</th><td><em>missing</em></td><td>Brunei</td><td>4.5353</td><td>114.728</td><td>0</td></tr><tr><th>&vellip;</th><td>&vellip;</td><td>&vellip;</td><td>&vellip;</td><td>&vellip;</td><td>&vellip;</td></tr></tbody></table>"
      ],
      "text/latex": [
       "\\begin{tabular}{r|cccccc}\n",
       "\t& Province/State & Country/Region & Lat & Long & 1/22/20 & \\\\\n",
       "\t\\hline\n",
       "\t& String? & String & Float64 & Float64 & Int64 & \\\\\n",
       "\t\\hline\n",
       "\t1 & \\emph{missing} & Afghanistan & 33.0 & 65.0 & 0 & $\\dots$ \\\\\n",
       "\t2 & \\emph{missing} & Albania & 41.1533 & 20.1683 & 0 & $\\dots$ \\\\\n",
       "\t3 & \\emph{missing} & Algeria & 28.0339 & 1.6596 & 0 & $\\dots$ \\\\\n",
       "\t4 & \\emph{missing} & Andorra & 42.5063 & 1.5218 & 0 & $\\dots$ \\\\\n",
       "\t5 & \\emph{missing} & Angola & -11.2027 & 17.8739 & 0 & $\\dots$ \\\\\n",
       "\t6 & \\emph{missing} & Antigua and Barbuda & 17.0608 & -61.7964 & 0 & $\\dots$ \\\\\n",
       "\t7 & \\emph{missing} & Argentina & -38.4161 & -63.6167 & 0 & $\\dots$ \\\\\n",
       "\t8 & \\emph{missing} & Armenia & 40.0691 & 45.0382 & 0 & $\\dots$ \\\\\n",
       "\t9 & Australian Capital Territory & Australia & -35.4735 & 149.012 & 0 & $\\dots$ \\\\\n",
       "\t10 & New South Wales & Australia & -33.8688 & 151.209 & 0 & $\\dots$ \\\\\n",
       "\t11 & Northern Territory & Australia & -12.4634 & 130.846 & 0 & $\\dots$ \\\\\n",
       "\t12 & Queensland & Australia & -28.0167 & 153.4 & 0 & $\\dots$ \\\\\n",
       "\t13 & South Australia & Australia & -34.9285 & 138.601 & 0 & $\\dots$ \\\\\n",
       "\t14 & Tasmania & Australia & -41.4545 & 145.971 & 0 & $\\dots$ \\\\\n",
       "\t15 & Victoria & Australia & -37.8136 & 144.963 & 0 & $\\dots$ \\\\\n",
       "\t16 & Western Australia & Australia & -31.9505 & 115.861 & 0 & $\\dots$ \\\\\n",
       "\t17 & \\emph{missing} & Austria & 47.5162 & 14.5501 & 0 & $\\dots$ \\\\\n",
       "\t18 & \\emph{missing} & Azerbaijan & 40.1431 & 47.5769 & 0 & $\\dots$ \\\\\n",
       "\t19 & \\emph{missing} & Bahamas & 25.0343 & -77.3963 & 0 & $\\dots$ \\\\\n",
       "\t20 & \\emph{missing} & Bahrain & 26.0275 & 50.55 & 0 & $\\dots$ \\\\\n",
       "\t21 & \\emph{missing} & Bangladesh & 23.685 & 90.3563 & 0 & $\\dots$ \\\\\n",
       "\t22 & \\emph{missing} & Barbados & 13.1939 & -59.5432 & 0 & $\\dots$ \\\\\n",
       "\t23 & \\emph{missing} & Belarus & 53.7098 & 27.9534 & 0 & $\\dots$ \\\\\n",
       "\t24 & \\emph{missing} & Belgium & 50.8333 & 4.0 & 0 & $\\dots$ \\\\\n",
       "\t25 & \\emph{missing} & Benin & 9.3077 & 2.3158 & 0 & $\\dots$ \\\\\n",
       "\t26 & \\emph{missing} & Bhutan & 27.5142 & 90.4336 & 0 & $\\dots$ \\\\\n",
       "\t27 & \\emph{missing} & Bolivia & -16.2902 & -63.5887 & 0 & $\\dots$ \\\\\n",
       "\t28 & \\emph{missing} & Bosnia and Herzegovina & 43.9159 & 17.6791 & 0 & $\\dots$ \\\\\n",
       "\t29 & \\emph{missing} & Brazil & -14.235 & -51.9253 & 0 & $\\dots$ \\\\\n",
       "\t30 & \\emph{missing} & Brunei & 4.5353 & 114.728 & 0 & $\\dots$ \\\\\n",
       "\t$\\dots$ & $\\dots$ & $\\dots$ & $\\dots$ & $\\dots$ & $\\dots$ &  \\\\\n",
       "\\end{tabular}\n"
      ],
      "text/plain": [
       "266×168 DataFrame. Omitted printing of 165 columns\n",
       "│ Row │ Province/State                   │ Country/Region        │ Lat      │\n",
       "│     │ \u001b[90mUnion{Missing, String}\u001b[39m           │ \u001b[90mString\u001b[39m                │ \u001b[90mFloat64\u001b[39m  │\n",
       "├─────┼──────────────────────────────────┼───────────────────────┼──────────┤\n",
       "│ 1   │ \u001b[90mmissing\u001b[39m                          │ Afghanistan           │ 33.0     │\n",
       "│ 2   │ \u001b[90mmissing\u001b[39m                          │ Albania               │ 41.1533  │\n",
       "│ 3   │ \u001b[90mmissing\u001b[39m                          │ Algeria               │ 28.0339  │\n",
       "│ 4   │ \u001b[90mmissing\u001b[39m                          │ Andorra               │ 42.5063  │\n",
       "│ 5   │ \u001b[90mmissing\u001b[39m                          │ Angola                │ -11.2027 │\n",
       "│ 6   │ \u001b[90mmissing\u001b[39m                          │ Antigua and Barbuda   │ 17.0608  │\n",
       "│ 7   │ \u001b[90mmissing\u001b[39m                          │ Argentina             │ -38.4161 │\n",
       "│ 8   │ \u001b[90mmissing\u001b[39m                          │ Armenia               │ 40.0691  │\n",
       "│ 9   │ Australian Capital Territory     │ Australia             │ -35.4735 │\n",
       "│ 10  │ New South Wales                  │ Australia             │ -33.8688 │\n",
       "⋮\n",
       "│ 256 │ Bonaire, Sint Eustatius and Saba │ Netherlands           │ 12.1784  │\n",
       "│ 257 │ \u001b[90mmissing\u001b[39m                          │ Malawi                │ -13.2543 │\n",
       "│ 258 │ Falkland Islands (Malvinas)      │ United Kingdom        │ -51.7963 │\n",
       "│ 259 │ Saint Pierre and Miquelon        │ France                │ 46.8852  │\n",
       "│ 260 │ \u001b[90mmissing\u001b[39m                          │ South Sudan           │ 6.877    │\n",
       "│ 261 │ \u001b[90mmissing\u001b[39m                          │ Western Sahara        │ 24.2155  │\n",
       "│ 262 │ \u001b[90mmissing\u001b[39m                          │ Sao Tome and Principe │ 0.18636  │\n",
       "│ 263 │ \u001b[90mmissing\u001b[39m                          │ Yemen                 │ 15.5527  │\n",
       "│ 264 │ \u001b[90mmissing\u001b[39m                          │ Comoros               │ -11.6455 │\n",
       "│ 265 │ \u001b[90mmissing\u001b[39m                          │ Tajikistan            │ 38.861   │\n",
       "│ 266 │ \u001b[90mmissing\u001b[39m                          │ Lesotho               │ -29.61   │"
      ]
     },
     "execution_count": 30,
     "metadata": {},
     "output_type": "execute_result"
    }
   ],
   "source": [
    "data = CSV.read(\"covid_confirmed.csv\");\n",
    "data"
   ]
  },
  {
   "cell_type": "code",
   "execution_count": 29,
   "metadata": {},
   "outputs": [],
   "source": [
    "using DataFrames"
   ]
  },
  {
   "cell_type": "code",
   "execution_count": 32,
   "metadata": {},
   "outputs": [
    {
     "data": {
      "text/html": [
       "<table class=\"data-frame\"><thead><tr><th></th><th>Province</th><th>Country</th><th>Lat</th><th>Long</th><th>1/22/20</th></tr><tr><th></th><th>String?</th><th>String</th><th>Float64</th><th>Float64</th><th>Int64</th></tr></thead><tbody><p>266 rows × 168 columns (omitted printing of 163 columns)</p><tr><th>1</th><td><em>missing</em></td><td>Afghanistan</td><td>33.0</td><td>65.0</td><td>0</td></tr><tr><th>2</th><td><em>missing</em></td><td>Albania</td><td>41.1533</td><td>20.1683</td><td>0</td></tr><tr><th>3</th><td><em>missing</em></td><td>Algeria</td><td>28.0339</td><td>1.6596</td><td>0</td></tr><tr><th>4</th><td><em>missing</em></td><td>Andorra</td><td>42.5063</td><td>1.5218</td><td>0</td></tr><tr><th>5</th><td><em>missing</em></td><td>Angola</td><td>-11.2027</td><td>17.8739</td><td>0</td></tr><tr><th>6</th><td><em>missing</em></td><td>Antigua and Barbuda</td><td>17.0608</td><td>-61.7964</td><td>0</td></tr><tr><th>7</th><td><em>missing</em></td><td>Argentina</td><td>-38.4161</td><td>-63.6167</td><td>0</td></tr><tr><th>8</th><td><em>missing</em></td><td>Armenia</td><td>40.0691</td><td>45.0382</td><td>0</td></tr><tr><th>9</th><td>Australian Capital Territory</td><td>Australia</td><td>-35.4735</td><td>149.012</td><td>0</td></tr><tr><th>10</th><td>New South Wales</td><td>Australia</td><td>-33.8688</td><td>151.209</td><td>0</td></tr><tr><th>11</th><td>Northern Territory</td><td>Australia</td><td>-12.4634</td><td>130.846</td><td>0</td></tr><tr><th>12</th><td>Queensland</td><td>Australia</td><td>-28.0167</td><td>153.4</td><td>0</td></tr><tr><th>13</th><td>South Australia</td><td>Australia</td><td>-34.9285</td><td>138.601</td><td>0</td></tr><tr><th>14</th><td>Tasmania</td><td>Australia</td><td>-41.4545</td><td>145.971</td><td>0</td></tr><tr><th>15</th><td>Victoria</td><td>Australia</td><td>-37.8136</td><td>144.963</td><td>0</td></tr><tr><th>16</th><td>Western Australia</td><td>Australia</td><td>-31.9505</td><td>115.861</td><td>0</td></tr><tr><th>17</th><td><em>missing</em></td><td>Austria</td><td>47.5162</td><td>14.5501</td><td>0</td></tr><tr><th>18</th><td><em>missing</em></td><td>Azerbaijan</td><td>40.1431</td><td>47.5769</td><td>0</td></tr><tr><th>19</th><td><em>missing</em></td><td>Bahamas</td><td>25.0343</td><td>-77.3963</td><td>0</td></tr><tr><th>20</th><td><em>missing</em></td><td>Bahrain</td><td>26.0275</td><td>50.55</td><td>0</td></tr><tr><th>21</th><td><em>missing</em></td><td>Bangladesh</td><td>23.685</td><td>90.3563</td><td>0</td></tr><tr><th>22</th><td><em>missing</em></td><td>Barbados</td><td>13.1939</td><td>-59.5432</td><td>0</td></tr><tr><th>23</th><td><em>missing</em></td><td>Belarus</td><td>53.7098</td><td>27.9534</td><td>0</td></tr><tr><th>24</th><td><em>missing</em></td><td>Belgium</td><td>50.8333</td><td>4.0</td><td>0</td></tr><tr><th>25</th><td><em>missing</em></td><td>Benin</td><td>9.3077</td><td>2.3158</td><td>0</td></tr><tr><th>26</th><td><em>missing</em></td><td>Bhutan</td><td>27.5142</td><td>90.4336</td><td>0</td></tr><tr><th>27</th><td><em>missing</em></td><td>Bolivia</td><td>-16.2902</td><td>-63.5887</td><td>0</td></tr><tr><th>28</th><td><em>missing</em></td><td>Bosnia and Herzegovina</td><td>43.9159</td><td>17.6791</td><td>0</td></tr><tr><th>29</th><td><em>missing</em></td><td>Brazil</td><td>-14.235</td><td>-51.9253</td><td>0</td></tr><tr><th>30</th><td><em>missing</em></td><td>Brunei</td><td>4.5353</td><td>114.728</td><td>0</td></tr><tr><th>&vellip;</th><td>&vellip;</td><td>&vellip;</td><td>&vellip;</td><td>&vellip;</td><td>&vellip;</td></tr></tbody></table>"
      ],
      "text/latex": [
       "\\begin{tabular}{r|cccccc}\n",
       "\t& Province & Country & Lat & Long & 1/22/20 & \\\\\n",
       "\t\\hline\n",
       "\t& String? & String & Float64 & Float64 & Int64 & \\\\\n",
       "\t\\hline\n",
       "\t1 & \\emph{missing} & Afghanistan & 33.0 & 65.0 & 0 & $\\dots$ \\\\\n",
       "\t2 & \\emph{missing} & Albania & 41.1533 & 20.1683 & 0 & $\\dots$ \\\\\n",
       "\t3 & \\emph{missing} & Algeria & 28.0339 & 1.6596 & 0 & $\\dots$ \\\\\n",
       "\t4 & \\emph{missing} & Andorra & 42.5063 & 1.5218 & 0 & $\\dots$ \\\\\n",
       "\t5 & \\emph{missing} & Angola & -11.2027 & 17.8739 & 0 & $\\dots$ \\\\\n",
       "\t6 & \\emph{missing} & Antigua and Barbuda & 17.0608 & -61.7964 & 0 & $\\dots$ \\\\\n",
       "\t7 & \\emph{missing} & Argentina & -38.4161 & -63.6167 & 0 & $\\dots$ \\\\\n",
       "\t8 & \\emph{missing} & Armenia & 40.0691 & 45.0382 & 0 & $\\dots$ \\\\\n",
       "\t9 & Australian Capital Territory & Australia & -35.4735 & 149.012 & 0 & $\\dots$ \\\\\n",
       "\t10 & New South Wales & Australia & -33.8688 & 151.209 & 0 & $\\dots$ \\\\\n",
       "\t11 & Northern Territory & Australia & -12.4634 & 130.846 & 0 & $\\dots$ \\\\\n",
       "\t12 & Queensland & Australia & -28.0167 & 153.4 & 0 & $\\dots$ \\\\\n",
       "\t13 & South Australia & Australia & -34.9285 & 138.601 & 0 & $\\dots$ \\\\\n",
       "\t14 & Tasmania & Australia & -41.4545 & 145.971 & 0 & $\\dots$ \\\\\n",
       "\t15 & Victoria & Australia & -37.8136 & 144.963 & 0 & $\\dots$ \\\\\n",
       "\t16 & Western Australia & Australia & -31.9505 & 115.861 & 0 & $\\dots$ \\\\\n",
       "\t17 & \\emph{missing} & Austria & 47.5162 & 14.5501 & 0 & $\\dots$ \\\\\n",
       "\t18 & \\emph{missing} & Azerbaijan & 40.1431 & 47.5769 & 0 & $\\dots$ \\\\\n",
       "\t19 & \\emph{missing} & Bahamas & 25.0343 & -77.3963 & 0 & $\\dots$ \\\\\n",
       "\t20 & \\emph{missing} & Bahrain & 26.0275 & 50.55 & 0 & $\\dots$ \\\\\n",
       "\t21 & \\emph{missing} & Bangladesh & 23.685 & 90.3563 & 0 & $\\dots$ \\\\\n",
       "\t22 & \\emph{missing} & Barbados & 13.1939 & -59.5432 & 0 & $\\dots$ \\\\\n",
       "\t23 & \\emph{missing} & Belarus & 53.7098 & 27.9534 & 0 & $\\dots$ \\\\\n",
       "\t24 & \\emph{missing} & Belgium & 50.8333 & 4.0 & 0 & $\\dots$ \\\\\n",
       "\t25 & \\emph{missing} & Benin & 9.3077 & 2.3158 & 0 & $\\dots$ \\\\\n",
       "\t26 & \\emph{missing} & Bhutan & 27.5142 & 90.4336 & 0 & $\\dots$ \\\\\n",
       "\t27 & \\emph{missing} & Bolivia & -16.2902 & -63.5887 & 0 & $\\dots$ \\\\\n",
       "\t28 & \\emph{missing} & Bosnia and Herzegovina & 43.9159 & 17.6791 & 0 & $\\dots$ \\\\\n",
       "\t29 & \\emph{missing} & Brazil & -14.235 & -51.9253 & 0 & $\\dots$ \\\\\n",
       "\t30 & \\emph{missing} & Brunei & 4.5353 & 114.728 & 0 & $\\dots$ \\\\\n",
       "\t$\\dots$ & $\\dots$ & $\\dots$ & $\\dots$ & $\\dots$ & $\\dots$ &  \\\\\n",
       "\\end{tabular}\n"
      ],
      "text/plain": [
       "266×168 DataFrame. Omitted printing of 165 columns\n",
       "│ Row │ Province                         │ Country               │ Lat      │\n",
       "│     │ \u001b[90mUnion{Missing, String}\u001b[39m           │ \u001b[90mString\u001b[39m                │ \u001b[90mFloat64\u001b[39m  │\n",
       "├─────┼──────────────────────────────────┼───────────────────────┼──────────┤\n",
       "│ 1   │ \u001b[90mmissing\u001b[39m                          │ Afghanistan           │ 33.0     │\n",
       "│ 2   │ \u001b[90mmissing\u001b[39m                          │ Albania               │ 41.1533  │\n",
       "│ 3   │ \u001b[90mmissing\u001b[39m                          │ Algeria               │ 28.0339  │\n",
       "│ 4   │ \u001b[90mmissing\u001b[39m                          │ Andorra               │ 42.5063  │\n",
       "│ 5   │ \u001b[90mmissing\u001b[39m                          │ Angola                │ -11.2027 │\n",
       "│ 6   │ \u001b[90mmissing\u001b[39m                          │ Antigua and Barbuda   │ 17.0608  │\n",
       "│ 7   │ \u001b[90mmissing\u001b[39m                          │ Argentina             │ -38.4161 │\n",
       "│ 8   │ \u001b[90mmissing\u001b[39m                          │ Armenia               │ 40.0691  │\n",
       "│ 9   │ Australian Capital Territory     │ Australia             │ -35.4735 │\n",
       "│ 10  │ New South Wales                  │ Australia             │ -33.8688 │\n",
       "⋮\n",
       "│ 256 │ Bonaire, Sint Eustatius and Saba │ Netherlands           │ 12.1784  │\n",
       "│ 257 │ \u001b[90mmissing\u001b[39m                          │ Malawi                │ -13.2543 │\n",
       "│ 258 │ Falkland Islands (Malvinas)      │ United Kingdom        │ -51.7963 │\n",
       "│ 259 │ Saint Pierre and Miquelon        │ France                │ 46.8852  │\n",
       "│ 260 │ \u001b[90mmissing\u001b[39m                          │ South Sudan           │ 6.877    │\n",
       "│ 261 │ \u001b[90mmissing\u001b[39m                          │ Western Sahara        │ 24.2155  │\n",
       "│ 262 │ \u001b[90mmissing\u001b[39m                          │ Sao Tome and Principe │ 0.18636  │\n",
       "│ 263 │ \u001b[90mmissing\u001b[39m                          │ Yemen                 │ 15.5527  │\n",
       "│ 264 │ \u001b[90mmissing\u001b[39m                          │ Comoros               │ -11.6455 │\n",
       "│ 265 │ \u001b[90mmissing\u001b[39m                          │ Tajikistan            │ 38.861   │\n",
       "│ 266 │ \u001b[90mmissing\u001b[39m                          │ Lesotho               │ -29.61   │"
      ]
     },
     "execution_count": 32,
     "metadata": {},
     "output_type": "execute_result"
    }
   ],
   "source": [
    "rename!(data, 1=>\"Province\", 2=>\"Country\")"
   ]
  },
  {
   "cell_type": "code",
   "execution_count": 35,
   "metadata": {},
   "outputs": [
    {
     "name": "stdout",
     "output_type": "stream",
     "text": [
      "search: \u001b[0m\u001b[1mr\u001b[22m\u001b[0m\u001b[1me\u001b[22m\u001b[0m\u001b[1mn\u001b[22m\u001b[0m\u001b[1ma\u001b[22m\u001b[0m\u001b[1mm\u001b[22m\u001b[0m\u001b[1me\u001b[22m \u001b[0m\u001b[1mr\u001b[22m\u001b[0m\u001b[1me\u001b[22m\u001b[0m\u001b[1mn\u001b[22m\u001b[0m\u001b[1ma\u001b[22m\u001b[0m\u001b[1mm\u001b[22m\u001b[0m\u001b[1me\u001b[22m! p\u001b[0m\u001b[1mr\u001b[22mop\u001b[0m\u001b[1me\u001b[22mrty\u001b[0m\u001b[1mn\u001b[22m\u001b[0m\u001b[1ma\u001b[22m\u001b[0m\u001b[1mm\u001b[22m\u001b[0m\u001b[1me\u001b[22ms\n",
      "\n"
     ]
    },
    {
     "data": {
      "text/latex": [
       "\\begin{verbatim}\n",
       "rename(df::AbstractDataFrame, vals::AbstractVector{Symbol};\n",
       "       makeunique::Bool=false)\n",
       "rename(df::AbstractDataFrame, vals::AbstractVector{<:AbstractString};\n",
       "       makeunique::Bool=false)\n",
       "rename(df::AbstractDataFrame, (from => to)::Pair...)\n",
       "rename(df::AbstractDataFrame, d::AbstractDict)\n",
       "rename(df::AbstractDataFrame, d::AbstractVector{<:Pair})\n",
       "rename(f::Function, df::AbstractDataFrame)\n",
       "\\end{verbatim}\n",
       "Create a new data frame that is a copy of \\texttt{df} with changed column names. Each name is changed at most once. Permutation of names is allowed.\n",
       "\n",
       "\\section{Arguments}\n",
       "\\begin{itemize}\n",
       "\\item \\texttt{df} : the \\texttt{AbstractDataFrame}\n",
       "\n",
       "\n",
       "\\item \\texttt{d} : an \\texttt{AbstractDict} or an \\texttt{AbstractVector} of \\texttt{Pair}s that maps the original names or column numbers to new names\n",
       "\n",
       "\n",
       "\\item \\texttt{f} : a function which for each column takes the old name as a \\texttt{String} and returns the new name that gets converted to a \\texttt{Symbol}\n",
       "\n",
       "\n",
       "\\item \\texttt{vals} : new column names as a vector of \\texttt{Symbol}s or \\texttt{AbstractString}s of the same length as the number of columns in \\texttt{df}\n",
       "\n",
       "\n",
       "\\item \\texttt{makeunique} : if \\texttt{false} (the default), an error will be raised if duplicate names are found; if \\texttt{true}, duplicate names will be suffixed with \\texttt{\\_i} (\\texttt{i} starting at 1 for the first duplicate).\n",
       "\n",
       "\\end{itemize}\n",
       "If pairs are passed to \\texttt{rename} (as positional arguments or in a dictionary or a vector) then:\n",
       "\n",
       "\\begin{itemize}\n",
       "\\item \\texttt{from} value can be a \\texttt{Symbol}, an \\texttt{AbstractString} or an \\texttt{Integer};\n",
       "\n",
       "\n",
       "\\item \\texttt{to} value can be a \\texttt{Symbol} or an \\texttt{AbstractString}.\n",
       "\n",
       "\\end{itemize}\n",
       "Mixing symbols and strings in \\texttt{to} and \\texttt{from} is not allowed.\n",
       "\n",
       "See also: \\href{@ref}{\\texttt{rename!}}\n",
       "\n",
       "\\section{Examples}\n",
       "\\begin{verbatim}\n",
       "julia> df = DataFrame(i = 1, x = 2, y = 3)\n",
       "1×3 DataFrame\n",
       "│ Row │ i     │ x     │ y     │\n",
       "│     │ Int64 │ Int64 │ Int64 │\n",
       "├─────┼───────┼───────┼───────┤\n",
       "│ 1   │ 1     │ 2     │ 3     │\n",
       "\n",
       "julia> rename(df, :i => :A, :x => :X)\n",
       "1×3 DataFrame\n",
       "│ Row │ A     │ X     │ y     │\n",
       "│     │ Int64 │ Int64 │ Int64 │\n",
       "├─────┼───────┼───────┼───────┤\n",
       "│ 1   │ 1     │ 2     │ 3     │\n",
       "\n",
       "julia> rename(df, :x => :y, :y => :x)\n",
       "1×3 DataFrame\n",
       "│ Row │ i     │ y     │ x     │\n",
       "│     │ Int64 │ Int64 │ Int64 │\n",
       "├─────┼───────┼───────┼───────┤\n",
       "│ 1   │ 1     │ 2     │ 3     │\n",
       "\n",
       "julia> rename(df, [1 => :A, 2 => :X])\n",
       "1×3 DataFrame\n",
       "│ Row │ A     │ X     │ y     │\n",
       "│     │ Int64 │ Int64 │ Int64 │\n",
       "├─────┼───────┼───────┼───────┤\n",
       "│ 1   │ 1     │ 2     │ 3     │\n",
       "\n",
       "julia> rename(df, Dict(\"i\" => \"A\", \"x\" => \"X\"))\n",
       "1×3 DataFrame\n",
       "│ Row │ A     │ X     │ y     │\n",
       "│     │ Int64 │ Int64 │ Int64 │\n",
       "├─────┼───────┼───────┼───────┤\n",
       "│ 1   │ 1     │ 2     │ 3     │\n",
       "\n",
       "julia> rename(uppercase, df)\n",
       "1×3 DataFrame\n",
       "│ Row │ I     │ X     │ Y     │\n",
       "│     │ Int64 │ Int64 │ Int64 │\n",
       "├─────┼───────┼───────┼───────┤\n",
       "│ 1   │ 1     │ 2     │ 3     │\n",
       "\\end{verbatim}\n"
      ],
      "text/markdown": [
       "```\n",
       "rename(df::AbstractDataFrame, vals::AbstractVector{Symbol};\n",
       "       makeunique::Bool=false)\n",
       "rename(df::AbstractDataFrame, vals::AbstractVector{<:AbstractString};\n",
       "       makeunique::Bool=false)\n",
       "rename(df::AbstractDataFrame, (from => to)::Pair...)\n",
       "rename(df::AbstractDataFrame, d::AbstractDict)\n",
       "rename(df::AbstractDataFrame, d::AbstractVector{<:Pair})\n",
       "rename(f::Function, df::AbstractDataFrame)\n",
       "```\n",
       "\n",
       "Create a new data frame that is a copy of `df` with changed column names. Each name is changed at most once. Permutation of names is allowed.\n",
       "\n",
       "# Arguments\n",
       "\n",
       "  * `df` : the `AbstractDataFrame`\n",
       "  * `d` : an `AbstractDict` or an `AbstractVector` of `Pair`s that maps the original names or column numbers to new names\n",
       "  * `f` : a function which for each column takes the old name as a `String` and returns the new name that gets converted to a `Symbol`\n",
       "  * `vals` : new column names as a vector of `Symbol`s or `AbstractString`s of the same length as the number of columns in `df`\n",
       "  * `makeunique` : if `false` (the default), an error will be raised if duplicate names are found; if `true`, duplicate names will be suffixed with `_i` (`i` starting at 1 for the first duplicate).\n",
       "\n",
       "If pairs are passed to `rename` (as positional arguments or in a dictionary or a vector) then:\n",
       "\n",
       "  * `from` value can be a `Symbol`, an `AbstractString` or an `Integer`;\n",
       "  * `to` value can be a `Symbol` or an `AbstractString`.\n",
       "\n",
       "Mixing symbols and strings in `to` and `from` is not allowed.\n",
       "\n",
       "See also: [`rename!`](@ref)\n",
       "\n",
       "# Examples\n",
       "\n",
       "```julia\n",
       "julia> df = DataFrame(i = 1, x = 2, y = 3)\n",
       "1×3 DataFrame\n",
       "│ Row │ i     │ x     │ y     │\n",
       "│     │ Int64 │ Int64 │ Int64 │\n",
       "├─────┼───────┼───────┼───────┤\n",
       "│ 1   │ 1     │ 2     │ 3     │\n",
       "\n",
       "julia> rename(df, :i => :A, :x => :X)\n",
       "1×3 DataFrame\n",
       "│ Row │ A     │ X     │ y     │\n",
       "│     │ Int64 │ Int64 │ Int64 │\n",
       "├─────┼───────┼───────┼───────┤\n",
       "│ 1   │ 1     │ 2     │ 3     │\n",
       "\n",
       "julia> rename(df, :x => :y, :y => :x)\n",
       "1×3 DataFrame\n",
       "│ Row │ i     │ y     │ x     │\n",
       "│     │ Int64 │ Int64 │ Int64 │\n",
       "├─────┼───────┼───────┼───────┤\n",
       "│ 1   │ 1     │ 2     │ 3     │\n",
       "\n",
       "julia> rename(df, [1 => :A, 2 => :X])\n",
       "1×3 DataFrame\n",
       "│ Row │ A     │ X     │ y     │\n",
       "│     │ Int64 │ Int64 │ Int64 │\n",
       "├─────┼───────┼───────┼───────┤\n",
       "│ 1   │ 1     │ 2     │ 3     │\n",
       "\n",
       "julia> rename(df, Dict(\"i\" => \"A\", \"x\" => \"X\"))\n",
       "1×3 DataFrame\n",
       "│ Row │ A     │ X     │ y     │\n",
       "│     │ Int64 │ Int64 │ Int64 │\n",
       "├─────┼───────┼───────┼───────┤\n",
       "│ 1   │ 1     │ 2     │ 3     │\n",
       "\n",
       "julia> rename(uppercase, df)\n",
       "1×3 DataFrame\n",
       "│ Row │ I     │ X     │ Y     │\n",
       "│     │ Int64 │ Int64 │ Int64 │\n",
       "├─────┼───────┼───────┼───────┤\n",
       "│ 1   │ 1     │ 2     │ 3     │\n",
       "```\n"
      ],
      "text/plain": [
       "\u001b[36m  rename(df::AbstractDataFrame, vals::AbstractVector{Symbol};\u001b[39m\n",
       "\u001b[36m         makeunique::Bool=false)\u001b[39m\n",
       "\u001b[36m  rename(df::AbstractDataFrame, vals::AbstractVector{<:AbstractString};\u001b[39m\n",
       "\u001b[36m         makeunique::Bool=false)\u001b[39m\n",
       "\u001b[36m  rename(df::AbstractDataFrame, (from => to)::Pair...)\u001b[39m\n",
       "\u001b[36m  rename(df::AbstractDataFrame, d::AbstractDict)\u001b[39m\n",
       "\u001b[36m  rename(df::AbstractDataFrame, d::AbstractVector{<:Pair})\u001b[39m\n",
       "\u001b[36m  rename(f::Function, df::AbstractDataFrame)\u001b[39m\n",
       "\n",
       "  Create a new data frame that is a copy of \u001b[36mdf\u001b[39m with changed column names. Each\n",
       "  name is changed at most once. Permutation of names is allowed.\n",
       "\n",
       "\u001b[1m  Arguments\u001b[22m\n",
       "\u001b[1m  ≡≡≡≡≡≡≡≡≡≡≡\u001b[22m\n",
       "\n",
       "    •    \u001b[36mdf\u001b[39m : the \u001b[36mAbstractDataFrame\u001b[39m\n",
       "\n",
       "    •    \u001b[36md\u001b[39m : an \u001b[36mAbstractDict\u001b[39m or an \u001b[36mAbstractVector\u001b[39m of \u001b[36mPair\u001b[39ms that maps the\n",
       "        original names or column numbers to new names\n",
       "\n",
       "    •    \u001b[36mf\u001b[39m : a function which for each column takes the old name as a\n",
       "        \u001b[36mString\u001b[39m and returns the new name that gets converted to a \u001b[36mSymbol\u001b[39m\n",
       "\n",
       "    •    \u001b[36mvals\u001b[39m : new column names as a vector of \u001b[36mSymbol\u001b[39ms or \u001b[36mAbstractString\u001b[39ms\n",
       "        of the same length as the number of columns in \u001b[36mdf\u001b[39m\n",
       "\n",
       "    •    \u001b[36mmakeunique\u001b[39m : if \u001b[36mfalse\u001b[39m (the default), an error will be raised if\n",
       "        duplicate names are found; if \u001b[36mtrue\u001b[39m, duplicate names will be\n",
       "        suffixed with \u001b[36m_i\u001b[39m (\u001b[36mi\u001b[39m starting at 1 for the first duplicate).\n",
       "\n",
       "  If pairs are passed to \u001b[36mrename\u001b[39m (as positional arguments or in a dictionary or\n",
       "  a vector) then:\n",
       "\n",
       "    •    \u001b[36mfrom\u001b[39m value can be a \u001b[36mSymbol\u001b[39m, an \u001b[36mAbstractString\u001b[39m or an \u001b[36mInteger\u001b[39m;\n",
       "\n",
       "    •    \u001b[36mto\u001b[39m value can be a \u001b[36mSymbol\u001b[39m or an \u001b[36mAbstractString\u001b[39m.\n",
       "\n",
       "  Mixing symbols and strings in \u001b[36mto\u001b[39m and \u001b[36mfrom\u001b[39m is not allowed.\n",
       "\n",
       "  See also: \u001b[36mrename!\u001b[39m\n",
       "\n",
       "\u001b[1m  Examples\u001b[22m\n",
       "\u001b[1m  ≡≡≡≡≡≡≡≡≡≡\u001b[22m\n",
       "\n",
       "\u001b[36m  julia> df = DataFrame(i = 1, x = 2, y = 3)\u001b[39m\n",
       "\u001b[36m  1×3 DataFrame\u001b[39m\n",
       "\u001b[36m  │ Row │ i     │ x     │ y     │\u001b[39m\n",
       "\u001b[36m  │     │ Int64 │ Int64 │ Int64 │\u001b[39m\n",
       "\u001b[36m  ├─────┼───────┼───────┼───────┤\u001b[39m\n",
       "\u001b[36m  │ 1   │ 1     │ 2     │ 3     │\u001b[39m\n",
       "\u001b[36m  \u001b[39m\n",
       "\u001b[36m  julia> rename(df, :i => :A, :x => :X)\u001b[39m\n",
       "\u001b[36m  1×3 DataFrame\u001b[39m\n",
       "\u001b[36m  │ Row │ A     │ X     │ y     │\u001b[39m\n",
       "\u001b[36m  │     │ Int64 │ Int64 │ Int64 │\u001b[39m\n",
       "\u001b[36m  ├─────┼───────┼───────┼───────┤\u001b[39m\n",
       "\u001b[36m  │ 1   │ 1     │ 2     │ 3     │\u001b[39m\n",
       "\u001b[36m  \u001b[39m\n",
       "\u001b[36m  julia> rename(df, :x => :y, :y => :x)\u001b[39m\n",
       "\u001b[36m  1×3 DataFrame\u001b[39m\n",
       "\u001b[36m  │ Row │ i     │ y     │ x     │\u001b[39m\n",
       "\u001b[36m  │     │ Int64 │ Int64 │ Int64 │\u001b[39m\n",
       "\u001b[36m  ├─────┼───────┼───────┼───────┤\u001b[39m\n",
       "\u001b[36m  │ 1   │ 1     │ 2     │ 3     │\u001b[39m\n",
       "\u001b[36m  \u001b[39m\n",
       "\u001b[36m  julia> rename(df, [1 => :A, 2 => :X])\u001b[39m\n",
       "\u001b[36m  1×3 DataFrame\u001b[39m\n",
       "\u001b[36m  │ Row │ A     │ X     │ y     │\u001b[39m\n",
       "\u001b[36m  │     │ Int64 │ Int64 │ Int64 │\u001b[39m\n",
       "\u001b[36m  ├─────┼───────┼───────┼───────┤\u001b[39m\n",
       "\u001b[36m  │ 1   │ 1     │ 2     │ 3     │\u001b[39m\n",
       "\u001b[36m  \u001b[39m\n",
       "\u001b[36m  julia> rename(df, Dict(\"i\" => \"A\", \"x\" => \"X\"))\u001b[39m\n",
       "\u001b[36m  1×3 DataFrame\u001b[39m\n",
       "\u001b[36m  │ Row │ A     │ X     │ y     │\u001b[39m\n",
       "\u001b[36m  │     │ Int64 │ Int64 │ Int64 │\u001b[39m\n",
       "\u001b[36m  ├─────┼───────┼───────┼───────┤\u001b[39m\n",
       "\u001b[36m  │ 1   │ 1     │ 2     │ 3     │\u001b[39m\n",
       "\u001b[36m  \u001b[39m\n",
       "\u001b[36m  julia> rename(uppercase, df)\u001b[39m\n",
       "\u001b[36m  1×3 DataFrame\u001b[39m\n",
       "\u001b[36m  │ Row │ I     │ X     │ Y     │\u001b[39m\n",
       "\u001b[36m  │     │ Int64 │ Int64 │ Int64 │\u001b[39m\n",
       "\u001b[36m  ├─────┼───────┼───────┼───────┤\u001b[39m\n",
       "\u001b[36m  │ 1   │ 1     │ 2     │ 3     │\u001b[39m"
      ]
     },
     "execution_count": 35,
     "metadata": {},
     "output_type": "execute_result"
    }
   ],
   "source": [
    "?rename"
   ]
  },
  {
   "cell_type": "code",
   "execution_count": 54,
   "metadata": {},
   "outputs": [],
   "source": [
    "countries = data[1:end, 2];\n",
    "unique_countries = unique(countries);"
   ]
  },
  {
   "cell_type": "code",
   "execution_count": 56,
   "metadata": {},
   "outputs": [
    {
     "data": {
      "text/html": [
       "<table class=\"data-frame\"><thead><tr><th></th><th>Province</th><th>Country</th><th>Lat</th><th>Long</th><th>1/22/20</th></tr><tr><th></th><th>String?</th><th>String</th><th>Float64</th><th>Float64</th><th>Int64</th></tr></thead><tbody><p>17 rows × 168 columns (omitted printing of 163 columns)</p><tr><th>1</th><td><em>missing</em></td><td>Uganda</td><td>1.0</td><td>32.0</td><td>0</td></tr><tr><th>2</th><td><em>missing</em></td><td>Ukraine</td><td>48.3794</td><td>31.1656</td><td>0</td></tr><tr><th>3</th><td><em>missing</em></td><td>United Arab Emirates</td><td>24.0</td><td>54.0</td><td>0</td></tr><tr><th>4</th><td>Bermuda</td><td>United Kingdom</td><td>32.3078</td><td>-64.7505</td><td>0</td></tr><tr><th>5</th><td>Cayman Islands</td><td>United Kingdom</td><td>19.3133</td><td>-81.2546</td><td>0</td></tr><tr><th>6</th><td>Channel Islands</td><td>United Kingdom</td><td>49.3723</td><td>-2.3644</td><td>0</td></tr><tr><th>7</th><td>Gibraltar</td><td>United Kingdom</td><td>36.1408</td><td>-5.3536</td><td>0</td></tr><tr><th>8</th><td>Isle of Man</td><td>United Kingdom</td><td>54.2361</td><td>-4.5481</td><td>0</td></tr><tr><th>9</th><td>Montserrat</td><td>United Kingdom</td><td>16.7425</td><td>-62.1874</td><td>0</td></tr><tr><th>10</th><td><em>missing</em></td><td>United Kingdom</td><td>55.3781</td><td>-3.436</td><td>0</td></tr><tr><th>11</th><td><em>missing</em></td><td>Uruguay</td><td>-32.5228</td><td>-55.7658</td><td>0</td></tr><tr><th>12</th><td><em>missing</em></td><td>US</td><td>37.0902</td><td>-95.7129</td><td>1</td></tr><tr><th>13</th><td><em>missing</em></td><td>Uzbekistan</td><td>41.3775</td><td>64.5853</td><td>0</td></tr><tr><th>14</th><td>Anguilla</td><td>United Kingdom</td><td>18.2206</td><td>-63.0686</td><td>0</td></tr><tr><th>15</th><td>British Virgin Islands</td><td>United Kingdom</td><td>18.4207</td><td>-64.64</td><td>0</td></tr><tr><th>16</th><td>Turks and Caicos Islands</td><td>United Kingdom</td><td>21.694</td><td>-71.7979</td><td>0</td></tr><tr><th>17</th><td>Falkland Islands (Malvinas)</td><td>United Kingdom</td><td>-51.7963</td><td>-59.5236</td><td>0</td></tr></tbody></table>"
      ],
      "text/latex": [
       "\\begin{tabular}{r|cccccc}\n",
       "\t& Province & Country & Lat & Long & 1/22/20 & \\\\\n",
       "\t\\hline\n",
       "\t& String? & String & Float64 & Float64 & Int64 & \\\\\n",
       "\t\\hline\n",
       "\t1 & \\emph{missing} & Uganda & 1.0 & 32.0 & 0 & $\\dots$ \\\\\n",
       "\t2 & \\emph{missing} & Ukraine & 48.3794 & 31.1656 & 0 & $\\dots$ \\\\\n",
       "\t3 & \\emph{missing} & United Arab Emirates & 24.0 & 54.0 & 0 & $\\dots$ \\\\\n",
       "\t4 & Bermuda & United Kingdom & 32.3078 & -64.7505 & 0 & $\\dots$ \\\\\n",
       "\t5 & Cayman Islands & United Kingdom & 19.3133 & -81.2546 & 0 & $\\dots$ \\\\\n",
       "\t6 & Channel Islands & United Kingdom & 49.3723 & -2.3644 & 0 & $\\dots$ \\\\\n",
       "\t7 & Gibraltar & United Kingdom & 36.1408 & -5.3536 & 0 & $\\dots$ \\\\\n",
       "\t8 & Isle of Man & United Kingdom & 54.2361 & -4.5481 & 0 & $\\dots$ \\\\\n",
       "\t9 & Montserrat & United Kingdom & 16.7425 & -62.1874 & 0 & $\\dots$ \\\\\n",
       "\t10 & \\emph{missing} & United Kingdom & 55.3781 & -3.436 & 0 & $\\dots$ \\\\\n",
       "\t11 & \\emph{missing} & Uruguay & -32.5228 & -55.7658 & 0 & $\\dots$ \\\\\n",
       "\t12 & \\emph{missing} & US & 37.0902 & -95.7129 & 1 & $\\dots$ \\\\\n",
       "\t13 & \\emph{missing} & Uzbekistan & 41.3775 & 64.5853 & 0 & $\\dots$ \\\\\n",
       "\t14 & Anguilla & United Kingdom & 18.2206 & -63.0686 & 0 & $\\dots$ \\\\\n",
       "\t15 & British Virgin Islands & United Kingdom & 18.4207 & -64.64 & 0 & $\\dots$ \\\\\n",
       "\t16 & Turks and Caicos Islands & United Kingdom & 21.694 & -71.7979 & 0 & $\\dots$ \\\\\n",
       "\t17 & Falkland Islands (Malvinas) & United Kingdom & -51.7963 & -59.5236 & 0 & $\\dots$ \\\\\n",
       "\\end{tabular}\n"
      ],
      "text/plain": [
       "17×168 DataFrame. Omitted printing of 165 columns\n",
       "│ Row │ Province                    │ Country              │ Lat      │\n",
       "│     │ \u001b[90mUnion{Missing, String}\u001b[39m      │ \u001b[90mString\u001b[39m               │ \u001b[90mFloat64\u001b[39m  │\n",
       "├─────┼─────────────────────────────┼──────────────────────┼──────────┤\n",
       "│ 1   │ \u001b[90mmissing\u001b[39m                     │ Uganda               │ 1.0      │\n",
       "│ 2   │ \u001b[90mmissing\u001b[39m                     │ Ukraine              │ 48.3794  │\n",
       "│ 3   │ \u001b[90mmissing\u001b[39m                     │ United Arab Emirates │ 24.0     │\n",
       "│ 4   │ Bermuda                     │ United Kingdom       │ 32.3078  │\n",
       "│ 5   │ Cayman Islands              │ United Kingdom       │ 19.3133  │\n",
       "│ 6   │ Channel Islands             │ United Kingdom       │ 49.3723  │\n",
       "│ 7   │ Gibraltar                   │ United Kingdom       │ 36.1408  │\n",
       "│ 8   │ Isle of Man                 │ United Kingdom       │ 54.2361  │\n",
       "│ 9   │ Montserrat                  │ United Kingdom       │ 16.7425  │\n",
       "│ 10  │ \u001b[90mmissing\u001b[39m                     │ United Kingdom       │ 55.3781  │\n",
       "│ 11  │ \u001b[90mmissing\u001b[39m                     │ Uruguay              │ -32.5228 │\n",
       "│ 12  │ \u001b[90mmissing\u001b[39m                     │ US                   │ 37.0902  │\n",
       "│ 13  │ \u001b[90mmissing\u001b[39m                     │ Uzbekistan           │ 41.3775  │\n",
       "│ 14  │ Anguilla                    │ United Kingdom       │ 18.2206  │\n",
       "│ 15  │ British Virgin Islands      │ United Kingdom       │ 18.4207  │\n",
       "│ 16  │ Turks and Caicos Islands    │ United Kingdom       │ 21.694   │\n",
       "│ 17  │ Falkland Islands (Malvinas) │ United Kingdom       │ -51.7963 │"
      ]
     },
     "execution_count": 56,
     "metadata": {},
     "output_type": "execute_result"
    }
   ],
   "source": [
    "Us = [startswith(country, \"U\") for country in countries];\n",
    "data[Us, :]"
   ]
  },
  {
   "cell_type": "code",
   "execution_count": 59,
   "metadata": {},
   "outputs": [
    {
     "data": {
      "text/plain": [
       "266-element BitArray{1}:\n",
       " 0\n",
       " 0\n",
       " 0\n",
       " 0\n",
       " 0\n",
       " 0\n",
       " 0\n",
       " 0\n",
       " 0\n",
       " 0\n",
       " 0\n",
       " 0\n",
       " 0\n",
       " ⋮\n",
       " 0\n",
       " 0\n",
       " 0\n",
       " 0\n",
       " 0\n",
       " 0\n",
       " 0\n",
       " 0\n",
       " 0\n",
       " 0\n",
       " 0\n",
       " 0"
      ]
     },
     "execution_count": 59,
     "metadata": {},
     "output_type": "execute_result"
    }
   ],
   "source": [
    "countries .== \"US\""
   ]
  },
  {
   "cell_type": "code",
   "execution_count": 80,
   "metadata": {},
   "outputs": [
    {
     "data": {
      "text/plain": [
       "226"
      ]
     },
     "execution_count": 80,
     "metadata": {},
     "output_type": "execute_result"
    }
   ],
   "source": [
    "us = findall(countries.==\"US\")[1]"
   ]
  },
  {
   "cell_type": "code",
   "execution_count": 87,
   "metadata": {},
   "outputs": [
    {
     "data": {
      "text/html": [
       "<p>DataFrameRow (168 columns)</p><table class=\"data-frame\"><thead><tr><th></th><th>Province</th><th>Country</th><th>Lat</th><th>Long</th><th>1/22/20</th><th>1/23/20</th><th>1/24/20</th><th>1/25/20</th><th>1/26/20</th></tr><tr><th></th><th>String?</th><th>String</th><th>Float64</th><th>Float64</th><th>Int64</th><th>Int64</th><th>Int64</th><th>Int64</th><th>Int64</th></tr></thead><tbody><tr><th>226</th><td><em>missing</em></td><td>US</td><td>37.0902</td><td>-95.7129</td><td>1</td><td>1</td><td>2</td><td>2</td><td>5</td></tr></tbody></table>"
      ],
      "text/latex": [
       "\\begin{tabular}{r|cccccccccc}\n",
       "\t& Province & Country & Lat & Long & 1/22/20 & 1/23/20 & 1/24/20 & 1/25/20 & 1/26/20 & \\\\\n",
       "\t\\hline\n",
       "\t& String? & String & Float64 & Float64 & Int64 & Int64 & Int64 & Int64 & Int64 & \\\\\n",
       "\t\\hline\n",
       "\t226 & \\emph{missing} & US & 37.0902 & -95.7129 & 1 & 1 & 2 & 2 & 5 & $\\dots$ \\\\\n",
       "\\end{tabular}\n"
      ],
      "text/plain": [
       "DataFrameRow. Omitted printing of 161 columns\n",
       "│ Row │ Province │ Country │ Lat     │ Long     │ 1/22/20 │ 1/23/20 │ 1/24/20 │\n",
       "│     │ \u001b[90mString?\u001b[39m  │ \u001b[90mString\u001b[39m  │ \u001b[90mFloat64\u001b[39m │ \u001b[90mFloat64\u001b[39m  │ \u001b[90mInt64\u001b[39m   │ \u001b[90mInt64\u001b[39m   │ \u001b[90mInt64\u001b[39m   │\n",
       "├─────┼──────────┼─────────┼─────────┼──────────┼─────────┼─────────┼─────────┤\n",
       "│ 226 │ \u001b[90mmissing\u001b[39m  │ US      │ 37.0902 │ -95.7129 │ 1       │ 1       │ 2       │"
      ]
     },
     "execution_count": 87,
     "metadata": {},
     "output_type": "execute_result"
    }
   ],
   "source": [
    "US_data_row = data[us, :]"
   ]
  },
  {
   "cell_type": "code",
   "execution_count": 88,
   "metadata": {},
   "outputs": [
    {
     "data": {
      "text/plain": [
       "164-element Array{Int64,1}:\n",
       "       1\n",
       "       1\n",
       "       2\n",
       "       2\n",
       "       5\n",
       "       5\n",
       "       5\n",
       "       5\n",
       "       5\n",
       "       7\n",
       "       8\n",
       "       8\n",
       "      11\n",
       "       ⋮\n",
       " 2312302\n",
       " 2347491\n",
       " 2382426\n",
       " 2422299\n",
       " 2467554\n",
       " 2510259\n",
       " 2549294\n",
       " 2590668\n",
       " 2636414\n",
       " 2687588\n",
       " 2742049\n",
       " 2794153"
      ]
     },
     "execution_count": 88,
     "metadata": {},
     "output_type": "execute_result"
    }
   ],
   "source": [
    "US_data = convert(Vector, US_data_row[5:end])"
   ]
  },
  {
   "cell_type": "code",
   "execution_count": 89,
   "metadata": {},
   "outputs": [],
   "source": [
    "using Plots"
   ]
  },
  {
   "cell_type": "code",
   "execution_count": 90,
   "metadata": {},
   "outputs": [
    {
     "data": {
      "image/svg+xml": [
       "<?xml version=\"1.0\" encoding=\"utf-8\"?>\n",
       "<svg xmlns=\"http://www.w3.org/2000/svg\" xmlns:xlink=\"http://www.w3.org/1999/xlink\" width=\"600\" height=\"400\" viewBox=\"0 0 2400 1600\">\n",
       "<defs>\n",
       "  <clipPath id=\"clip720\">\n",
       "    <rect x=\"0\" y=\"0\" width=\"2400\" height=\"1600\"/>\n",
       "  </clipPath>\n",
       "</defs>\n",
       "<path clip-path=\"url(#clip720)\" d=\"\n",
       "M0 1600 L2400 1600 L2400 0 L0 0  Z\n",
       "  \" fill=\"#ffffff\" fill-rule=\"evenodd\" fill-opacity=\"1\"/>\n",
       "<defs>\n",
       "  <clipPath id=\"clip721\">\n",
       "    <rect x=\"480\" y=\"0\" width=\"1681\" height=\"1600\"/>\n",
       "  </clipPath>\n",
       "</defs>\n",
       "<path clip-path=\"url(#clip720)\" d=\"\n",
       "M249.422 1486.45 L2352.76 1486.45 L2352.76 47.2441 L249.422 47.2441  Z\n",
       "  \" fill=\"#ffffff\" fill-rule=\"evenodd\" fill-opacity=\"1\"/>\n",
       "<defs>\n",
       "  <clipPath id=\"clip722\">\n",
       "    <rect x=\"249\" y=\"47\" width=\"2104\" height=\"1440\"/>\n",
       "  </clipPath>\n",
       "</defs>\n",
       "<polyline clip-path=\"url(#clip722)\" style=\"stroke:#000000; stroke-width:2; stroke-opacity:0.1; fill:none\" points=\"\n",
       "  296.777,1486.45 296.777,47.2441 \n",
       "  \"/>\n",
       "<polyline clip-path=\"url(#clip722)\" style=\"stroke:#000000; stroke-width:2; stroke-opacity:0.1; fill:none\" points=\"\n",
       "  905.451,1486.45 905.451,47.2441 \n",
       "  \"/>\n",
       "<polyline clip-path=\"url(#clip722)\" style=\"stroke:#000000; stroke-width:2; stroke-opacity:0.1; fill:none\" points=\"\n",
       "  1514.12,1486.45 1514.12,47.2441 \n",
       "  \"/>\n",
       "<polyline clip-path=\"url(#clip722)\" style=\"stroke:#000000; stroke-width:2; stroke-opacity:0.1; fill:none\" points=\"\n",
       "  2122.8,1486.45 2122.8,47.2441 \n",
       "  \"/>\n",
       "<polyline clip-path=\"url(#clip722)\" style=\"stroke:#000000; stroke-width:2; stroke-opacity:0.1; fill:none\" points=\"\n",
       "  249.422,1445.72 2352.76,1445.72 \n",
       "  \"/>\n",
       "<polyline clip-path=\"url(#clip722)\" style=\"stroke:#000000; stroke-width:2; stroke-opacity:0.1; fill:none\" points=\"\n",
       "  249.422,1202.76 2352.76,1202.76 \n",
       "  \"/>\n",
       "<polyline clip-path=\"url(#clip722)\" style=\"stroke:#000000; stroke-width:2; stroke-opacity:0.1; fill:none\" points=\"\n",
       "  249.422,959.794 2352.76,959.794 \n",
       "  \"/>\n",
       "<polyline clip-path=\"url(#clip722)\" style=\"stroke:#000000; stroke-width:2; stroke-opacity:0.1; fill:none\" points=\"\n",
       "  249.422,716.833 2352.76,716.833 \n",
       "  \"/>\n",
       "<polyline clip-path=\"url(#clip722)\" style=\"stroke:#000000; stroke-width:2; stroke-opacity:0.1; fill:none\" points=\"\n",
       "  249.422,473.873 2352.76,473.873 \n",
       "  \"/>\n",
       "<polyline clip-path=\"url(#clip722)\" style=\"stroke:#000000; stroke-width:2; stroke-opacity:0.1; fill:none\" points=\"\n",
       "  249.422,230.912 2352.76,230.912 \n",
       "  \"/>\n",
       "<polyline clip-path=\"url(#clip720)\" style=\"stroke:#000000; stroke-width:4; stroke-opacity:1; fill:none\" points=\"\n",
       "  249.422,1486.45 2352.76,1486.45 \n",
       "  \"/>\n",
       "<polyline clip-path=\"url(#clip720)\" style=\"stroke:#000000; stroke-width:4; stroke-opacity:1; fill:none\" points=\"\n",
       "  249.422,1486.45 249.422,47.2441 \n",
       "  \"/>\n",
       "<polyline clip-path=\"url(#clip720)\" style=\"stroke:#000000; stroke-width:4; stroke-opacity:1; fill:none\" points=\"\n",
       "  296.777,1486.45 296.777,1469.18 \n",
       "  \"/>\n",
       "<polyline clip-path=\"url(#clip720)\" style=\"stroke:#000000; stroke-width:4; stroke-opacity:1; fill:none\" points=\"\n",
       "  905.451,1486.45 905.451,1469.18 \n",
       "  \"/>\n",
       "<polyline clip-path=\"url(#clip720)\" style=\"stroke:#000000; stroke-width:4; stroke-opacity:1; fill:none\" points=\"\n",
       "  1514.12,1486.45 1514.12,1469.18 \n",
       "  \"/>\n",
       "<polyline clip-path=\"url(#clip720)\" style=\"stroke:#000000; stroke-width:4; stroke-opacity:1; fill:none\" points=\"\n",
       "  2122.8,1486.45 2122.8,1469.18 \n",
       "  \"/>\n",
       "<polyline clip-path=\"url(#clip720)\" style=\"stroke:#000000; stroke-width:4; stroke-opacity:1; fill:none\" points=\"\n",
       "  249.422,1445.72 274.662,1445.72 \n",
       "  \"/>\n",
       "<polyline clip-path=\"url(#clip720)\" style=\"stroke:#000000; stroke-width:4; stroke-opacity:1; fill:none\" points=\"\n",
       "  249.422,1202.76 274.662,1202.76 \n",
       "  \"/>\n",
       "<polyline clip-path=\"url(#clip720)\" style=\"stroke:#000000; stroke-width:4; stroke-opacity:1; fill:none\" points=\"\n",
       "  249.422,959.794 274.662,959.794 \n",
       "  \"/>\n",
       "<polyline clip-path=\"url(#clip720)\" style=\"stroke:#000000; stroke-width:4; stroke-opacity:1; fill:none\" points=\"\n",
       "  249.422,716.833 274.662,716.833 \n",
       "  \"/>\n",
       "<polyline clip-path=\"url(#clip720)\" style=\"stroke:#000000; stroke-width:4; stroke-opacity:1; fill:none\" points=\"\n",
       "  249.422,473.873 274.662,473.873 \n",
       "  \"/>\n",
       "<polyline clip-path=\"url(#clip720)\" style=\"stroke:#000000; stroke-width:4; stroke-opacity:1; fill:none\" points=\"\n",
       "  249.422,230.912 274.662,230.912 \n",
       "  \"/>\n",
       "<path clip-path=\"url(#clip720)\" d=\"M 0 0 M296.777 1508.44 Q293.166 1508.44 291.337 1512 Q289.531 1515.55 289.531 1522.67 Q289.531 1529.78 291.337 1533.35 Q293.166 1536.89 296.777 1536.89 Q300.411 1536.89 302.216 1533.35 Q304.045 1529.78 304.045 1522.67 Q304.045 1515.55 302.216 1512 Q300.411 1508.44 296.777 1508.44 M296.777 1504.73 Q302.587 1504.73 305.642 1509.34 Q308.721 1513.92 308.721 1522.67 Q308.721 1531.4 305.642 1536.01 Q302.587 1540.59 296.777 1540.59 Q290.966 1540.59 287.888 1536.01 Q284.832 1531.4 284.832 1522.67 Q284.832 1513.92 287.888 1509.34 Q290.966 1504.73 296.777 1504.73 Z\" fill=\"#000000\" fill-rule=\"evenodd\" fill-opacity=\"1\" /><path clip-path=\"url(#clip720)\" d=\"M 0 0 M882.222 1505.36 L900.578 1505.36 L900.578 1509.3 L886.504 1509.3 L886.504 1517.77 Q887.523 1517.42 888.541 1517.26 Q889.56 1517.07 890.578 1517.07 Q896.365 1517.07 899.745 1520.24 Q903.124 1523.42 903.124 1528.83 Q903.124 1534.41 899.652 1537.51 Q896.18 1540.59 889.861 1540.59 Q887.685 1540.59 885.416 1540.22 Q883.171 1539.85 880.763 1539.11 L880.763 1534.41 Q882.847 1535.54 885.069 1536.1 Q887.291 1536.66 889.768 1536.66 Q893.773 1536.66 896.11 1534.55 Q898.448 1532.44 898.448 1528.83 Q898.448 1525.22 896.11 1523.11 Q893.773 1521.01 889.768 1521.01 Q887.893 1521.01 886.018 1521.42 Q884.166 1521.84 882.222 1522.72 L882.222 1505.36 Z\" fill=\"#000000\" fill-rule=\"evenodd\" fill-opacity=\"1\" /><path clip-path=\"url(#clip720)\" d=\"M 0 0 M918.194 1508.44 Q914.583 1508.44 912.754 1512 Q910.948 1515.55 910.948 1522.67 Q910.948 1529.78 912.754 1533.35 Q914.583 1536.89 918.194 1536.89 Q921.828 1536.89 923.633 1533.35 Q925.462 1529.78 925.462 1522.67 Q925.462 1515.55 923.633 1512 Q921.828 1508.44 918.194 1508.44 M918.194 1504.73 Q924.004 1504.73 927.059 1509.34 Q930.138 1513.92 930.138 1522.67 Q930.138 1531.4 927.059 1536.01 Q924.004 1540.59 918.194 1540.59 Q912.384 1540.59 909.305 1536.01 Q906.249 1531.4 906.249 1522.67 Q906.249 1513.92 909.305 1509.34 Q912.384 1504.73 918.194 1504.73 Z\" fill=\"#000000\" fill-rule=\"evenodd\" fill-opacity=\"1\" /><path clip-path=\"url(#clip720)\" d=\"M 0 0 M1477.49 1535.98 L1485.13 1535.98 L1485.13 1509.62 L1476.82 1511.29 L1476.82 1507.03 L1485.09 1505.36 L1489.76 1505.36 L1489.76 1535.98 L1497.4 1535.98 L1497.4 1539.92 L1477.49 1539.92 L1477.49 1535.98 Z\" fill=\"#000000\" fill-rule=\"evenodd\" fill-opacity=\"1\" /><path clip-path=\"url(#clip720)\" d=\"M 0 0 M1512.47 1508.44 Q1508.86 1508.44 1507.03 1512 Q1505.22 1515.55 1505.22 1522.67 Q1505.22 1529.78 1507.03 1533.35 Q1508.86 1536.89 1512.47 1536.89 Q1516.1 1536.89 1517.91 1533.35 Q1519.74 1529.78 1519.74 1522.67 Q1519.74 1515.55 1517.91 1512 Q1516.1 1508.44 1512.47 1508.44 M1512.47 1504.73 Q1518.28 1504.73 1521.34 1509.34 Q1524.41 1513.92 1524.41 1522.67 Q1524.41 1531.4 1521.34 1536.01 Q1518.28 1540.59 1512.47 1540.59 Q1506.66 1540.59 1503.58 1536.01 Q1500.53 1531.4 1500.53 1522.67 Q1500.53 1513.92 1503.58 1509.34 Q1506.66 1504.73 1512.47 1504.73 Z\" fill=\"#000000\" fill-rule=\"evenodd\" fill-opacity=\"1\" /><path clip-path=\"url(#clip720)\" d=\"M 0 0 M1539.48 1508.44 Q1535.87 1508.44 1534.04 1512 Q1532.24 1515.55 1532.24 1522.67 Q1532.24 1529.78 1534.04 1533.35 Q1535.87 1536.89 1539.48 1536.89 Q1543.12 1536.89 1544.92 1533.35 Q1546.75 1529.78 1546.75 1522.67 Q1546.75 1515.55 1544.92 1512 Q1543.12 1508.44 1539.48 1508.44 M1539.48 1504.73 Q1545.29 1504.73 1548.35 1509.34 Q1551.43 1513.92 1551.43 1522.67 Q1551.43 1531.4 1548.35 1536.01 Q1545.29 1540.59 1539.48 1540.59 Q1533.67 1540.59 1530.59 1536.01 Q1527.54 1531.4 1527.54 1522.67 Q1527.54 1513.92 1530.59 1509.34 Q1533.67 1504.73 1539.48 1504.73 Z\" fill=\"#000000\" fill-rule=\"evenodd\" fill-opacity=\"1\" /><path clip-path=\"url(#clip720)\" d=\"M 0 0 M2086.66 1535.98 L2094.3 1535.98 L2094.3 1509.62 L2085.99 1511.29 L2085.99 1507.03 L2094.26 1505.36 L2098.93 1505.36 L2098.93 1535.98 L2106.57 1535.98 L2106.57 1539.92 L2086.66 1539.92 L2086.66 1535.98 Z\" fill=\"#000000\" fill-rule=\"evenodd\" fill-opacity=\"1\" /><path clip-path=\"url(#clip720)\" d=\"M 0 0 M2111.69 1505.36 L2130.04 1505.36 L2130.04 1509.3 L2115.97 1509.3 L2115.97 1517.77 Q2116.99 1517.42 2118.01 1517.26 Q2119.03 1517.07 2120.04 1517.07 Q2125.83 1517.07 2129.21 1520.24 Q2132.59 1523.42 2132.59 1528.83 Q2132.59 1534.41 2129.12 1537.51 Q2125.65 1540.59 2119.33 1540.59 Q2117.15 1540.59 2114.88 1540.22 Q2112.64 1539.85 2110.23 1539.11 L2110.23 1534.41 Q2112.31 1535.54 2114.53 1536.1 Q2116.76 1536.66 2119.23 1536.66 Q2123.24 1536.66 2125.58 1534.55 Q2127.91 1532.44 2127.91 1528.83 Q2127.91 1525.22 2125.58 1523.11 Q2123.24 1521.01 2119.23 1521.01 Q2117.36 1521.01 2115.48 1521.42 Q2113.63 1521.84 2111.69 1522.72 L2111.69 1505.36 Z\" fill=\"#000000\" fill-rule=\"evenodd\" fill-opacity=\"1\" /><path clip-path=\"url(#clip720)\" d=\"M 0 0 M2147.66 1508.44 Q2144.05 1508.44 2142.22 1512 Q2140.41 1515.55 2140.41 1522.67 Q2140.41 1529.78 2142.22 1533.35 Q2144.05 1536.89 2147.66 1536.89 Q2151.29 1536.89 2153.1 1533.35 Q2154.93 1529.78 2154.93 1522.67 Q2154.93 1515.55 2153.1 1512 Q2151.29 1508.44 2147.66 1508.44 M2147.66 1504.73 Q2153.47 1504.73 2156.53 1509.34 Q2159.6 1513.92 2159.6 1522.67 Q2159.6 1531.4 2156.53 1536.01 Q2153.47 1540.59 2147.66 1540.59 Q2141.85 1540.59 2138.77 1536.01 Q2135.72 1531.4 2135.72 1522.67 Q2135.72 1513.92 2138.77 1509.34 Q2141.85 1504.73 2147.66 1504.73 Z\" fill=\"#000000\" fill-rule=\"evenodd\" fill-opacity=\"1\" /><path clip-path=\"url(#clip720)\" d=\"M 0 0 M213.477 1431.51 Q209.866 1431.51 208.038 1435.08 Q206.232 1438.62 206.232 1445.75 Q206.232 1452.86 208.038 1456.42 Q209.866 1459.96 213.477 1459.96 Q217.112 1459.96 218.917 1456.42 Q220.746 1452.86 220.746 1445.75 Q220.746 1438.62 218.917 1435.08 Q217.112 1431.51 213.477 1431.51 M213.477 1427.81 Q219.288 1427.81 222.343 1432.42 Q225.422 1437 225.422 1445.75 Q225.422 1454.48 222.343 1459.08 Q219.288 1463.67 213.477 1463.67 Q207.667 1463.67 204.589 1459.08 Q201.533 1454.48 201.533 1445.75 Q201.533 1437 204.589 1432.42 Q207.667 1427.81 213.477 1427.81 Z\" fill=\"#000000\" fill-rule=\"evenodd\" fill-opacity=\"1\" /><path clip-path=\"url(#clip720)\" d=\"M 0 0 M63.3422 1191.92 L81.6986 1191.92 L81.6986 1195.86 L67.6246 1195.86 L67.6246 1204.33 Q68.6431 1203.98 69.6617 1203.82 Q70.6802 1203.64 71.6987 1203.64 Q77.4857 1203.64 80.8653 1206.81 Q84.2449 1209.98 84.2449 1215.39 Q84.2449 1220.97 80.7727 1224.08 Q77.3005 1227.15 70.9811 1227.15 Q68.8052 1227.15 66.5367 1226.78 Q64.2913 1226.41 61.8839 1225.67 L61.8839 1220.97 Q63.9672 1222.11 66.1894 1222.66 Q68.4117 1223.22 70.8885 1223.22 Q74.8931 1223.22 77.2311 1221.11 Q79.569 1219.01 79.569 1215.39 Q79.569 1211.78 77.2311 1209.68 Q74.8931 1207.57 70.8885 1207.57 Q69.0135 1207.57 67.1385 1207.99 Q65.2867 1208.4 63.3422 1209.28 L63.3422 1191.92 Z\" fill=\"#000000\" fill-rule=\"evenodd\" fill-opacity=\"1\" /><path clip-path=\"url(#clip720)\" d=\"M 0 0 M89.3143 1220.6 L94.1986 1220.6 L94.1986 1226.48 L89.3143 1226.48 L89.3143 1220.6 Z\" fill=\"#000000\" fill-rule=\"evenodd\" fill-opacity=\"1\" /><path clip-path=\"url(#clip720)\" d=\"M 0 0 M109.268 1195 Q105.657 1195 103.828 1198.57 Q102.023 1202.11 102.023 1209.24 Q102.023 1216.34 103.828 1219.91 Q105.657 1223.45 109.268 1223.45 Q112.902 1223.45 114.708 1219.91 Q116.536 1216.34 116.536 1209.24 Q116.536 1202.11 114.708 1198.57 Q112.902 1195 109.268 1195 M109.268 1191.3 Q115.078 1191.3 118.134 1195.9 Q121.212 1200.49 121.212 1209.24 Q121.212 1217.96 118.134 1222.57 Q115.078 1227.15 109.268 1227.15 Q103.458 1227.15 100.379 1222.57 Q97.3235 1217.96 97.3235 1209.24 Q97.3235 1200.49 100.379 1195.9 Q103.458 1191.3 109.268 1191.3 Z\" fill=\"#000000\" fill-rule=\"evenodd\" fill-opacity=\"1\" /><path clip-path=\"url(#clip720)\" d=\"M 0 0 M154.453 1201.02 L143.874 1211.64 L154.453 1222.22 L151.698 1225.02 L141.073 1214.4 L130.448 1225.02 L127.717 1222.22 L138.272 1211.64 L127.717 1201.02 L130.448 1198.22 L141.073 1208.84 L151.698 1198.22 L154.453 1201.02 Z\" fill=\"#000000\" fill-rule=\"evenodd\" fill-opacity=\"1\" /><path clip-path=\"url(#clip720)\" d=\"M 0 0 M160.332 1222.55 L167.971 1222.55 L167.971 1196.18 L159.661 1197.85 L159.661 1193.59 L167.925 1191.92 L172.601 1191.92 L172.601 1222.55 L180.24 1222.55 L180.24 1226.48 L160.332 1226.48 L160.332 1222.55 Z\" fill=\"#000000\" fill-rule=\"evenodd\" fill-opacity=\"1\" /><path clip-path=\"url(#clip720)\" d=\"M 0 0 M195.309 1195 Q191.698 1195 189.869 1198.57 Q188.064 1202.11 188.064 1209.24 Q188.064 1216.34 189.869 1219.91 Q191.698 1223.45 195.309 1223.45 Q198.943 1223.45 200.749 1219.91 Q202.578 1216.34 202.578 1209.24 Q202.578 1202.11 200.749 1198.57 Q198.943 1195 195.309 1195 M195.309 1191.3 Q201.119 1191.3 204.175 1195.9 Q207.254 1200.49 207.254 1209.24 Q207.254 1217.96 204.175 1222.57 Q201.119 1227.15 195.309 1227.15 Q189.499 1227.15 186.42 1222.57 Q183.365 1217.96 183.365 1209.24 Q183.365 1200.49 186.42 1195.9 Q189.499 1191.3 195.309 1191.3 Z\" fill=\"#000000\" fill-rule=\"evenodd\" fill-opacity=\"1\" /><path clip-path=\"url(#clip720)\" d=\"M 0 0 M208.438 1170.99 L223.353 1170.99 L223.353 1174.19 L211.918 1174.19 L211.918 1181.07 Q212.745 1180.79 213.573 1180.66 Q214.4 1180.51 215.228 1180.51 Q219.93 1180.51 222.676 1183.09 Q225.422 1185.66 225.422 1190.06 Q225.422 1194.6 222.601 1197.12 Q219.779 1199.62 214.645 1199.62 Q212.877 1199.62 211.034 1199.32 Q209.21 1199.02 207.254 1198.41 L207.254 1194.6 Q208.946 1195.52 210.752 1195.97 Q212.557 1196.42 214.57 1196.42 Q217.823 1196.42 219.723 1194.71 Q221.623 1193 221.623 1190.06 Q221.623 1187.13 219.723 1185.42 Q217.823 1183.71 214.57 1183.71 Q213.046 1183.71 211.523 1184.05 Q210.018 1184.38 208.438 1185.1 L208.438 1170.99 Z\" fill=\"#000000\" fill-rule=\"evenodd\" fill-opacity=\"1\" /><path clip-path=\"url(#clip720)\" d=\"M 0 0 M63.1151 979.587 L70.7539 979.587 L70.7539 953.221 L62.4438 954.888 L62.4438 950.629 L70.7077 948.962 L75.3836 948.962 L75.3836 979.587 L83.0224 979.587 L83.0224 983.522 L63.1151 983.522 L63.1151 979.587 Z\" fill=\"#000000\" fill-rule=\"evenodd\" fill-opacity=\"1\" /><path clip-path=\"url(#clip720)\" d=\"M 0 0 M88.0918 977.642 L92.9761 977.642 L92.9761 983.522 L88.0918 983.522 L88.0918 977.642 Z\" fill=\"#000000\" fill-rule=\"evenodd\" fill-opacity=\"1\" /><path clip-path=\"url(#clip720)\" d=\"M 0 0 M108.045 952.041 Q104.434 952.041 102.606 955.605 Q100.8 959.147 100.8 966.277 Q100.8 973.383 102.606 976.948 Q104.434 980.49 108.045 980.49 Q111.68 980.49 113.485 976.948 Q115.314 973.383 115.314 966.277 Q115.314 959.147 113.485 955.605 Q111.68 952.041 108.045 952.041 M108.045 948.337 Q113.856 948.337 116.911 952.943 Q119.99 957.527 119.99 966.277 Q119.99 975.003 116.911 979.61 Q113.856 984.193 108.045 984.193 Q102.235 984.193 99.1566 979.61 Q96.101 975.003 96.101 966.277 Q96.101 957.527 99.1566 952.943 Q102.235 948.337 108.045 948.337 Z\" fill=\"#000000\" fill-rule=\"evenodd\" fill-opacity=\"1\" /><path clip-path=\"url(#clip720)\" d=\"M 0 0 M153.23 958.059 L142.652 968.684 L153.23 979.263 L150.476 982.064 L139.851 971.439 L129.226 982.064 L126.494 979.263 L137.05 968.684 L126.494 958.059 L129.226 955.258 L139.851 965.883 L150.476 955.258 L153.23 958.059 Z\" fill=\"#000000\" fill-rule=\"evenodd\" fill-opacity=\"1\" /><path clip-path=\"url(#clip720)\" d=\"M 0 0 M159.11 979.587 L166.749 979.587 L166.749 953.221 L158.439 954.888 L158.439 950.629 L166.703 948.962 L171.378 948.962 L171.378 979.587 L179.017 979.587 L179.017 983.522 L159.11 983.522 L159.11 979.587 Z\" fill=\"#000000\" fill-rule=\"evenodd\" fill-opacity=\"1\" /><path clip-path=\"url(#clip720)\" d=\"M 0 0 M194.087 952.041 Q190.476 952.041 188.647 955.605 Q186.841 959.147 186.841 966.277 Q186.841 973.383 188.647 976.948 Q190.476 980.49 194.087 980.49 Q197.721 980.49 199.526 976.948 Q201.355 973.383 201.355 966.277 Q201.355 959.147 199.526 955.605 Q197.721 952.041 194.087 952.041 M194.087 948.337 Q199.897 948.337 202.952 952.943 Q206.031 957.527 206.031 966.277 Q206.031 975.003 202.952 979.61 Q199.897 984.193 194.087 984.193 Q188.276 984.193 185.198 979.61 Q182.142 975.003 182.142 966.277 Q182.142 957.527 185.198 952.943 Q188.276 948.337 194.087 948.337 Z\" fill=\"#000000\" fill-rule=\"evenodd\" fill-opacity=\"1\" /><path clip-path=\"url(#clip720)\" d=\"M 0 0 M216.056 940.558 Q213.498 940.558 211.993 942.307 Q210.507 944.056 210.507 947.103 Q210.507 950.131 211.993 951.899 Q213.498 953.648 216.056 953.648 Q218.613 953.648 220.099 951.899 Q221.604 950.131 221.604 947.103 Q221.604 944.056 220.099 942.307 Q218.613 940.558 216.056 940.558 M223.597 928.652 L223.597 932.113 Q222.168 931.436 220.701 931.078 Q219.253 930.721 217.823 930.721 Q214.062 930.721 212.068 933.26 Q210.093 935.799 209.811 940.934 Q210.921 939.297 212.595 938.432 Q214.269 937.548 216.281 937.548 Q220.513 937.548 222.958 940.125 Q225.422 942.683 225.422 947.103 Q225.422 951.428 222.864 954.043 Q220.306 956.657 216.056 956.657 Q211.184 956.657 208.608 952.933 Q206.031 949.19 206.031 942.1 Q206.031 935.442 209.191 931.492 Q212.35 927.524 217.673 927.524 Q219.102 927.524 220.551 927.806 Q222.018 928.088 223.597 928.652 Z\" fill=\"#000000\" fill-rule=\"evenodd\" fill-opacity=\"1\" /><path clip-path=\"url(#clip720)\" d=\"M 0 0 M64.1105 736.626 L71.7493 736.626 L71.7493 710.26 L63.4392 711.927 L63.4392 707.668 L71.703 706.001 L76.3789 706.001 L76.3789 736.626 L84.0178 736.626 L84.0178 740.561 L64.1105 740.561 L64.1105 736.626 Z\" fill=\"#000000\" fill-rule=\"evenodd\" fill-opacity=\"1\" /><path clip-path=\"url(#clip720)\" d=\"M 0 0 M89.0872 734.681 L93.9714 734.681 L93.9714 740.561 L89.0872 740.561 L89.0872 734.681 Z\" fill=\"#000000\" fill-rule=\"evenodd\" fill-opacity=\"1\" /><path clip-path=\"url(#clip720)\" d=\"M 0 0 M99.0871 706.001 L117.444 706.001 L117.444 709.936 L103.37 709.936 L103.37 718.408 Q104.388 718.061 105.407 717.899 Q106.425 717.714 107.444 717.714 Q113.231 717.714 116.61 720.885 Q119.99 724.057 119.99 729.473 Q119.99 735.052 116.518 738.154 Q113.045 741.232 106.726 741.232 Q104.55 741.232 102.282 740.862 Q100.036 740.492 97.6288 739.751 L97.6288 735.052 Q99.7121 736.186 101.934 736.742 Q104.157 737.297 106.633 737.297 Q110.638 737.297 112.976 735.191 Q115.314 733.084 115.314 729.473 Q115.314 725.862 112.976 723.756 Q110.638 721.649 106.633 721.649 Q104.758 721.649 102.883 722.066 Q101.032 722.482 99.0871 723.362 L99.0871 706.001 Z\" fill=\"#000000\" fill-rule=\"evenodd\" fill-opacity=\"1\" /><path clip-path=\"url(#clip720)\" d=\"M 0 0 M153.23 715.098 L142.652 725.723 L153.23 736.302 L150.476 739.103 L139.851 728.478 L129.226 739.103 L126.494 736.302 L137.05 725.723 L126.494 715.098 L129.226 712.297 L139.851 722.922 L150.476 712.297 L153.23 715.098 Z\" fill=\"#000000\" fill-rule=\"evenodd\" fill-opacity=\"1\" /><path clip-path=\"url(#clip720)\" d=\"M 0 0 M159.11 736.626 L166.749 736.626 L166.749 710.26 L158.439 711.927 L158.439 707.668 L166.703 706.001 L171.378 706.001 L171.378 736.626 L179.017 736.626 L179.017 740.561 L159.11 740.561 L159.11 736.626 Z\" fill=\"#000000\" fill-rule=\"evenodd\" fill-opacity=\"1\" /><path clip-path=\"url(#clip720)\" d=\"M 0 0 M194.087 709.08 Q190.476 709.08 188.647 712.645 Q186.841 716.186 186.841 723.316 Q186.841 730.422 188.647 733.987 Q190.476 737.529 194.087 737.529 Q197.721 737.529 199.526 733.987 Q201.355 730.422 201.355 723.316 Q201.355 716.186 199.526 712.645 Q197.721 709.08 194.087 709.08 M194.087 705.376 Q199.897 705.376 202.952 709.983 Q206.031 714.566 206.031 723.316 Q206.031 732.043 202.952 736.649 Q199.897 741.232 194.087 741.232 Q188.276 741.232 185.198 736.649 Q182.142 732.043 182.142 723.316 Q182.142 714.566 185.198 709.983 Q188.276 705.376 194.087 705.376 Z\" fill=\"#000000\" fill-rule=\"evenodd\" fill-opacity=\"1\" /><path clip-path=\"url(#clip720)\" d=\"M 0 0 M216.056 697.597 Q213.498 697.597 211.993 699.346 Q210.507 701.095 210.507 704.142 Q210.507 707.17 211.993 708.938 Q213.498 710.687 216.056 710.687 Q218.613 710.687 220.099 708.938 Q221.604 707.17 221.604 704.142 Q221.604 701.095 220.099 699.346 Q218.613 697.597 216.056 697.597 M223.597 685.691 L223.597 689.152 Q222.168 688.475 220.701 688.118 Q219.253 687.76 217.823 687.76 Q214.062 687.76 212.068 690.299 Q210.093 692.838 209.811 697.973 Q210.921 696.337 212.595 695.471 Q214.269 694.587 216.281 694.587 Q220.513 694.587 222.958 697.164 Q225.422 699.722 225.422 704.142 Q225.422 708.468 222.864 711.082 Q220.306 713.696 216.056 713.696 Q211.184 713.696 208.608 709.972 Q206.031 706.229 206.031 699.139 Q206.031 692.481 209.191 688.531 Q212.35 684.563 217.673 684.563 Q219.102 684.563 220.551 684.845 Q222.018 685.127 223.597 685.691 Z\" fill=\"#000000\" fill-rule=\"evenodd\" fill-opacity=\"1\" /><path clip-path=\"url(#clip720)\" d=\"M 0 0 M66.703 493.665 L83.0224 493.665 L83.0224 497.6 L61.0781 497.6 L61.0781 493.665 Q63.7401 490.91 68.3234 486.281 Q72.9299 481.628 74.1104 480.285 Q76.3558 477.762 77.2354 476.026 Q78.1382 474.267 78.1382 472.577 Q78.1382 469.823 76.1937 468.086 Q74.2724 466.35 71.1706 466.35 Q68.9715 466.35 66.5179 467.114 Q64.0873 467.878 61.3096 469.429 L61.3096 464.707 Q64.1336 463.573 66.5873 462.994 Q69.041 462.415 71.078 462.415 Q76.4484 462.415 79.6428 465.1 Q82.8372 467.785 82.8372 472.276 Q82.8372 474.406 82.027 476.327 Q81.24 478.225 79.1335 480.818 Q78.5548 481.489 75.453 484.707 Q72.3512 487.901 66.703 493.665 Z\" fill=\"#000000\" fill-rule=\"evenodd\" fill-opacity=\"1\" /><path clip-path=\"url(#clip720)\" d=\"M 0 0 M88.0918 491.721 L92.9761 491.721 L92.9761 497.6 L88.0918 497.6 L88.0918 491.721 Z\" fill=\"#000000\" fill-rule=\"evenodd\" fill-opacity=\"1\" /><path clip-path=\"url(#clip720)\" d=\"M 0 0 M108.045 466.119 Q104.434 466.119 102.606 469.684 Q100.8 473.225 100.8 480.355 Q100.8 487.461 102.606 491.026 Q104.434 494.568 108.045 494.568 Q111.68 494.568 113.485 491.026 Q115.314 487.461 115.314 480.355 Q115.314 473.225 113.485 469.684 Q111.68 466.119 108.045 466.119 M108.045 462.415 Q113.856 462.415 116.911 467.022 Q119.99 471.605 119.99 480.355 Q119.99 489.082 116.911 493.688 Q113.856 498.271 108.045 498.271 Q102.235 498.271 99.1566 493.688 Q96.101 489.082 96.101 480.355 Q96.101 471.605 99.1566 467.022 Q102.235 462.415 108.045 462.415 Z\" fill=\"#000000\" fill-rule=\"evenodd\" fill-opacity=\"1\" /><path clip-path=\"url(#clip720)\" d=\"M 0 0 M153.23 472.137 L142.652 482.762 L153.23 493.341 L150.476 496.142 L139.851 485.517 L129.226 496.142 L126.494 493.341 L137.05 482.762 L126.494 472.137 L129.226 469.336 L139.851 479.961 L150.476 469.336 L153.23 472.137 Z\" fill=\"#000000\" fill-rule=\"evenodd\" fill-opacity=\"1\" /><path clip-path=\"url(#clip720)\" d=\"M 0 0 M159.11 493.665 L166.749 493.665 L166.749 467.299 L158.439 468.966 L158.439 464.707 L166.703 463.04 L171.378 463.04 L171.378 493.665 L179.017 493.665 L179.017 497.6 L159.11 497.6 L159.11 493.665 Z\" fill=\"#000000\" fill-rule=\"evenodd\" fill-opacity=\"1\" /><path clip-path=\"url(#clip720)\" d=\"M 0 0 M194.087 466.119 Q190.476 466.119 188.647 469.684 Q186.841 473.225 186.841 480.355 Q186.841 487.461 188.647 491.026 Q190.476 494.568 194.087 494.568 Q197.721 494.568 199.526 491.026 Q201.355 487.461 201.355 480.355 Q201.355 473.225 199.526 469.684 Q197.721 466.119 194.087 466.119 M194.087 462.415 Q199.897 462.415 202.952 467.022 Q206.031 471.605 206.031 480.355 Q206.031 489.082 202.952 493.688 Q199.897 498.271 194.087 498.271 Q188.276 498.271 185.198 493.688 Q182.142 489.082 182.142 480.355 Q182.142 471.605 185.198 467.022 Q188.276 462.415 194.087 462.415 Z\" fill=\"#000000\" fill-rule=\"evenodd\" fill-opacity=\"1\" /><path clip-path=\"url(#clip720)\" d=\"M 0 0 M216.056 454.636 Q213.498 454.636 211.993 456.385 Q210.507 458.134 210.507 461.181 Q210.507 464.209 211.993 465.977 Q213.498 467.726 216.056 467.726 Q218.613 467.726 220.099 465.977 Q221.604 464.209 221.604 461.181 Q221.604 458.134 220.099 456.385 Q218.613 454.636 216.056 454.636 M223.597 442.73 L223.597 446.191 Q222.168 445.514 220.701 445.157 Q219.253 444.799 217.823 444.799 Q214.062 444.799 212.068 447.338 Q210.093 449.877 209.811 455.012 Q210.921 453.376 212.595 452.51 Q214.269 451.626 216.281 451.626 Q220.513 451.626 222.958 454.203 Q225.422 456.761 225.422 461.181 Q225.422 465.507 222.864 468.121 Q220.306 470.735 216.056 470.735 Q211.184 470.735 208.608 467.011 Q206.031 463.268 206.031 456.178 Q206.031 449.52 209.191 445.57 Q212.35 441.602 217.673 441.602 Q219.102 441.602 220.551 441.884 Q222.018 442.166 223.597 442.73 Z\" fill=\"#000000\" fill-rule=\"evenodd\" fill-opacity=\"1\" /><path clip-path=\"url(#clip720)\" d=\"M 0 0 M67.6984 250.704 L84.0178 250.704 L84.0178 254.639 L62.0734 254.639 L62.0734 250.704 Q64.7355 247.949 69.3188 243.32 Q73.9252 238.667 75.1058 237.325 Q77.3511 234.801 78.2308 233.065 Q79.1335 231.306 79.1335 229.616 Q79.1335 226.862 77.1891 225.126 Q75.2678 223.389 72.166 223.389 Q69.9669 223.389 67.5132 224.153 Q65.0827 224.917 62.3049 226.468 L62.3049 221.746 Q65.129 220.612 67.5827 220.033 Q70.0364 219.454 72.0734 219.454 Q77.4437 219.454 80.6382 222.139 Q83.8326 224.825 83.8326 229.315 Q83.8326 231.445 83.0224 233.366 Q82.2354 235.264 80.1289 237.857 Q79.5502 238.528 76.4484 241.746 Q73.3465 244.94 67.6984 250.704 Z\" fill=\"#000000\" fill-rule=\"evenodd\" fill-opacity=\"1\" /><path clip-path=\"url(#clip720)\" d=\"M 0 0 M89.0872 248.76 L93.9714 248.76 L93.9714 254.639 L89.0872 254.639 L89.0872 248.76 Z\" fill=\"#000000\" fill-rule=\"evenodd\" fill-opacity=\"1\" /><path clip-path=\"url(#clip720)\" d=\"M 0 0 M99.0871 220.079 L117.444 220.079 L117.444 224.014 L103.37 224.014 L103.37 232.487 Q104.388 232.139 105.407 231.977 Q106.425 231.792 107.444 231.792 Q113.231 231.792 116.61 234.963 Q119.99 238.135 119.99 243.551 Q119.99 249.13 116.518 252.232 Q113.045 255.311 106.726 255.311 Q104.55 255.311 102.282 254.94 Q100.036 254.57 97.6288 253.829 L97.6288 249.13 Q99.7121 250.264 101.934 250.82 Q104.157 251.375 106.633 251.375 Q110.638 251.375 112.976 249.269 Q115.314 247.162 115.314 243.551 Q115.314 239.94 112.976 237.834 Q110.638 235.727 106.633 235.727 Q104.758 235.727 102.883 236.144 Q101.032 236.561 99.0871 237.44 L99.0871 220.079 Z\" fill=\"#000000\" fill-rule=\"evenodd\" fill-opacity=\"1\" /><path clip-path=\"url(#clip720)\" d=\"M 0 0 M153.23 229.176 L142.652 239.801 L153.23 250.38 L150.476 253.181 L139.851 242.556 L129.226 253.181 L126.494 250.38 L137.05 239.801 L126.494 229.176 L129.226 226.375 L139.851 237 L150.476 226.375 L153.23 229.176 Z\" fill=\"#000000\" fill-rule=\"evenodd\" fill-opacity=\"1\" /><path clip-path=\"url(#clip720)\" d=\"M 0 0 M159.11 250.704 L166.749 250.704 L166.749 224.338 L158.439 226.005 L158.439 221.746 L166.703 220.079 L171.378 220.079 L171.378 250.704 L179.017 250.704 L179.017 254.639 L159.11 254.639 L159.11 250.704 Z\" fill=\"#000000\" fill-rule=\"evenodd\" fill-opacity=\"1\" /><path clip-path=\"url(#clip720)\" d=\"M 0 0 M194.087 223.158 Q190.476 223.158 188.647 226.723 Q186.841 230.264 186.841 237.394 Q186.841 244.5 188.647 248.065 Q190.476 251.607 194.087 251.607 Q197.721 251.607 199.526 248.065 Q201.355 244.5 201.355 237.394 Q201.355 230.264 199.526 226.723 Q197.721 223.158 194.087 223.158 M194.087 219.454 Q199.897 219.454 202.952 224.061 Q206.031 228.644 206.031 237.394 Q206.031 246.121 202.952 250.727 Q199.897 255.311 194.087 255.311 Q188.276 255.311 185.198 250.727 Q182.142 246.121 182.142 237.394 Q182.142 228.644 185.198 224.061 Q188.276 219.454 194.087 219.454 Z\" fill=\"#000000\" fill-rule=\"evenodd\" fill-opacity=\"1\" /><path clip-path=\"url(#clip720)\" d=\"M 0 0 M216.056 211.675 Q213.498 211.675 211.993 213.424 Q210.507 215.173 210.507 218.22 Q210.507 221.248 211.993 223.016 Q213.498 224.765 216.056 224.765 Q218.613 224.765 220.099 223.016 Q221.604 221.248 221.604 218.22 Q221.604 215.173 220.099 213.424 Q218.613 211.675 216.056 211.675 M223.597 199.769 L223.597 203.23 Q222.168 202.553 220.701 202.196 Q219.253 201.838 217.823 201.838 Q214.062 201.838 212.068 204.377 Q210.093 206.916 209.811 212.051 Q210.921 210.415 212.595 209.55 Q214.269 208.666 216.281 208.666 Q220.513 208.666 222.958 211.242 Q225.422 213.8 225.422 218.22 Q225.422 222.546 222.864 225.16 Q220.306 227.774 216.056 227.774 Q211.184 227.774 208.608 224.05 Q206.031 220.308 206.031 213.217 Q206.031 206.559 209.191 202.609 Q212.35 198.641 217.673 198.641 Q219.102 198.641 220.551 198.923 Q222.018 199.205 223.597 199.769 Z\" fill=\"#000000\" fill-rule=\"evenodd\" fill-opacity=\"1\" /><polyline clip-path=\"url(#clip722)\" style=\"stroke:#009af9; stroke-width:4; stroke-opacity:1; fill:none\" points=\"\n",
       "  308.95,1445.72 321.124,1445.72 333.297,1445.72 345.471,1445.72 357.644,1445.71 369.818,1445.71 381.991,1445.71 394.165,1445.71 406.338,1445.71 418.511,1445.71 \n",
       "  430.685,1445.71 442.858,1445.71 455.032,1445.71 467.205,1445.71 479.379,1445.71 491.552,1445.71 503.726,1445.71 515.899,1445.71 528.073,1445.71 540.246,1445.71 \n",
       "  552.42,1445.71 564.593,1445.71 576.767,1445.71 588.94,1445.71 601.114,1445.71 613.287,1445.71 625.461,1445.71 637.634,1445.71 649.808,1445.71 661.981,1445.71 \n",
       "  674.155,1445.71 686.328,1445.71 698.502,1445.71 710.675,1445.71 722.848,1445.71 735.022,1445.71 747.195,1445.71 759.369,1445.71 771.542,1445.7 783.716,1445.7 \n",
       "  795.889,1445.69 808.063,1445.68 820.236,1445.67 832.41,1445.63 844.583,1445.61 856.757,1445.55 868.93,1445.5 881.104,1445.46 893.277,1445.37 905.451,1445.18 \n",
       "  917.624,1444.96 929.798,1444.67 941.971,1444.32 954.145,1444.27 966.318,1443.6 978.492,1442.73 990.665,1441.38 1002.84,1438.84 1015.01,1436.25 1027.19,1433.17 \n",
       "  1039.36,1429.31 1051.53,1424.41 1063.71,1419.42 1075.88,1413.62 1088.05,1404.85 1100.23,1396.02 1112.4,1386.4 1124.57,1377.1 1136.75,1366.65 1148.92,1354.01 \n",
       "  1161.09,1341.63 1173.27,1326.85 1185.44,1311.34 1197.61,1295.23 1209.79,1281.68 1221.96,1267.28 1234.13,1252.32 1246.31,1236.92 1258.48,1220.03 1270.66,1203.75 \n",
       "  1282.83,1189.16 1295,1175.29 1307.18,1163 1319.35,1149.85 1331.52,1135.71 1343.7,1120.5 1355.87,1104.6 1368.04,1090.83 1380.22,1078.18 1392.39,1064.89 \n",
       "  1404.56,1052.49 1416.74,1038.79 1428.91,1022.18 1441.08,1004.54 1453.26,988.547 1465.43,975.092 1477.6,964.168 1489.78,952.254 1501.95,938.936 1514.12,924.484 \n",
       "  1526.3,907.884 1538.47,893.697 1550.65,881.264 1562.82,870.343 1574.99,858.591 1587.17,846.318 1599.34,832.77 1611.51,819.564 1623.69,807.059 1635.86,797.456 \n",
       "  1648.03,788.282 1660.21,777.614 1672.38,767.316 1684.55,753.897 1696.73,741.603 1708.9,729.406 1721.07,720.171 1733.25,709.593 1745.42,699.657 1757.59,688.179 \n",
       "  1769.77,675.768 1781.94,664.037 1794.11,653.433 1806.29,643.319 1818.46,634.091 1830.64,624.916 1842.81,616.032 1854.98,604.946 1867.16,593.039 1879.33,581.265 \n",
       "  1891.5,571.484 1903.68,563.051 1915.85,552.898 1928.02,543.199 1940.2,532.825 1952.37,520.568 1964.54,509.522 1976.72,500.906 1988.89,492.444 2001.06,483.636 \n",
       "  2013.24,473.531 2025.41,462.38 2037.58,450.069 2049.76,437.651 2061.93,428.018 2074.1,418.465 2086.28,406.946 2098.45,394.526 2110.63,381.013 2122.8,365.717 \n",
       "  2134.97,349.804 2147.15,336.956 2159.32,322.118 2171.49,305.019 2183.67,288.043 2195.84,268.668 2208.01,246.678 2220.19,225.927 2232.36,206.959 2244.53,186.854 \n",
       "  2256.71,164.625 2268.88,139.759 2281.05,113.295 2293.23,87.9763 \n",
       "  \"/>\n",
       "<path clip-path=\"url(#clip720)\" d=\"\n",
       "M1989.74 251.724 L2280.76 251.724 L2280.76 130.764 L1989.74 130.764  Z\n",
       "  \" fill=\"#ffffff\" fill-rule=\"evenodd\" fill-opacity=\"1\"/>\n",
       "<polyline clip-path=\"url(#clip720)\" style=\"stroke:#000000; stroke-width:4; stroke-opacity:1; fill:none\" points=\"\n",
       "  1989.74,251.724 2280.76,251.724 2280.76,130.764 1989.74,130.764 1989.74,251.724 \n",
       "  \"/>\n",
       "<polyline clip-path=\"url(#clip720)\" style=\"stroke:#009af9; stroke-width:4; stroke-opacity:1; fill:none\" points=\"\n",
       "  2013.74,191.244 2157.74,191.244 \n",
       "  \"/>\n",
       "<path clip-path=\"url(#clip720)\" d=\"M 0 0 M2195.58 210.931 Q2193.77 215.561 2192.06 216.973 Q2190.35 218.385 2187.48 218.385 L2184.08 218.385 L2184.08 214.82 L2186.58 214.82 Q2188.33 214.82 2189.31 213.987 Q2190.28 213.154 2191.46 210.052 L2192.22 208.107 L2181.74 182.598 L2186.25 182.598 L2194.35 202.876 L2202.46 182.598 L2206.97 182.598 L2195.58 210.931 Z\" fill=\"#000000\" fill-rule=\"evenodd\" fill-opacity=\"1\" /><path clip-path=\"url(#clip720)\" d=\"M 0 0 M2212.85 204.589 L2220.49 204.589 L2220.49 178.223 L2212.18 179.89 L2212.18 175.631 L2220.44 173.964 L2225.12 173.964 L2225.12 204.589 L2232.76 204.589 L2232.76 208.524 L2212.85 208.524 L2212.85 204.589 Z\" fill=\"#000000\" fill-rule=\"evenodd\" fill-opacity=\"1\" /></svg>\n"
      ]
     },
     "execution_count": 90,
     "metadata": {},
     "output_type": "execute_result"
    }
   ],
   "source": [
    "plot(US_data)"
   ]
  },
  {
   "cell_type": "code",
   "execution_count": 100,
   "metadata": {},
   "outputs": [],
   "source": [
    "date_strings = String.(names(data))[5:end];"
   ]
  },
  {
   "cell_type": "code",
   "execution_count": 101,
   "metadata": {},
   "outputs": [],
   "source": [
    "using Dates"
   ]
  },
  {
   "cell_type": "code",
   "execution_count": 102,
   "metadata": {},
   "outputs": [
    {
     "data": {
      "text/plain": [
       "dateformat\"m/d/Y\""
      ]
     },
     "execution_count": 102,
     "metadata": {},
     "output_type": "execute_result"
    }
   ],
   "source": [
    "format = Dates.DateFormat(\"m/d/Y\")"
   ]
  },
  {
   "cell_type": "code",
   "execution_count": 112,
   "metadata": {},
   "outputs": [
    {
     "data": {
      "text/plain": [
       "164-element Array{Date,1}:\n",
       " 2020-01-22\n",
       " 2020-01-23\n",
       " 2020-01-24\n",
       " 2020-01-25\n",
       " 2020-01-26\n",
       " 2020-01-27\n",
       " 2020-01-28\n",
       " 2020-01-29\n",
       " 2020-01-30\n",
       " 2020-01-31\n",
       " 2020-02-01\n",
       " 2020-02-02\n",
       " 2020-02-03\n",
       " ⋮\n",
       " 2020-06-22\n",
       " 2020-06-23\n",
       " 2020-06-24\n",
       " 2020-06-25\n",
       " 2020-06-26\n",
       " 2020-06-27\n",
       " 2020-06-28\n",
       " 2020-06-29\n",
       " 2020-06-30\n",
       " 2020-07-01\n",
       " 2020-07-02\n",
       " 2020-07-03"
      ]
     },
     "execution_count": 112,
     "metadata": {},
     "output_type": "execute_result"
    }
   ],
   "source": [
    "dates = parse.(Date, date_strings, format)+Year(2000)"
   ]
  },
  {
   "cell_type": "code",
   "execution_count": 130,
   "metadata": {},
   "outputs": [
    {
     "data": {
      "image/svg+xml": [
       "<?xml version=\"1.0\" encoding=\"utf-8\"?>\n",
       "<svg xmlns=\"http://www.w3.org/2000/svg\" xmlns:xlink=\"http://www.w3.org/1999/xlink\" width=\"600\" height=\"400\" viewBox=\"0 0 2400 1600\">\n",
       "<defs>\n",
       "  <clipPath id=\"clip320\">\n",
       "    <rect x=\"0\" y=\"0\" width=\"2400\" height=\"1600\"/>\n",
       "  </clipPath>\n",
       "</defs>\n",
       "<path clip-path=\"url(#clip320)\" d=\"\n",
       "M0 1600 L2400 1600 L2400 0 L0 0  Z\n",
       "  \" fill=\"#ffffff\" fill-rule=\"evenodd\" fill-opacity=\"1\"/>\n",
       "<defs>\n",
       "  <clipPath id=\"clip321\">\n",
       "    <rect x=\"480\" y=\"0\" width=\"1681\" height=\"1600\"/>\n",
       "  </clipPath>\n",
       "</defs>\n",
       "<path clip-path=\"url(#clip320)\" d=\"\n",
       "M260.051 1264.15 L2352.76 1264.15 L2352.76 123.472 L260.051 123.472  Z\n",
       "  \" fill=\"#ffffff\" fill-rule=\"evenodd\" fill-opacity=\"1\"/>\n",
       "<defs>\n",
       "  <clipPath id=\"clip322\">\n",
       "    <rect x=\"260\" y=\"123\" width=\"2094\" height=\"1142\"/>\n",
       "  </clipPath>\n",
       "</defs>\n",
       "<polyline clip-path=\"url(#clip322)\" style=\"stroke:#000000; stroke-width:2; stroke-opacity:0.1; fill:none\" points=\"\n",
       "  319.279,1264.15 319.279,123.472 \n",
       "  \"/>\n",
       "<polyline clip-path=\"url(#clip322)\" style=\"stroke:#000000; stroke-width:2; stroke-opacity:0.1; fill:none\" points=\"\n",
       "  440.398,1264.15 440.398,123.472 \n",
       "  \"/>\n",
       "<polyline clip-path=\"url(#clip322)\" style=\"stroke:#000000; stroke-width:2; stroke-opacity:0.1; fill:none\" points=\"\n",
       "  561.518,1264.15 561.518,123.472 \n",
       "  \"/>\n",
       "<polyline clip-path=\"url(#clip322)\" style=\"stroke:#000000; stroke-width:2; stroke-opacity:0.1; fill:none\" points=\"\n",
       "  682.638,1264.15 682.638,123.472 \n",
       "  \"/>\n",
       "<polyline clip-path=\"url(#clip322)\" style=\"stroke:#000000; stroke-width:2; stroke-opacity:0.1; fill:none\" points=\"\n",
       "  803.757,1264.15 803.757,123.472 \n",
       "  \"/>\n",
       "<polyline clip-path=\"url(#clip322)\" style=\"stroke:#000000; stroke-width:2; stroke-opacity:0.1; fill:none\" points=\"\n",
       "  924.877,1264.15 924.877,123.472 \n",
       "  \"/>\n",
       "<polyline clip-path=\"url(#clip322)\" style=\"stroke:#000000; stroke-width:2; stroke-opacity:0.1; fill:none\" points=\"\n",
       "  1046,1264.15 1046,123.472 \n",
       "  \"/>\n",
       "<polyline clip-path=\"url(#clip322)\" style=\"stroke:#000000; stroke-width:2; stroke-opacity:0.1; fill:none\" points=\"\n",
       "  1167.12,1264.15 1167.12,123.472 \n",
       "  \"/>\n",
       "<polyline clip-path=\"url(#clip322)\" style=\"stroke:#000000; stroke-width:2; stroke-opacity:0.1; fill:none\" points=\"\n",
       "  1288.24,1264.15 1288.24,123.472 \n",
       "  \"/>\n",
       "<polyline clip-path=\"url(#clip322)\" style=\"stroke:#000000; stroke-width:2; stroke-opacity:0.1; fill:none\" points=\"\n",
       "  1409.36,1264.15 1409.36,123.472 \n",
       "  \"/>\n",
       "<polyline clip-path=\"url(#clip322)\" style=\"stroke:#000000; stroke-width:2; stroke-opacity:0.1; fill:none\" points=\"\n",
       "  1530.47,1264.15 1530.47,123.472 \n",
       "  \"/>\n",
       "<polyline clip-path=\"url(#clip322)\" style=\"stroke:#000000; stroke-width:2; stroke-opacity:0.1; fill:none\" points=\"\n",
       "  1651.59,1264.15 1651.59,123.472 \n",
       "  \"/>\n",
       "<polyline clip-path=\"url(#clip322)\" style=\"stroke:#000000; stroke-width:2; stroke-opacity:0.1; fill:none\" points=\"\n",
       "  1772.71,1264.15 1772.71,123.472 \n",
       "  \"/>\n",
       "<polyline clip-path=\"url(#clip322)\" style=\"stroke:#000000; stroke-width:2; stroke-opacity:0.1; fill:none\" points=\"\n",
       "  1893.83,1264.15 1893.83,123.472 \n",
       "  \"/>\n",
       "<polyline clip-path=\"url(#clip322)\" style=\"stroke:#000000; stroke-width:2; stroke-opacity:0.1; fill:none\" points=\"\n",
       "  2014.95,1264.15 2014.95,123.472 \n",
       "  \"/>\n",
       "<polyline clip-path=\"url(#clip322)\" style=\"stroke:#000000; stroke-width:2; stroke-opacity:0.1; fill:none\" points=\"\n",
       "  2136.07,1264.15 2136.07,123.472 \n",
       "  \"/>\n",
       "<polyline clip-path=\"url(#clip322)\" style=\"stroke:#000000; stroke-width:2; stroke-opacity:0.1; fill:none\" points=\"\n",
       "  2257.19,1264.15 2257.19,123.472 \n",
       "  \"/>\n",
       "<polyline clip-path=\"url(#clip322)\" style=\"stroke:#000000; stroke-width:2; stroke-opacity:0.1; fill:none\" points=\"\n",
       "  260.051,1231.87 2352.76,1231.87 \n",
       "  \"/>\n",
       "<polyline clip-path=\"url(#clip322)\" style=\"stroke:#000000; stroke-width:2; stroke-opacity:0.1; fill:none\" points=\"\n",
       "  260.051,1064.93 2352.76,1064.93 \n",
       "  \"/>\n",
       "<polyline clip-path=\"url(#clip322)\" style=\"stroke:#000000; stroke-width:2; stroke-opacity:0.1; fill:none\" points=\"\n",
       "  260.051,897.997 2352.76,897.997 \n",
       "  \"/>\n",
       "<polyline clip-path=\"url(#clip322)\" style=\"stroke:#000000; stroke-width:2; stroke-opacity:0.1; fill:none\" points=\"\n",
       "  260.051,731.06 2352.76,731.06 \n",
       "  \"/>\n",
       "<polyline clip-path=\"url(#clip322)\" style=\"stroke:#000000; stroke-width:2; stroke-opacity:0.1; fill:none\" points=\"\n",
       "  260.051,564.124 2352.76,564.124 \n",
       "  \"/>\n",
       "<polyline clip-path=\"url(#clip322)\" style=\"stroke:#000000; stroke-width:2; stroke-opacity:0.1; fill:none\" points=\"\n",
       "  260.051,397.187 2352.76,397.187 \n",
       "  \"/>\n",
       "<polyline clip-path=\"url(#clip322)\" style=\"stroke:#000000; stroke-width:2; stroke-opacity:0.1; fill:none\" points=\"\n",
       "  260.051,230.251 2352.76,230.251 \n",
       "  \"/>\n",
       "<polyline clip-path=\"url(#clip320)\" style=\"stroke:#000000; stroke-width:4; stroke-opacity:1; fill:none\" points=\"\n",
       "  260.051,1264.15 2352.76,1264.15 \n",
       "  \"/>\n",
       "<polyline clip-path=\"url(#clip320)\" style=\"stroke:#000000; stroke-width:4; stroke-opacity:1; fill:none\" points=\"\n",
       "  260.051,1264.15 260.051,123.472 \n",
       "  \"/>\n",
       "<polyline clip-path=\"url(#clip320)\" style=\"stroke:#000000; stroke-width:4; stroke-opacity:1; fill:none\" points=\"\n",
       "  319.279,1264.15 319.279,1250.46 \n",
       "  \"/>\n",
       "<polyline clip-path=\"url(#clip320)\" style=\"stroke:#000000; stroke-width:4; stroke-opacity:1; fill:none\" points=\"\n",
       "  440.398,1264.15 440.398,1250.46 \n",
       "  \"/>\n",
       "<polyline clip-path=\"url(#clip320)\" style=\"stroke:#000000; stroke-width:4; stroke-opacity:1; fill:none\" points=\"\n",
       "  561.518,1264.15 561.518,1250.46 \n",
       "  \"/>\n",
       "<polyline clip-path=\"url(#clip320)\" style=\"stroke:#000000; stroke-width:4; stroke-opacity:1; fill:none\" points=\"\n",
       "  682.638,1264.15 682.638,1250.46 \n",
       "  \"/>\n",
       "<polyline clip-path=\"url(#clip320)\" style=\"stroke:#000000; stroke-width:4; stroke-opacity:1; fill:none\" points=\"\n",
       "  803.757,1264.15 803.757,1250.46 \n",
       "  \"/>\n",
       "<polyline clip-path=\"url(#clip320)\" style=\"stroke:#000000; stroke-width:4; stroke-opacity:1; fill:none\" points=\"\n",
       "  924.877,1264.15 924.877,1250.46 \n",
       "  \"/>\n",
       "<polyline clip-path=\"url(#clip320)\" style=\"stroke:#000000; stroke-width:4; stroke-opacity:1; fill:none\" points=\"\n",
       "  1046,1264.15 1046,1250.46 \n",
       "  \"/>\n",
       "<polyline clip-path=\"url(#clip320)\" style=\"stroke:#000000; stroke-width:4; stroke-opacity:1; fill:none\" points=\"\n",
       "  1167.12,1264.15 1167.12,1250.46 \n",
       "  \"/>\n",
       "<polyline clip-path=\"url(#clip320)\" style=\"stroke:#000000; stroke-width:4; stroke-opacity:1; fill:none\" points=\"\n",
       "  1288.24,1264.15 1288.24,1250.46 \n",
       "  \"/>\n",
       "<polyline clip-path=\"url(#clip320)\" style=\"stroke:#000000; stroke-width:4; stroke-opacity:1; fill:none\" points=\"\n",
       "  1409.36,1264.15 1409.36,1250.46 \n",
       "  \"/>\n",
       "<polyline clip-path=\"url(#clip320)\" style=\"stroke:#000000; stroke-width:4; stroke-opacity:1; fill:none\" points=\"\n",
       "  1530.47,1264.15 1530.47,1250.46 \n",
       "  \"/>\n",
       "<polyline clip-path=\"url(#clip320)\" style=\"stroke:#000000; stroke-width:4; stroke-opacity:1; fill:none\" points=\"\n",
       "  1651.59,1264.15 1651.59,1250.46 \n",
       "  \"/>\n",
       "<polyline clip-path=\"url(#clip320)\" style=\"stroke:#000000; stroke-width:4; stroke-opacity:1; fill:none\" points=\"\n",
       "  1772.71,1264.15 1772.71,1250.46 \n",
       "  \"/>\n",
       "<polyline clip-path=\"url(#clip320)\" style=\"stroke:#000000; stroke-width:4; stroke-opacity:1; fill:none\" points=\"\n",
       "  1893.83,1264.15 1893.83,1250.46 \n",
       "  \"/>\n",
       "<polyline clip-path=\"url(#clip320)\" style=\"stroke:#000000; stroke-width:4; stroke-opacity:1; fill:none\" points=\"\n",
       "  2014.95,1264.15 2014.95,1250.46 \n",
       "  \"/>\n",
       "<polyline clip-path=\"url(#clip320)\" style=\"stroke:#000000; stroke-width:4; stroke-opacity:1; fill:none\" points=\"\n",
       "  2136.07,1264.15 2136.07,1250.46 \n",
       "  \"/>\n",
       "<polyline clip-path=\"url(#clip320)\" style=\"stroke:#000000; stroke-width:4; stroke-opacity:1; fill:none\" points=\"\n",
       "  2257.19,1264.15 2257.19,1250.46 \n",
       "  \"/>\n",
       "<polyline clip-path=\"url(#clip320)\" style=\"stroke:#000000; stroke-width:4; stroke-opacity:1; fill:none\" points=\"\n",
       "  260.051,1231.87 285.164,1231.87 \n",
       "  \"/>\n",
       "<polyline clip-path=\"url(#clip320)\" style=\"stroke:#000000; stroke-width:4; stroke-opacity:1; fill:none\" points=\"\n",
       "  260.051,1064.93 285.164,1064.93 \n",
       "  \"/>\n",
       "<polyline clip-path=\"url(#clip320)\" style=\"stroke:#000000; stroke-width:4; stroke-opacity:1; fill:none\" points=\"\n",
       "  260.051,897.997 285.164,897.997 \n",
       "  \"/>\n",
       "<polyline clip-path=\"url(#clip320)\" style=\"stroke:#000000; stroke-width:4; stroke-opacity:1; fill:none\" points=\"\n",
       "  260.051,731.06 285.164,731.06 \n",
       "  \"/>\n",
       "<polyline clip-path=\"url(#clip320)\" style=\"stroke:#000000; stroke-width:4; stroke-opacity:1; fill:none\" points=\"\n",
       "  260.051,564.124 285.164,564.124 \n",
       "  \"/>\n",
       "<polyline clip-path=\"url(#clip320)\" style=\"stroke:#000000; stroke-width:4; stroke-opacity:1; fill:none\" points=\"\n",
       "  260.051,397.187 285.164,397.187 \n",
       "  \"/>\n",
       "<polyline clip-path=\"url(#clip320)\" style=\"stroke:#000000; stroke-width:4; stroke-opacity:1; fill:none\" points=\"\n",
       "  260.051,230.251 285.164,230.251 \n",
       "  \"/>\n",
       "<path clip-path=\"url(#clip320)\" d=\"M 0 0 M183.908 1464.61 L195.447 1453.07 L198.23 1455.85 L182.713 1471.37 L179.93 1468.59 Q179.865 1464.76 179.832 1458.24 Q179.799 1451.69 179.685 1449.91 Q179.488 1446.54 178.883 1444.69 Q178.277 1442.81 177.082 1441.61 Q175.134 1439.66 172.532 1439.81 Q169.946 1439.94 167.752 1442.14 Q166.197 1443.69 165.003 1445.97 Q163.824 1448.22 162.957 1451.29 L159.617 1447.95 Q160.812 1445.15 162.138 1443 Q163.464 1440.86 164.904 1439.42 Q168.702 1435.62 172.859 1435.26 Q177.017 1434.9 180.192 1438.08 Q181.698 1439.58 182.484 1441.51 Q183.269 1443.41 183.613 1446.73 Q183.679 1447.62 183.76 1452.09 Q183.826 1456.54 183.908 1464.61 Z\" fill=\"#000000\" fill-rule=\"evenodd\" fill-opacity=\"1\" /><path clip-path=\"url(#clip320)\" d=\"M 0 0 M186.625 1422.94 Q184.071 1425.49 185.299 1429.3 Q186.527 1433.08 191.568 1438.13 Q196.593 1443.15 200.39 1444.39 Q204.188 1445.61 206.741 1443.05 Q209.311 1440.48 208.084 1436.7 Q206.856 1432.89 201.831 1427.86 Q196.79 1422.82 192.992 1421.61 Q189.195 1420.37 186.625 1422.94 M184.006 1420.32 Q188.114 1416.21 193.532 1417.31 Q198.95 1418.37 205.137 1424.56 Q211.308 1430.73 212.388 1436.16 Q213.469 1441.56 209.36 1445.67 Q205.252 1449.78 199.834 1448.72 Q194.416 1447.62 188.245 1441.45 Q182.058 1435.26 180.978 1429.86 Q179.898 1424.43 184.006 1420.32 Z\" fill=\"#000000\" fill-rule=\"evenodd\" fill-opacity=\"1\" /><path clip-path=\"url(#clip320)\" d=\"M 0 0 M220.982 1427.54 L232.521 1416 L235.304 1418.78 L219.787 1434.3 L217.004 1431.51 Q216.939 1427.68 216.906 1421.17 Q216.873 1414.62 216.759 1412.84 Q216.562 1409.46 215.957 1407.62 Q215.351 1405.73 214.156 1404.54 Q212.208 1402.59 209.606 1402.74 Q207.02 1402.87 204.826 1405.06 Q203.271 1406.62 202.076 1408.89 Q200.898 1411.15 200.03 1414.21 L196.691 1410.87 Q197.886 1408.07 199.212 1405.93 Q200.538 1403.79 201.978 1402.34 Q205.776 1398.55 209.933 1398.19 Q214.091 1397.83 217.266 1401 Q218.772 1402.51 219.558 1404.44 Q220.343 1406.34 220.687 1409.66 Q220.752 1410.55 220.834 1415.01 Q220.9 1419.47 220.982 1427.54 Z\" fill=\"#000000\" fill-rule=\"evenodd\" fill-opacity=\"1\" /><path clip-path=\"url(#clip320)\" d=\"M 0 0 M223.699 1385.86 Q221.145 1388.42 222.373 1392.23 Q223.6 1396.01 228.642 1401.05 Q233.667 1406.08 237.464 1407.32 Q241.262 1408.53 243.815 1405.98 Q246.385 1403.41 245.157 1399.63 Q243.93 1395.81 238.905 1390.79 Q233.863 1385.75 230.066 1384.54 Q226.268 1383.29 223.699 1385.86 M221.08 1383.24 Q225.188 1379.13 230.606 1380.23 Q236.024 1381.3 242.211 1387.48 Q248.382 1393.65 249.462 1399.09 Q250.542 1404.49 246.434 1408.6 Q242.326 1412.71 236.908 1411.64 Q231.49 1410.55 225.319 1404.37 Q219.132 1398.19 218.052 1392.79 Q216.971 1387.35 221.08 1383.24 Z\" fill=\"#000000\" fill-rule=\"evenodd\" fill-opacity=\"1\" /><path clip-path=\"url(#clip320)\" d=\"M 0 0 M245.517 1387.52 L254.34 1378.69 L257.024 1381.38 L248.202 1390.2 L245.517 1387.52 Z\" fill=\"#000000\" fill-rule=\"evenodd\" fill-opacity=\"1\" /><path clip-path=\"url(#clip320)\" d=\"M 0 0 M253.26 1356.3 Q250.706 1358.85 251.934 1362.67 Q253.161 1366.45 258.203 1371.49 Q263.228 1376.52 267.025 1377.76 Q270.823 1378.97 273.376 1376.42 Q275.946 1373.85 274.718 1370.07 Q273.491 1366.25 268.466 1361.23 Q263.424 1356.19 259.627 1354.98 Q255.829 1353.73 253.26 1356.3 M250.641 1353.68 Q254.749 1349.57 260.167 1350.67 Q265.585 1351.73 271.772 1357.92 Q277.943 1364.09 279.023 1369.53 Q280.103 1374.93 275.995 1379.04 Q271.886 1383.14 266.469 1382.08 Q261.051 1380.98 254.88 1374.81 Q248.693 1368.63 247.613 1363.22 Q246.532 1357.79 250.641 1353.68 Z\" fill=\"#000000\" fill-rule=\"evenodd\" fill-opacity=\"1\" /><path clip-path=\"url(#clip320)\" d=\"M 0 0 M285.341 1363.18 L290.743 1357.77 L272.099 1339.13 L267.402 1346.19 L264.39 1343.17 L269.055 1336.15 L272.361 1332.85 L294.016 1354.5 L299.418 1349.1 L302.2 1351.88 L288.124 1365.96 L285.341 1363.18 Z\" fill=\"#000000\" fill-rule=\"evenodd\" fill-opacity=\"1\" /><path clip-path=\"url(#clip320)\" d=\"M 0 0 M293.312 1339.72 L302.135 1330.9 L304.819 1333.58 L295.997 1342.4 L293.312 1339.72 Z\" fill=\"#000000\" fill-rule=\"evenodd\" fill-opacity=\"1\" /><path clip-path=\"url(#clip320)\" d=\"M 0 0 M316.31 1332.21 L327.849 1320.67 L330.632 1323.45 L315.115 1338.97 L312.332 1336.18 Q312.267 1332.35 312.234 1325.84 Q312.201 1319.29 312.087 1317.51 Q311.89 1314.14 311.285 1312.29 Q310.679 1310.4 309.484 1309.21 Q307.536 1307.26 304.934 1307.41 Q302.348 1307.54 300.154 1309.73 Q298.599 1311.29 297.404 1313.56 Q296.226 1315.82 295.358 1318.88 L292.019 1315.54 Q293.214 1312.75 294.54 1310.6 Q295.866 1308.46 297.306 1307.02 Q301.104 1303.22 305.261 1302.86 Q309.419 1302.5 312.594 1305.67 Q314.1 1307.18 314.886 1309.11 Q315.671 1311.01 316.015 1314.33 Q316.08 1315.22 316.162 1319.69 Q316.228 1324.14 316.31 1332.21 Z\" fill=\"#000000\" fill-rule=\"evenodd\" fill-opacity=\"1\" /><path clip-path=\"url(#clip320)\" d=\"M 0 0 M334.282 1314.23 L345.821 1302.7 L348.604 1305.48 L333.087 1321 L330.304 1318.21 Q330.239 1314.38 330.206 1307.87 Q330.173 1301.32 330.059 1299.54 Q329.862 1296.16 329.257 1294.31 Q328.651 1292.43 327.456 1291.24 Q325.508 1289.29 322.906 1289.44 Q320.32 1289.57 318.126 1291.76 Q316.571 1293.32 315.377 1295.59 Q314.198 1297.85 313.331 1300.91 L309.991 1297.57 Q311.186 1294.77 312.512 1292.63 Q313.838 1290.48 315.278 1289.04 Q319.076 1285.25 323.233 1284.89 Q327.391 1284.53 330.566 1287.7 Q332.072 1289.21 332.858 1291.14 Q333.643 1293.04 333.987 1296.36 Q334.053 1297.24 334.134 1301.71 Q334.2 1306.17 334.282 1314.23 Z\" fill=\"#000000\" fill-rule=\"evenodd\" fill-opacity=\"1\" /><path clip-path=\"url(#clip320)\" d=\"M 0 0 M303.898 1465.74 L315.438 1454.2 L318.22 1456.98 L302.703 1472.5 L299.921 1469.72 Q299.855 1465.89 299.822 1459.37 Q299.79 1452.82 299.675 1451.04 Q299.479 1447.67 298.873 1445.82 Q298.267 1443.94 297.072 1442.74 Q295.125 1440.79 292.522 1440.94 Q289.936 1441.07 287.743 1443.26 Q286.188 1444.82 284.993 1447.1 Q283.814 1449.35 282.947 1452.41 L279.608 1449.08 Q280.803 1446.28 282.128 1444.13 Q283.454 1441.99 284.895 1440.55 Q288.692 1436.75 292.85 1436.39 Q297.007 1436.03 300.182 1439.21 Q301.688 1440.71 302.474 1442.64 Q303.26 1444.54 303.603 1447.86 Q303.669 1448.75 303.751 1453.22 Q303.816 1457.67 303.898 1465.74 Z\" fill=\"#000000\" fill-rule=\"evenodd\" fill-opacity=\"1\" /><path clip-path=\"url(#clip320)\" d=\"M 0 0 M306.615 1424.07 Q304.062 1426.62 305.289 1430.43 Q306.517 1434.21 311.558 1439.25 Q316.583 1444.28 320.381 1445.52 Q324.178 1446.73 326.732 1444.18 Q329.301 1441.61 328.074 1437.83 Q326.846 1434.02 321.821 1428.99 Q316.78 1423.95 312.982 1422.74 Q309.185 1421.5 306.615 1424.07 M303.996 1421.45 Q308.105 1417.34 313.522 1418.43 Q318.94 1419.5 325.127 1425.69 Q331.298 1431.86 332.379 1437.29 Q333.459 1442.69 329.35 1446.8 Q325.242 1450.91 319.824 1449.84 Q314.406 1448.75 308.236 1442.58 Q302.048 1436.39 300.968 1430.99 Q299.888 1425.55 303.996 1421.45 Z\" fill=\"#000000\" fill-rule=\"evenodd\" fill-opacity=\"1\" /><path clip-path=\"url(#clip320)\" d=\"M 0 0 M340.972 1428.66 L352.511 1417.13 L355.294 1419.91 L339.777 1435.42 L336.994 1432.64 Q336.929 1428.81 336.896 1422.3 Q336.863 1415.75 336.749 1413.97 Q336.552 1410.59 335.947 1408.74 Q335.341 1406.86 334.146 1405.67 Q332.198 1403.72 329.596 1403.87 Q327.01 1404 324.816 1406.19 Q323.261 1407.75 322.067 1410.02 Q320.888 1412.28 320.021 1415.34 L316.682 1412 Q317.876 1409.2 319.202 1407.06 Q320.528 1404.91 321.968 1403.47 Q325.766 1399.68 329.923 1399.32 Q334.081 1398.96 337.256 1402.13 Q338.762 1403.64 339.548 1405.57 Q340.333 1407.47 340.677 1410.79 Q340.743 1411.67 340.824 1416.14 Q340.89 1420.6 340.972 1428.66 Z\" fill=\"#000000\" fill-rule=\"evenodd\" fill-opacity=\"1\" /><path clip-path=\"url(#clip320)\" d=\"M 0 0 M343.689 1386.99 Q341.135 1389.54 342.363 1393.36 Q343.591 1397.14 348.632 1402.18 Q353.657 1407.21 357.455 1408.45 Q361.252 1409.66 363.805 1407.11 Q366.375 1404.54 365.148 1400.76 Q363.92 1396.94 358.895 1391.92 Q353.854 1386.88 350.056 1385.67 Q346.259 1384.42 343.689 1386.99 M341.07 1384.37 Q345.178 1380.26 350.596 1381.36 Q356.014 1382.42 362.201 1388.61 Q368.372 1394.78 369.452 1400.22 Q370.533 1405.62 366.424 1409.73 Q362.316 1413.84 356.898 1412.77 Q351.48 1411.67 345.309 1405.5 Q339.122 1399.32 338.042 1393.92 Q336.962 1388.48 341.07 1384.37 Z\" fill=\"#000000\" fill-rule=\"evenodd\" fill-opacity=\"1\" /><path clip-path=\"url(#clip320)\" d=\"M 0 0 M365.508 1388.64 L374.33 1379.82 L377.014 1382.51 L368.192 1391.33 L365.508 1388.64 Z\" fill=\"#000000\" fill-rule=\"evenodd\" fill-opacity=\"1\" /><path clip-path=\"url(#clip320)\" d=\"M 0 0 M373.25 1357.43 Q370.696 1359.98 371.924 1363.8 Q373.152 1367.58 378.193 1372.62 Q383.218 1377.65 387.015 1378.89 Q390.813 1380.1 393.366 1377.55 Q395.936 1374.98 394.708 1371.2 Q393.481 1367.38 388.456 1362.36 Q383.414 1357.32 379.617 1356.1 Q375.82 1354.86 373.25 1357.43 M370.631 1354.81 Q374.739 1350.7 380.157 1351.8 Q385.575 1352.86 391.762 1359.05 Q397.933 1365.22 399.013 1370.66 Q400.093 1376.06 395.985 1380.17 Q391.877 1384.27 386.459 1383.21 Q381.041 1382.11 374.87 1375.94 Q368.683 1369.76 367.603 1364.35 Q366.522 1358.92 370.631 1354.81 Z\" fill=\"#000000\" fill-rule=\"evenodd\" fill-opacity=\"1\" /><path clip-path=\"url(#clip320)\" d=\"M 0 0 M407.606 1362.03 L419.146 1350.49 L421.929 1353.27 L406.412 1368.79 L403.629 1366.01 Q403.564 1362.18 403.531 1355.66 Q403.498 1349.12 403.383 1347.33 Q403.187 1343.96 402.581 1342.11 Q401.976 1340.23 400.781 1339.03 Q398.833 1337.08 396.231 1337.23 Q393.644 1337.36 391.451 1339.56 Q389.896 1341.11 388.701 1343.39 Q387.523 1345.65 386.655 1348.71 L383.316 1345.37 Q384.511 1342.57 385.837 1340.42 Q387.163 1338.28 388.603 1336.84 Q392.4 1333.04 396.558 1332.68 Q400.715 1332.32 403.891 1335.5 Q405.397 1337 406.182 1338.93 Q406.968 1340.83 407.312 1344.16 Q407.377 1345.04 407.459 1349.51 Q407.525 1353.96 407.606 1362.03 Z\" fill=\"#000000\" fill-rule=\"evenodd\" fill-opacity=\"1\" /><path clip-path=\"url(#clip320)\" d=\"M 0 0 M413.041 1341.11 L421.863 1332.29 L424.547 1334.97 L415.725 1343.8 L413.041 1341.11 Z\" fill=\"#000000\" fill-rule=\"evenodd\" fill-opacity=\"1\" /><path clip-path=\"url(#clip320)\" d=\"M 0 0 M420.783 1309.9 Q418.229 1312.45 419.457 1316.26 Q420.685 1320.05 425.726 1325.09 Q430.751 1330.11 434.548 1331.36 Q438.346 1332.57 440.899 1330.01 Q443.469 1327.44 442.241 1323.66 Q441.014 1319.85 435.989 1314.82 Q430.947 1309.78 427.15 1308.57 Q423.353 1307.33 420.783 1309.9 M418.164 1307.28 Q422.272 1303.17 427.69 1304.27 Q433.108 1305.33 439.295 1311.52 Q445.466 1317.69 446.546 1323.12 Q447.627 1328.52 443.518 1332.63 Q439.41 1336.74 433.992 1335.68 Q428.574 1334.58 422.403 1328.41 Q416.216 1322.22 415.136 1316.82 Q414.055 1311.39 418.164 1307.28 Z\" fill=\"#000000\" fill-rule=\"evenodd\" fill-opacity=\"1\" /><path clip-path=\"url(#clip320)\" d=\"M 0 0 M452.864 1316.77 L458.266 1311.37 L439.622 1292.73 L434.925 1299.78 L431.913 1296.77 L436.578 1289.75 L439.884 1286.44 L461.539 1308.1 L466.941 1302.7 L469.723 1305.48 L455.647 1319.55 L452.864 1316.77 Z\" fill=\"#000000\" fill-rule=\"evenodd\" fill-opacity=\"1\" /><path clip-path=\"url(#clip320)\" d=\"M 0 0 M425.885 1464.87 L437.425 1453.33 L440.207 1456.11 L424.69 1471.63 L421.908 1468.85 Q421.842 1465.02 421.809 1458.5 Q421.777 1451.96 421.662 1450.17 Q421.466 1446.8 420.86 1444.95 Q420.254 1443.07 419.06 1441.87 Q417.112 1439.93 414.509 1440.07 Q411.923 1440.2 409.73 1442.4 Q408.175 1443.95 406.98 1446.23 Q405.801 1448.49 404.934 1451.55 L401.595 1448.21 Q402.79 1445.41 404.116 1443.26 Q405.441 1441.12 406.882 1439.68 Q410.679 1435.88 414.837 1435.52 Q418.994 1435.16 422.17 1438.34 Q423.675 1439.84 424.461 1441.78 Q425.247 1443.67 425.59 1447 Q425.656 1447.88 425.738 1452.35 Q425.803 1456.8 425.885 1464.87 Z\" fill=\"#000000\" fill-rule=\"evenodd\" fill-opacity=\"1\" /><path clip-path=\"url(#clip320)\" d=\"M 0 0 M428.602 1423.2 Q426.049 1425.75 427.276 1429.56 Q428.504 1433.35 433.545 1438.39 Q438.57 1443.41 442.368 1444.66 Q446.165 1445.87 448.719 1443.31 Q451.288 1440.74 450.061 1436.96 Q448.833 1433.15 443.808 1428.12 Q438.767 1423.08 434.969 1421.87 Q431.172 1420.63 428.602 1423.2 M425.983 1420.58 Q430.092 1416.47 435.51 1417.57 Q440.927 1418.63 447.115 1424.82 Q453.285 1430.99 454.366 1436.42 Q455.446 1441.82 451.338 1445.93 Q447.229 1450.04 441.811 1448.98 Q436.393 1447.88 430.223 1441.71 Q424.036 1435.52 422.955 1430.12 Q421.875 1424.69 425.983 1420.58 Z\" fill=\"#000000\" fill-rule=\"evenodd\" fill-opacity=\"1\" /><path clip-path=\"url(#clip320)\" d=\"M 0 0 M462.959 1427.8 L474.498 1416.26 L477.281 1419.04 L461.764 1434.56 L458.981 1431.77 Q458.916 1427.94 458.883 1421.43 Q458.851 1414.88 458.736 1413.1 Q458.54 1409.73 457.934 1407.88 Q457.328 1405.99 456.133 1404.8 Q454.186 1402.85 451.583 1403 Q448.997 1403.13 446.804 1405.32 Q445.249 1406.88 444.054 1409.15 Q442.875 1411.41 442.008 1414.47 L438.669 1411.13 Q439.864 1408.34 441.189 1406.19 Q442.515 1404.05 443.956 1402.61 Q447.753 1398.81 451.91 1398.45 Q456.068 1398.09 459.243 1401.26 Q460.749 1402.77 461.535 1404.7 Q462.321 1406.6 462.664 1409.92 Q462.73 1410.81 462.812 1415.28 Q462.877 1419.73 462.959 1427.8 Z\" fill=\"#000000\" fill-rule=\"evenodd\" fill-opacity=\"1\" /><path clip-path=\"url(#clip320)\" d=\"M 0 0 M465.676 1386.12 Q463.123 1388.68 464.35 1392.49 Q465.578 1396.27 470.619 1401.31 Q475.644 1406.34 479.442 1407.58 Q483.239 1408.79 485.792 1406.24 Q488.362 1403.67 487.135 1399.89 Q485.907 1396.08 480.882 1391.05 Q475.841 1386.01 472.043 1384.8 Q468.246 1383.55 465.676 1386.12 M463.057 1383.5 Q467.166 1379.4 472.583 1380.49 Q478.001 1381.56 484.188 1387.74 Q490.359 1393.92 491.439 1399.35 Q492.52 1404.75 488.411 1408.86 Q484.303 1412.97 478.885 1411.9 Q473.467 1410.81 467.296 1404.64 Q461.109 1398.45 460.029 1393.05 Q458.949 1387.61 463.057 1383.5 Z\" fill=\"#000000\" fill-rule=\"evenodd\" fill-opacity=\"1\" /><path clip-path=\"url(#clip320)\" d=\"M 0 0 M487.495 1387.78 L496.317 1378.95 L499.002 1381.64 L490.179 1390.46 L487.495 1387.78 Z\" fill=\"#000000\" fill-rule=\"evenodd\" fill-opacity=\"1\" /><path clip-path=\"url(#clip320)\" d=\"M 0 0 M495.237 1356.56 Q492.683 1359.12 493.911 1362.93 Q495.139 1366.71 500.18 1371.75 Q505.205 1376.78 509.002 1378.02 Q512.8 1379.23 515.353 1376.68 Q517.923 1374.11 516.695 1370.33 Q515.468 1366.51 510.443 1361.49 Q505.401 1356.45 501.604 1355.24 Q497.807 1353.99 495.237 1356.56 M492.618 1353.94 Q496.726 1349.84 502.144 1350.93 Q507.562 1352 513.749 1358.18 Q519.92 1364.35 521 1369.79 Q522.081 1375.19 517.972 1379.3 Q513.864 1383.41 508.446 1382.34 Q503.028 1381.25 496.857 1375.08 Q490.67 1368.89 489.59 1363.49 Q488.51 1358.05 492.618 1353.94 Z\" fill=\"#000000\" fill-rule=\"evenodd\" fill-opacity=\"1\" /><path clip-path=\"url(#clip320)\" d=\"M 0 0 M529.594 1361.16 L541.133 1349.62 L543.916 1352.41 L528.399 1367.92 L525.616 1365.14 Q525.551 1361.31 525.518 1354.8 Q525.485 1348.25 525.371 1346.46 Q525.174 1343.09 524.569 1341.24 Q523.963 1339.36 522.768 1338.17 Q520.82 1336.22 518.218 1336.36 Q515.632 1336.5 513.438 1338.69 Q511.883 1340.24 510.688 1342.52 Q509.51 1344.78 508.642 1347.84 L505.303 1344.5 Q506.498 1341.7 507.824 1339.56 Q509.15 1337.41 510.59 1335.97 Q514.388 1332.17 518.545 1331.81 Q522.703 1331.45 525.878 1334.63 Q527.384 1336.14 528.17 1338.07 Q528.955 1339.97 529.299 1343.29 Q529.364 1344.17 529.446 1348.64 Q529.512 1353.09 529.594 1361.16 Z\" fill=\"#000000\" fill-rule=\"evenodd\" fill-opacity=\"1\" /><path clip-path=\"url(#clip320)\" d=\"M 0 0 M535.028 1340.24 L543.85 1331.42 L546.535 1334.11 L537.712 1342.93 L535.028 1340.24 Z\" fill=\"#000000\" fill-rule=\"evenodd\" fill-opacity=\"1\" /><path clip-path=\"url(#clip320)\" d=\"M 0 0 M555.75 1335.01 L561.151 1329.6 L542.508 1310.96 L537.81 1318.02 L534.799 1315 L539.464 1307.98 L542.77 1304.68 L564.425 1326.33 L569.826 1320.93 L572.609 1323.71 L558.532 1337.79 L555.75 1335.01 Z\" fill=\"#000000\" fill-rule=\"evenodd\" fill-opacity=\"1\" /><path clip-path=\"url(#clip320)\" d=\"M 0 0 M573.984 1316.77 L579.385 1311.37 L560.742 1292.73 L556.044 1299.78 L553.033 1296.77 L557.698 1289.75 L561.004 1286.44 L582.659 1308.1 L588.061 1302.7 L590.843 1305.48 L576.766 1319.55 L573.984 1316.77 Z\" fill=\"#000000\" fill-rule=\"evenodd\" fill-opacity=\"1\" /><path clip-path=\"url(#clip320)\" d=\"M 0 0 M547.267 1464.61 L558.806 1453.07 L561.589 1455.85 L546.072 1471.37 L543.289 1468.59 Q543.224 1464.76 543.191 1458.24 Q543.158 1451.69 543.044 1449.91 Q542.847 1446.54 542.242 1444.69 Q541.636 1442.81 540.441 1441.61 Q538.493 1439.66 535.891 1439.81 Q533.305 1439.94 531.111 1442.14 Q529.556 1443.69 528.361 1445.97 Q527.183 1448.22 526.315 1451.29 L522.976 1447.95 Q524.171 1445.15 525.497 1443 Q526.823 1440.86 528.263 1439.42 Q532.061 1435.62 536.218 1435.26 Q540.376 1434.9 543.551 1438.08 Q545.057 1439.58 545.843 1441.51 Q546.628 1443.41 546.972 1446.73 Q547.037 1447.62 547.119 1452.09 Q547.185 1456.54 547.267 1464.61 Z\" fill=\"#000000\" fill-rule=\"evenodd\" fill-opacity=\"1\" /><path clip-path=\"url(#clip320)\" d=\"M 0 0 M549.984 1422.94 Q547.43 1425.49 548.658 1429.3 Q549.886 1433.08 554.927 1438.13 Q559.952 1443.15 563.749 1444.39 Q567.547 1445.61 570.1 1443.05 Q572.67 1440.48 571.442 1436.7 Q570.215 1432.89 565.19 1427.86 Q560.148 1422.82 556.351 1421.61 Q552.554 1420.37 549.984 1422.94 M547.365 1420.32 Q551.473 1416.21 556.891 1417.31 Q562.309 1418.37 568.496 1424.56 Q574.667 1430.73 575.747 1436.16 Q576.827 1441.56 572.719 1445.67 Q568.611 1449.78 563.193 1448.72 Q557.775 1447.62 551.604 1441.45 Q545.417 1435.26 544.337 1429.86 Q543.256 1424.43 547.365 1420.32 Z\" fill=\"#000000\" fill-rule=\"evenodd\" fill-opacity=\"1\" /><path clip-path=\"url(#clip320)\" d=\"M 0 0 M584.34 1427.54 L595.88 1416 L598.663 1418.78 L583.146 1434.3 L580.363 1431.51 Q580.298 1427.68 580.265 1421.17 Q580.232 1414.62 580.117 1412.84 Q579.921 1409.46 579.315 1407.62 Q578.71 1405.73 577.515 1404.54 Q575.567 1402.59 572.965 1402.74 Q570.378 1402.87 568.185 1405.06 Q566.63 1406.62 565.435 1408.89 Q564.257 1411.15 563.389 1414.21 L560.05 1410.87 Q561.245 1408.07 562.571 1405.93 Q563.897 1403.79 565.337 1402.34 Q569.134 1398.55 573.292 1398.19 Q577.449 1397.83 580.625 1401 Q582.131 1402.51 582.916 1404.44 Q583.702 1406.34 584.046 1409.66 Q584.111 1410.55 584.193 1415.01 Q584.259 1419.47 584.34 1427.54 Z\" fill=\"#000000\" fill-rule=\"evenodd\" fill-opacity=\"1\" /><path clip-path=\"url(#clip320)\" d=\"M 0 0 M587.058 1385.86 Q584.504 1388.42 585.732 1392.23 Q586.959 1396.01 592.001 1401.05 Q597.026 1406.08 600.823 1407.32 Q604.621 1408.53 607.174 1405.98 Q609.744 1403.41 608.516 1399.63 Q607.289 1395.81 602.264 1390.79 Q597.222 1385.75 593.425 1384.54 Q589.627 1383.29 587.058 1385.86 M584.439 1383.24 Q588.547 1379.13 593.965 1380.23 Q599.383 1381.3 605.57 1387.48 Q611.741 1393.65 612.821 1399.09 Q613.901 1404.49 609.793 1408.6 Q605.684 1412.71 600.267 1411.64 Q594.849 1410.55 588.678 1404.37 Q582.491 1398.19 581.411 1392.79 Q580.33 1387.35 584.439 1383.24 Z\" fill=\"#000000\" fill-rule=\"evenodd\" fill-opacity=\"1\" /><path clip-path=\"url(#clip320)\" d=\"M 0 0 M608.876 1387.52 L617.699 1378.69 L620.383 1381.38 L611.561 1390.2 L608.876 1387.52 Z\" fill=\"#000000\" fill-rule=\"evenodd\" fill-opacity=\"1\" /><path clip-path=\"url(#clip320)\" d=\"M 0 0 M616.618 1356.3 Q614.065 1358.85 615.293 1362.67 Q616.52 1366.45 621.562 1371.49 Q626.587 1376.52 630.384 1377.76 Q634.181 1378.97 636.735 1376.42 Q639.305 1373.85 638.077 1370.07 Q636.849 1366.25 631.824 1361.23 Q626.783 1356.19 622.986 1354.98 Q619.188 1353.73 616.618 1356.3 M613.999 1353.68 Q618.108 1349.57 623.526 1350.67 Q628.944 1351.73 635.131 1357.92 Q641.302 1364.09 642.382 1369.53 Q643.462 1374.93 639.354 1379.04 Q635.245 1383.14 629.827 1382.08 Q624.41 1380.98 618.239 1374.81 Q612.052 1368.63 610.971 1363.22 Q609.891 1357.79 613.999 1353.68 Z\" fill=\"#000000\" fill-rule=\"evenodd\" fill-opacity=\"1\" /><path clip-path=\"url(#clip320)\" d=\"M 0 0 M650.975 1360.9 L662.515 1349.36 L665.297 1352.14 L649.78 1367.66 L646.998 1364.88 Q646.932 1361.05 646.899 1354.53 Q646.867 1347.99 646.752 1346.2 Q646.556 1342.83 645.95 1340.98 Q645.344 1339.1 644.15 1337.9 Q642.202 1335.96 639.599 1336.1 Q637.013 1336.23 634.82 1338.43 Q633.265 1339.98 632.07 1342.26 Q630.891 1344.52 630.024 1347.58 L626.685 1344.24 Q627.88 1341.44 629.205 1339.29 Q630.531 1337.15 631.972 1335.71 Q635.769 1331.91 639.927 1331.55 Q644.084 1331.19 647.259 1334.37 Q648.765 1335.87 649.551 1337.81 Q650.337 1339.7 650.68 1343.03 Q650.746 1343.91 650.828 1348.38 Q650.893 1352.83 650.975 1360.9 Z\" fill=\"#000000\" fill-rule=\"evenodd\" fill-opacity=\"1\" /><path clip-path=\"url(#clip320)\" d=\"M 0 0 M656.409 1339.98 L665.232 1331.16 L667.916 1333.84 L659.094 1342.67 L656.409 1339.98 Z\" fill=\"#000000\" fill-rule=\"evenodd\" fill-opacity=\"1\" /><path clip-path=\"url(#clip320)\" d=\"M 0 0 M679.406 1332.47 L690.946 1320.93 L693.729 1323.71 L678.212 1339.23 L675.429 1336.45 Q675.364 1332.62 675.331 1326.1 Q675.298 1319.55 675.184 1317.77 Q674.987 1314.4 674.381 1312.55 Q673.776 1310.67 672.581 1309.47 Q670.633 1307.52 668.031 1307.67 Q665.444 1307.8 663.251 1310 Q661.696 1311.55 660.501 1313.83 Q659.323 1316.08 658.455 1319.15 L655.116 1315.81 Q656.311 1313.01 657.637 1310.86 Q658.963 1308.72 660.403 1307.28 Q664.201 1303.48 668.358 1303.12 Q672.516 1302.76 675.691 1305.94 Q677.197 1307.44 677.982 1309.37 Q678.768 1311.27 679.112 1314.6 Q679.177 1315.48 679.259 1319.95 Q679.325 1324.4 679.406 1332.47 Z\" fill=\"#000000\" fill-rule=\"evenodd\" fill-opacity=\"1\" /><path clip-path=\"url(#clip320)\" d=\"M 0 0 M695.104 1316.77 L700.505 1311.37 L681.862 1292.73 L677.164 1299.78 L674.152 1296.77 L678.817 1289.75 L682.124 1286.44 L703.779 1308.1 L709.18 1302.7 L711.963 1305.48 L697.886 1319.55 L695.104 1316.77 Z\" fill=\"#000000\" fill-rule=\"evenodd\" fill-opacity=\"1\" /><path clip-path=\"url(#clip320)\" d=\"M 0 0 M666.848 1466.15 L678.387 1454.61 L681.17 1457.39 L665.653 1472.91 L662.87 1470.13 Q662.805 1466.29 662.772 1459.78 Q662.739 1453.23 662.625 1451.45 Q662.428 1448.08 661.823 1446.23 Q661.217 1444.35 660.022 1443.15 Q658.074 1441.2 655.472 1441.35 Q652.886 1441.48 650.692 1443.67 Q649.137 1445.23 647.942 1447.5 Q646.764 1449.76 645.896 1452.82 L642.557 1449.48 Q643.752 1446.69 645.078 1444.54 Q646.404 1442.4 647.844 1440.96 Q651.642 1437.16 655.799 1436.8 Q659.957 1436.44 663.132 1439.61 Q664.638 1441.12 665.424 1443.05 Q666.209 1444.95 666.553 1448.27 Q666.618 1449.16 666.7 1453.63 Q666.766 1458.08 666.848 1466.15 Z\" fill=\"#000000\" fill-rule=\"evenodd\" fill-opacity=\"1\" /><path clip-path=\"url(#clip320)\" d=\"M 0 0 M669.565 1424.47 Q667.011 1427.03 668.239 1430.84 Q669.467 1434.62 674.508 1439.66 Q679.533 1444.69 683.33 1445.93 Q687.128 1447.14 689.681 1444.59 Q692.251 1442.02 691.023 1438.24 Q689.796 1434.43 684.771 1429.4 Q679.729 1424.36 675.932 1423.15 Q672.135 1421.9 669.565 1424.47 M666.946 1421.86 Q671.054 1417.75 676.472 1418.84 Q681.89 1419.91 688.077 1426.09 Q694.248 1432.27 695.328 1437.7 Q696.408 1443.1 692.3 1447.21 Q688.192 1451.32 682.774 1450.25 Q677.356 1449.16 671.185 1442.99 Q664.998 1436.8 663.918 1431.4 Q662.837 1425.96 666.946 1421.86 Z\" fill=\"#000000\" fill-rule=\"evenodd\" fill-opacity=\"1\" /><path clip-path=\"url(#clip320)\" d=\"M 0 0 M703.921 1429.07 L715.461 1417.53 L718.244 1420.32 L702.727 1435.83 L699.944 1433.05 Q699.879 1429.22 699.846 1422.71 Q699.813 1416.16 699.698 1414.38 Q699.502 1411 698.896 1409.15 Q698.291 1407.27 697.096 1406.08 Q695.148 1404.13 692.546 1404.28 Q689.959 1404.41 687.766 1406.6 Q686.211 1408.16 685.016 1410.43 Q683.838 1412.69 682.97 1415.75 L679.631 1412.41 Q680.826 1409.61 682.152 1407.47 Q683.478 1405.32 684.918 1403.88 Q688.715 1400.09 692.873 1399.73 Q697.03 1399.37 700.206 1402.54 Q701.712 1404.05 702.497 1405.98 Q703.283 1407.88 703.627 1411.2 Q703.692 1412.08 703.774 1416.55 Q703.84 1421 703.921 1429.07 Z\" fill=\"#000000\" fill-rule=\"evenodd\" fill-opacity=\"1\" /><path clip-path=\"url(#clip320)\" d=\"M 0 0 M706.639 1387.4 Q704.085 1389.95 705.313 1393.77 Q706.54 1397.55 711.582 1402.59 Q716.607 1407.62 720.404 1408.86 Q724.202 1410.07 726.755 1407.52 Q729.325 1404.95 728.097 1401.17 Q726.87 1397.35 721.845 1392.33 Q716.803 1387.29 713.006 1386.07 Q709.208 1384.83 706.639 1387.4 M704.02 1384.78 Q708.128 1380.67 713.546 1381.77 Q718.964 1382.83 725.151 1389.02 Q731.322 1395.19 732.402 1400.63 Q733.482 1406.03 729.374 1410.14 Q725.265 1414.24 719.848 1413.18 Q714.43 1412.08 708.259 1405.91 Q702.072 1399.73 700.992 1394.32 Q699.911 1388.89 704.02 1384.78 Z\" fill=\"#000000\" fill-rule=\"evenodd\" fill-opacity=\"1\" /><path clip-path=\"url(#clip320)\" d=\"M 0 0 M728.457 1389.05 L737.28 1380.23 L739.964 1382.92 L731.142 1391.74 L728.457 1389.05 Z\" fill=\"#000000\" fill-rule=\"evenodd\" fill-opacity=\"1\" /><path clip-path=\"url(#clip320)\" d=\"M 0 0 M736.199 1357.84 Q733.646 1360.39 734.874 1364.21 Q736.101 1367.99 741.143 1373.03 Q746.168 1378.05 749.965 1379.3 Q753.762 1380.51 756.316 1377.96 Q758.886 1375.39 757.658 1371.61 Q756.43 1367.79 751.405 1362.77 Q746.364 1357.73 742.567 1356.51 Q738.769 1355.27 736.199 1357.84 M733.58 1355.22 Q737.689 1351.11 743.107 1352.21 Q748.525 1353.27 754.712 1359.46 Q760.883 1365.63 761.963 1371.07 Q763.043 1376.47 758.935 1380.58 Q754.826 1384.68 749.408 1383.62 Q743.991 1382.52 737.82 1376.35 Q731.633 1370.16 730.552 1364.76 Q729.472 1359.33 733.58 1355.22 Z\" fill=\"#000000\" fill-rule=\"evenodd\" fill-opacity=\"1\" /><path clip-path=\"url(#clip320)\" d=\"M 0 0 M767.332 1344.88 Q770.212 1343.01 773.142 1343.29 Q776.088 1343.55 778.446 1345.91 Q782.063 1349.52 781.555 1353.99 Q781.048 1358.46 776.465 1363.04 Q774.926 1364.58 772.979 1365.91 Q771.063 1367.23 768.723 1368.36 L765.531 1365.17 Q767.708 1364.6 769.754 1363.37 Q771.8 1362.14 773.584 1360.36 Q776.694 1357.25 777.087 1354.4 Q777.496 1351.54 775.156 1349.2 Q772.995 1347.04 770.261 1347.35 Q767.528 1347.63 764.827 1350.33 L761.979 1353.17 L759.262 1350.46 L762.241 1347.48 Q764.68 1345.04 765.007 1342.78 Q765.318 1340.51 763.485 1338.67 Q761.603 1336.79 759.262 1337.13 Q756.921 1337.44 754.433 1339.93 Q753.075 1341.29 751.815 1343.14 Q750.554 1344.99 749.31 1347.48 L746.364 1344.53 Q747.723 1342.13 749.097 1340.23 Q750.489 1338.31 751.946 1336.86 Q755.71 1333.09 759.622 1332.62 Q763.518 1332.13 766.431 1335.04 Q768.461 1337.07 768.706 1339.64 Q768.936 1342.19 767.332 1344.88 Z\" fill=\"#000000\" fill-rule=\"evenodd\" fill-opacity=\"1\" /><path clip-path=\"url(#clip320)\" d=\"M 0 0 M776.661 1340.85 L785.484 1332.03 L788.168 1334.71 L779.346 1343.53 L776.661 1340.85 Z\" fill=\"#000000\" fill-rule=\"evenodd\" fill-opacity=\"1\" /><path clip-path=\"url(#clip320)\" d=\"M 0 0 M784.404 1309.64 Q781.85 1312.19 783.078 1316 Q784.305 1319.78 789.347 1324.83 Q794.372 1329.85 798.169 1331.09 Q801.967 1332.31 804.52 1329.75 Q807.09 1327.18 805.862 1323.4 Q804.635 1319.59 799.609 1314.56 Q794.568 1309.52 790.771 1308.31 Q786.973 1307.07 784.404 1309.64 M781.785 1307.02 Q785.893 1302.91 791.311 1304 Q796.729 1305.07 802.916 1311.26 Q809.087 1317.43 810.167 1322.86 Q811.247 1328.26 807.139 1332.37 Q803.03 1336.48 797.613 1335.42 Q792.195 1334.32 786.024 1328.15 Q779.837 1321.96 778.757 1316.56 Q777.676 1311.13 781.785 1307.02 Z\" fill=\"#000000\" fill-rule=\"evenodd\" fill-opacity=\"1\" /><path clip-path=\"url(#clip320)\" d=\"M 0 0 M818.76 1314.23 L830.3 1302.7 L833.082 1305.48 L817.565 1321 L814.783 1318.21 Q814.717 1314.38 814.685 1307.87 Q814.652 1301.32 814.537 1299.54 Q814.341 1296.16 813.735 1294.31 Q813.13 1292.43 811.935 1291.24 Q809.987 1289.29 807.384 1289.44 Q804.798 1289.57 802.605 1291.76 Q801.05 1293.32 799.855 1295.59 Q798.677 1297.85 797.809 1300.91 L794.47 1297.57 Q795.665 1294.77 796.991 1292.63 Q798.316 1290.48 799.757 1289.04 Q803.554 1285.25 807.712 1284.89 Q811.869 1284.53 815.045 1287.7 Q816.551 1289.21 817.336 1291.14 Q818.122 1293.04 818.466 1296.36 Q818.531 1297.24 818.613 1301.71 Q818.678 1306.17 818.76 1314.23 Z\" fill=\"#000000\" fill-rule=\"evenodd\" fill-opacity=\"1\" /><path clip-path=\"url(#clip320)\" d=\"M 0 0 M788.835 1465.28 L800.374 1453.74 L803.157 1456.52 L787.64 1472.04 L784.857 1469.26 Q784.792 1465.43 784.759 1458.91 Q784.726 1452.37 784.612 1450.58 Q784.415 1447.21 783.81 1445.36 Q783.204 1443.48 782.009 1442.28 Q780.061 1440.34 777.459 1440.48 Q774.873 1440.61 772.679 1442.81 Q771.124 1444.36 769.93 1446.64 Q768.751 1448.9 767.884 1451.96 L764.544 1448.62 Q765.739 1445.82 767.065 1443.67 Q768.391 1441.53 769.831 1440.09 Q773.629 1436.29 777.786 1435.93 Q781.944 1435.57 785.119 1438.75 Q786.625 1440.25 787.411 1442.18 Q788.196 1444.08 788.54 1447.41 Q788.606 1448.29 788.687 1452.76 Q788.753 1457.21 788.835 1465.28 Z\" fill=\"#000000\" fill-rule=\"evenodd\" fill-opacity=\"1\" /><path clip-path=\"url(#clip320)\" d=\"M 0 0 M791.552 1423.61 Q788.998 1426.16 790.226 1429.97 Q791.454 1433.76 796.495 1438.8 Q801.52 1443.82 805.317 1445.07 Q809.115 1446.28 811.668 1443.72 Q814.238 1441.15 813.01 1437.37 Q811.783 1433.56 806.758 1428.53 Q801.716 1423.49 797.919 1422.28 Q794.122 1421.04 791.552 1423.61 M788.933 1420.99 Q793.041 1416.88 798.459 1417.98 Q803.877 1419.04 810.064 1425.23 Q816.235 1431.4 817.315 1436.83 Q818.396 1442.23 814.287 1446.34 Q810.179 1450.45 804.761 1449.39 Q799.343 1448.29 793.172 1442.12 Q786.985 1435.93 785.905 1430.53 Q784.825 1425.1 788.933 1420.99 Z\" fill=\"#000000\" fill-rule=\"evenodd\" fill-opacity=\"1\" /><path clip-path=\"url(#clip320)\" d=\"M 0 0 M825.909 1428.21 L837.448 1416.67 L840.231 1419.45 L824.714 1434.97 L821.931 1432.18 Q821.866 1428.35 821.833 1421.84 Q821.8 1415.29 821.686 1413.51 Q821.489 1410.14 820.884 1408.29 Q820.278 1406.4 819.083 1405.21 Q817.135 1403.26 814.533 1403.41 Q811.947 1403.54 809.753 1405.73 Q808.198 1407.29 807.003 1409.56 Q805.825 1411.82 804.957 1414.88 L801.618 1411.54 Q802.813 1408.74 804.139 1406.6 Q805.465 1404.46 806.905 1403.02 Q810.703 1399.22 814.86 1398.86 Q819.018 1398.5 822.193 1401.67 Q823.699 1403.18 824.485 1405.11 Q825.27 1407.01 825.614 1410.33 Q825.679 1411.22 825.761 1415.68 Q825.827 1420.14 825.909 1428.21 Z\" fill=\"#000000\" fill-rule=\"evenodd\" fill-opacity=\"1\" /><path clip-path=\"url(#clip320)\" d=\"M 0 0 M828.626 1386.53 Q826.072 1389.09 827.3 1392.9 Q828.527 1396.68 833.569 1401.72 Q838.594 1406.75 842.391 1407.99 Q846.189 1409.2 848.742 1406.65 Q851.312 1404.08 850.084 1400.3 Q848.857 1396.48 843.832 1391.46 Q838.79 1386.42 834.993 1385.21 Q831.195 1383.96 828.626 1386.53 M826.007 1383.91 Q830.115 1379.81 835.533 1380.9 Q840.951 1381.97 847.138 1388.15 Q853.309 1394.32 854.389 1399.76 Q855.469 1405.16 851.361 1409.27 Q847.253 1413.38 841.835 1412.31 Q836.417 1411.22 830.246 1405.05 Q824.059 1398.86 822.979 1393.46 Q821.898 1388.02 826.007 1383.91 Z\" fill=\"#000000\" fill-rule=\"evenodd\" fill-opacity=\"1\" /><path clip-path=\"url(#clip320)\" d=\"M 0 0 M850.444 1388.19 L859.267 1379.36 L861.951 1382.05 L853.129 1390.87 L850.444 1388.19 Z\" fill=\"#000000\" fill-rule=\"evenodd\" fill-opacity=\"1\" /><path clip-path=\"url(#clip320)\" d=\"M 0 0 M858.187 1356.97 Q855.633 1359.53 856.861 1363.34 Q858.088 1367.12 863.13 1372.16 Q868.155 1377.19 871.952 1378.43 Q875.75 1379.64 878.303 1377.09 Q880.873 1374.52 879.645 1370.74 Q878.418 1366.92 873.392 1361.9 Q868.351 1356.86 864.554 1355.65 Q860.756 1354.4 858.187 1356.97 M855.568 1354.35 Q859.676 1350.24 865.094 1351.34 Q870.512 1352.41 876.699 1358.59 Q882.87 1364.76 883.95 1370.2 Q885.03 1375.6 880.922 1379.71 Q876.813 1383.82 871.396 1382.75 Q865.978 1381.66 859.807 1375.48 Q853.62 1369.3 852.539 1363.9 Q851.459 1358.46 855.568 1354.35 Z\" fill=\"#000000\" fill-rule=\"evenodd\" fill-opacity=\"1\" /><path clip-path=\"url(#clip320)\" d=\"M 0 0 M889.319 1344.01 Q892.199 1342.14 895.129 1342.42 Q898.076 1342.68 900.433 1345.04 Q904.05 1348.66 903.543 1353.13 Q903.035 1357.59 898.452 1362.18 Q896.913 1363.72 894.966 1365.04 Q893.051 1366.37 890.71 1367.5 L887.518 1364.31 Q889.695 1363.73 891.741 1362.5 Q893.787 1361.28 895.571 1359.49 Q898.681 1356.38 899.074 1353.53 Q899.483 1350.67 897.143 1348.33 Q894.982 1346.17 892.249 1346.48 Q889.515 1346.76 886.814 1349.46 L883.966 1352.31 L881.249 1349.59 L884.228 1346.61 Q886.667 1344.17 886.994 1341.91 Q887.305 1339.64 885.472 1337.81 Q883.59 1335.92 881.249 1336.27 Q878.909 1336.58 876.421 1339.07 Q875.062 1340.42 873.802 1342.27 Q872.541 1344.12 871.297 1346.61 L868.351 1343.66 Q869.71 1341.26 871.085 1339.36 Q872.476 1337.44 873.933 1335.99 Q877.697 1332.22 881.609 1331.75 Q885.505 1331.26 888.418 1334.17 Q890.448 1336.2 890.694 1338.77 Q890.923 1341.32 889.319 1344.01 Z\" fill=\"#000000\" fill-rule=\"evenodd\" fill-opacity=\"1\" /><path clip-path=\"url(#clip320)\" d=\"M 0 0 M898.649 1339.98 L907.471 1331.16 L910.155 1333.84 L901.333 1342.67 L898.649 1339.98 Z\" fill=\"#000000\" fill-rule=\"evenodd\" fill-opacity=\"1\" /><path clip-path=\"url(#clip320)\" d=\"M 0 0 M919.371 1334.74 L924.772 1329.34 L906.129 1310.7 L901.431 1317.75 L898.419 1314.74 L903.084 1307.72 L906.391 1304.41 L928.046 1326.07 L933.447 1320.67 L936.23 1323.45 L922.153 1337.53 L919.371 1334.74 Z\" fill=\"#000000\" fill-rule=\"evenodd\" fill-opacity=\"1\" /><path clip-path=\"url(#clip320)\" d=\"M 0 0 M939.88 1314.23 L951.419 1302.7 L954.202 1305.48 L938.685 1321 L935.902 1318.21 Q935.837 1314.38 935.804 1307.87 Q935.771 1301.32 935.657 1299.54 Q935.46 1296.16 934.855 1294.31 Q934.249 1292.43 933.054 1291.24 Q931.106 1289.29 928.504 1289.44 Q925.918 1289.57 923.724 1291.76 Q922.17 1293.32 920.975 1295.59 Q919.796 1297.85 918.929 1300.91 L915.59 1297.57 Q916.784 1294.77 918.11 1292.63 Q919.436 1290.48 920.876 1289.04 Q924.674 1285.25 928.831 1284.89 Q932.989 1284.53 936.164 1287.7 Q937.67 1289.21 938.456 1291.14 Q939.241 1293.04 939.585 1296.36 Q939.651 1297.24 939.733 1301.71 Q939.798 1306.17 939.88 1314.23 Z\" fill=\"#000000\" fill-rule=\"evenodd\" fill-opacity=\"1\" /><path clip-path=\"url(#clip320)\" d=\"M 0 0 M910.216 1465.02 L921.756 1453.48 L924.538 1456.26 L909.021 1471.78 L906.239 1469 Q906.173 1465.17 906.141 1458.65 Q906.108 1452.1 905.993 1450.32 Q905.797 1446.95 905.191 1445.1 Q904.586 1443.22 903.391 1442.02 Q901.443 1440.07 898.84 1440.22 Q896.254 1440.35 894.061 1442.54 Q892.506 1444.1 891.311 1446.37 Q890.133 1448.63 889.265 1451.69 L885.926 1448.36 Q887.121 1445.56 888.447 1443.41 Q889.772 1441.27 891.213 1439.83 Q895.01 1436.03 899.168 1435.67 Q903.325 1435.31 906.501 1438.49 Q908.007 1439.99 908.792 1441.92 Q909.578 1443.82 909.922 1447.14 Q909.987 1448.03 910.069 1452.5 Q910.134 1456.95 910.216 1465.02 Z\" fill=\"#000000\" fill-rule=\"evenodd\" fill-opacity=\"1\" /><path clip-path=\"url(#clip320)\" d=\"M 0 0 M912.933 1423.34 Q910.38 1425.9 911.608 1429.71 Q912.835 1433.49 917.877 1438.53 Q922.902 1443.56 926.699 1444.8 Q930.496 1446.01 933.05 1443.46 Q935.62 1440.89 934.392 1437.11 Q933.164 1433.3 928.139 1428.27 Q923.098 1423.23 919.301 1422.02 Q915.503 1420.78 912.933 1423.34 M910.314 1420.73 Q914.423 1416.62 919.841 1417.71 Q925.259 1418.78 931.446 1424.97 Q937.617 1431.14 938.697 1436.57 Q939.777 1441.97 935.669 1446.08 Q931.56 1450.19 926.142 1449.12 Q920.725 1448.03 914.554 1441.86 Q908.367 1435.67 907.286 1430.27 Q906.206 1424.83 910.314 1420.73 Z\" fill=\"#000000\" fill-rule=\"evenodd\" fill-opacity=\"1\" /><path clip-path=\"url(#clip320)\" d=\"M 0 0 M947.29 1427.94 L958.83 1416.4 L961.612 1419.19 L946.095 1434.7 L943.313 1431.92 Q943.247 1428.09 943.214 1421.58 Q943.182 1415.03 943.067 1413.25 Q942.871 1409.87 942.265 1408.02 Q941.659 1406.14 940.465 1404.95 Q938.517 1403 935.914 1403.15 Q933.328 1403.28 931.135 1405.47 Q929.58 1407.03 928.385 1409.3 Q927.206 1411.56 926.339 1414.62 L923 1411.28 Q924.195 1408.48 925.52 1406.34 Q926.846 1404.19 928.287 1402.75 Q932.084 1398.96 936.242 1398.6 Q940.399 1398.24 943.574 1401.41 Q945.08 1402.92 945.866 1404.85 Q946.652 1406.75 946.995 1410.07 Q947.061 1410.95 947.143 1415.42 Q947.208 1419.87 947.29 1427.94 Z\" fill=\"#000000\" fill-rule=\"evenodd\" fill-opacity=\"1\" /><path clip-path=\"url(#clip320)\" d=\"M 0 0 M950.007 1386.27 Q947.454 1388.82 948.681 1392.64 Q949.909 1396.42 954.95 1401.46 Q959.975 1406.49 963.773 1407.73 Q967.57 1408.94 970.124 1406.39 Q972.693 1403.82 971.466 1400.04 Q970.238 1396.22 965.213 1391.2 Q960.172 1386.16 956.374 1384.95 Q952.577 1383.7 950.007 1386.27 M947.388 1383.65 Q951.497 1379.54 956.915 1380.64 Q962.332 1381.7 968.52 1387.89 Q974.69 1394.06 975.771 1399.5 Q976.851 1404.9 972.742 1409.01 Q968.634 1413.11 963.216 1412.05 Q957.798 1410.95 951.628 1404.78 Q945.44 1398.6 944.36 1393.19 Q943.28 1387.76 947.388 1383.65 Z\" fill=\"#000000\" fill-rule=\"evenodd\" fill-opacity=\"1\" /><path clip-path=\"url(#clip320)\" d=\"M 0 0 M971.826 1387.92 L980.648 1379.1 L983.333 1381.79 L974.51 1390.61 L971.826 1387.92 Z\" fill=\"#000000\" fill-rule=\"evenodd\" fill-opacity=\"1\" /><path clip-path=\"url(#clip320)\" d=\"M 0 0 M979.568 1356.71 Q977.015 1359.26 978.242 1363.08 Q979.47 1366.86 984.511 1371.9 Q989.536 1376.92 993.334 1378.17 Q997.131 1379.38 999.684 1376.83 Q1002.25 1374.26 1001.03 1370.48 Q999.799 1366.66 994.774 1361.64 Q989.733 1356.6 985.935 1355.38 Q982.138 1354.14 979.568 1356.71 M976.949 1354.09 Q981.058 1349.98 986.475 1351.08 Q991.893 1352.14 998.08 1358.33 Q1004.25 1364.5 1005.33 1369.94 Q1006.41 1375.34 1002.3 1379.45 Q998.195 1383.55 992.777 1382.49 Q987.359 1381.39 981.188 1375.22 Q975.001 1369.04 973.921 1363.63 Q972.841 1358.2 976.949 1354.09 Z\" fill=\"#000000\" fill-rule=\"evenodd\" fill-opacity=\"1\" /><path clip-path=\"url(#clip320)\" d=\"M 0 0 M1010.7 1343.75 Q1013.58 1341.88 1016.51 1342.16 Q1019.46 1342.42 1021.81 1344.78 Q1025.43 1348.4 1024.92 1352.86 Q1024.42 1357.33 1019.83 1361.92 Q1018.29 1363.45 1016.35 1364.78 Q1014.43 1366.11 1012.09 1367.23 L1008.9 1364.04 Q1011.08 1363.47 1013.12 1362.24 Q1015.17 1361.02 1016.95 1359.23 Q1020.06 1356.12 1020.46 1353.27 Q1020.86 1350.41 1018.52 1348.07 Q1016.36 1345.91 1013.63 1346.22 Q1010.9 1346.5 1008.2 1349.2 L1005.35 1352.05 L1002.63 1349.33 L1005.61 1346.35 Q1008.05 1343.91 1008.38 1341.65 Q1008.69 1339.38 1006.85 1337.54 Q1004.97 1335.66 1002.63 1336 Q1000.29 1336.32 997.802 1338.8 Q996.444 1340.16 995.183 1342.01 Q993.923 1343.86 992.679 1346.35 L989.733 1343.4 Q991.091 1341 992.466 1339.1 Q993.857 1337.18 995.314 1335.73 Q999.079 1331.96 1002.99 1331.49 Q1006.89 1331 1009.8 1333.91 Q1011.83 1335.94 1012.08 1338.51 Q1012.3 1341.06 1010.7 1343.75 Z\" fill=\"#000000\" fill-rule=\"evenodd\" fill-opacity=\"1\" /><path clip-path=\"url(#clip320)\" d=\"M 0 0 M1020.03 1339.72 L1028.85 1330.9 L1031.54 1333.58 L1022.71 1342.4 L1020.03 1339.72 Z\" fill=\"#000000\" fill-rule=\"evenodd\" fill-opacity=\"1\" /><path clip-path=\"url(#clip320)\" d=\"M 0 0 M1043.03 1332.21 L1054.57 1320.67 L1057.35 1323.45 L1041.83 1338.97 L1039.05 1336.18 Q1038.98 1332.35 1038.95 1325.84 Q1038.92 1319.29 1038.8 1317.51 Q1038.61 1314.14 1038 1312.29 Q1037.4 1310.4 1036.2 1309.21 Q1034.25 1307.26 1031.65 1307.41 Q1029.07 1307.54 1026.87 1309.73 Q1025.32 1311.29 1024.12 1313.56 Q1022.94 1315.82 1022.08 1318.88 L1018.74 1315.54 Q1019.93 1312.75 1021.26 1310.6 Q1022.58 1308.46 1024.02 1307.02 Q1027.82 1303.22 1031.98 1302.86 Q1036.14 1302.5 1039.31 1305.67 Q1040.82 1307.18 1041.6 1309.11 Q1042.39 1311.01 1042.73 1314.33 Q1042.8 1315.22 1042.88 1319.69 Q1042.95 1324.14 1043.03 1332.21 Z\" fill=\"#000000\" fill-rule=\"evenodd\" fill-opacity=\"1\" /><path clip-path=\"url(#clip320)\" d=\"M 0 0 M1061 1314.23 L1072.54 1302.7 L1075.32 1305.48 L1059.8 1321 L1057.02 1318.21 Q1056.96 1314.38 1056.92 1307.87 Q1056.89 1301.32 1056.78 1299.54 Q1056.58 1296.16 1055.97 1294.31 Q1055.37 1292.43 1054.17 1291.24 Q1052.23 1289.29 1049.62 1289.44 Q1047.04 1289.57 1044.84 1291.76 Q1043.29 1293.32 1042.09 1295.59 Q1040.92 1297.85 1040.05 1300.91 L1036.71 1297.57 Q1037.9 1294.77 1039.23 1292.63 Q1040.56 1290.48 1042 1289.04 Q1045.79 1285.25 1049.95 1284.89 Q1054.11 1284.53 1057.28 1287.7 Q1058.79 1289.21 1059.58 1291.14 Q1060.36 1293.04 1060.7 1296.36 Q1060.77 1297.24 1060.85 1301.71 Q1060.92 1306.17 1061 1314.23 Z\" fill=\"#000000\" fill-rule=\"evenodd\" fill-opacity=\"1\" /><path clip-path=\"url(#clip320)\" d=\"M 0 0 M1029.14 1467.21 L1040.68 1455.67 L1043.46 1458.45 L1027.95 1473.97 L1025.17 1471.19 Q1025.1 1467.36 1025.07 1460.84 Q1025.03 1454.3 1024.92 1452.51 Q1024.72 1449.14 1024.12 1447.29 Q1023.51 1445.41 1022.32 1444.21 Q1020.37 1442.27 1017.77 1442.41 Q1015.18 1442.54 1012.99 1444.74 Q1011.43 1446.29 1010.24 1448.57 Q1009.06 1450.83 1008.19 1453.89 L1004.85 1450.55 Q1006.05 1447.75 1007.37 1445.61 Q1008.7 1443.46 1010.14 1442.02 Q1013.94 1438.22 1018.09 1437.86 Q1022.25 1437.5 1025.43 1440.68 Q1026.93 1442.18 1027.72 1444.12 Q1028.5 1446.01 1028.85 1449.34 Q1028.91 1450.22 1029 1454.69 Q1029.06 1459.14 1029.14 1467.21 Z\" fill=\"#000000\" fill-rule=\"evenodd\" fill-opacity=\"1\" /><path clip-path=\"url(#clip320)\" d=\"M 0 0 M1031.86 1425.54 Q1029.31 1428.09 1030.53 1431.91 Q1031.76 1435.69 1036.8 1440.73 Q1041.83 1445.75 1045.63 1447 Q1049.42 1448.21 1051.98 1445.65 Q1054.55 1443.08 1053.32 1439.3 Q1052.09 1435.49 1047.07 1430.47 Q1042.02 1425.42 1038.23 1424.21 Q1034.43 1422.97 1031.86 1425.54 M1029.24 1422.92 Q1033.35 1418.81 1038.77 1419.91 Q1044.18 1420.97 1050.37 1427.16 Q1056.54 1433.33 1057.62 1438.76 Q1058.7 1444.17 1054.59 1448.27 Q1050.49 1452.38 1045.07 1451.32 Q1039.65 1450.22 1033.48 1444.05 Q1027.29 1437.86 1026.21 1432.46 Q1025.13 1427.03 1029.24 1422.92 Z\" fill=\"#000000\" fill-rule=\"evenodd\" fill-opacity=\"1\" /><path clip-path=\"url(#clip320)\" d=\"M 0 0 M1066.22 1430.14 L1077.76 1418.6 L1080.54 1421.38 L1065.02 1436.9 L1062.24 1434.12 Q1062.17 1430.29 1062.14 1423.77 Q1062.11 1417.22 1061.99 1415.44 Q1061.8 1412.07 1061.19 1410.22 Q1060.59 1408.34 1059.39 1407.14 Q1057.44 1405.19 1054.84 1405.34 Q1052.25 1405.47 1050.06 1407.66 Q1048.51 1409.22 1047.31 1411.49 Q1046.13 1413.75 1045.27 1416.81 L1041.93 1413.47 Q1043.12 1410.68 1044.45 1408.53 Q1045.77 1406.39 1047.21 1404.95 Q1051.01 1401.15 1055.17 1400.79 Q1059.33 1400.43 1062.5 1403.6 Q1064.01 1405.11 1064.79 1407.04 Q1065.58 1408.94 1065.92 1412.26 Q1065.99 1413.15 1066.07 1417.62 Q1066.13 1422.07 1066.22 1430.14 Z\" fill=\"#000000\" fill-rule=\"evenodd\" fill-opacity=\"1\" /><path clip-path=\"url(#clip320)\" d=\"M 0 0 M1068.93 1388.46 Q1066.38 1391.02 1067.61 1394.83 Q1068.84 1398.61 1073.88 1403.65 Q1078.9 1408.68 1082.7 1409.92 Q1086.5 1411.13 1089.05 1408.58 Q1091.62 1406.01 1090.39 1402.23 Q1089.16 1398.42 1084.14 1393.39 Q1079.1 1388.35 1075.3 1387.14 Q1071.5 1385.89 1068.93 1388.46 M1066.31 1385.85 Q1070.42 1381.74 1075.84 1382.83 Q1081.26 1383.9 1087.45 1390.08 Q1093.62 1396.26 1094.7 1401.69 Q1095.78 1407.09 1091.67 1411.2 Q1087.56 1415.31 1082.14 1414.24 Q1076.72 1413.15 1070.55 1406.98 Q1064.37 1400.79 1063.29 1395.39 Q1062.21 1389.95 1066.31 1385.85 Z\" fill=\"#000000\" fill-rule=\"evenodd\" fill-opacity=\"1\" /><path clip-path=\"url(#clip320)\" d=\"M 0 0 M1090.75 1390.12 L1099.57 1381.3 L1102.26 1383.98 L1093.44 1392.8 L1090.75 1390.12 Z\" fill=\"#000000\" fill-rule=\"evenodd\" fill-opacity=\"1\" /><path clip-path=\"url(#clip320)\" d=\"M 0 0 M1098.49 1358.9 Q1095.94 1361.46 1097.17 1365.27 Q1098.4 1369.05 1103.44 1374.09 Q1108.46 1379.12 1112.26 1380.36 Q1116.06 1381.57 1118.61 1379.02 Q1121.18 1376.45 1119.95 1372.67 Q1118.73 1368.86 1113.7 1363.83 Q1108.66 1358.79 1104.86 1357.58 Q1101.06 1356.33 1098.49 1358.9 M1095.88 1356.28 Q1099.98 1352.18 1105.4 1353.27 Q1110.82 1354.34 1117.01 1360.52 Q1123.18 1366.69 1124.26 1372.13 Q1125.34 1377.53 1121.23 1381.64 Q1117.12 1385.75 1111.7 1384.68 Q1106.29 1383.59 1100.11 1377.42 Q1093.93 1371.23 1092.85 1365.83 Q1091.77 1360.39 1095.88 1356.28 Z\" fill=\"#000000\" fill-rule=\"evenodd\" fill-opacity=\"1\" /><path clip-path=\"url(#clip320)\" d=\"M 0 0 M1120.31 1338.49 L1125.01 1359.89 L1133.36 1351.54 L1120.31 1338.49 M1116.56 1336.48 L1120.72 1332.32 L1136.65 1348.25 L1140.13 1344.76 L1142.88 1347.51 L1139.4 1351 L1145.16 1356.76 L1141.87 1360.05 L1136.11 1354.29 L1125.08 1365.32 L1121.88 1362.13 L1116.56 1336.48 Z\" fill=\"#000000\" fill-rule=\"evenodd\" fill-opacity=\"1\" /><path clip-path=\"url(#clip320)\" d=\"M 0 0 M1139.76 1341.11 L1148.58 1332.29 L1151.27 1334.97 L1142.44 1343.8 L1139.76 1341.11 Z\" fill=\"#000000\" fill-rule=\"evenodd\" fill-opacity=\"1\" /><path clip-path=\"url(#clip320)\" d=\"M 0 0 M1147.5 1309.9 Q1144.95 1312.45 1146.17 1316.26 Q1147.4 1320.05 1152.44 1325.09 Q1157.47 1330.11 1161.27 1331.36 Q1165.06 1332.57 1167.62 1330.01 Q1170.19 1327.44 1168.96 1323.66 Q1167.73 1319.85 1162.71 1314.82 Q1157.67 1309.78 1153.87 1308.57 Q1150.07 1307.33 1147.5 1309.9 M1144.88 1307.28 Q1148.99 1303.17 1154.41 1304.27 Q1159.83 1305.33 1166.01 1311.52 Q1172.18 1317.69 1173.26 1323.12 Q1174.34 1328.52 1170.24 1332.63 Q1166.13 1336.74 1160.71 1335.68 Q1155.29 1334.58 1149.12 1328.41 Q1142.93 1322.22 1141.85 1316.82 Q1140.77 1311.39 1144.88 1307.28 Z\" fill=\"#000000\" fill-rule=\"evenodd\" fill-opacity=\"1\" /><path clip-path=\"url(#clip320)\" d=\"M 0 0 M1179.58 1316.77 L1184.98 1311.37 L1166.34 1292.73 L1161.64 1299.78 L1158.63 1296.77 L1163.3 1289.75 L1166.6 1286.44 L1188.26 1308.1 L1193.66 1302.7 L1196.44 1305.48 L1182.36 1319.55 L1179.58 1316.77 Z\" fill=\"#000000\" fill-rule=\"evenodd\" fill-opacity=\"1\" /><path clip-path=\"url(#clip320)\" d=\"M 0 0 M1151.13 1466.34 L1162.67 1454.8 L1165.45 1457.59 L1149.93 1473.1 L1147.15 1470.32 Q1147.09 1466.49 1147.05 1459.98 Q1147.02 1453.43 1146.91 1451.65 Q1146.71 1448.27 1146.1 1446.42 Q1145.5 1444.54 1144.3 1443.35 Q1142.36 1441.4 1139.75 1441.55 Q1137.17 1441.68 1134.97 1443.87 Q1133.42 1445.43 1132.22 1447.7 Q1131.05 1449.96 1130.18 1453.02 L1126.84 1449.68 Q1128.03 1446.88 1129.36 1444.74 Q1130.69 1442.59 1132.13 1441.15 Q1135.92 1437.36 1140.08 1437 Q1144.24 1436.64 1147.41 1439.81 Q1148.92 1441.32 1149.71 1443.25 Q1150.49 1445.15 1150.84 1448.47 Q1150.9 1449.35 1150.98 1453.82 Q1151.05 1458.27 1151.13 1466.34 Z\" fill=\"#000000\" fill-rule=\"evenodd\" fill-opacity=\"1\" /><path clip-path=\"url(#clip320)\" d=\"M 0 0 M1153.85 1424.67 Q1151.29 1427.22 1152.52 1431.04 Q1153.75 1434.82 1158.79 1439.86 Q1163.81 1444.89 1167.61 1446.13 Q1171.41 1447.34 1173.96 1444.79 Q1176.53 1442.22 1175.31 1438.44 Q1174.08 1434.62 1169.05 1429.6 Q1164.01 1424.56 1160.21 1423.34 Q1156.42 1422.1 1153.85 1424.67 M1151.23 1422.05 Q1155.34 1417.94 1160.75 1419.04 Q1166.17 1420.1 1172.36 1426.29 Q1178.53 1432.46 1179.61 1437.9 Q1180.69 1443.3 1176.58 1447.41 Q1172.47 1451.51 1167.06 1450.45 Q1161.64 1449.35 1155.47 1443.18 Q1149.28 1437 1148.2 1431.59 Q1147.12 1426.16 1151.23 1422.05 Z\" fill=\"#000000\" fill-rule=\"evenodd\" fill-opacity=\"1\" /><path clip-path=\"url(#clip320)\" d=\"M 0 0 M1188.2 1429.27 L1199.74 1417.73 L1202.53 1420.51 L1187.01 1436.03 L1184.23 1433.25 Q1184.16 1429.42 1184.13 1422.9 Q1184.1 1416.36 1183.98 1414.57 Q1183.78 1411.2 1183.18 1409.35 Q1182.57 1407.47 1181.38 1406.27 Q1179.43 1404.33 1176.83 1404.47 Q1174.24 1404.6 1172.05 1406.8 Q1170.49 1408.35 1169.3 1410.63 Q1168.12 1412.89 1167.25 1415.95 L1163.91 1412.61 Q1165.11 1409.81 1166.43 1407.66 Q1167.76 1405.52 1169.2 1404.08 Q1173 1400.28 1177.15 1399.92 Q1181.31 1399.56 1184.49 1402.74 Q1185.99 1404.24 1186.78 1406.17 Q1187.57 1408.07 1187.91 1411.4 Q1187.97 1412.28 1188.06 1416.75 Q1188.12 1421.2 1188.2 1429.27 Z\" fill=\"#000000\" fill-rule=\"evenodd\" fill-opacity=\"1\" /><path clip-path=\"url(#clip320)\" d=\"M 0 0 M1190.92 1387.6 Q1188.37 1390.15 1189.59 1393.96 Q1190.82 1397.75 1195.86 1402.79 Q1200.89 1407.81 1204.69 1409.06 Q1208.48 1410.27 1211.04 1407.71 Q1213.61 1405.14 1212.38 1401.36 Q1211.15 1397.55 1206.13 1392.52 Q1201.09 1387.48 1197.29 1386.27 Q1193.49 1385.03 1190.92 1387.6 M1188.3 1384.98 Q1192.41 1380.87 1197.83 1381.97 Q1203.25 1383.03 1209.43 1389.22 Q1215.6 1395.39 1216.68 1400.82 Q1217.76 1406.22 1213.66 1410.33 Q1209.55 1414.44 1204.13 1413.38 Q1198.71 1412.28 1192.54 1406.11 Q1186.35 1399.92 1185.27 1394.52 Q1184.19 1389.09 1188.3 1384.98 Z\" fill=\"#000000\" fill-rule=\"evenodd\" fill-opacity=\"1\" /><path clip-path=\"url(#clip320)\" d=\"M 0 0 M1212.74 1389.25 L1221.56 1380.43 L1224.25 1383.11 L1215.42 1391.93 L1212.74 1389.25 Z\" fill=\"#000000\" fill-rule=\"evenodd\" fill-opacity=\"1\" /><path clip-path=\"url(#clip320)\" d=\"M 0 0 M1220.48 1358.04 Q1217.93 1360.59 1219.16 1364.4 Q1220.38 1368.18 1225.42 1373.23 Q1230.45 1378.25 1234.25 1379.49 Q1238.04 1380.71 1240.6 1378.15 Q1243.17 1375.58 1241.94 1371.8 Q1240.71 1367.99 1235.69 1362.96 Q1230.65 1357.92 1226.85 1356.71 Q1223.05 1355.47 1220.48 1358.04 M1217.86 1355.42 Q1221.97 1351.31 1227.39 1352.41 Q1232.81 1353.47 1238.99 1359.66 Q1245.16 1365.83 1246.24 1371.26 Q1247.33 1376.66 1243.22 1380.77 Q1239.11 1384.88 1233.69 1383.82 Q1228.27 1382.72 1222.1 1376.55 Q1215.91 1370.36 1214.83 1364.96 Q1213.75 1359.53 1217.86 1355.42 Z\" fill=\"#000000\" fill-rule=\"evenodd\" fill-opacity=\"1\" /><path clip-path=\"url(#clip320)\" d=\"M 0 0 M1242.3 1337.63 L1247 1359.02 L1255.35 1350.67 L1242.3 1337.63 M1238.55 1335.61 L1242.71 1331.45 L1258.64 1347.38 L1262.12 1343.89 L1264.87 1346.64 L1261.39 1350.13 L1267.15 1355.89 L1263.86 1359.18 L1258.1 1353.42 L1247.06 1364.45 L1243.87 1361.26 L1238.55 1335.61 Z\" fill=\"#000000\" fill-rule=\"evenodd\" fill-opacity=\"1\" /><path clip-path=\"url(#clip320)\" d=\"M 0 0 M1261.75 1340.24 L1270.57 1331.42 L1273.25 1334.11 L1264.43 1342.93 L1261.75 1340.24 Z\" fill=\"#000000\" fill-rule=\"evenodd\" fill-opacity=\"1\" /><path clip-path=\"url(#clip320)\" d=\"M 0 0 M1282.47 1335.01 L1287.87 1329.6 L1269.23 1310.96 L1264.53 1318.02 L1261.52 1315 L1266.18 1307.98 L1269.49 1304.68 L1291.14 1326.33 L1296.54 1320.93 L1299.33 1323.71 L1285.25 1337.79 L1282.47 1335.01 Z\" fill=\"#000000\" fill-rule=\"evenodd\" fill-opacity=\"1\" /><path clip-path=\"url(#clip320)\" d=\"M 0 0 M1300.7 1316.77 L1306.1 1311.37 L1287.46 1292.73 L1282.76 1299.78 L1279.75 1296.77 L1284.42 1289.75 L1287.72 1286.44 L1309.38 1308.1 L1314.78 1302.7 L1317.56 1305.48 L1303.48 1319.55 L1300.7 1316.77 Z\" fill=\"#000000\" fill-rule=\"evenodd\" fill-opacity=\"1\" /><path clip-path=\"url(#clip320)\" d=\"M 0 0 M1272.51 1466.08 L1284.05 1454.54 L1286.83 1457.33 L1271.32 1472.84 L1268.53 1470.06 Q1268.47 1466.23 1268.44 1459.71 Q1268.4 1453.17 1268.29 1451.38 Q1268.09 1448.01 1267.49 1446.16 Q1266.88 1444.28 1265.69 1443.08 Q1263.74 1441.14 1261.14 1441.28 Q1258.55 1441.42 1256.36 1443.61 Q1254.8 1445.16 1253.61 1447.44 Q1252.43 1449.7 1251.56 1452.76 L1248.22 1449.42 Q1249.42 1446.62 1250.74 1444.48 Q1252.07 1442.33 1253.51 1440.89 Q1257.31 1437.09 1261.46 1436.73 Q1265.62 1436.37 1268.8 1439.55 Q1270.3 1441.06 1271.09 1442.99 Q1271.87 1444.89 1272.22 1448.21 Q1272.28 1449.09 1272.36 1453.56 Q1272.43 1458.01 1272.51 1466.08 Z\" fill=\"#000000\" fill-rule=\"evenodd\" fill-opacity=\"1\" /><path clip-path=\"url(#clip320)\" d=\"M 0 0 M1275.23 1424.41 Q1272.67 1426.96 1273.9 1430.78 Q1275.13 1434.56 1280.17 1439.6 Q1285.2 1444.62 1288.99 1445.87 Q1292.79 1447.08 1295.34 1444.53 Q1297.91 1441.96 1296.69 1438.17 Q1295.46 1434.36 1290.43 1429.34 Q1285.39 1424.29 1281.6 1423.08 Q1277.8 1421.84 1275.23 1424.41 M1272.61 1421.79 Q1276.72 1417.68 1282.14 1418.78 Q1287.55 1419.84 1293.74 1426.03 Q1299.91 1432.2 1300.99 1437.63 Q1302.07 1443.04 1297.96 1447.14 Q1293.86 1451.25 1288.44 1450.19 Q1283.02 1449.09 1276.85 1442.92 Q1270.66 1436.73 1269.58 1431.33 Q1268.5 1425.9 1272.61 1421.79 Z\" fill=\"#000000\" fill-rule=\"evenodd\" fill-opacity=\"1\" /><path clip-path=\"url(#clip320)\" d=\"M 0 0 M1309.58 1429.01 L1321.12 1417.47 L1323.91 1420.25 L1308.39 1435.77 L1305.61 1432.99 Q1305.54 1429.16 1305.51 1422.64 Q1305.48 1416.09 1305.36 1414.31 Q1305.17 1410.94 1304.56 1409.09 Q1303.95 1407.21 1302.76 1406.01 Q1300.81 1404.06 1298.21 1404.21 Q1295.62 1404.34 1293.43 1406.53 Q1291.87 1408.09 1290.68 1410.36 Q1289.5 1412.62 1288.63 1415.68 L1285.29 1412.35 Q1286.49 1409.55 1287.82 1407.4 Q1289.14 1405.26 1290.58 1403.82 Q1294.38 1400.02 1298.54 1399.66 Q1302.69 1399.3 1305.87 1402.48 Q1307.38 1403.98 1308.16 1405.91 Q1308.95 1407.81 1309.29 1411.13 Q1309.36 1412.02 1309.44 1416.49 Q1309.5 1420.94 1309.58 1429.01 Z\" fill=\"#000000\" fill-rule=\"evenodd\" fill-opacity=\"1\" /><path clip-path=\"url(#clip320)\" d=\"M 0 0 M1312.3 1387.34 Q1309.75 1389.89 1310.98 1393.7 Q1312.2 1397.48 1317.25 1402.52 Q1322.27 1407.55 1326.07 1408.79 Q1329.87 1410 1332.42 1407.45 Q1334.99 1404.88 1333.76 1401.1 Q1332.53 1397.29 1327.51 1392.26 Q1322.47 1387.22 1318.67 1386.01 Q1314.87 1384.77 1312.3 1387.34 M1309.68 1384.72 Q1313.79 1380.61 1319.21 1381.7 Q1324.63 1382.77 1330.81 1388.96 Q1336.99 1395.13 1338.07 1400.56 Q1339.15 1405.96 1335.04 1410.07 Q1330.93 1414.18 1325.51 1413.11 Q1320.09 1412.02 1313.92 1405.85 Q1307.74 1399.66 1306.66 1394.26 Q1305.57 1388.82 1309.68 1384.72 Z\" fill=\"#000000\" fill-rule=\"evenodd\" fill-opacity=\"1\" /><path clip-path=\"url(#clip320)\" d=\"M 0 0 M1334.12 1388.99 L1342.94 1380.17 L1345.63 1382.85 L1336.81 1391.67 L1334.12 1388.99 Z\" fill=\"#000000\" fill-rule=\"evenodd\" fill-opacity=\"1\" /><path clip-path=\"url(#clip320)\" d=\"M 0 0 M1341.86 1357.77 Q1339.31 1360.33 1340.54 1364.14 Q1341.76 1367.92 1346.81 1372.96 Q1351.83 1377.99 1355.63 1379.23 Q1359.43 1380.44 1361.98 1377.89 Q1364.55 1375.32 1363.32 1371.54 Q1362.09 1367.73 1357.07 1362.7 Q1352.03 1357.66 1348.23 1356.45 Q1344.43 1355.2 1341.86 1357.77 M1339.24 1355.16 Q1343.35 1351.05 1348.77 1352.14 Q1354.19 1353.21 1360.38 1359.39 Q1366.55 1365.57 1367.63 1371 Q1368.71 1376.4 1364.6 1380.51 Q1360.49 1384.62 1355.07 1383.55 Q1349.65 1382.46 1343.48 1376.29 Q1337.3 1370.1 1336.22 1364.7 Q1335.14 1359.26 1339.24 1355.16 Z\" fill=\"#000000\" fill-rule=\"evenodd\" fill-opacity=\"1\" /><path clip-path=\"url(#clip320)\" d=\"M 0 0 M1363.68 1337.36 L1368.38 1358.76 L1376.73 1350.41 L1363.68 1337.36 M1359.93 1335.35 L1364.09 1331.19 L1380.02 1347.12 L1383.5 1343.63 L1386.25 1346.38 L1382.77 1349.87 L1388.53 1355.63 L1385.24 1358.92 L1379.48 1353.16 L1368.44 1364.19 L1365.25 1361 L1359.93 1335.35 Z\" fill=\"#000000\" fill-rule=\"evenodd\" fill-opacity=\"1\" /><path clip-path=\"url(#clip320)\" d=\"M 0 0 M1383.13 1339.98 L1391.95 1331.16 L1394.63 1333.84 L1385.81 1342.67 L1383.13 1339.98 Z\" fill=\"#000000\" fill-rule=\"evenodd\" fill-opacity=\"1\" /><path clip-path=\"url(#clip320)\" d=\"M 0 0 M1406.12 1332.47 L1417.66 1320.93 L1420.45 1323.71 L1404.93 1339.23 L1402.15 1336.45 Q1402.08 1332.62 1402.05 1326.1 Q1402.02 1319.55 1401.9 1317.77 Q1401.7 1314.4 1401.1 1312.55 Q1400.49 1310.67 1399.3 1309.47 Q1397.35 1307.52 1394.75 1307.67 Q1392.16 1307.8 1389.97 1310 Q1388.41 1311.55 1387.22 1313.83 Q1386.04 1316.08 1385.17 1319.15 L1381.83 1315.81 Q1383.03 1313.01 1384.35 1310.86 Q1385.68 1308.72 1387.12 1307.28 Q1390.92 1303.48 1395.08 1303.12 Q1399.23 1302.76 1402.41 1305.94 Q1403.91 1307.44 1404.7 1309.37 Q1405.49 1311.27 1405.83 1314.6 Q1405.9 1315.48 1405.98 1319.95 Q1406.04 1324.4 1406.12 1332.47 Z\" fill=\"#000000\" fill-rule=\"evenodd\" fill-opacity=\"1\" /><path clip-path=\"url(#clip320)\" d=\"M 0 0 M1421.82 1316.77 L1427.22 1311.37 L1408.58 1292.73 L1403.88 1299.78 L1400.87 1296.77 L1405.53 1289.75 L1408.84 1286.44 L1430.5 1308.1 L1435.9 1302.7 L1438.68 1305.48 L1424.6 1319.55 L1421.82 1316.77 Z\" fill=\"#000000\" fill-rule=\"evenodd\" fill-opacity=\"1\" /><path clip-path=\"url(#clip320)\" d=\"M 0 0 M1393.55 1466.16 L1405.09 1454.62 L1407.87 1457.41 L1392.35 1472.92 L1389.57 1470.14 Q1389.51 1466.31 1389.47 1459.8 Q1389.44 1453.25 1389.33 1451.47 Q1389.13 1448.09 1388.52 1446.24 Q1387.92 1444.36 1386.72 1443.17 Q1384.78 1441.22 1382.17 1441.37 Q1379.59 1441.5 1377.39 1443.69 Q1375.84 1445.25 1374.64 1447.52 Q1373.47 1449.78 1372.6 1452.84 L1369.26 1449.5 Q1370.45 1446.7 1371.78 1444.56 Q1373.11 1442.41 1374.55 1440.97 Q1378.34 1437.18 1382.5 1436.82 Q1386.66 1436.46 1389.83 1439.63 Q1391.34 1441.14 1392.12 1443.07 Q1392.91 1444.97 1393.25 1448.29 Q1393.32 1449.17 1393.4 1453.64 Q1393.47 1458.09 1393.55 1466.16 Z\" fill=\"#000000\" fill-rule=\"evenodd\" fill-opacity=\"1\" /><path clip-path=\"url(#clip320)\" d=\"M 0 0 M1396.27 1424.49 Q1393.71 1427.04 1394.94 1430.86 Q1396.17 1434.64 1401.21 1439.68 Q1406.23 1444.71 1410.03 1445.95 Q1413.83 1447.16 1416.38 1444.61 Q1418.95 1442.04 1417.72 1438.26 Q1416.5 1434.44 1411.47 1429.42 Q1406.43 1424.38 1402.63 1423.16 Q1398.84 1421.92 1396.27 1424.49 M1393.65 1421.87 Q1397.76 1417.76 1403.17 1418.86 Q1408.59 1419.92 1414.78 1426.11 Q1420.95 1432.28 1422.03 1437.72 Q1423.11 1443.12 1419 1447.23 Q1414.89 1451.33 1409.48 1450.27 Q1404.06 1449.17 1397.89 1443 Q1391.7 1436.82 1390.62 1431.41 Q1389.54 1425.98 1393.65 1421.87 Z\" fill=\"#000000\" fill-rule=\"evenodd\" fill-opacity=\"1\" /><path clip-path=\"url(#clip320)\" d=\"M 0 0 M1430.62 1429.09 L1442.16 1417.55 L1444.94 1420.33 L1429.43 1435.85 L1426.65 1433.07 Q1426.58 1429.24 1426.55 1422.72 Q1426.51 1416.18 1426.4 1414.39 Q1426.2 1411.02 1425.6 1409.17 Q1424.99 1407.29 1423.8 1406.09 Q1421.85 1404.15 1419.25 1404.29 Q1416.66 1404.42 1414.47 1406.62 Q1412.91 1408.17 1411.72 1410.45 Q1410.54 1412.71 1409.67 1415.77 L1406.33 1412.43 Q1407.53 1409.63 1408.85 1407.48 Q1410.18 1405.34 1411.62 1403.9 Q1415.42 1400.1 1419.57 1399.74 Q1423.73 1399.38 1426.91 1402.56 Q1428.41 1404.06 1429.2 1405.99 Q1429.98 1407.89 1430.33 1411.22 Q1430.39 1412.1 1430.48 1416.57 Q1430.54 1421.02 1430.62 1429.09 Z\" fill=\"#000000\" fill-rule=\"evenodd\" fill-opacity=\"1\" /><path clip-path=\"url(#clip320)\" d=\"M 0 0 M1433.34 1387.42 Q1430.79 1389.97 1432.01 1393.78 Q1433.24 1397.57 1438.28 1402.61 Q1443.31 1407.63 1447.11 1408.88 Q1450.9 1410.09 1453.46 1407.53 Q1456.03 1404.96 1454.8 1401.18 Q1453.57 1397.37 1448.55 1392.34 Q1443.5 1387.3 1439.71 1386.09 Q1435.91 1384.85 1433.34 1387.42 M1430.72 1384.8 Q1434.83 1380.69 1440.25 1381.79 Q1445.67 1382.85 1451.85 1389.04 Q1458.02 1395.21 1459.1 1400.64 Q1460.18 1406.04 1456.08 1410.15 Q1451.97 1414.26 1446.55 1413.2 Q1441.13 1412.1 1434.96 1405.93 Q1428.77 1399.74 1427.69 1394.34 Q1426.61 1388.91 1430.72 1384.8 Z\" fill=\"#000000\" fill-rule=\"evenodd\" fill-opacity=\"1\" /><path clip-path=\"url(#clip320)\" d=\"M 0 0 M1455.16 1389.07 L1463.98 1380.25 L1466.67 1382.93 L1457.84 1391.75 L1455.16 1389.07 Z\" fill=\"#000000\" fill-rule=\"evenodd\" fill-opacity=\"1\" /><path clip-path=\"url(#clip320)\" d=\"M 0 0 M1462.9 1357.86 Q1460.35 1360.41 1461.57 1364.22 Q1462.8 1368 1467.84 1373.05 Q1472.87 1378.07 1476.67 1379.31 Q1480.46 1380.53 1483.02 1377.97 Q1485.59 1375.4 1484.36 1371.62 Q1483.13 1367.81 1478.11 1362.78 Q1473.07 1357.74 1469.27 1356.53 Q1465.47 1355.29 1462.9 1357.86 M1460.28 1355.24 Q1464.39 1351.13 1469.81 1352.23 Q1475.23 1353.29 1481.41 1359.48 Q1487.58 1365.65 1488.66 1371.08 Q1489.74 1376.48 1485.64 1380.59 Q1481.53 1384.7 1476.11 1383.64 Q1470.69 1382.54 1464.52 1376.37 Q1458.33 1370.18 1457.25 1364.78 Q1456.17 1359.35 1460.28 1355.24 Z\" fill=\"#000000\" fill-rule=\"evenodd\" fill-opacity=\"1\" /><path clip-path=\"url(#clip320)\" d=\"M 0 0 M1472.79 1343.62 L1485.77 1330.64 L1488.55 1333.42 L1478.6 1343.37 L1484.59 1349.36 Q1485.06 1348.4 1485.67 1347.56 Q1486.26 1346.71 1486.98 1345.99 Q1491.07 1341.9 1495.7 1341.75 Q1500.33 1341.6 1504.16 1345.43 Q1508.11 1349.38 1507.85 1354.03 Q1507.57 1358.66 1503.1 1363.13 Q1501.56 1364.67 1499.7 1366.01 Q1497.85 1367.33 1495.62 1368.51 L1492.3 1365.19 Q1494.57 1364.52 1496.54 1363.34 Q1498.5 1362.16 1500.25 1360.41 Q1503.08 1357.58 1503.25 1354.44 Q1503.41 1351.29 1500.86 1348.74 Q1498.3 1346.19 1495.16 1346.35 Q1492.02 1346.51 1489.19 1349.34 Q1487.86 1350.67 1486.83 1352.29 Q1485.82 1353.89 1485.06 1355.89 L1472.79 1343.62 Z\" fill=\"#000000\" fill-rule=\"evenodd\" fill-opacity=\"1\" /><path clip-path=\"url(#clip320)\" d=\"M 0 0 M1503.12 1341.11 L1511.94 1332.29 L1514.62 1334.97 L1505.8 1343.8 L1503.12 1341.11 Z\" fill=\"#000000\" fill-rule=\"evenodd\" fill-opacity=\"1\" /><path clip-path=\"url(#clip320)\" d=\"M 0 0 M1510.86 1309.9 Q1508.31 1312.45 1509.53 1316.26 Q1510.76 1320.05 1515.8 1325.09 Q1520.83 1330.11 1524.62 1331.36 Q1528.42 1332.57 1530.98 1330.01 Q1533.55 1327.44 1532.32 1323.66 Q1531.09 1319.85 1526.07 1314.82 Q1521.02 1309.78 1517.23 1308.57 Q1513.43 1307.33 1510.86 1309.9 M1508.24 1307.28 Q1512.35 1303.17 1517.77 1304.27 Q1523.18 1305.33 1529.37 1311.52 Q1535.54 1317.69 1536.62 1323.12 Q1537.7 1328.52 1533.59 1332.63 Q1529.49 1336.74 1524.07 1335.68 Q1518.65 1334.58 1512.48 1328.41 Q1506.29 1322.22 1505.21 1316.82 Q1504.13 1311.39 1508.24 1307.28 Z\" fill=\"#000000\" fill-rule=\"evenodd\" fill-opacity=\"1\" /><path clip-path=\"url(#clip320)\" d=\"M 0 0 M1542.94 1316.77 L1548.34 1311.37 L1529.7 1292.73 L1525 1299.78 L1521.99 1296.77 L1526.65 1289.75 L1529.96 1286.44 L1551.62 1308.1 L1557.02 1302.7 L1559.8 1305.48 L1545.72 1319.55 L1542.94 1316.77 Z\" fill=\"#000000\" fill-rule=\"evenodd\" fill-opacity=\"1\" /><path clip-path=\"url(#clip320)\" d=\"M 0 0 M1515.54 1465.3 L1527.08 1453.76 L1529.86 1456.54 L1514.34 1472.06 L1511.56 1469.27 Q1511.49 1465.44 1511.46 1458.93 Q1511.43 1452.38 1511.31 1450.6 Q1511.12 1447.23 1510.51 1445.38 Q1509.91 1443.49 1508.71 1442.3 Q1506.76 1440.35 1504.16 1440.5 Q1501.57 1440.63 1499.38 1442.82 Q1497.83 1444.38 1496.63 1446.65 Q1495.45 1448.91 1494.58 1451.97 L1491.25 1448.63 Q1492.44 1445.83 1493.77 1443.69 Q1495.09 1441.55 1496.53 1440.11 Q1500.33 1436.31 1504.49 1435.95 Q1508.65 1435.59 1511.82 1438.76 Q1513.33 1440.27 1514.11 1442.2 Q1514.9 1444.1 1515.24 1447.42 Q1515.31 1448.31 1515.39 1452.77 Q1515.45 1457.23 1515.54 1465.3 Z\" fill=\"#000000\" fill-rule=\"evenodd\" fill-opacity=\"1\" /><path clip-path=\"url(#clip320)\" d=\"M 0 0 M1518.25 1423.62 Q1515.7 1426.18 1516.93 1429.99 Q1518.15 1433.77 1523.2 1438.81 Q1528.22 1443.84 1532.02 1445.08 Q1535.82 1446.29 1538.37 1443.74 Q1540.94 1441.17 1539.71 1437.39 Q1538.48 1433.57 1533.46 1428.55 Q1528.42 1423.51 1524.62 1422.3 Q1520.82 1421.05 1518.25 1423.62 M1515.63 1421 Q1519.74 1416.9 1525.16 1417.99 Q1530.58 1419.06 1536.77 1425.24 Q1542.94 1431.41 1544.02 1436.85 Q1545.1 1442.25 1540.99 1446.36 Q1536.88 1450.47 1531.46 1449.4 Q1526.04 1448.31 1519.87 1442.14 Q1513.69 1435.95 1512.61 1430.55 Q1511.53 1425.11 1515.63 1421 Z\" fill=\"#000000\" fill-rule=\"evenodd\" fill-opacity=\"1\" /><path clip-path=\"url(#clip320)\" d=\"M 0 0 M1552.61 1428.22 L1564.15 1416.68 L1566.93 1419.47 L1551.41 1434.98 L1548.63 1432.2 Q1548.57 1428.37 1548.53 1421.86 Q1548.5 1415.31 1548.39 1413.52 Q1548.19 1410.15 1547.58 1408.3 Q1546.98 1406.42 1545.78 1405.23 Q1543.84 1403.28 1541.23 1403.42 Q1538.65 1403.56 1536.45 1405.75 Q1534.9 1407.3 1533.7 1409.58 Q1532.53 1411.84 1531.66 1414.9 L1528.32 1411.56 Q1529.51 1408.76 1530.84 1406.62 Q1532.17 1404.47 1533.61 1403.03 Q1537.4 1399.23 1541.56 1398.87 Q1545.72 1398.51 1548.89 1401.69 Q1550.4 1403.2 1551.19 1405.13 Q1551.97 1407.03 1552.32 1410.35 Q1552.38 1411.23 1552.46 1415.7 Q1552.53 1420.15 1552.61 1428.22 Z\" fill=\"#000000\" fill-rule=\"evenodd\" fill-opacity=\"1\" /><path clip-path=\"url(#clip320)\" d=\"M 0 0 M1555.33 1386.55 Q1552.77 1389.1 1554 1392.92 Q1555.23 1396.7 1560.27 1401.74 Q1565.3 1406.76 1569.09 1408.01 Q1572.89 1409.22 1575.44 1406.67 Q1578.01 1404.1 1576.79 1400.31 Q1575.56 1396.5 1570.53 1391.48 Q1565.49 1386.43 1561.69 1385.22 Q1557.9 1383.98 1555.33 1386.55 M1552.71 1383.93 Q1556.82 1379.82 1562.23 1380.92 Q1567.65 1381.98 1573.84 1388.17 Q1580.01 1394.34 1581.09 1399.77 Q1582.17 1405.18 1578.06 1409.28 Q1573.95 1413.39 1568.54 1412.33 Q1563.12 1411.23 1556.95 1405.06 Q1550.76 1398.87 1549.68 1393.47 Q1548.6 1388.04 1552.71 1383.93 Z\" fill=\"#000000\" fill-rule=\"evenodd\" fill-opacity=\"1\" /><path clip-path=\"url(#clip320)\" d=\"M 0 0 M1577.15 1388.2 L1585.97 1379.38 L1588.65 1382.06 L1579.83 1390.89 L1577.15 1388.2 Z\" fill=\"#000000\" fill-rule=\"evenodd\" fill-opacity=\"1\" /><path clip-path=\"url(#clip320)\" d=\"M 0 0 M1584.89 1356.99 Q1582.33 1359.54 1583.56 1363.36 Q1584.79 1367.14 1589.83 1372.18 Q1594.86 1377.2 1598.65 1378.45 Q1602.45 1379.66 1605 1377.1 Q1607.57 1374.54 1606.35 1370.75 Q1605.12 1366.94 1600.09 1361.92 Q1595.05 1356.87 1591.26 1355.66 Q1587.46 1354.42 1584.89 1356.99 M1582.27 1354.37 Q1586.38 1350.26 1591.8 1351.36 Q1597.21 1352.42 1603.4 1358.61 Q1609.57 1364.78 1610.65 1370.21 Q1611.73 1375.62 1607.62 1379.72 Q1603.51 1383.83 1598.1 1382.77 Q1592.68 1381.67 1586.51 1375.5 Q1580.32 1369.31 1579.24 1363.91 Q1578.16 1358.48 1582.27 1354.37 Z\" fill=\"#000000\" fill-rule=\"evenodd\" fill-opacity=\"1\" /><path clip-path=\"url(#clip320)\" d=\"M 0 0 M1594.77 1342.75 L1607.75 1329.77 L1610.54 1332.55 L1600.58 1342.5 L1606.58 1348.49 Q1607.05 1347.53 1607.66 1346.69 Q1608.25 1345.84 1608.97 1345.12 Q1613.06 1341.03 1617.69 1340.88 Q1622.32 1340.73 1626.15 1344.57 Q1630.1 1348.51 1629.83 1353.16 Q1629.56 1357.79 1625.09 1362.26 Q1623.55 1363.8 1621.68 1365.14 Q1619.83 1366.47 1617.61 1367.64 L1614.28 1364.32 Q1616.56 1363.65 1618.52 1362.47 Q1620.49 1361.29 1622.24 1359.54 Q1625.07 1356.71 1625.24 1353.57 Q1625.4 1350.42 1622.85 1347.87 Q1620.29 1345.32 1617.15 1345.48 Q1614.01 1345.65 1611.18 1348.48 Q1609.85 1349.8 1608.82 1351.42 Q1607.8 1353.03 1607.05 1355.02 L1594.77 1342.75 Z\" fill=\"#000000\" fill-rule=\"evenodd\" fill-opacity=\"1\" /><path clip-path=\"url(#clip320)\" d=\"M 0 0 M1625.1 1340.24 L1633.93 1331.42 L1636.61 1334.11 L1627.79 1342.93 L1625.1 1340.24 Z\" fill=\"#000000\" fill-rule=\"evenodd\" fill-opacity=\"1\" /><path clip-path=\"url(#clip320)\" d=\"M 0 0 M1645.83 1335.01 L1651.23 1329.6 L1632.58 1310.96 L1627.89 1318.02 L1624.88 1315 L1629.54 1307.98 L1632.85 1304.68 L1654.5 1326.33 L1659.9 1320.93 L1662.69 1323.71 L1648.61 1337.79 L1645.83 1335.01 Z\" fill=\"#000000\" fill-rule=\"evenodd\" fill-opacity=\"1\" /><path clip-path=\"url(#clip320)\" d=\"M 0 0 M1664.06 1316.77 L1669.46 1311.37 L1650.82 1292.73 L1646.12 1299.78 L1643.11 1296.77 L1647.77 1289.75 L1651.08 1286.44 L1672.74 1308.1 L1678.14 1302.7 L1680.92 1305.48 L1666.84 1319.55 L1664.06 1316.77 Z\" fill=\"#000000\" fill-rule=\"evenodd\" fill-opacity=\"1\" /><path clip-path=\"url(#clip320)\" d=\"M 0 0 M1636.92 1465.03 L1648.46 1453.5 L1651.24 1456.28 L1635.72 1471.79 L1632.94 1469.01 Q1632.87 1465.18 1632.84 1458.67 Q1632.81 1452.12 1632.69 1450.34 Q1632.5 1446.96 1631.89 1445.11 Q1631.29 1443.23 1630.09 1442.04 Q1628.14 1440.09 1625.54 1440.24 Q1622.96 1440.37 1620.76 1442.56 Q1619.21 1444.12 1618.01 1446.39 Q1616.83 1448.65 1615.97 1451.71 L1612.63 1448.37 Q1613.82 1445.57 1615.15 1443.43 Q1616.47 1441.28 1617.91 1439.84 Q1621.71 1436.05 1625.87 1435.69 Q1630.03 1435.33 1633.2 1438.5 Q1634.71 1440.01 1635.49 1441.94 Q1636.28 1443.84 1636.62 1447.16 Q1636.69 1448.04 1636.77 1452.51 Q1636.84 1456.97 1636.92 1465.03 Z\" fill=\"#000000\" fill-rule=\"evenodd\" fill-opacity=\"1\" /><path clip-path=\"url(#clip320)\" d=\"M 0 0 M1639.63 1423.36 Q1637.08 1425.91 1638.31 1429.73 Q1639.54 1433.51 1644.58 1438.55 Q1649.6 1443.58 1653.4 1444.82 Q1657.2 1446.03 1659.75 1443.48 Q1662.32 1440.91 1661.09 1437.13 Q1659.87 1433.31 1654.84 1428.29 Q1649.8 1423.25 1646 1422.04 Q1642.2 1420.79 1639.63 1423.36 M1637.02 1420.74 Q1641.12 1416.63 1646.54 1417.73 Q1651.96 1418.79 1658.15 1424.98 Q1664.32 1431.15 1665.4 1436.59 Q1666.48 1441.99 1662.37 1446.1 Q1658.26 1450.21 1652.84 1449.14 Q1647.43 1448.04 1641.26 1441.87 Q1635.07 1435.69 1633.99 1430.29 Q1632.91 1424.85 1637.02 1420.74 Z\" fill=\"#000000\" fill-rule=\"evenodd\" fill-opacity=\"1\" /><path clip-path=\"url(#clip320)\" d=\"M 0 0 M1673.99 1427.96 L1685.53 1416.42 L1688.31 1419.2 L1672.8 1434.72 L1670.01 1431.94 Q1669.95 1428.11 1669.92 1421.59 Q1669.88 1415.05 1669.77 1413.26 Q1669.57 1409.89 1668.97 1408.04 Q1668.36 1406.16 1667.17 1404.96 Q1665.22 1403.02 1662.62 1403.16 Q1660.03 1403.29 1657.84 1405.49 Q1656.28 1407.04 1655.09 1409.32 Q1653.91 1411.58 1653.04 1414.64 L1649.7 1411.3 Q1650.9 1408.5 1652.22 1406.35 Q1653.55 1404.21 1654.99 1402.77 Q1658.79 1398.97 1662.94 1398.61 Q1667.1 1398.25 1670.28 1401.43 Q1671.78 1402.93 1672.57 1404.87 Q1673.35 1406.76 1673.7 1410.09 Q1673.76 1410.97 1673.84 1415.44 Q1673.91 1419.89 1673.99 1427.96 Z\" fill=\"#000000\" fill-rule=\"evenodd\" fill-opacity=\"1\" /><path clip-path=\"url(#clip320)\" d=\"M 0 0 M1676.71 1386.29 Q1674.16 1388.84 1675.38 1392.65 Q1676.61 1396.44 1681.65 1401.48 Q1686.68 1406.5 1690.47 1407.75 Q1694.27 1408.96 1696.82 1406.4 Q1699.39 1403.83 1698.17 1400.05 Q1696.94 1396.24 1691.91 1391.21 Q1686.87 1386.17 1683.08 1384.96 Q1679.28 1383.72 1676.71 1386.29 M1674.09 1383.67 Q1678.2 1379.56 1683.62 1380.66 Q1689.03 1381.72 1695.22 1387.91 Q1701.39 1394.08 1702.47 1399.51 Q1703.55 1404.91 1699.44 1409.02 Q1695.34 1413.13 1689.92 1412.07 Q1684.5 1410.97 1678.33 1404.8 Q1672.14 1398.61 1671.06 1393.21 Q1669.98 1387.78 1674.09 1383.67 Z\" fill=\"#000000\" fill-rule=\"evenodd\" fill-opacity=\"1\" /><path clip-path=\"url(#clip320)\" d=\"M 0 0 M1698.53 1387.94 L1707.35 1379.12 L1710.03 1381.8 L1701.21 1390.63 L1698.53 1387.94 Z\" fill=\"#000000\" fill-rule=\"evenodd\" fill-opacity=\"1\" /><path clip-path=\"url(#clip320)\" d=\"M 0 0 M1706.27 1356.73 Q1703.72 1359.28 1704.94 1363.09 Q1706.17 1366.87 1711.21 1371.92 Q1716.24 1376.94 1720.03 1378.19 Q1723.83 1379.4 1726.39 1376.84 Q1728.96 1374.27 1727.73 1370.49 Q1726.5 1366.68 1721.48 1361.65 Q1716.43 1356.61 1712.64 1355.4 Q1708.84 1354.16 1706.27 1356.73 M1703.65 1354.11 Q1707.76 1350 1713.18 1351.1 Q1718.59 1352.16 1724.78 1358.35 Q1730.95 1364.52 1732.03 1369.95 Q1733.11 1375.35 1729 1379.46 Q1724.9 1383.57 1719.48 1382.51 Q1714.06 1381.41 1707.89 1375.24 Q1701.7 1369.05 1700.62 1363.65 Q1699.54 1358.22 1703.65 1354.11 Z\" fill=\"#000000\" fill-rule=\"evenodd\" fill-opacity=\"1\" /><path clip-path=\"url(#clip320)\" d=\"M 0 0 M1716.16 1342.49 L1729.14 1329.51 L1731.92 1332.29 L1721.97 1342.24 L1727.96 1348.23 Q1728.43 1347.27 1729.04 1346.43 Q1729.63 1345.58 1730.35 1344.86 Q1734.44 1340.77 1739.07 1340.62 Q1743.7 1340.47 1747.53 1344.3 Q1751.48 1348.25 1751.22 1352.9 Q1750.94 1357.53 1746.47 1362 Q1744.93 1363.54 1743.06 1364.88 Q1741.22 1366.2 1738.99 1367.38 L1735.67 1364.06 Q1737.94 1363.39 1739.91 1362.21 Q1741.87 1361.03 1743.62 1359.28 Q1746.45 1356.45 1746.62 1353.31 Q1746.78 1350.16 1744.23 1347.61 Q1741.67 1345.06 1738.53 1345.22 Q1735.39 1345.38 1732.56 1348.22 Q1731.23 1349.54 1730.2 1351.16 Q1729.18 1352.77 1728.43 1354.76 L1716.16 1342.49 Z\" fill=\"#000000\" fill-rule=\"evenodd\" fill-opacity=\"1\" /><path clip-path=\"url(#clip320)\" d=\"M 0 0 M1746.49 1339.98 L1755.31 1331.16 L1757.99 1333.84 L1749.17 1342.67 L1746.49 1339.98 Z\" fill=\"#000000\" fill-rule=\"evenodd\" fill-opacity=\"1\" /><path clip-path=\"url(#clip320)\" d=\"M 0 0 M1769.48 1332.47 L1781.02 1320.93 L1783.81 1323.71 L1768.29 1339.23 L1765.51 1336.45 Q1765.44 1332.62 1765.41 1326.1 Q1765.37 1319.55 1765.26 1317.77 Q1765.06 1314.4 1764.46 1312.55 Q1763.85 1310.67 1762.66 1309.47 Q1760.71 1307.52 1758.11 1307.67 Q1755.52 1307.8 1753.33 1310 Q1751.77 1311.55 1750.58 1313.83 Q1749.4 1316.08 1748.53 1319.15 L1745.19 1315.81 Q1746.39 1313.01 1747.71 1310.86 Q1749.04 1308.72 1750.48 1307.28 Q1754.28 1303.48 1758.43 1303.12 Q1762.59 1302.76 1765.77 1305.94 Q1767.27 1307.44 1768.06 1309.37 Q1768.84 1311.27 1769.19 1314.6 Q1769.25 1315.48 1769.34 1319.95 Q1769.4 1324.4 1769.48 1332.47 Z\" fill=\"#000000\" fill-rule=\"evenodd\" fill-opacity=\"1\" /><path clip-path=\"url(#clip320)\" d=\"M 0 0 M1785.18 1316.77 L1790.58 1311.37 L1771.94 1292.73 L1767.24 1299.78 L1764.23 1296.77 L1768.89 1289.75 L1772.2 1286.44 L1793.86 1308.1 L1799.26 1302.7 L1802.04 1305.48 L1787.96 1319.55 L1785.18 1316.77 Z\" fill=\"#000000\" fill-rule=\"evenodd\" fill-opacity=\"1\" /><path clip-path=\"url(#clip320)\" d=\"M 0 0 M1757.37 1465.71 L1768.91 1454.17 L1771.69 1456.95 L1756.17 1472.47 L1753.39 1469.68 Q1753.32 1465.85 1753.29 1459.34 Q1753.26 1452.79 1753.14 1451.01 Q1752.95 1447.64 1752.34 1445.79 Q1751.74 1443.9 1750.54 1442.71 Q1748.59 1440.76 1745.99 1440.91 Q1743.4 1441.04 1741.21 1443.23 Q1739.66 1444.79 1738.46 1447.06 Q1737.28 1449.32 1736.41 1452.38 L1733.08 1449.04 Q1734.27 1446.24 1735.6 1444.1 Q1736.92 1441.96 1738.36 1440.52 Q1742.16 1436.72 1746.32 1436.36 Q1750.48 1436 1753.65 1439.17 Q1755.16 1440.68 1755.94 1442.61 Q1756.73 1444.51 1757.07 1447.83 Q1757.14 1448.72 1757.22 1453.18 Q1757.28 1457.64 1757.37 1465.71 Z\" fill=\"#000000\" fill-rule=\"evenodd\" fill-opacity=\"1\" /><path clip-path=\"url(#clip320)\" d=\"M 0 0 M1760.08 1424.03 Q1757.53 1426.59 1758.76 1430.4 Q1759.98 1434.18 1765.03 1439.22 Q1770.05 1444.25 1773.85 1445.49 Q1777.65 1446.7 1780.2 1444.15 Q1782.77 1441.58 1781.54 1437.8 Q1780.31 1433.98 1775.29 1428.96 Q1770.25 1423.92 1766.45 1422.71 Q1762.65 1421.46 1760.08 1424.03 M1757.46 1421.41 Q1761.57 1417.31 1766.99 1418.4 Q1772.41 1419.47 1778.6 1425.65 Q1784.77 1431.82 1785.85 1437.26 Q1786.93 1442.66 1782.82 1446.77 Q1778.71 1450.88 1773.29 1449.81 Q1767.87 1448.72 1761.7 1442.54 Q1755.52 1436.36 1754.44 1430.96 Q1753.36 1425.52 1757.46 1421.41 Z\" fill=\"#000000\" fill-rule=\"evenodd\" fill-opacity=\"1\" /><path clip-path=\"url(#clip320)\" d=\"M 0 0 M1794.44 1428.63 L1805.98 1417.09 L1808.76 1419.87 L1793.25 1435.39 L1790.46 1432.61 Q1790.4 1428.78 1790.36 1422.26 Q1790.33 1415.72 1790.22 1413.93 Q1790.02 1410.56 1789.41 1408.71 Q1788.81 1406.83 1787.61 1405.63 Q1785.67 1403.69 1783.06 1403.83 Q1780.48 1403.97 1778.28 1406.16 Q1776.73 1407.71 1775.53 1409.99 Q1774.36 1412.25 1773.49 1415.31 L1770.15 1411.97 Q1771.34 1409.17 1772.67 1407.03 Q1774 1404.88 1775.44 1403.44 Q1779.23 1399.64 1783.39 1399.28 Q1787.55 1398.92 1790.72 1402.1 Q1792.23 1403.6 1793.02 1405.54 Q1793.8 1407.44 1794.15 1410.76 Q1794.21 1411.64 1794.29 1416.11 Q1794.36 1420.56 1794.44 1428.63 Z\" fill=\"#000000\" fill-rule=\"evenodd\" fill-opacity=\"1\" /><path clip-path=\"url(#clip320)\" d=\"M 0 0 M1797.16 1386.96 Q1794.6 1389.51 1795.83 1393.33 Q1797.06 1397.11 1802.1 1402.15 Q1807.13 1407.17 1810.92 1408.42 Q1814.72 1409.63 1817.27 1407.08 Q1819.84 1404.51 1818.62 1400.72 Q1817.39 1396.91 1812.36 1391.89 Q1807.32 1386.84 1803.52 1385.63 Q1799.73 1384.39 1797.16 1386.96 M1794.54 1384.34 Q1798.65 1380.23 1804.06 1381.33 Q1809.48 1382.39 1815.67 1388.58 Q1821.84 1394.75 1822.92 1400.18 Q1824 1405.59 1819.89 1409.69 Q1815.78 1413.8 1810.37 1412.74 Q1804.95 1411.64 1798.78 1405.47 Q1792.59 1399.28 1791.51 1393.88 Q1790.43 1388.45 1794.54 1384.34 Z\" fill=\"#000000\" fill-rule=\"evenodd\" fill-opacity=\"1\" /><path clip-path=\"url(#clip320)\" d=\"M 0 0 M1818.98 1388.61 L1827.8 1379.79 L1830.48 1382.47 L1821.66 1391.3 L1818.98 1388.61 Z\" fill=\"#000000\" fill-rule=\"evenodd\" fill-opacity=\"1\" /><path clip-path=\"url(#clip320)\" d=\"M 0 0 M1826.72 1357.4 Q1824.16 1359.95 1825.39 1363.76 Q1826.62 1367.55 1831.66 1372.59 Q1836.69 1377.61 1840.48 1378.86 Q1844.28 1380.07 1846.83 1377.51 Q1849.4 1374.94 1848.18 1371.16 Q1846.95 1367.35 1841.92 1362.32 Q1836.88 1357.28 1833.09 1356.07 Q1829.29 1354.83 1826.72 1357.4 M1824.1 1354.78 Q1828.21 1350.67 1833.63 1351.77 Q1839.04 1352.83 1845.23 1359.02 Q1851.4 1365.19 1852.48 1370.62 Q1853.56 1376.02 1849.45 1380.13 Q1845.34 1384.24 1839.93 1383.18 Q1834.51 1382.08 1828.34 1375.91 Q1822.15 1369.72 1821.07 1364.32 Q1819.99 1358.89 1824.1 1354.78 Z\" fill=\"#000000\" fill-rule=\"evenodd\" fill-opacity=\"1\" /><path clip-path=\"url(#clip320)\" d=\"M 0 0 M1836.6 1343.16 L1849.58 1330.18 L1852.37 1332.96 L1842.41 1342.91 L1848.41 1348.9 Q1848.88 1347.94 1849.49 1347.1 Q1850.08 1346.25 1850.8 1345.53 Q1854.89 1341.44 1859.52 1341.29 Q1864.15 1341.14 1867.98 1344.97 Q1871.93 1348.92 1871.66 1353.57 Q1871.39 1358.2 1866.92 1362.67 Q1865.38 1364.21 1863.51 1365.55 Q1861.66 1366.87 1859.44 1368.05 L1856.11 1364.73 Q1858.39 1364.06 1860.35 1362.88 Q1862.32 1361.7 1864.07 1359.95 Q1866.9 1357.12 1867.07 1353.98 Q1867.23 1350.83 1864.68 1348.28 Q1862.12 1345.73 1858.98 1345.89 Q1855.84 1346.05 1853.01 1348.89 Q1851.68 1350.21 1850.65 1351.83 Q1849.63 1353.44 1848.88 1355.43 L1836.6 1343.16 Z\" fill=\"#000000\" fill-rule=\"evenodd\" fill-opacity=\"1\" /><path clip-path=\"url(#clip320)\" d=\"M 0 0 M1866.93 1340.65 L1875.76 1331.83 L1878.44 1334.52 L1869.62 1343.34 L1866.93 1340.65 Z\" fill=\"#000000\" fill-rule=\"evenodd\" fill-opacity=\"1\" /><path clip-path=\"url(#clip320)\" d=\"M 0 0 M1886.71 1315.58 Q1889.59 1313.71 1892.52 1313.99 Q1895.46 1314.25 1897.82 1316.61 Q1901.44 1320.23 1900.93 1324.69 Q1900.42 1329.16 1895.84 1333.75 Q1894.3 1335.28 1892.35 1336.61 Q1890.44 1337.94 1888.1 1339.07 L1884.91 1335.87 Q1887.08 1335.3 1889.13 1334.07 Q1891.18 1332.85 1892.96 1331.06 Q1896.07 1327.95 1896.46 1325.1 Q1896.87 1322.24 1894.53 1319.9 Q1892.37 1317.74 1889.64 1318.05 Q1886.9 1318.33 1884.2 1321.03 L1881.35 1323.88 L1878.64 1321.16 L1881.62 1318.18 Q1884.06 1315.74 1884.38 1313.48 Q1884.69 1311.21 1882.86 1309.37 Q1880.98 1307.49 1878.64 1307.84 Q1876.3 1308.15 1873.81 1310.63 Q1872.45 1311.99 1871.19 1313.84 Q1869.93 1315.69 1868.69 1318.18 L1865.74 1315.23 Q1867.1 1312.83 1868.47 1310.93 Q1869.86 1309.01 1871.32 1307.56 Q1875.09 1303.79 1879 1303.32 Q1882.89 1302.83 1885.81 1305.74 Q1887.84 1307.77 1888.08 1310.34 Q1888.31 1312.89 1886.71 1315.58 Z\" fill=\"#000000\" fill-rule=\"evenodd\" fill-opacity=\"1\" /><path clip-path=\"url(#clip320)\" d=\"M 0 0 M1906.3 1316.77 L1911.7 1311.37 L1893.06 1292.73 L1888.36 1299.78 L1885.35 1296.77 L1890.01 1289.75 L1893.32 1286.44 L1914.97 1308.1 L1920.38 1302.7 L1923.16 1305.48 L1909.08 1319.55 L1906.3 1316.77 Z\" fill=\"#000000\" fill-rule=\"evenodd\" fill-opacity=\"1\" /><path clip-path=\"url(#clip320)\" d=\"M 0 0 M1877.21 1466.98 L1888.75 1455.44 L1891.53 1458.23 L1876.01 1473.74 L1873.23 1470.96 Q1873.17 1467.13 1873.13 1460.62 Q1873.1 1454.07 1872.99 1452.28 Q1872.79 1448.91 1872.18 1447.06 Q1871.58 1445.18 1870.38 1443.99 Q1868.44 1442.04 1865.83 1442.18 Q1863.25 1442.32 1861.05 1444.51 Q1859.5 1446.06 1858.3 1448.34 Q1857.13 1450.6 1856.26 1453.66 L1852.92 1450.32 Q1854.11 1447.52 1855.44 1445.38 Q1856.77 1443.23 1858.21 1441.79 Q1862 1437.99 1866.16 1437.63 Q1870.32 1437.27 1873.49 1440.45 Q1875 1441.96 1875.78 1443.89 Q1876.57 1445.79 1876.91 1449.11 Q1876.98 1449.99 1877.06 1454.46 Q1877.13 1458.91 1877.21 1466.98 Z\" fill=\"#000000\" fill-rule=\"evenodd\" fill-opacity=\"1\" /><path clip-path=\"url(#clip320)\" d=\"M 0 0 M1879.93 1425.31 Q1877.37 1427.86 1878.6 1431.68 Q1879.83 1435.46 1884.87 1440.5 Q1889.89 1445.52 1893.69 1446.77 Q1897.49 1447.98 1900.04 1445.43 Q1902.61 1442.86 1901.38 1439.07 Q1900.16 1435.26 1895.13 1430.24 Q1890.09 1425.19 1886.29 1423.98 Q1882.5 1422.74 1879.93 1425.31 M1877.31 1422.69 Q1881.42 1418.58 1886.83 1419.68 Q1892.25 1420.74 1898.44 1426.93 Q1904.61 1433.1 1905.69 1438.53 Q1906.77 1443.94 1902.66 1448.04 Q1898.55 1452.15 1893.14 1451.09 Q1887.72 1449.99 1881.55 1443.82 Q1875.36 1437.63 1874.28 1432.23 Q1873.2 1426.8 1877.31 1422.69 Z\" fill=\"#000000\" fill-rule=\"evenodd\" fill-opacity=\"1\" /><path clip-path=\"url(#clip320)\" d=\"M 0 0 M1914.28 1429.91 L1925.82 1418.37 L1928.6 1421.15 L1913.09 1436.67 L1910.31 1433.89 Q1910.24 1430.06 1910.21 1423.54 Q1910.17 1416.99 1910.06 1415.21 Q1909.86 1411.84 1909.26 1409.99 Q1908.65 1408.11 1907.46 1406.91 Q1905.51 1404.96 1902.91 1405.11 Q1900.32 1405.24 1898.13 1407.44 Q1896.57 1408.99 1895.38 1411.27 Q1894.2 1413.52 1893.33 1416.58 L1889.99 1413.25 Q1891.19 1410.45 1892.51 1408.3 Q1893.84 1406.16 1895.28 1404.72 Q1899.08 1400.92 1903.23 1400.56 Q1907.39 1400.2 1910.57 1403.38 Q1912.07 1404.88 1912.86 1406.81 Q1913.64 1408.71 1913.99 1412.03 Q1914.05 1412.92 1914.14 1417.39 Q1914.2 1421.84 1914.28 1429.91 Z\" fill=\"#000000\" fill-rule=\"evenodd\" fill-opacity=\"1\" /><path clip-path=\"url(#clip320)\" d=\"M 0 0 M1917 1388.24 Q1914.45 1390.79 1915.67 1394.6 Q1916.9 1398.38 1921.94 1403.42 Q1926.97 1408.45 1930.77 1409.69 Q1934.56 1410.91 1937.12 1408.35 Q1939.69 1405.78 1938.46 1402 Q1937.23 1398.19 1932.21 1393.16 Q1927.16 1388.12 1923.37 1386.91 Q1919.57 1385.67 1917 1388.24 M1914.38 1385.62 Q1918.49 1381.51 1923.91 1382.6 Q1929.33 1383.67 1935.51 1389.86 Q1941.68 1396.03 1942.76 1401.46 Q1943.84 1406.86 1939.74 1410.97 Q1935.63 1415.08 1930.21 1414.02 Q1924.79 1412.92 1918.62 1406.75 Q1912.43 1400.56 1911.35 1395.16 Q1910.27 1389.72 1914.38 1385.62 Z\" fill=\"#000000\" fill-rule=\"evenodd\" fill-opacity=\"1\" /><path clip-path=\"url(#clip320)\" d=\"M 0 0 M1938.82 1389.89 L1947.64 1381.07 L1950.33 1383.75 L1941.5 1392.57 L1938.82 1389.89 Z\" fill=\"#000000\" fill-rule=\"evenodd\" fill-opacity=\"1\" /><path clip-path=\"url(#clip320)\" d=\"M 0 0 M1946.56 1358.67 Q1944.01 1361.23 1945.23 1365.04 Q1946.46 1368.82 1951.5 1373.86 Q1956.53 1378.89 1960.33 1380.13 Q1964.12 1381.34 1966.68 1378.79 Q1969.25 1376.22 1968.02 1372.44 Q1966.79 1368.63 1961.77 1363.6 Q1956.73 1358.56 1952.93 1357.35 Q1949.13 1356.1 1946.56 1358.67 M1943.94 1356.06 Q1948.05 1351.95 1953.47 1353.04 Q1958.89 1354.11 1965.07 1360.29 Q1971.24 1366.47 1972.32 1371.9 Q1973.4 1377.3 1969.3 1381.41 Q1965.19 1385.52 1959.77 1384.45 Q1954.35 1383.36 1948.18 1377.19 Q1941.99 1371 1940.91 1365.6 Q1939.83 1360.16 1943.94 1356.06 Z\" fill=\"#000000\" fill-rule=\"evenodd\" fill-opacity=\"1\" /><path clip-path=\"url(#clip320)\" d=\"M 0 0 M1974.8 1347.89 Q1972.57 1350.11 1972.78 1352.95 Q1973.01 1355.76 1975.66 1358.41 Q1978.3 1361.05 1981.13 1361.29 Q1983.96 1361.51 1986.19 1359.28 Q1988.41 1357.05 1988.18 1354.24 Q1987.96 1351.39 1985.32 1348.76 Q1982.67 1346.1 1979.84 1345.89 Q1977.02 1345.66 1974.8 1347.89 M1971 1330.96 L1974.01 1333.97 Q1972.18 1334.63 1970.59 1335.6 Q1969.02 1336.54 1967.77 1337.79 Q1964.5 1341.06 1964.97 1345.01 Q1965.47 1348.94 1969.69 1353.65 Q1969.23 1351.26 1969.93 1349.05 Q1970.62 1346.82 1972.37 1345.07 Q1976.06 1341.39 1980.43 1341.5 Q1984.8 1341.59 1988.64 1345.43 Q1992.41 1349.2 1992.46 1353.7 Q1992.51 1358.2 1988.81 1361.9 Q1984.57 1366.14 1979.08 1365.14 Q1973.58 1364.13 1967.41 1357.95 Q1961.62 1352.16 1960.93 1345.97 Q1960.23 1339.77 1964.86 1335.14 Q1966.1 1333.89 1967.61 1332.88 Q1969.13 1331.85 1971 1330.96 Z\" fill=\"#000000\" fill-rule=\"evenodd\" fill-opacity=\"1\" /><path clip-path=\"url(#clip320)\" d=\"M 0 0 M1987.6 1341.11 L1996.42 1332.29 L1999.1 1334.97 L1990.28 1343.8 L1987.6 1341.11 Z\" fill=\"#000000\" fill-rule=\"evenodd\" fill-opacity=\"1\" /><path clip-path=\"url(#clip320)\" d=\"M 0 0 M2008.32 1335.87 L2013.72 1330.47 L1995.08 1311.83 L1990.38 1318.88 L1987.37 1315.87 L1992.03 1308.85 L1995.34 1305.54 L2016.99 1327.2 L2022.39 1321.8 L2025.18 1324.58 L2011.1 1338.66 L2008.32 1335.87 Z\" fill=\"#000000\" fill-rule=\"evenodd\" fill-opacity=\"1\" /><path clip-path=\"url(#clip320)\" d=\"M 0 0 M2013.57 1291.66 Q2011.02 1294.22 2012.25 1298.03 Q2013.47 1301.81 2018.52 1306.85 Q2023.54 1311.88 2027.34 1313.12 Q2031.13 1314.33 2033.69 1311.78 Q2036.26 1309.21 2035.03 1305.43 Q2033.8 1301.62 2028.78 1296.59 Q2023.74 1291.55 2019.94 1290.34 Q2016.14 1289.09 2013.57 1291.66 M2010.95 1289.04 Q2015.06 1284.94 2020.48 1286.03 Q2025.9 1287.1 2032.08 1293.28 Q2038.25 1299.45 2039.34 1304.89 Q2040.42 1310.29 2036.31 1314.4 Q2032.2 1318.51 2026.78 1317.44 Q2021.36 1316.35 2015.19 1310.18 Q2009.01 1303.99 2007.92 1298.59 Q2006.84 1293.15 2010.95 1289.04 Z\" fill=\"#000000\" fill-rule=\"evenodd\" fill-opacity=\"1\" /><path clip-path=\"url(#clip320)\" d=\"M 0 0 M1998.59 1466.72 L2010.13 1455.18 L2012.91 1457.96 L1997.4 1473.48 L1994.61 1470.7 Q1994.55 1466.87 1994.51 1460.35 Q1994.48 1453.81 1994.37 1452.02 Q1994.17 1448.65 1993.57 1446.8 Q1992.96 1444.92 1991.76 1443.72 Q1989.82 1441.78 1987.21 1441.92 Q1984.63 1442.05 1982.44 1444.25 Q1980.88 1445.8 1979.69 1448.08 Q1978.51 1450.34 1977.64 1453.4 L1974.3 1450.06 Q1975.5 1447.26 1976.82 1445.11 Q1978.15 1442.97 1979.59 1441.53 Q1983.38 1437.73 1987.54 1437.37 Q1991.7 1437.01 1994.87 1440.19 Q1996.38 1441.69 1997.17 1443.63 Q1997.95 1445.52 1998.3 1448.85 Q1998.36 1449.73 1998.44 1454.2 Q1998.51 1458.65 1998.59 1466.72 Z\" fill=\"#000000\" fill-rule=\"evenodd\" fill-opacity=\"1\" /><path clip-path=\"url(#clip320)\" d=\"M 0 0 M2001.31 1425.05 Q1998.75 1427.6 1999.98 1431.41 Q2001.21 1435.2 2006.25 1440.24 Q2011.28 1445.26 2015.07 1446.51 Q2018.87 1447.72 2021.42 1445.16 Q2023.99 1442.59 2022.77 1438.81 Q2021.54 1435 2016.51 1429.97 Q2011.47 1424.93 2007.67 1423.72 Q2003.88 1422.48 2001.31 1425.05 M1998.69 1422.43 Q2002.8 1418.32 2008.21 1419.42 Q2013.63 1420.48 2019.82 1426.67 Q2025.99 1432.84 2027.07 1438.27 Q2028.15 1443.67 2024.04 1447.78 Q2019.93 1451.89 2014.52 1450.83 Q2009.1 1449.73 2002.93 1443.56 Q1996.74 1437.37 1995.66 1431.97 Q1994.58 1426.54 1998.69 1422.43 Z\" fill=\"#000000\" fill-rule=\"evenodd\" fill-opacity=\"1\" /><path clip-path=\"url(#clip320)\" d=\"M 0 0 M2035.66 1429.65 L2047.2 1418.11 L2049.99 1420.89 L2034.47 1436.41 L2031.69 1433.62 Q2031.62 1429.79 2031.59 1423.28 Q2031.56 1416.73 2031.44 1414.95 Q2031.24 1411.58 2030.64 1409.73 Q2030.03 1407.84 2028.84 1406.65 Q2026.89 1404.7 2024.29 1404.85 Q2021.7 1404.98 2019.51 1407.17 Q2017.95 1408.73 2016.76 1411 Q2015.58 1413.26 2014.71 1416.32 L2011.37 1412.98 Q2012.57 1410.18 2013.89 1408.04 Q2015.22 1405.9 2016.66 1404.46 Q2020.46 1400.66 2024.62 1400.3 Q2028.77 1399.94 2031.95 1403.11 Q2033.45 1404.62 2034.24 1406.55 Q2035.03 1408.45 2035.37 1411.77 Q2035.44 1412.66 2035.52 1417.13 Q2035.58 1421.58 2035.66 1429.65 Z\" fill=\"#000000\" fill-rule=\"evenodd\" fill-opacity=\"1\" /><path clip-path=\"url(#clip320)\" d=\"M 0 0 M2038.38 1387.97 Q2035.83 1390.53 2037.06 1394.34 Q2038.28 1398.12 2043.32 1403.16 Q2048.35 1408.19 2052.15 1409.43 Q2055.94 1410.64 2058.5 1408.09 Q2061.07 1405.52 2059.84 1401.74 Q2058.61 1397.93 2053.59 1392.9 Q2048.55 1387.86 2044.75 1386.65 Q2040.95 1385.4 2038.38 1387.97 M2035.76 1385.35 Q2039.87 1381.25 2045.29 1382.34 Q2050.71 1383.41 2056.89 1389.59 Q2063.06 1395.76 2064.14 1401.2 Q2065.23 1406.6 2061.12 1410.71 Q2057.01 1414.82 2051.59 1413.75 Q2046.17 1412.66 2040 1406.49 Q2033.81 1400.3 2032.73 1394.9 Q2031.65 1389.46 2035.76 1385.35 Z\" fill=\"#000000\" fill-rule=\"evenodd\" fill-opacity=\"1\" /><path clip-path=\"url(#clip320)\" d=\"M 0 0 M2060.2 1389.63 L2069.02 1380.8 L2071.71 1383.49 L2062.88 1392.31 L2060.2 1389.63 Z\" fill=\"#000000\" fill-rule=\"evenodd\" fill-opacity=\"1\" /><path clip-path=\"url(#clip320)\" d=\"M 0 0 M2067.94 1358.41 Q2065.39 1360.97 2066.62 1364.78 Q2067.84 1368.56 2072.89 1373.6 Q2077.91 1378.63 2081.71 1379.87 Q2085.51 1381.08 2088.06 1378.53 Q2090.63 1375.96 2089.4 1372.18 Q2088.17 1368.36 2083.15 1363.34 Q2078.11 1358.3 2074.31 1357.09 Q2070.51 1355.84 2067.94 1358.41 M2065.32 1355.79 Q2069.43 1351.69 2074.85 1352.78 Q2080.27 1353.85 2086.45 1360.03 Q2092.63 1366.2 2093.71 1371.64 Q2094.79 1377.04 2090.68 1381.15 Q2086.57 1385.26 2081.15 1384.19 Q2075.73 1383.1 2069.56 1376.92 Q2063.38 1370.74 2062.3 1365.34 Q2061.21 1359.9 2065.32 1355.79 Z\" fill=\"#000000\" fill-rule=\"evenodd\" fill-opacity=\"1\" /><path clip-path=\"url(#clip320)\" d=\"M 0 0 M2096.18 1347.63 Q2093.95 1349.85 2094.16 1352.68 Q2094.39 1355.5 2097.04 1358.15 Q2099.68 1360.79 2102.51 1361.03 Q2105.34 1361.24 2107.57 1359.02 Q2109.8 1356.79 2109.57 1353.98 Q2109.34 1351.13 2106.7 1348.49 Q2104.05 1345.84 2101.22 1345.63 Q2098.4 1345.4 2096.18 1347.63 M2092.38 1330.7 L2095.39 1333.71 Q2093.56 1334.37 2091.97 1335.33 Q2090.4 1336.28 2089.16 1337.53 Q2085.88 1340.8 2086.36 1344.75 Q2086.85 1348.67 2091.07 1353.39 Q2090.61 1351 2091.32 1348.79 Q2092 1346.56 2093.75 1344.81 Q2097.44 1341.13 2101.81 1341.24 Q2106.18 1341.32 2110.02 1345.17 Q2113.79 1348.94 2113.84 1353.44 Q2113.89 1357.94 2110.19 1361.64 Q2105.95 1365.88 2100.47 1364.88 Q2094.97 1363.86 2088.8 1357.69 Q2083 1351.9 2082.31 1345.71 Q2081.61 1339.51 2086.24 1334.88 Q2087.49 1333.63 2088.99 1332.62 Q2090.51 1331.59 2092.38 1330.7 Z\" fill=\"#000000\" fill-rule=\"evenodd\" fill-opacity=\"1\" /><path clip-path=\"url(#clip320)\" d=\"M 0 0 M2108.98 1340.85 L2117.8 1332.03 L2120.48 1334.71 L2111.66 1343.53 L2108.98 1340.85 Z\" fill=\"#000000\" fill-rule=\"evenodd\" fill-opacity=\"1\" /><path clip-path=\"url(#clip320)\" d=\"M 0 0 M2131.97 1333.34 L2143.51 1321.8 L2146.3 1324.58 L2130.78 1340.1 L2128 1337.31 Q2127.93 1333.48 2127.9 1326.97 Q2127.87 1320.42 2127.75 1318.64 Q2127.55 1315.27 2126.95 1313.42 Q2126.34 1311.53 2125.15 1310.34 Q2123.2 1308.39 2120.6 1308.54 Q2118.01 1308.67 2115.82 1310.86 Q2114.26 1312.42 2113.07 1314.69 Q2111.89 1316.95 2111.02 1320.01 L2107.68 1316.67 Q2108.88 1313.87 2110.2 1311.73 Q2111.53 1309.59 2112.97 1308.15 Q2116.77 1304.35 2120.93 1303.99 Q2125.08 1303.63 2128.26 1306.8 Q2129.76 1308.31 2130.55 1310.24 Q2131.34 1312.14 2131.68 1315.46 Q2131.75 1316.35 2131.83 1320.81 Q2131.89 1325.27 2131.97 1333.34 Z\" fill=\"#000000\" fill-rule=\"evenodd\" fill-opacity=\"1\" /><path clip-path=\"url(#clip320)\" d=\"M 0 0 M2134.69 1291.66 Q2132.14 1294.22 2133.37 1298.03 Q2134.59 1301.81 2139.63 1306.85 Q2144.66 1311.88 2148.46 1313.12 Q2152.25 1314.33 2154.81 1311.78 Q2157.38 1309.21 2156.15 1305.43 Q2154.92 1301.62 2149.9 1296.59 Q2144.86 1291.55 2141.06 1290.34 Q2137.26 1289.09 2134.69 1291.66 M2132.07 1289.04 Q2136.18 1284.94 2141.6 1286.03 Q2147.02 1287.1 2153.2 1293.28 Q2159.37 1299.45 2160.45 1304.89 Q2161.54 1310.29 2157.43 1314.4 Q2153.32 1318.51 2147.9 1317.44 Q2142.48 1316.35 2136.31 1310.18 Q2130.12 1303.99 2129.04 1298.59 Q2127.96 1293.15 2132.07 1289.04 Z\" fill=\"#000000\" fill-rule=\"evenodd\" fill-opacity=\"1\" /><path clip-path=\"url(#clip320)\" d=\"M 0 0 M2119.04 1467.39 L2130.58 1455.85 L2133.36 1458.63 L2117.84 1474.15 L2115.06 1471.37 Q2115 1467.54 2114.96 1461.02 Q2114.93 1454.48 2114.82 1452.69 Q2114.62 1449.32 2114.01 1447.47 Q2113.41 1445.59 2112.21 1444.39 Q2110.27 1442.45 2107.66 1442.59 Q2105.08 1442.72 2102.88 1444.92 Q2101.33 1446.47 2100.13 1448.75 Q2098.96 1451.01 2098.09 1454.07 L2094.75 1450.73 Q2095.94 1447.93 2097.27 1445.79 Q2098.6 1443.64 2100.04 1442.2 Q2103.83 1438.4 2107.99 1438.04 Q2112.15 1437.68 2115.32 1440.86 Q2116.83 1442.36 2117.61 1444.3 Q2118.4 1446.19 2118.74 1449.52 Q2118.81 1450.4 2118.89 1454.87 Q2118.96 1459.32 2119.04 1467.39 Z\" fill=\"#000000\" fill-rule=\"evenodd\" fill-opacity=\"1\" /><path clip-path=\"url(#clip320)\" d=\"M 0 0 M2121.76 1425.72 Q2119.2 1428.27 2120.43 1432.09 Q2121.66 1435.87 2126.7 1440.91 Q2131.72 1445.93 2135.52 1447.18 Q2139.32 1448.39 2141.87 1445.83 Q2144.44 1443.26 2143.21 1439.48 Q2141.99 1435.67 2136.96 1430.65 Q2131.92 1425.6 2128.12 1424.39 Q2124.33 1423.15 2121.76 1425.72 M2119.14 1423.1 Q2123.25 1418.99 2128.66 1420.09 Q2134.08 1421.15 2140.27 1427.34 Q2146.44 1433.51 2147.52 1438.94 Q2148.6 1444.35 2144.49 1448.45 Q2140.38 1452.56 2134.97 1451.5 Q2129.55 1450.4 2123.38 1444.23 Q2117.19 1438.04 2116.11 1432.64 Q2115.03 1427.21 2119.14 1423.1 Z\" fill=\"#000000\" fill-rule=\"evenodd\" fill-opacity=\"1\" /><path clip-path=\"url(#clip320)\" d=\"M 0 0 M2156.11 1430.32 L2167.65 1418.78 L2170.43 1421.56 L2154.92 1437.08 L2152.14 1434.3 Q2152.07 1430.47 2152.04 1423.95 Q2152 1417.4 2151.89 1415.62 Q2151.69 1412.25 2151.09 1410.4 Q2150.48 1408.52 2149.29 1407.32 Q2147.34 1405.37 2144.74 1405.52 Q2142.15 1405.65 2139.96 1407.84 Q2138.4 1409.4 2137.21 1411.67 Q2136.03 1413.93 2135.16 1416.99 L2131.82 1413.65 Q2133.02 1410.86 2134.34 1408.71 Q2135.67 1406.57 2137.11 1405.13 Q2140.91 1401.33 2145.06 1400.97 Q2149.22 1400.61 2152.4 1403.79 Q2153.9 1405.29 2154.69 1407.22 Q2155.47 1409.12 2155.82 1412.44 Q2155.88 1413.33 2155.97 1417.8 Q2156.03 1422.25 2156.11 1430.32 Z\" fill=\"#000000\" fill-rule=\"evenodd\" fill-opacity=\"1\" /><path clip-path=\"url(#clip320)\" d=\"M 0 0 M2158.83 1388.64 Q2156.28 1391.2 2157.5 1395.01 Q2158.73 1398.79 2163.77 1403.83 Q2168.8 1408.86 2172.6 1410.1 Q2176.39 1411.31 2178.95 1408.76 Q2181.52 1406.19 2180.29 1402.41 Q2179.06 1398.6 2174.04 1393.57 Q2168.99 1388.53 2165.2 1387.32 Q2161.4 1386.07 2158.83 1388.64 M2156.21 1386.03 Q2160.32 1381.92 2165.74 1383.01 Q2171.16 1384.08 2177.34 1390.26 Q2183.51 1396.44 2184.59 1401.87 Q2185.67 1407.27 2181.57 1411.38 Q2177.46 1415.49 2172.04 1414.42 Q2166.62 1413.33 2160.45 1407.16 Q2154.26 1400.97 2153.18 1395.57 Q2152.1 1390.13 2156.21 1386.03 Z\" fill=\"#000000\" fill-rule=\"evenodd\" fill-opacity=\"1\" /><path clip-path=\"url(#clip320)\" d=\"M 0 0 M2180.65 1390.3 L2189.47 1381.48 L2192.16 1384.16 L2183.33 1392.98 L2180.65 1390.3 Z\" fill=\"#000000\" fill-rule=\"evenodd\" fill-opacity=\"1\" /><path clip-path=\"url(#clip320)\" d=\"M 0 0 M2188.39 1359.08 Q2185.84 1361.64 2187.06 1365.45 Q2188.29 1369.23 2193.33 1374.27 Q2198.36 1379.3 2202.16 1380.54 Q2205.95 1381.75 2208.51 1379.2 Q2211.08 1376.63 2209.85 1372.85 Q2208.62 1369.04 2203.6 1364.01 Q2198.56 1358.97 2194.76 1357.76 Q2190.96 1356.51 2188.39 1359.08 M2185.77 1356.46 Q2189.88 1352.36 2195.3 1353.45 Q2200.72 1354.52 2206.9 1360.7 Q2213.07 1366.87 2214.15 1372.31 Q2215.23 1377.71 2211.13 1381.82 Q2207.02 1385.93 2201.6 1384.86 Q2196.18 1383.77 2190.01 1377.6 Q2183.82 1371.41 2182.74 1366.01 Q2181.66 1360.57 2185.77 1356.46 Z\" fill=\"#000000\" fill-rule=\"evenodd\" fill-opacity=\"1\" /><path clip-path=\"url(#clip320)\" d=\"M 0 0 M2216.63 1348.3 Q2214.4 1350.52 2214.61 1353.35 Q2214.84 1356.17 2217.49 1358.82 Q2220.13 1361.46 2222.96 1361.7 Q2225.79 1361.92 2228.02 1359.69 Q2230.24 1357.46 2230.01 1354.65 Q2229.79 1351.8 2227.15 1349.16 Q2224.5 1346.51 2221.67 1346.3 Q2218.85 1346.07 2216.63 1348.3 M2212.83 1331.37 L2215.84 1334.38 Q2214.01 1335.04 2212.42 1336 Q2210.85 1336.95 2209.6 1338.2 Q2206.33 1341.47 2206.8 1345.42 Q2207.3 1349.34 2211.52 1354.06 Q2211.06 1351.67 2211.76 1349.46 Q2212.45 1347.23 2214.2 1345.48 Q2217.89 1341.8 2222.26 1341.91 Q2226.63 1342 2230.47 1345.84 Q2234.24 1349.61 2234.29 1354.11 Q2234.34 1358.61 2230.64 1362.31 Q2226.4 1366.55 2220.91 1365.55 Q2215.41 1364.53 2209.24 1358.36 Q2203.45 1352.57 2202.76 1346.38 Q2202.06 1340.18 2206.69 1335.55 Q2207.93 1334.3 2209.44 1333.29 Q2210.96 1332.26 2212.83 1331.37 Z\" fill=\"#000000\" fill-rule=\"evenodd\" fill-opacity=\"1\" /><path clip-path=\"url(#clip320)\" d=\"M 0 0 M2229.43 1341.52 L2238.25 1332.7 L2240.93 1335.38 L2232.11 1344.21 L2229.43 1341.52 Z\" fill=\"#000000\" fill-rule=\"evenodd\" fill-opacity=\"1\" /><path clip-path=\"url(#clip320)\" d=\"M 0 0 M2249.2 1316.44 Q2252.08 1314.58 2255.01 1314.86 Q2257.96 1315.12 2260.31 1317.48 Q2263.93 1321.09 2263.42 1325.56 Q2262.91 1330.03 2258.33 1334.61 Q2256.79 1336.15 2254.85 1337.48 Q2252.93 1338.8 2250.59 1339.93 L2247.4 1336.74 Q2249.57 1336.17 2251.62 1334.94 Q2253.67 1333.71 2255.45 1331.93 Q2258.56 1328.82 2258.95 1325.97 Q2259.36 1323.11 2257.02 1320.77 Q2254.86 1318.61 2252.13 1318.92 Q2249.39 1319.19 2246.69 1321.9 L2243.85 1324.74 L2241.13 1322.03 L2244.11 1319.05 Q2246.55 1316.61 2246.87 1314.35 Q2247.19 1312.07 2245.35 1310.24 Q2243.47 1308.36 2241.13 1308.7 Q2238.79 1309.01 2236.3 1311.5 Q2234.94 1312.86 2233.68 1314.71 Q2232.42 1316.56 2231.18 1319.05 L2228.23 1316.1 Q2229.59 1313.69 2230.96 1311.8 Q2232.36 1309.88 2233.81 1308.42 Q2237.58 1304.66 2241.49 1304.18 Q2245.38 1303.69 2248.3 1306.61 Q2250.33 1308.64 2250.57 1311.21 Q2250.8 1313.76 2249.2 1316.44 Z\" fill=\"#000000\" fill-rule=\"evenodd\" fill-opacity=\"1\" /><path clip-path=\"url(#clip320)\" d=\"M 0 0 M2255.81 1291.66 Q2253.26 1294.22 2254.49 1298.03 Q2255.71 1301.81 2260.75 1306.85 Q2265.78 1311.88 2269.58 1313.12 Q2273.37 1314.33 2275.93 1311.78 Q2278.5 1309.21 2277.27 1305.43 Q2276.04 1301.62 2271.02 1296.59 Q2265.98 1291.55 2262.18 1290.34 Q2258.38 1289.09 2255.81 1291.66 M2253.19 1289.04 Q2257.3 1284.94 2262.72 1286.03 Q2268.14 1287.1 2274.32 1293.28 Q2280.49 1299.45 2281.57 1304.89 Q2282.65 1310.29 2278.55 1314.4 Q2274.44 1318.51 2269.02 1317.44 Q2263.6 1316.35 2257.43 1310.18 Q2251.24 1303.99 2250.16 1298.59 Q2249.08 1293.15 2253.19 1289.04 Z\" fill=\"#000000\" fill-rule=\"evenodd\" fill-opacity=\"1\" /><path clip-path=\"url(#clip320)\" d=\"M 0 0 M169.721 1251.66 L177.359 1251.66 L177.359 1225.3 L169.049 1226.96 L169.049 1222.7 L177.313 1221.04 L181.989 1221.04 L181.989 1251.66 L189.628 1251.66 L189.628 1255.6 L169.721 1255.6 L169.721 1251.66 Z\" fill=\"#000000\" fill-rule=\"evenodd\" fill-opacity=\"1\" /><path clip-path=\"url(#clip320)\" d=\"M 0 0 M204.697 1224.12 Q201.086 1224.12 199.257 1227.68 Q197.452 1231.22 197.452 1238.35 Q197.452 1245.46 199.257 1249.02 Q201.086 1252.56 204.697 1252.56 Q208.331 1252.56 210.137 1249.02 Q211.966 1245.46 211.966 1238.35 Q211.966 1231.22 210.137 1227.68 Q208.331 1224.12 204.697 1224.12 M204.697 1220.41 Q210.507 1220.41 213.563 1225.02 Q216.642 1229.6 216.642 1238.35 Q216.642 1247.08 213.563 1251.69 Q210.507 1256.27 204.697 1256.27 Q198.887 1256.27 195.808 1251.69 Q192.753 1247.08 192.753 1238.35 Q192.753 1229.6 195.808 1225.02 Q198.887 1220.41 204.697 1220.41 Z\" fill=\"#000000\" fill-rule=\"evenodd\" fill-opacity=\"1\" /><path clip-path=\"url(#clip320)\" d=\"M 0 0 M226.346 1202.61 Q223.412 1202.61 221.927 1205.5 Q220.46 1208.38 220.46 1214.17 Q220.46 1219.95 221.927 1222.85 Q223.412 1225.72 226.346 1225.72 Q229.299 1225.72 230.766 1222.85 Q232.252 1219.95 232.252 1214.17 Q232.252 1208.38 230.766 1205.5 Q229.299 1202.61 226.346 1202.61 M226.346 1199.6 Q231.067 1199.6 233.55 1203.34 Q236.051 1207.07 236.051 1214.17 Q236.051 1221.27 233.55 1225.01 Q231.067 1228.73 226.346 1228.73 Q221.626 1228.73 219.124 1225.01 Q216.642 1221.27 216.642 1214.17 Q216.642 1207.07 219.124 1203.34 Q221.626 1199.6 226.346 1199.6 Z\" fill=\"#000000\" fill-rule=\"evenodd\" fill-opacity=\"1\" /><path clip-path=\"url(#clip320)\" d=\"M 0 0 M172.41 1084.73 L180.049 1084.73 L180.049 1058.36 L171.739 1060.03 L171.739 1055.77 L180.003 1054.1 L184.679 1054.1 L184.679 1084.73 L192.317 1084.73 L192.317 1088.66 L172.41 1088.66 L172.41 1084.73 Z\" fill=\"#000000\" fill-rule=\"evenodd\" fill-opacity=\"1\" /><path clip-path=\"url(#clip320)\" d=\"M 0 0 M207.387 1057.18 Q203.776 1057.18 201.947 1060.74 Q200.141 1064.29 200.141 1071.42 Q200.141 1078.52 201.947 1082.09 Q203.776 1085.63 207.387 1085.63 Q211.021 1085.63 212.827 1082.09 Q214.655 1078.52 214.655 1071.42 Q214.655 1064.29 212.827 1060.74 Q211.021 1057.18 207.387 1057.18 M207.387 1053.48 Q213.197 1053.48 216.252 1058.08 Q219.331 1062.67 219.331 1071.42 Q219.331 1080.14 216.252 1084.75 Q213.197 1089.33 207.387 1089.33 Q201.577 1089.33 198.498 1084.75 Q195.442 1080.14 195.442 1071.42 Q195.442 1062.67 198.498 1058.08 Q201.577 1053.48 207.387 1053.48 Z\" fill=\"#000000\" fill-rule=\"evenodd\" fill-opacity=\"1\" /><path clip-path=\"url(#clip320)\" d=\"M 0 0 M219.877 1058.05 L226.083 1058.05 L226.083 1036.63 L219.331 1037.99 L219.331 1034.52 L226.046 1033.17 L229.845 1033.17 L229.845 1058.05 L236.051 1058.05 L236.051 1061.25 L219.877 1061.25 L219.877 1058.05 Z\" fill=\"#000000\" fill-rule=\"evenodd\" fill-opacity=\"1\" /><path clip-path=\"url(#clip320)\" d=\"M 0 0 M171.3 917.789 L178.939 917.789 L178.939 891.423 L170.629 893.09 L170.629 888.831 L178.893 887.164 L183.569 887.164 L183.569 917.789 L191.208 917.789 L191.208 921.724 L171.3 921.724 L171.3 917.789 Z\" fill=\"#000000\" fill-rule=\"evenodd\" fill-opacity=\"1\" /><path clip-path=\"url(#clip320)\" d=\"M 0 0 M206.277 890.243 Q202.666 890.243 200.837 893.808 Q199.032 897.349 199.032 904.479 Q199.032 911.585 200.837 915.15 Q202.666 918.692 206.277 918.692 Q209.911 918.692 211.717 915.15 Q213.546 911.585 213.546 904.479 Q213.546 897.349 211.717 893.808 Q209.911 890.243 206.277 890.243 M206.277 886.539 Q212.087 886.539 215.143 891.146 Q218.221 895.729 218.221 904.479 Q218.221 913.206 215.143 917.812 Q212.087 922.396 206.277 922.396 Q200.467 922.396 197.388 917.812 Q194.333 913.206 194.333 904.479 Q194.333 895.729 197.388 891.146 Q200.467 886.539 206.277 886.539 Z\" fill=\"#000000\" fill-rule=\"evenodd\" fill-opacity=\"1\" /><path clip-path=\"url(#clip320)\" d=\"M 0 0 M222.792 891.117 L236.051 891.117 L236.051 894.314 L218.221 894.314 L218.221 891.117 Q220.384 888.878 224.108 885.117 Q227.851 881.336 228.81 880.246 Q230.635 878.196 231.349 876.785 Q232.083 875.356 232.083 873.983 Q232.083 871.745 230.503 870.334 Q228.942 868.923 226.422 868.923 Q224.635 868.923 222.641 869.544 Q220.666 870.165 218.41 871.425 L218.41 867.588 Q220.704 866.666 222.698 866.196 Q224.691 865.726 226.346 865.726 Q230.71 865.726 233.305 867.908 Q235.901 870.089 235.901 873.738 Q235.901 875.468 235.243 877.03 Q234.603 878.572 232.892 880.678 Q232.421 881.224 229.901 883.838 Q227.381 886.433 222.792 891.117 Z\" fill=\"#000000\" fill-rule=\"evenodd\" fill-opacity=\"1\" /><path clip-path=\"url(#clip320)\" d=\"M 0 0 M170.642 750.853 L178.281 750.853 L178.281 724.487 L169.971 726.154 L169.971 721.894 L178.235 720.228 L182.911 720.228 L182.911 750.853 L190.549 750.853 L190.549 754.788 L170.642 754.788 L170.642 750.853 Z\" fill=\"#000000\" fill-rule=\"evenodd\" fill-opacity=\"1\" /><path clip-path=\"url(#clip320)\" d=\"M 0 0 M205.619 723.307 Q202.008 723.307 200.179 726.871 Q198.373 730.413 198.373 737.543 Q198.373 744.649 200.179 748.214 Q202.008 751.755 205.619 751.755 Q209.253 751.755 211.059 748.214 Q212.887 744.649 212.887 737.543 Q212.887 730.413 211.059 726.871 Q209.253 723.307 205.619 723.307 M205.619 719.603 Q211.429 719.603 214.485 724.209 Q217.563 728.793 217.563 737.543 Q217.563 746.269 214.485 750.876 Q211.429 755.459 205.619 755.459 Q199.809 755.459 196.73 750.876 Q193.674 746.269 193.674 737.543 Q193.674 728.793 196.73 724.209 Q199.809 719.603 205.619 719.603 Z\" fill=\"#000000\" fill-rule=\"evenodd\" fill-opacity=\"1\" /><path clip-path=\"url(#clip320)\" d=\"M 0 0 M230.258 712.237 Q232.986 712.82 234.509 714.663 Q236.051 716.507 236.051 719.215 Q236.051 723.371 233.192 725.647 Q230.334 727.923 225.067 727.923 Q223.3 727.923 221.419 727.566 Q219.557 727.227 217.563 726.531 L217.563 722.864 Q219.143 723.785 221.024 724.255 Q222.905 724.726 224.955 724.726 Q228.528 724.726 230.39 723.315 Q232.271 721.904 232.271 719.215 Q232.271 716.732 230.522 715.34 Q228.791 713.93 225.688 713.93 L222.416 713.93 L222.416 710.808 L225.839 710.808 Q228.641 710.808 230.127 709.698 Q231.613 708.57 231.613 706.463 Q231.613 704.3 230.07 703.153 Q228.547 701.987 225.688 701.987 Q224.127 701.987 222.34 702.325 Q220.554 702.664 218.41 703.379 L218.41 699.993 Q220.572 699.391 222.453 699.091 Q224.353 698.79 226.027 698.79 Q230.352 698.79 232.873 700.764 Q235.393 702.72 235.393 706.068 Q235.393 708.4 234.058 710.018 Q232.722 711.617 230.258 712.237 Z\" fill=\"#000000\" fill-rule=\"evenodd\" fill-opacity=\"1\" /><path clip-path=\"url(#clip320)\" d=\"M 0 0 M168.667 583.916 L176.306 583.916 L176.306 557.551 L167.996 559.217 L167.996 554.958 L176.26 553.291 L180.936 553.291 L180.936 583.916 L188.575 583.916 L188.575 587.851 L168.667 587.851 L168.667 583.916 Z\" fill=\"#000000\" fill-rule=\"evenodd\" fill-opacity=\"1\" /><path clip-path=\"url(#clip320)\" d=\"M 0 0 M203.644 556.37 Q200.033 556.37 198.204 559.935 Q196.399 563.477 196.399 570.606 Q196.399 577.713 198.204 581.277 Q200.033 584.819 203.644 584.819 Q207.278 584.819 209.084 581.277 Q210.912 577.713 210.912 570.606 Q210.912 563.477 209.084 559.935 Q207.278 556.37 203.644 556.37 M203.644 552.666 Q209.454 552.666 212.51 557.273 Q215.588 561.856 215.588 570.606 Q215.588 579.333 212.51 583.939 Q209.454 588.523 203.644 588.523 Q197.834 588.523 194.755 583.939 Q191.7 579.333 191.7 570.606 Q191.7 561.856 194.755 557.273 Q197.834 552.666 203.644 552.666 Z\" fill=\"#000000\" fill-rule=\"evenodd\" fill-opacity=\"1\" /><path clip-path=\"url(#clip320)\" d=\"M 0 0 M228.265 535.671 L218.673 550.661 L228.265 550.661 L228.265 535.671 M227.268 532.361 L232.045 532.361 L232.045 550.661 L236.051 550.661 L236.051 553.821 L232.045 553.821 L232.045 560.441 L228.265 560.441 L228.265 553.821 L215.588 553.821 L215.588 550.153 L227.268 532.361 Z\" fill=\"#000000\" fill-rule=\"evenodd\" fill-opacity=\"1\" /><path clip-path=\"url(#clip320)\" d=\"M 0 0 M170.962 416.98 L178.601 416.98 L178.601 390.614 L170.291 392.281 L170.291 388.022 L178.554 386.355 L183.23 386.355 L183.23 416.98 L190.869 416.98 L190.869 420.915 L170.962 420.915 L170.962 416.98 Z\" fill=\"#000000\" fill-rule=\"evenodd\" fill-opacity=\"1\" /><path clip-path=\"url(#clip320)\" d=\"M 0 0 M205.939 389.434 Q202.327 389.434 200.499 392.998 Q198.693 396.54 198.693 403.67 Q198.693 410.776 200.499 414.341 Q202.327 417.883 205.939 417.883 Q209.573 417.883 211.378 414.341 Q213.207 410.776 213.207 403.67 Q213.207 396.54 211.378 392.998 Q209.573 389.434 205.939 389.434 M205.939 385.73 Q211.749 385.73 214.804 390.336 Q217.883 394.92 217.883 403.67 Q217.883 412.397 214.804 417.003 Q211.749 421.586 205.939 421.586 Q200.128 421.586 197.05 417.003 Q193.994 412.397 193.994 403.67 Q193.994 394.92 197.05 390.336 Q200.128 385.73 205.939 385.73 Z\" fill=\"#000000\" fill-rule=\"evenodd\" fill-opacity=\"1\" /><path clip-path=\"url(#clip320)\" d=\"M 0 0 M219.068 365.425 L233.982 365.425 L233.982 368.622 L222.547 368.622 L222.547 375.506 Q223.375 375.223 224.202 375.092 Q225.03 374.941 225.857 374.941 Q230.559 374.941 233.305 377.518 Q236.051 380.095 236.051 384.496 Q236.051 389.028 233.23 391.549 Q230.409 394.05 225.274 394.05 Q223.506 394.05 221.663 393.749 Q219.839 393.448 217.883 392.846 L217.883 389.028 Q219.576 389.95 221.381 390.401 Q223.187 390.853 225.199 390.853 Q228.453 390.853 230.352 389.141 Q232.252 387.43 232.252 384.496 Q232.252 381.562 230.352 379.85 Q228.453 378.139 225.199 378.139 Q223.676 378.139 222.152 378.477 Q220.648 378.816 219.068 379.53 L219.068 365.425 Z\" fill=\"#000000\" fill-rule=\"evenodd\" fill-opacity=\"1\" /><path clip-path=\"url(#clip320)\" d=\"M 0 0 M169.739 250.043 L177.378 250.043 L177.378 223.678 L169.068 225.344 L169.068 221.085 L177.332 219.419 L182.008 219.419 L182.008 250.043 L189.647 250.043 L189.647 253.979 L169.739 253.979 L169.739 250.043 Z\" fill=\"#000000\" fill-rule=\"evenodd\" fill-opacity=\"1\" /><path clip-path=\"url(#clip320)\" d=\"M 0 0 M204.716 222.497 Q201.105 222.497 199.276 226.062 Q197.471 229.604 197.471 236.733 Q197.471 243.84 199.276 247.405 Q201.105 250.946 204.716 250.946 Q208.35 250.946 210.156 247.405 Q211.985 243.84 211.985 236.733 Q211.985 229.604 210.156 226.062 Q208.35 222.497 204.716 222.497 M204.716 218.794 Q210.526 218.794 213.582 223.4 Q216.66 227.983 216.66 236.733 Q216.66 245.46 213.582 250.067 Q210.526 254.65 204.716 254.65 Q198.906 254.65 195.827 250.067 Q192.772 245.46 192.772 236.733 Q192.772 227.983 195.827 223.4 Q198.906 218.794 204.716 218.794 Z\" fill=\"#000000\" fill-rule=\"evenodd\" fill-opacity=\"1\" /><path clip-path=\"url(#clip320)\" d=\"M 0 0 M226.685 211.014 Q224.127 211.014 222.622 212.763 Q221.137 214.512 221.137 217.559 Q221.137 220.587 222.622 222.355 Q224.127 224.104 226.685 224.104 Q229.243 224.104 230.729 222.355 Q232.233 220.587 232.233 217.559 Q232.233 214.512 230.729 212.763 Q229.243 211.014 226.685 211.014 M234.227 199.109 L234.227 202.569 Q232.797 201.892 231.33 201.535 Q229.882 201.178 228.453 201.178 Q224.691 201.178 222.698 203.717 Q220.723 206.256 220.441 211.39 Q221.55 209.754 223.224 208.889 Q224.898 208.005 226.911 208.005 Q231.142 208.005 233.587 210.582 Q236.051 213.139 236.051 217.559 Q236.051 221.885 233.493 224.499 Q230.936 227.114 226.685 227.114 Q221.814 227.114 219.237 223.39 Q216.66 219.647 216.66 212.556 Q216.66 205.898 219.82 201.949 Q222.98 197.98 228.302 197.98 Q229.732 197.98 231.18 198.262 Q232.647 198.545 234.227 199.109 Z\" fill=\"#000000\" fill-rule=\"evenodd\" fill-opacity=\"1\" /><path clip-path=\"url(#clip320)\" d=\"M 0 0 M746.103 12.096 L754.326 12.096 L754.326 48.8377 Q754.326 58.5599 757.85 62.8538 Q761.375 67.1073 769.274 67.1073 Q777.133 67.1073 780.657 62.8538 Q784.181 58.5599 784.181 48.8377 L784.181 12.096 L792.405 12.096 L792.405 49.8504 Q792.405 61.6791 786.531 67.7149 Q780.697 73.7508 769.274 73.7508 Q757.81 73.7508 751.936 67.7149 Q746.103 61.6791 746.103 49.8504 L746.103 12.096 Z\" fill=\"#000000\" fill-rule=\"evenodd\" fill-opacity=\"1\" /><path clip-path=\"url(#clip320)\" d=\"M 0 0 M836.802 14.0809 L836.802 22.0612 Q832.144 19.8332 828.012 18.7395 Q823.88 17.6457 820.032 17.6457 Q813.348 17.6457 809.702 20.2383 Q806.097 22.8309 806.097 27.611 Q806.097 31.6214 808.487 33.6873 Q810.917 35.7128 817.642 36.9686 L822.584 37.9813 Q831.739 39.7232 836.073 44.1387 Q840.448 48.5136 840.448 55.8863 Q840.448 64.6767 834.534 69.2137 Q828.66 73.7508 817.277 73.7508 Q812.983 73.7508 808.122 72.7785 Q803.302 71.8063 798.116 69.9024 L798.116 61.4765 Q803.099 64.2716 807.879 65.6895 Q812.659 67.1073 817.277 67.1073 Q824.285 67.1073 828.093 64.3527 Q831.901 61.598 831.901 56.4939 Q831.901 52.0379 829.146 49.5264 Q826.432 47.0148 820.194 45.759 L815.211 44.7868 Q806.056 42.9639 801.965 39.075 Q797.873 35.1862 797.873 28.2591 Q797.873 20.2383 803.504 15.6203 Q809.175 11.0023 819.1 11.0023 Q823.353 11.0023 827.769 11.7719 Q832.184 12.5416 836.802 14.0809 Z\" fill=\"#000000\" fill-rule=\"evenodd\" fill-opacity=\"1\" /><path clip-path=\"url(#clip320)\" d=\"M 0 0 M907.288 28.9478 L907.288 35.9153 Q904.129 34.1734 900.928 33.3227 Q897.769 32.4315 894.528 32.4315 Q887.277 32.4315 883.266 37.0496 Q879.256 41.6271 879.256 49.9314 Q879.256 58.2358 883.266 62.8538 Q887.277 67.4314 894.528 67.4314 Q897.769 67.4314 900.928 66.5807 Q904.129 65.6895 907.288 63.9476 L907.288 70.8341 Q904.169 72.2924 900.807 73.0216 Q897.485 73.7508 893.718 73.7508 Q883.469 73.7508 877.433 67.3098 Q871.397 60.8689 871.397 49.9314 Q871.397 38.832 877.474 32.472 Q883.59 26.1121 894.204 26.1121 Q897.647 26.1121 900.928 26.8413 Q904.21 27.5299 907.288 28.9478 Z\" fill=\"#000000\" fill-rule=\"evenodd\" fill-opacity=\"1\" /><path clip-path=\"url(#clip320)\" d=\"M 0 0 M932.687 32.4315 Q926.692 32.4315 923.208 37.1306 Q919.725 41.7891 919.725 49.9314 Q919.725 58.0738 923.168 62.7728 Q926.652 67.4314 932.687 67.4314 Q938.642 67.4314 942.126 62.7323 Q945.61 58.0333 945.61 49.9314 Q945.61 41.8701 942.126 37.1711 Q938.642 32.4315 932.687 32.4315 M932.687 26.1121 Q942.41 26.1121 947.959 32.4315 Q953.509 38.7509 953.509 49.9314 Q953.509 61.0714 947.959 67.4314 Q942.41 73.7508 932.687 73.7508 Q922.925 73.7508 917.375 67.4314 Q911.866 61.0714 911.866 49.9314 Q911.866 38.7509 917.375 32.4315 Q922.925 26.1121 932.687 26.1121 Z\" fill=\"#000000\" fill-rule=\"evenodd\" fill-opacity=\"1\" /><path clip-path=\"url(#clip320)\" d=\"M 0 0 M999.041 45.1919 L999.041 72.576 L991.588 72.576 L991.588 45.4349 Q991.588 38.994 989.076 35.7938 Q986.564 32.5936 981.541 32.5936 Q975.505 32.5936 972.022 36.4419 Q968.538 40.2903 968.538 46.9338 L968.538 72.576 L961.044 72.576 L961.044 27.2059 L968.538 27.2059 L968.538 34.2544 Q971.212 30.163 974.817 28.1376 Q978.463 26.1121 983.202 26.1121 Q991.02 26.1121 995.031 30.9732 Q999.041 35.7938 999.041 45.1919 Z\" fill=\"#000000\" fill-rule=\"evenodd\" fill-opacity=\"1\" /><path clip-path=\"url(#clip320)\" d=\"M 0 0 M1029.83 9.54393 L1029.83 15.7418 L1022.7 15.7418 Q1018.69 15.7418 1017.11 17.3622 Q1015.57 18.9825 1015.57 23.1955 L1015.57 27.2059 L1027.84 27.2059 L1027.84 32.9987 L1015.57 32.9987 L1015.57 72.576 L1008.07 72.576 L1008.07 32.9987 L1000.95 32.9987 L1000.95 27.2059 L1008.07 27.2059 L1008.07 24.0462 Q1008.07 16.471 1011.6 13.0277 Q1015.12 9.54393 1022.78 9.54393 L1029.83 9.54393 Z\" fill=\"#000000\" fill-rule=\"evenodd\" fill-opacity=\"1\" /><path clip-path=\"url(#clip320)\" d=\"M 0 0 M1037.65 27.2059 L1045.1 27.2059 L1045.1 72.576 L1037.65 72.576 L1037.65 27.2059 M1037.65 9.54393 L1045.1 9.54393 L1045.1 18.9825 L1037.65 18.9825 L1037.65 9.54393 Z\" fill=\"#000000\" fill-rule=\"evenodd\" fill-opacity=\"1\" /><path clip-path=\"url(#clip320)\" d=\"M 0 0 M1079.21 34.1734 Q1077.95 33.4443 1076.45 33.1202 Q1075 32.7556 1073.21 32.7556 Q1066.89 32.7556 1063.49 36.8875 Q1060.13 40.9789 1060.13 48.6757 L1060.13 72.576 L1052.63 72.576 L1052.63 27.2059 L1060.13 27.2059 L1060.13 34.2544 Q1062.48 30.1225 1066.25 28.1376 Q1070.01 26.1121 1075.4 26.1121 Q1076.17 26.1121 1077.1 26.2337 Q1078.03 26.3147 1079.17 26.5172 L1079.21 34.1734 Z\" fill=\"#000000\" fill-rule=\"evenodd\" fill-opacity=\"1\" /><path clip-path=\"url(#clip320)\" d=\"M 0 0 M1120.89 35.9153 Q1123.69 30.8922 1127.58 28.5022 Q1131.47 26.1121 1136.73 26.1121 Q1143.82 26.1121 1147.67 31.0947 Q1151.52 36.0368 1151.52 45.1919 L1151.52 72.576 L1144.02 72.576 L1144.02 45.4349 Q1144.02 38.913 1141.71 35.7533 Q1139.41 32.5936 1134.67 32.5936 Q1128.87 32.5936 1125.51 36.4419 Q1122.15 40.2903 1122.15 46.9338 L1122.15 72.576 L1114.65 72.576 L1114.65 45.4349 Q1114.65 38.8725 1112.35 35.7533 Q1110.04 32.5936 1105.22 32.5936 Q1099.5 32.5936 1096.14 36.4824 Q1092.78 40.3308 1092.78 46.9338 L1092.78 72.576 L1085.28 72.576 L1085.28 27.2059 L1092.78 27.2059 L1092.78 34.2544 Q1095.33 30.082 1098.9 28.0971 Q1102.46 26.1121 1107.36 26.1121 Q1112.3 26.1121 1115.75 28.6237 Q1119.23 31.1352 1120.89 35.9153 Z\" fill=\"#000000\" fill-rule=\"evenodd\" fill-opacity=\"1\" /><path clip-path=\"url(#clip320)\" d=\"M 0 0 M1198.14 48.0275 L1198.14 51.6733 L1163.87 51.6733 Q1164.36 59.3701 1168.49 63.421 Q1172.66 67.4314 1180.08 67.4314 Q1184.37 67.4314 1188.38 66.3781 Q1192.43 65.3249 1196.4 63.2184 L1196.4 70.267 Q1192.39 71.9684 1188.18 72.8596 Q1183.96 73.7508 1179.63 73.7508 Q1168.77 73.7508 1162.41 67.4314 Q1156.09 61.1119 1156.09 50.3365 Q1156.09 39.1965 1162.09 32.6746 Q1168.13 26.1121 1178.33 26.1121 Q1187.49 26.1121 1192.8 32.0264 Q1198.14 37.9003 1198.14 48.0275 M1190.69 45.84 Q1190.61 39.7232 1187.25 36.0774 Q1183.92 32.4315 1178.42 32.4315 Q1172.18 32.4315 1168.41 35.9558 Q1164.68 39.4801 1164.12 45.8805 L1190.69 45.84 Z\" fill=\"#000000\" fill-rule=\"evenodd\" fill-opacity=\"1\" /><path clip-path=\"url(#clip320)\" d=\"M 0 0 M1235.82 34.0924 L1235.82 9.54393 L1243.27 9.54393 L1243.27 72.576 L1235.82 72.576 L1235.82 65.7705 Q1233.47 69.8214 1229.86 71.8063 Q1226.3 73.7508 1221.27 73.7508 Q1213.05 73.7508 1207.87 67.1883 Q1202.72 60.6258 1202.72 49.9314 Q1202.72 39.2371 1207.87 32.6746 Q1213.05 26.1121 1221.27 26.1121 Q1226.3 26.1121 1229.86 28.0971 Q1233.47 30.0415 1235.82 34.0924 M1210.42 49.9314 Q1210.42 58.1548 1213.78 62.8538 Q1217.18 67.5124 1223.1 67.5124 Q1229.01 67.5124 1232.41 62.8538 Q1235.82 58.1548 1235.82 49.9314 Q1235.82 41.7081 1232.41 37.0496 Q1229.01 32.3505 1223.1 32.3505 Q1217.18 32.3505 1213.78 37.0496 Q1210.42 41.7081 1210.42 49.9314 Z\" fill=\"#000000\" fill-rule=\"evenodd\" fill-opacity=\"1\" /><path clip-path=\"url(#clip320)\" d=\"M 0 0 M1323.07 16.7545 L1323.07 25.383 Q1318.94 21.5346 1314.24 19.6307 Q1309.58 17.7268 1304.32 17.7268 Q1293.95 17.7268 1288.44 24.0867 Q1282.93 30.4061 1282.93 42.3968 Q1282.93 54.3469 1288.44 60.7069 Q1293.95 67.0263 1304.32 67.0263 Q1309.58 67.0263 1314.24 65.1223 Q1318.94 63.2184 1323.07 59.3701 L1323.07 67.9175 Q1318.78 70.8341 1313.96 72.2924 Q1309.18 73.7508 1303.83 73.7508 Q1290.1 73.7508 1282.2 65.3654 Q1274.3 56.9395 1274.3 42.3968 Q1274.3 27.8135 1282.2 19.4281 Q1290.1 11.0023 1303.83 11.0023 Q1309.26 11.0023 1314.04 12.4606 Q1318.86 13.8784 1323.07 16.7545 Z\" fill=\"#000000\" fill-rule=\"evenodd\" fill-opacity=\"1\" /><path clip-path=\"url(#clip320)\" d=\"M 0 0 M1355.76 17.6457 Q1346.85 17.6457 1341.59 24.2892 Q1336.36 30.9327 1336.36 42.3968 Q1336.36 53.8203 1341.59 60.4638 Q1346.85 67.1073 1355.76 67.1073 Q1364.68 67.1073 1369.86 60.4638 Q1375.09 53.8203 1375.09 42.3968 Q1375.09 30.9327 1369.86 24.2892 Q1364.68 17.6457 1355.76 17.6457 M1355.76 11.0023 Q1368.48 11.0023 1376.1 19.5497 Q1383.72 28.0566 1383.72 42.3968 Q1383.72 56.6965 1376.1 65.2439 Q1368.48 73.7508 1355.76 73.7508 Q1343 73.7508 1335.35 65.2439 Q1327.73 56.737 1327.73 42.3968 Q1327.73 28.0566 1335.35 19.5497 Q1343 11.0023 1355.76 11.0023 Z\" fill=\"#000000\" fill-rule=\"evenodd\" fill-opacity=\"1\" /><path clip-path=\"url(#clip320)\" d=\"M 0 0 M1406 72.576 L1382.9 12.096 L1391.45 12.096 L1410.61 63.0159 L1429.81 12.096 L1438.32 12.096 L1415.27 72.576 L1406 72.576 Z\" fill=\"#000000\" fill-rule=\"evenodd\" fill-opacity=\"1\" /><path clip-path=\"url(#clip320)\" d=\"M 0 0 M1446.46 12.096 L1454.65 12.096 L1454.65 72.576 L1446.46 72.576 L1446.46 12.096 Z\" fill=\"#000000\" fill-rule=\"evenodd\" fill-opacity=\"1\" /><path clip-path=\"url(#clip320)\" d=\"M 0 0 M1470.97 18.8205 L1470.97 65.8515 L1480.86 65.8515 Q1493.37 65.8515 1499.17 60.1802 Q1505 54.509 1505 42.2752 Q1505 30.1225 1499.17 24.4918 Q1493.37 18.8205 1480.86 18.8205 L1470.97 18.8205 M1462.79 12.096 L1479.6 12.096 Q1497.18 12.096 1505.4 19.4281 Q1513.63 26.7198 1513.63 42.2752 Q1513.63 57.9117 1505.36 65.2439 Q1497.1 72.576 1479.6 72.576 L1462.79 72.576 L1462.79 12.096 Z\" fill=\"#000000\" fill-rule=\"evenodd\" fill-opacity=\"1\" /><path clip-path=\"url(#clip320)\" d=\"M 0 0 M1517.68 46.5287 L1539.51 46.5287 L1539.51 53.1722 L1517.68 53.1722 L1517.68 46.5287 Z\" fill=\"#000000\" fill-rule=\"evenodd\" fill-opacity=\"1\" /><path clip-path=\"url(#clip320)\" d=\"M 0 0 M1549.8 65.6895 L1563.17 65.6895 L1563.17 19.5497 L1548.63 22.4663 L1548.63 15.0127 L1563.09 12.096 L1571.27 12.096 L1571.27 65.6895 L1584.64 65.6895 L1584.64 72.576 L1549.8 72.576 L1549.8 65.6895 Z\" fill=\"#000000\" fill-rule=\"evenodd\" fill-opacity=\"1\" /><path clip-path=\"url(#clip320)\" d=\"M 0 0 M1593.75 71.3202 L1593.75 63.8666 Q1596.83 65.3249 1599.99 66.0946 Q1603.15 66.8642 1606.19 66.8642 Q1614.29 66.8642 1618.55 61.436 Q1622.84 55.9673 1623.45 44.8678 Q1621.1 48.3516 1617.49 50.215 Q1613.89 52.0784 1609.51 52.0784 Q1600.44 52.0784 1595.13 46.6097 Q1589.87 41.1005 1589.87 31.5808 Q1589.87 22.2638 1595.37 16.633 Q1600.88 11.0023 1610.04 11.0023 Q1620.53 11.0023 1626.04 19.0636 Q1631.59 27.0843 1631.59 42.3968 Q1631.59 56.6965 1624.78 65.2439 Q1618.02 73.7508 1606.56 73.7508 Q1603.48 73.7508 1600.32 73.1431 Q1597.16 72.5355 1593.75 71.3202 M1610.04 45.678 Q1615.55 45.678 1618.75 41.9107 Q1621.99 38.1433 1621.99 31.5808 Q1621.99 25.0589 1618.75 21.2916 Q1615.55 17.4837 1610.04 17.4837 Q1604.53 17.4837 1601.29 21.2916 Q1598.09 25.0589 1598.09 31.5808 Q1598.09 38.1433 1601.29 41.9107 Q1604.53 45.678 1610.04 45.678 Z\" fill=\"#000000\" fill-rule=\"evenodd\" fill-opacity=\"1\" /><path clip-path=\"url(#clip320)\" d=\"M 0 0 M1698.43 28.9478 L1698.43 35.9153 Q1695.27 34.1734 1692.07 33.3227 Q1688.91 32.4315 1685.67 32.4315 Q1678.42 32.4315 1674.41 37.0496 Q1670.4 41.6271 1670.4 49.9314 Q1670.4 58.2358 1674.41 62.8538 Q1678.42 67.4314 1685.67 67.4314 Q1688.91 67.4314 1692.07 66.5807 Q1695.27 65.6895 1698.43 63.9476 L1698.43 70.8341 Q1695.31 72.2924 1691.95 73.0216 Q1688.63 73.7508 1684.86 73.7508 Q1674.61 73.7508 1668.57 67.3098 Q1662.54 60.8689 1662.54 49.9314 Q1662.54 38.832 1668.62 32.472 Q1674.73 26.1121 1685.35 26.1121 Q1688.79 26.1121 1692.07 26.8413 Q1695.35 27.5299 1698.43 28.9478 Z\" fill=\"#000000\" fill-rule=\"evenodd\" fill-opacity=\"1\" /><path clip-path=\"url(#clip320)\" d=\"M 0 0 M1726.87 49.7694 Q1717.83 49.7694 1714.35 51.8354 Q1710.87 53.9013 1710.87 58.8839 Q1710.87 62.8538 1713.46 65.2034 Q1716.09 67.5124 1720.59 67.5124 Q1726.79 67.5124 1730.51 63.1374 Q1734.28 58.7219 1734.28 51.4303 L1734.28 49.7694 L1726.87 49.7694 M1741.73 46.6907 L1741.73 72.576 L1734.28 72.576 L1734.28 65.6895 Q1731.73 69.8214 1727.92 71.8063 Q1724.11 73.7508 1718.6 73.7508 Q1711.64 73.7508 1707.5 69.8619 Q1703.41 65.9325 1703.41 59.3701 Q1703.41 51.7138 1708.52 47.825 Q1713.66 43.9361 1723.83 43.9361 L1734.28 43.9361 L1734.28 43.2069 Q1734.28 38.0623 1730.88 35.2672 Q1727.52 32.4315 1721.4 32.4315 Q1717.51 32.4315 1713.82 33.3632 Q1710.14 34.295 1706.73 36.1584 L1706.73 29.2718 Q1710.83 27.692 1714.67 26.9223 Q1718.52 26.1121 1722.17 26.1121 Q1732.01 26.1121 1736.87 31.2163 Q1741.73 36.3204 1741.73 46.6907 Z\" fill=\"#000000\" fill-rule=\"evenodd\" fill-opacity=\"1\" /><path clip-path=\"url(#clip320)\" d=\"M 0 0 M1778.48 28.5427 L1778.48 35.5912 Q1775.32 33.9709 1771.91 33.1607 Q1768.51 32.3505 1764.86 32.3505 Q1759.31 32.3505 1756.52 34.0519 Q1753.77 35.7533 1753.77 39.156 Q1753.77 41.7486 1755.75 43.2475 Q1757.74 44.7058 1763.73 46.0426 L1766.28 46.6097 Q1774.22 48.3111 1777.54 51.4303 Q1780.91 54.509 1780.91 60.0587 Q1780.91 66.3781 1775.88 70.0644 Q1770.9 73.7508 1762.15 73.7508 Q1758.5 73.7508 1754.53 73.0216 Q1750.61 72.3329 1746.23 70.9151 L1746.23 63.2184 Q1750.36 65.3654 1754.37 66.4591 Q1758.38 67.5124 1762.31 67.5124 Q1767.58 67.5124 1770.41 65.73 Q1773.25 63.9071 1773.25 60.6258 Q1773.25 57.5877 1771.18 55.9673 Q1769.16 54.3469 1762.23 52.8481 L1759.64 52.2405 Q1752.71 50.7821 1749.63 47.7845 Q1746.55 44.7463 1746.55 39.4801 Q1746.55 33.0797 1751.09 29.5959 Q1755.63 26.1121 1763.97 26.1121 Q1768.11 26.1121 1771.75 26.7198 Q1775.4 27.3274 1778.48 28.5427 Z\" fill=\"#000000\" fill-rule=\"evenodd\" fill-opacity=\"1\" /><path clip-path=\"url(#clip320)\" d=\"M 0 0 M1827.53 48.0275 L1827.53 51.6733 L1793.26 51.6733 Q1793.75 59.3701 1797.88 63.421 Q1802.05 67.4314 1809.47 67.4314 Q1813.76 67.4314 1817.77 66.3781 Q1821.82 65.3249 1825.79 63.2184 L1825.79 70.267 Q1821.78 71.9684 1817.57 72.8596 Q1813.35 73.7508 1809.02 73.7508 Q1798.16 73.7508 1791.8 67.4314 Q1785.48 61.1119 1785.48 50.3365 Q1785.48 39.1965 1791.48 32.6746 Q1797.51 26.1121 1807.72 26.1121 Q1816.88 26.1121 1822.18 32.0264 Q1827.53 37.9003 1827.53 48.0275 M1820.08 45.84 Q1820 39.7232 1816.64 36.0774 Q1813.31 32.4315 1807.8 32.4315 Q1801.57 32.4315 1797.8 35.9558 Q1794.07 39.4801 1793.5 45.8805 L1820.08 45.84 Z\" fill=\"#000000\" fill-rule=\"evenodd\" fill-opacity=\"1\" /><path clip-path=\"url(#clip320)\" d=\"M 0 0 M1864.27 28.5427 L1864.27 35.5912 Q1861.11 33.9709 1857.71 33.1607 Q1854.31 32.3505 1850.66 32.3505 Q1845.11 32.3505 1842.32 34.0519 Q1839.56 35.7533 1839.56 39.156 Q1839.56 41.7486 1841.55 43.2475 Q1843.53 44.7058 1849.53 46.0426 L1852.08 46.6097 Q1860.02 48.3111 1863.34 51.4303 Q1866.7 54.509 1866.7 60.0587 Q1866.7 66.3781 1861.68 70.0644 Q1856.7 73.7508 1847.95 73.7508 Q1844.3 73.7508 1840.33 73.0216 Q1836.4 72.3329 1832.03 70.9151 L1832.03 63.2184 Q1836.16 65.3654 1840.17 66.4591 Q1844.18 67.5124 1848.11 67.5124 Q1853.38 67.5124 1856.21 65.73 Q1859.05 63.9071 1859.05 60.6258 Q1859.05 57.5877 1856.98 55.9673 Q1854.96 54.3469 1848.03 52.8481 L1845.44 52.2405 Q1838.51 50.7821 1835.43 47.7845 Q1832.35 44.7463 1832.35 39.4801 Q1832.35 33.0797 1836.89 29.5959 Q1841.43 26.1121 1849.77 26.1121 Q1853.9 26.1121 1857.55 26.7198 Q1861.2 27.3274 1864.27 28.5427 Z\" fill=\"#000000\" fill-rule=\"evenodd\" fill-opacity=\"1\" /><path clip-path=\"url(#clip320)\" d=\"M 0 0 M1269.15 1520.27 L1269.15 1500.98 L1275 1500.98 L1275 1550.51 L1269.15 1550.51 L1269.15 1545.16 Q1267.3 1548.34 1264.47 1549.9 Q1261.67 1551.43 1257.72 1551.43 Q1251.26 1551.43 1247.19 1546.27 Q1243.14 1541.12 1243.14 1532.71 Q1243.14 1524.31 1247.19 1519.16 Q1251.26 1514 1257.72 1514 Q1261.67 1514 1264.47 1515.56 Q1267.3 1517.09 1269.15 1520.27 M1249.19 1532.71 Q1249.19 1539.18 1251.83 1542.87 Q1254.51 1546.53 1259.15 1546.53 Q1263.8 1546.53 1266.47 1542.87 Q1269.15 1539.18 1269.15 1532.71 Q1269.15 1526.25 1266.47 1522.59 Q1263.8 1518.9 1259.15 1518.9 Q1254.51 1518.9 1251.83 1522.59 Q1249.19 1526.25 1249.19 1532.71 Z\" fill=\"#000000\" fill-rule=\"evenodd\" fill-opacity=\"1\" /><path clip-path=\"url(#clip320)\" d=\"M 0 0 M1297.35 1532.59 Q1290.25 1532.59 1287.51 1534.21 Q1284.78 1535.83 1284.78 1539.75 Q1284.78 1542.87 1286.81 1544.71 Q1288.88 1546.53 1292.41 1546.53 Q1297.28 1546.53 1300.21 1543.09 Q1303.17 1539.62 1303.17 1533.89 L1303.17 1532.59 L1297.35 1532.59 M1309.03 1530.17 L1309.03 1550.51 L1303.17 1550.51 L1303.17 1545.1 Q1301.17 1548.34 1298.18 1549.9 Q1295.18 1551.43 1290.86 1551.43 Q1285.38 1551.43 1282.13 1548.37 Q1278.92 1545.29 1278.92 1540.13 Q1278.92 1534.12 1282.93 1531.06 Q1286.97 1528 1294.96 1528 L1303.17 1528 L1303.17 1527.43 Q1303.17 1523.39 1300.5 1521.19 Q1297.86 1518.96 1293.05 1518.96 Q1290 1518.96 1287.1 1519.7 Q1284.2 1520.43 1281.53 1521.89 L1281.53 1516.48 Q1284.74 1515.24 1287.77 1514.64 Q1290.79 1514 1293.66 1514 Q1301.39 1514 1305.21 1518.01 Q1309.03 1522.02 1309.03 1530.17 Z\" fill=\"#000000\" fill-rule=\"evenodd\" fill-opacity=\"1\" /><path clip-path=\"url(#clip320)\" d=\"M 0 0 M1320.97 1504.74 L1320.97 1514.86 L1333.03 1514.86 L1333.03 1519.41 L1320.97 1519.41 L1320.97 1538.76 Q1320.97 1543.12 1322.14 1544.36 Q1323.35 1545.61 1327.01 1545.61 L1333.03 1545.61 L1333.03 1550.51 L1327.01 1550.51 Q1320.23 1550.51 1317.65 1547.99 Q1315.08 1545.45 1315.08 1538.76 L1315.08 1519.41 L1310.78 1519.41 L1310.78 1514.86 L1315.08 1514.86 L1315.08 1504.74 L1320.97 1504.74 Z\" fill=\"#000000\" fill-rule=\"evenodd\" fill-opacity=\"1\" /><path clip-path=\"url(#clip320)\" d=\"M 0 0 M1369.66 1531.22 L1369.66 1534.08 L1342.74 1534.08 Q1343.12 1540.13 1346.36 1543.31 Q1349.64 1546.46 1355.47 1546.46 Q1358.84 1546.46 1361.99 1545.64 Q1365.17 1544.81 1368.29 1543.15 L1368.29 1548.69 Q1365.14 1550.03 1361.83 1550.73 Q1358.52 1551.43 1355.12 1551.43 Q1346.59 1551.43 1341.59 1546.46 Q1336.62 1541.5 1336.62 1533.03 Q1336.62 1524.28 1341.34 1519.16 Q1346.08 1514 1354.1 1514 Q1361.29 1514 1365.46 1518.65 Q1369.66 1523.26 1369.66 1531.22 M1363.81 1529.5 Q1363.74 1524.69 1361.1 1521.83 Q1358.49 1518.96 1354.16 1518.96 Q1349.26 1518.96 1346.3 1521.73 Q1343.37 1524.5 1342.93 1529.53 L1363.81 1529.5 Z\" fill=\"#000000\" fill-rule=\"evenodd\" fill-opacity=\"1\" /><path clip-path=\"url(#clip320)\" d=\"M 0 0 M44.1444 740.76 L50.9239 740.76 Q47.9002 744.006 46.4043 747.698 Q44.9083 751.359 44.9083 755.496 Q44.9083 763.644 49.9054 767.973 Q54.8707 772.302 64.2919 772.302 Q73.6813 772.302 78.6784 767.973 Q83.6436 763.644 83.6436 755.496 Q83.6436 751.359 82.1477 747.698 Q80.6518 744.006 77.6281 740.76 L84.3439 740.76 Q86.6355 744.133 87.7814 747.921 Q88.9272 751.677 88.9272 755.878 Q88.9272 766.668 82.3387 772.875 Q75.7183 779.081 64.2919 779.081 Q52.8336 779.081 46.2451 772.875 Q39.6248 766.668 39.6248 755.878 Q39.6248 751.613 40.7706 747.857 Q41.8846 744.07 44.1444 740.76 Z\" fill=\"#000000\" fill-rule=\"evenodd\" fill-opacity=\"1\" /><path clip-path=\"url(#clip320)\" d=\"M 0 0 M70.0847 718.416 Q70.0847 725.514 71.7079 728.251 Q73.3312 730.988 77.2461 730.988 Q80.3653 730.988 82.2114 728.951 Q84.0256 726.882 84.0256 723.349 Q84.0256 718.48 80.5881 715.551 Q77.1188 712.591 71.3897 712.591 L70.0847 712.591 L70.0847 718.416 M67.6657 706.735 L88.0042 706.735 L88.0042 712.591 L82.5933 712.591 Q85.8398 714.597 87.3994 717.588 Q88.9272 720.58 88.9272 724.909 Q88.9272 730.384 85.8716 733.63 Q82.7843 736.845 77.6281 736.845 Q71.6125 736.845 68.5569 732.834 Q65.5014 728.792 65.5014 720.803 L65.5014 712.591 L64.9285 712.591 Q60.8862 712.591 58.6901 715.265 Q56.4621 717.907 56.4621 722.713 Q56.4621 725.768 57.1941 728.665 Q57.9262 731.561 59.3903 734.235 L53.9795 734.235 Q52.7381 731.02 52.1334 727.996 Q51.4968 724.973 51.4968 722.108 Q51.4968 714.374 55.5072 710.554 Q59.5176 706.735 67.6657 706.735 Z\" fill=\"#000000\" fill-rule=\"evenodd\" fill-opacity=\"1\" /><path clip-path=\"url(#clip320)\" d=\"M 0 0 M53.4065 677.866 L58.9447 677.866 Q57.6716 680.349 57.035 683.023 Q56.3984 685.696 56.3984 688.561 Q56.3984 692.921 57.7352 695.117 Q59.072 697.282 61.7456 697.282 Q63.7826 697.282 64.9603 695.722 Q66.1061 694.163 67.1565 689.452 L67.6021 687.447 Q68.9389 681.208 71.3897 678.598 Q73.8086 675.957 78.1691 675.957 Q83.1344 675.957 86.0308 679.903 Q88.9272 683.818 88.9272 690.693 Q88.9272 693.558 88.3543 696.677 Q87.8132 699.764 86.6992 703.202 L80.6518 703.202 Q82.3387 699.955 83.198 696.804 Q84.0256 693.653 84.0256 690.566 Q84.0256 686.428 82.6251 684.2 Q81.1929 681.972 78.6147 681.972 Q76.2276 681.972 74.9545 683.596 Q73.6813 685.187 72.5037 690.63 L72.0262 692.667 Q70.8804 698.109 68.5251 700.528 Q66.138 702.947 62.0002 702.947 Q56.9713 702.947 54.2341 699.383 Q51.4968 695.818 51.4968 689.261 Q51.4968 686.015 51.9743 683.15 Q52.4517 680.285 53.4065 677.866 Z\" fill=\"#000000\" fill-rule=\"evenodd\" fill-opacity=\"1\" /><path clip-path=\"url(#clip320)\" d=\"M 0 0 M68.7161 639.322 L71.5806 639.322 L71.5806 666.249 Q77.6281 665.867 80.8109 662.621 Q83.9619 659.342 83.9619 653.518 Q83.9619 650.144 83.1344 646.993 Q82.3069 643.81 80.6518 640.691 L86.1899 640.691 Q87.5267 643.842 88.227 647.152 Q88.9272 650.462 88.9272 653.868 Q88.9272 662.398 83.9619 667.395 Q78.9967 672.36 70.5303 672.36 Q61.7774 672.36 56.6531 667.649 Q51.4968 662.907 51.4968 654.886 Q51.4968 647.693 56.1438 643.523 Q60.7589 639.322 68.7161 639.322 M66.9973 645.179 Q62.1912 645.242 59.3266 647.884 Q56.4621 650.494 56.4621 654.823 Q56.4621 659.724 59.2312 662.684 Q62.0002 665.612 67.0292 666.058 L66.9973 645.179 Z\" fill=\"#000000\" fill-rule=\"evenodd\" fill-opacity=\"1\" /><path clip-path=\"url(#clip320)\" d=\"M 0 0 M53.4065 610.454 L58.9447 610.454 Q57.6716 612.936 57.035 615.61 Q56.3984 618.283 56.3984 621.148 Q56.3984 625.508 57.7352 627.705 Q59.072 629.869 61.7456 629.869 Q63.7826 629.869 64.9603 628.309 Q66.1061 626.75 67.1565 622.039 L67.6021 620.034 Q68.9389 613.796 71.3897 611.186 Q73.8086 608.544 78.1691 608.544 Q83.1344 608.544 86.0308 612.491 Q88.9272 616.406 88.9272 623.28 Q88.9272 626.145 88.3543 629.264 Q87.8132 632.352 86.6992 635.789 L80.6518 635.789 Q82.3387 632.543 83.198 629.392 Q84.0256 626.241 84.0256 623.153 Q84.0256 619.015 82.6251 616.787 Q81.1929 614.559 78.6147 614.559 Q76.2276 614.559 74.9545 616.183 Q73.6813 617.774 72.5037 623.217 L72.0262 625.254 Q70.8804 630.697 68.5251 633.116 Q66.138 635.534 62.0002 635.534 Q56.9713 635.534 54.2341 631.97 Q51.4968 628.405 51.4968 621.848 Q51.4968 618.602 51.9743 615.737 Q52.4517 612.873 53.4065 610.454 Z\" fill=\"#000000\" fill-rule=\"evenodd\" fill-opacity=\"1\" /><polyline clip-path=\"url(#clip322)\" style=\"stroke:#009af9; stroke-width:4; stroke-opacity:1; fill:none\" points=\"\n",
       "  319.279,1231.87 331.391,1231.87 343.503,1181.62 355.615,1181.62 367.727,1115.19 379.839,1115.19 391.95,1115.19 404.062,1115.19 416.174,1115.19 428.286,1090.79 \n",
       "  440.398,1081.11 452.51,1081.11 464.622,1058.02 476.734,1058.02 488.846,1058.02 500.958,1058.02 513.07,1058.02 525.182,1058.02 537.294,1058.02 549.406,1058.02 \n",
       "  561.518,1051.71 573.63,1051.71 585.742,1045.91 597.854,1045.91 609.966,1045.91 622.078,1045.91 634.19,1045.91 646.302,1045.91 658.414,1045.91 670.526,1045.91 \n",
       "  682.638,1035.54 694.75,1035.54 706.861,1035.54 718.973,1035.54 731.085,1035.54 743.197,1035.54 755.309,1030.86 767.421,1030.86 779.533,1001.46 791.645,985.284 \n",
       "  803.757,944.025 815.869,920.813 827.981,895.153 840.093,857.84 852.205,840.178 864.317,809.916 876.429,788.791 888.541,778.609 900.653,755.789 912.765,723.56 \n",
       "  924.877,698.774 936.989,675.328 949.101,654.623 961.213,652.189 973.325,624.307 985.437,599.474 997.549,572.434 1009.66,538.921 1021.77,515.785 1033.88,495.339 \n",
       "  1046,475.912 1058.11,456.956 1070.22,441.71 1082.33,427.252 1094.44,409.749 1106.56,395.556 1118.67,382.73 1130.78,372.172 1142.89,361.896 1155,351.142 \n",
       "  1167.12,341.96 1179.23,332.337 1191.34,323.44 1203.45,315.232 1215.56,308.984 1227.68,302.882 1239.79,297.047 1251.9,291.491 1264.01,285.852 1276.12,280.803 \n",
       "  1288.24,276.558 1300.35,272.739 1312.46,269.517 1324.57,266.221 1336.68,262.836 1348.8,259.364 1360.91,255.903 1373.02,253.034 1385.13,250.494 1397.24,247.92 \n",
       "  1409.36,245.597 1421.47,243.114 1433.58,240.213 1445.69,237.255 1457.8,234.673 1469.92,232.57 1482.03,230.906 1494.14,229.135 1506.25,227.204 1518.36,225.165 \n",
       "  1530.47,222.892 1542.59,221.005 1554.7,219.39 1566.81,218.001 1578.92,216.535 1591.03,215.035 1603.15,213.414 1615.26,211.869 1627.37,210.435 1639.48,209.353 \n",
       "  1651.59,208.335 1663.71,207.168 1675.82,206.059 1687.93,204.638 1700.04,203.361 1712.15,202.116 1724.27,201.188 1736.38,200.138 1748.49,199.166 1760.6,198.059 \n",
       "  1772.71,196.881 1784.83,195.785 1796.94,194.808 1809.05,193.888 1821.16,193.059 1833.27,192.244 1845.39,191.464 1857.5,190.502 1869.61,189.482 1881.72,188.488 \n",
       "  1893.83,187.672 1905.95,186.976 1918.06,186.147 1930.17,185.364 1942.28,184.535 1954.39,183.568 1966.51,182.708 1978.62,182.043 1990.73,181.397 2002.84,180.73 \n",
       "  2014.95,179.973 2027.07,179.146 2039.18,178.244 2051.29,177.345 2063.4,176.656 2075.51,175.978 2087.63,175.17 2099.74,174.308 2111.85,173.382 2123.96,172.348 \n",
       "  2136.07,171.287 2148.18,170.442 2160.3,169.479 2172.41,168.384 2184.52,167.313 2196.63,166.109 2208.74,164.767 2220.86,163.523 2232.97,162.405 2245.08,161.237 \n",
       "  2257.19,159.968 2269.3,158.575 2281.42,157.12 2293.53,155.756 \n",
       "  \"/>\n",
       "<path clip-path=\"url(#clip322)\" d=\"M319.279 1247.87 L307.967 1243.18 L303.279 1231.87 L307.967 1220.56 L319.279 1215.87 L330.591 1220.56 L335.279 1231.87 L330.591 1243.18 Z\" fill=\"#009af9\" fill-rule=\"evenodd\" fill-opacity=\"1\" stroke=\"#000000\" stroke-opacity=\"1\" stroke-width=\"3.2\"/>\n",
       "<path clip-path=\"url(#clip322)\" d=\"M331.391 1247.87 L320.079 1243.18 L315.391 1231.87 L320.079 1220.56 L331.391 1215.87 L342.703 1220.56 L347.391 1231.87 L342.703 1243.18 Z\" fill=\"#009af9\" fill-rule=\"evenodd\" fill-opacity=\"1\" stroke=\"#000000\" stroke-opacity=\"1\" stroke-width=\"3.2\"/>\n",
       "<path clip-path=\"url(#clip322)\" d=\"M343.503 1197.62 L332.191 1192.93 L327.503 1181.62 L332.191 1170.3 L343.503 1165.62 L354.815 1170.3 L359.503 1181.62 L354.815 1192.93 Z\" fill=\"#009af9\" fill-rule=\"evenodd\" fill-opacity=\"1\" stroke=\"#000000\" stroke-opacity=\"1\" stroke-width=\"3.2\"/>\n",
       "<path clip-path=\"url(#clip322)\" d=\"M355.615 1197.62 L344.303 1192.93 L339.615 1181.62 L344.303 1170.3 L355.615 1165.62 L366.927 1170.3 L371.615 1181.62 L366.927 1192.93 Z\" fill=\"#009af9\" fill-rule=\"evenodd\" fill-opacity=\"1\" stroke=\"#000000\" stroke-opacity=\"1\" stroke-width=\"3.2\"/>\n",
       "<path clip-path=\"url(#clip322)\" d=\"M367.727 1131.19 L356.415 1126.5 L351.727 1115.19 L356.415 1103.87 L367.727 1099.19 L379.039 1103.87 L383.727 1115.19 L379.039 1126.5 Z\" fill=\"#009af9\" fill-rule=\"evenodd\" fill-opacity=\"1\" stroke=\"#000000\" stroke-opacity=\"1\" stroke-width=\"3.2\"/>\n",
       "<path clip-path=\"url(#clip322)\" d=\"M379.839 1131.19 L368.527 1126.5 L363.839 1115.19 L368.527 1103.87 L379.839 1099.19 L391.151 1103.87 L395.839 1115.19 L391.151 1126.5 Z\" fill=\"#009af9\" fill-rule=\"evenodd\" fill-opacity=\"1\" stroke=\"#000000\" stroke-opacity=\"1\" stroke-width=\"3.2\"/>\n",
       "<path clip-path=\"url(#clip322)\" d=\"M391.95 1131.19 L380.638 1126.5 L375.95 1115.19 L380.638 1103.87 L391.95 1099.19 L403.262 1103.87 L407.95 1115.19 L403.262 1126.5 Z\" fill=\"#009af9\" fill-rule=\"evenodd\" fill-opacity=\"1\" stroke=\"#000000\" stroke-opacity=\"1\" stroke-width=\"3.2\"/>\n",
       "<path clip-path=\"url(#clip322)\" d=\"M404.062 1131.19 L392.75 1126.5 L388.062 1115.19 L392.75 1103.87 L404.062 1099.19 L415.374 1103.87 L420.062 1115.19 L415.374 1126.5 Z\" fill=\"#009af9\" fill-rule=\"evenodd\" fill-opacity=\"1\" stroke=\"#000000\" stroke-opacity=\"1\" stroke-width=\"3.2\"/>\n",
       "<path clip-path=\"url(#clip322)\" d=\"M416.174 1131.19 L404.862 1126.5 L400.174 1115.19 L404.862 1103.87 L416.174 1099.19 L427.486 1103.87 L432.174 1115.19 L427.486 1126.5 Z\" fill=\"#009af9\" fill-rule=\"evenodd\" fill-opacity=\"1\" stroke=\"#000000\" stroke-opacity=\"1\" stroke-width=\"3.2\"/>\n",
       "<path clip-path=\"url(#clip322)\" d=\"M428.286 1106.79 L416.974 1102.1 L412.286 1090.79 L416.974 1079.48 L428.286 1074.79 L439.598 1079.48 L444.286 1090.79 L439.598 1102.1 Z\" fill=\"#009af9\" fill-rule=\"evenodd\" fill-opacity=\"1\" stroke=\"#000000\" stroke-opacity=\"1\" stroke-width=\"3.2\"/>\n",
       "<path clip-path=\"url(#clip322)\" d=\"M440.398 1097.11 L429.086 1092.42 L424.398 1081.11 L429.086 1069.8 L440.398 1065.11 L451.71 1069.8 L456.398 1081.11 L451.71 1092.42 Z\" fill=\"#009af9\" fill-rule=\"evenodd\" fill-opacity=\"1\" stroke=\"#000000\" stroke-opacity=\"1\" stroke-width=\"3.2\"/>\n",
       "<path clip-path=\"url(#clip322)\" d=\"M452.51 1097.11 L441.198 1092.42 L436.51 1081.11 L441.198 1069.8 L452.51 1065.11 L463.822 1069.8 L468.51 1081.11 L463.822 1092.42 Z\" fill=\"#009af9\" fill-rule=\"evenodd\" fill-opacity=\"1\" stroke=\"#000000\" stroke-opacity=\"1\" stroke-width=\"3.2\"/>\n",
       "<path clip-path=\"url(#clip322)\" d=\"M464.622 1074.02 L453.31 1069.34 L448.622 1058.02 L453.31 1046.71 L464.622 1042.02 L475.934 1046.71 L480.622 1058.02 L475.934 1069.34 Z\" fill=\"#009af9\" fill-rule=\"evenodd\" fill-opacity=\"1\" stroke=\"#000000\" stroke-opacity=\"1\" stroke-width=\"3.2\"/>\n",
       "<path clip-path=\"url(#clip322)\" d=\"M476.734 1074.02 L465.422 1069.34 L460.734 1058.02 L465.422 1046.71 L476.734 1042.02 L488.046 1046.71 L492.734 1058.02 L488.046 1069.34 Z\" fill=\"#009af9\" fill-rule=\"evenodd\" fill-opacity=\"1\" stroke=\"#000000\" stroke-opacity=\"1\" stroke-width=\"3.2\"/>\n",
       "<path clip-path=\"url(#clip322)\" d=\"M488.846 1074.02 L477.534 1069.34 L472.846 1058.02 L477.534 1046.71 L488.846 1042.02 L500.158 1046.71 L504.846 1058.02 L500.158 1069.34 Z\" fill=\"#009af9\" fill-rule=\"evenodd\" fill-opacity=\"1\" stroke=\"#000000\" stroke-opacity=\"1\" stroke-width=\"3.2\"/>\n",
       "<path clip-path=\"url(#clip322)\" d=\"M500.958 1074.02 L489.646 1069.34 L484.958 1058.02 L489.646 1046.71 L500.958 1042.02 L512.27 1046.71 L516.958 1058.02 L512.27 1069.34 Z\" fill=\"#009af9\" fill-rule=\"evenodd\" fill-opacity=\"1\" stroke=\"#000000\" stroke-opacity=\"1\" stroke-width=\"3.2\"/>\n",
       "<path clip-path=\"url(#clip322)\" d=\"M513.07 1074.02 L501.758 1069.34 L497.07 1058.02 L501.758 1046.71 L513.07 1042.02 L524.382 1046.71 L529.07 1058.02 L524.382 1069.34 Z\" fill=\"#009af9\" fill-rule=\"evenodd\" fill-opacity=\"1\" stroke=\"#000000\" stroke-opacity=\"1\" stroke-width=\"3.2\"/>\n",
       "<path clip-path=\"url(#clip322)\" d=\"M525.182 1074.02 L513.87 1069.34 L509.182 1058.02 L513.87 1046.71 L525.182 1042.02 L536.494 1046.71 L541.182 1058.02 L536.494 1069.34 Z\" fill=\"#009af9\" fill-rule=\"evenodd\" fill-opacity=\"1\" stroke=\"#000000\" stroke-opacity=\"1\" stroke-width=\"3.2\"/>\n",
       "<path clip-path=\"url(#clip322)\" d=\"M537.294 1074.02 L525.982 1069.34 L521.294 1058.02 L525.982 1046.71 L537.294 1042.02 L548.606 1046.71 L553.294 1058.02 L548.606 1069.34 Z\" fill=\"#009af9\" fill-rule=\"evenodd\" fill-opacity=\"1\" stroke=\"#000000\" stroke-opacity=\"1\" stroke-width=\"3.2\"/>\n",
       "<path clip-path=\"url(#clip322)\" d=\"M549.406 1074.02 L538.094 1069.34 L533.406 1058.02 L538.094 1046.71 L549.406 1042.02 L560.718 1046.71 L565.406 1058.02 L560.718 1069.34 Z\" fill=\"#009af9\" fill-rule=\"evenodd\" fill-opacity=\"1\" stroke=\"#000000\" stroke-opacity=\"1\" stroke-width=\"3.2\"/>\n",
       "<path clip-path=\"url(#clip322)\" d=\"M561.518 1067.71 L550.206 1063.03 L545.518 1051.71 L550.206 1040.4 L561.518 1035.71 L572.83 1040.4 L577.518 1051.71 L572.83 1063.03 Z\" fill=\"#009af9\" fill-rule=\"evenodd\" fill-opacity=\"1\" stroke=\"#000000\" stroke-opacity=\"1\" stroke-width=\"3.2\"/>\n",
       "<path clip-path=\"url(#clip322)\" d=\"M573.63 1067.71 L562.318 1063.03 L557.63 1051.71 L562.318 1040.4 L573.63 1035.71 L584.942 1040.4 L589.63 1051.71 L584.942 1063.03 Z\" fill=\"#009af9\" fill-rule=\"evenodd\" fill-opacity=\"1\" stroke=\"#000000\" stroke-opacity=\"1\" stroke-width=\"3.2\"/>\n",
       "<path clip-path=\"url(#clip322)\" d=\"M585.742 1061.91 L574.43 1057.22 L569.742 1045.91 L574.43 1034.6 L585.742 1029.91 L597.054 1034.6 L601.742 1045.91 L597.054 1057.22 Z\" fill=\"#009af9\" fill-rule=\"evenodd\" fill-opacity=\"1\" stroke=\"#000000\" stroke-opacity=\"1\" stroke-width=\"3.2\"/>\n",
       "<path clip-path=\"url(#clip322)\" d=\"M597.854 1061.91 L586.542 1057.22 L581.854 1045.91 L586.542 1034.6 L597.854 1029.91 L609.166 1034.6 L613.854 1045.91 L609.166 1057.22 Z\" fill=\"#009af9\" fill-rule=\"evenodd\" fill-opacity=\"1\" stroke=\"#000000\" stroke-opacity=\"1\" stroke-width=\"3.2\"/>\n",
       "<path clip-path=\"url(#clip322)\" d=\"M609.966 1061.91 L598.654 1057.22 L593.966 1045.91 L598.654 1034.6 L609.966 1029.91 L621.278 1034.6 L625.966 1045.91 L621.278 1057.22 Z\" fill=\"#009af9\" fill-rule=\"evenodd\" fill-opacity=\"1\" stroke=\"#000000\" stroke-opacity=\"1\" stroke-width=\"3.2\"/>\n",
       "<path clip-path=\"url(#clip322)\" d=\"M622.078 1061.91 L610.766 1057.22 L606.078 1045.91 L610.766 1034.6 L622.078 1029.91 L633.39 1034.6 L638.078 1045.91 L633.39 1057.22 Z\" fill=\"#009af9\" fill-rule=\"evenodd\" fill-opacity=\"1\" stroke=\"#000000\" stroke-opacity=\"1\" stroke-width=\"3.2\"/>\n",
       "<path clip-path=\"url(#clip322)\" d=\"M634.19 1061.91 L622.878 1057.22 L618.19 1045.91 L622.878 1034.6 L634.19 1029.91 L645.502 1034.6 L650.19 1045.91 L645.502 1057.22 Z\" fill=\"#009af9\" fill-rule=\"evenodd\" fill-opacity=\"1\" stroke=\"#000000\" stroke-opacity=\"1\" stroke-width=\"3.2\"/>\n",
       "<path clip-path=\"url(#clip322)\" d=\"M646.302 1061.91 L634.99 1057.22 L630.302 1045.91 L634.99 1034.6 L646.302 1029.91 L657.614 1034.6 L662.302 1045.91 L657.614 1057.22 Z\" fill=\"#009af9\" fill-rule=\"evenodd\" fill-opacity=\"1\" stroke=\"#000000\" stroke-opacity=\"1\" stroke-width=\"3.2\"/>\n",
       "<path clip-path=\"url(#clip322)\" d=\"M658.414 1061.91 L647.102 1057.22 L642.414 1045.91 L647.102 1034.6 L658.414 1029.91 L669.726 1034.6 L674.414 1045.91 L669.726 1057.22 Z\" fill=\"#009af9\" fill-rule=\"evenodd\" fill-opacity=\"1\" stroke=\"#000000\" stroke-opacity=\"1\" stroke-width=\"3.2\"/>\n",
       "<path clip-path=\"url(#clip322)\" d=\"M670.526 1061.91 L659.214 1057.22 L654.526 1045.91 L659.214 1034.6 L670.526 1029.91 L681.838 1034.6 L686.526 1045.91 L681.838 1057.22 Z\" fill=\"#009af9\" fill-rule=\"evenodd\" fill-opacity=\"1\" stroke=\"#000000\" stroke-opacity=\"1\" stroke-width=\"3.2\"/>\n",
       "<path clip-path=\"url(#clip322)\" d=\"M682.638 1051.54 L671.326 1046.85 L666.638 1035.54 L671.326 1024.23 L682.638 1019.54 L693.95 1024.23 L698.638 1035.54 L693.95 1046.85 Z\" fill=\"#009af9\" fill-rule=\"evenodd\" fill-opacity=\"1\" stroke=\"#000000\" stroke-opacity=\"1\" stroke-width=\"3.2\"/>\n",
       "<path clip-path=\"url(#clip322)\" d=\"M694.75 1051.54 L683.438 1046.85 L678.75 1035.54 L683.438 1024.23 L694.75 1019.54 L706.062 1024.23 L710.75 1035.54 L706.062 1046.85 Z\" fill=\"#009af9\" fill-rule=\"evenodd\" fill-opacity=\"1\" stroke=\"#000000\" stroke-opacity=\"1\" stroke-width=\"3.2\"/>\n",
       "<path clip-path=\"url(#clip322)\" d=\"M706.861 1051.54 L695.549 1046.85 L690.861 1035.54 L695.549 1024.23 L706.861 1019.54 L718.173 1024.23 L722.861 1035.54 L718.173 1046.85 Z\" fill=\"#009af9\" fill-rule=\"evenodd\" fill-opacity=\"1\" stroke=\"#000000\" stroke-opacity=\"1\" stroke-width=\"3.2\"/>\n",
       "<path clip-path=\"url(#clip322)\" d=\"M718.973 1051.54 L707.661 1046.85 L702.973 1035.54 L707.661 1024.23 L718.973 1019.54 L730.285 1024.23 L734.973 1035.54 L730.285 1046.85 Z\" fill=\"#009af9\" fill-rule=\"evenodd\" fill-opacity=\"1\" stroke=\"#000000\" stroke-opacity=\"1\" stroke-width=\"3.2\"/>\n",
       "<path clip-path=\"url(#clip322)\" d=\"M731.085 1051.54 L719.773 1046.85 L715.085 1035.54 L719.773 1024.23 L731.085 1019.54 L742.397 1024.23 L747.085 1035.54 L742.397 1046.85 Z\" fill=\"#009af9\" fill-rule=\"evenodd\" fill-opacity=\"1\" stroke=\"#000000\" stroke-opacity=\"1\" stroke-width=\"3.2\"/>\n",
       "<path clip-path=\"url(#clip322)\" d=\"M743.197 1051.54 L731.885 1046.85 L727.197 1035.54 L731.885 1024.23 L743.197 1019.54 L754.509 1024.23 L759.197 1035.54 L754.509 1046.85 Z\" fill=\"#009af9\" fill-rule=\"evenodd\" fill-opacity=\"1\" stroke=\"#000000\" stroke-opacity=\"1\" stroke-width=\"3.2\"/>\n",
       "<path clip-path=\"url(#clip322)\" d=\"M755.309 1046.86 L743.997 1042.17 L739.309 1030.86 L743.997 1019.55 L755.309 1014.86 L766.621 1019.55 L771.309 1030.86 L766.621 1042.17 Z\" fill=\"#009af9\" fill-rule=\"evenodd\" fill-opacity=\"1\" stroke=\"#000000\" stroke-opacity=\"1\" stroke-width=\"3.2\"/>\n",
       "<path clip-path=\"url(#clip322)\" d=\"M767.421 1046.86 L756.109 1042.17 L751.421 1030.86 L756.109 1019.55 L767.421 1014.86 L778.733 1019.55 L783.421 1030.86 L778.733 1042.17 Z\" fill=\"#009af9\" fill-rule=\"evenodd\" fill-opacity=\"1\" stroke=\"#000000\" stroke-opacity=\"1\" stroke-width=\"3.2\"/>\n",
       "<path clip-path=\"url(#clip322)\" d=\"M779.533 1017.46 L768.221 1012.77 L763.533 1001.46 L768.221 990.15 L779.533 985.462 L790.845 990.15 L795.533 1001.46 L790.845 1012.77 Z\" fill=\"#009af9\" fill-rule=\"evenodd\" fill-opacity=\"1\" stroke=\"#000000\" stroke-opacity=\"1\" stroke-width=\"3.2\"/>\n",
       "<path clip-path=\"url(#clip322)\" d=\"M791.645 1001.28 L780.333 996.596 L775.645 985.284 L780.333 973.972 L791.645 969.284 L802.957 973.972 L807.645 985.284 L802.957 996.596 Z\" fill=\"#009af9\" fill-rule=\"evenodd\" fill-opacity=\"1\" stroke=\"#000000\" stroke-opacity=\"1\" stroke-width=\"3.2\"/>\n",
       "<path clip-path=\"url(#clip322)\" d=\"M803.757 960.025 L792.445 955.337 L787.757 944.025 L792.445 932.713 L803.757 928.025 L815.069 932.713 L819.757 944.025 L815.069 955.337 Z\" fill=\"#009af9\" fill-rule=\"evenodd\" fill-opacity=\"1\" stroke=\"#000000\" stroke-opacity=\"1\" stroke-width=\"3.2\"/>\n",
       "<path clip-path=\"url(#clip322)\" d=\"M815.869 936.813 L804.557 932.125 L799.869 920.813 L804.557 909.501 L815.869 904.813 L827.181 909.501 L831.869 920.813 L827.181 932.125 Z\" fill=\"#009af9\" fill-rule=\"evenodd\" fill-opacity=\"1\" stroke=\"#000000\" stroke-opacity=\"1\" stroke-width=\"3.2\"/>\n",
       "<path clip-path=\"url(#clip322)\" d=\"M827.981 911.153 L816.669 906.465 L811.981 895.153 L816.669 883.841 L827.981 879.153 L839.293 883.841 L843.981 895.153 L839.293 906.465 Z\" fill=\"#009af9\" fill-rule=\"evenodd\" fill-opacity=\"1\" stroke=\"#000000\" stroke-opacity=\"1\" stroke-width=\"3.2\"/>\n",
       "<path clip-path=\"url(#clip322)\" d=\"M840.093 873.84 L828.781 869.152 L824.093 857.84 L828.781 846.528 L840.093 841.84 L851.405 846.528 L856.093 857.84 L851.405 869.152 Z\" fill=\"#009af9\" fill-rule=\"evenodd\" fill-opacity=\"1\" stroke=\"#000000\" stroke-opacity=\"1\" stroke-width=\"3.2\"/>\n",
       "<path clip-path=\"url(#clip322)\" d=\"M852.205 856.178 L840.893 851.49 L836.205 840.178 L840.893 828.866 L852.205 824.178 L863.517 828.866 L868.205 840.178 L863.517 851.49 Z\" fill=\"#009af9\" fill-rule=\"evenodd\" fill-opacity=\"1\" stroke=\"#000000\" stroke-opacity=\"1\" stroke-width=\"3.2\"/>\n",
       "<path clip-path=\"url(#clip322)\" d=\"M864.317 825.916 L853.005 821.228 L848.317 809.916 L853.005 798.604 L864.317 793.916 L875.629 798.604 L880.317 809.916 L875.629 821.228 Z\" fill=\"#009af9\" fill-rule=\"evenodd\" fill-opacity=\"1\" stroke=\"#000000\" stroke-opacity=\"1\" stroke-width=\"3.2\"/>\n",
       "<path clip-path=\"url(#clip322)\" d=\"M876.429 804.791 L865.117 800.103 L860.429 788.791 L865.117 777.479 L876.429 772.791 L887.741 777.479 L892.429 788.791 L887.741 800.103 Z\" fill=\"#009af9\" fill-rule=\"evenodd\" fill-opacity=\"1\" stroke=\"#000000\" stroke-opacity=\"1\" stroke-width=\"3.2\"/>\n",
       "<path clip-path=\"url(#clip322)\" d=\"M888.541 794.609 L877.229 789.921 L872.541 778.609 L877.229 767.297 L888.541 762.609 L899.853 767.297 L904.541 778.609 L899.853 789.921 Z\" fill=\"#009af9\" fill-rule=\"evenodd\" fill-opacity=\"1\" stroke=\"#000000\" stroke-opacity=\"1\" stroke-width=\"3.2\"/>\n",
       "<path clip-path=\"url(#clip322)\" d=\"M900.653 771.789 L889.341 767.101 L884.653 755.789 L889.341 744.477 L900.653 739.789 L911.965 744.477 L916.653 755.789 L911.965 767.101 Z\" fill=\"#009af9\" fill-rule=\"evenodd\" fill-opacity=\"1\" stroke=\"#000000\" stroke-opacity=\"1\" stroke-width=\"3.2\"/>\n",
       "<path clip-path=\"url(#clip322)\" d=\"M912.765 739.56 L901.453 734.872 L896.765 723.56 L901.453 712.248 L912.765 707.56 L924.077 712.248 L928.765 723.56 L924.077 734.872 Z\" fill=\"#009af9\" fill-rule=\"evenodd\" fill-opacity=\"1\" stroke=\"#000000\" stroke-opacity=\"1\" stroke-width=\"3.2\"/>\n",
       "<path clip-path=\"url(#clip322)\" d=\"M924.877 714.774 L913.565 710.086 L908.877 698.774 L913.565 687.462 L924.877 682.774 L936.189 687.462 L940.877 698.774 L936.189 710.086 Z\" fill=\"#009af9\" fill-rule=\"evenodd\" fill-opacity=\"1\" stroke=\"#000000\" stroke-opacity=\"1\" stroke-width=\"3.2\"/>\n",
       "<path clip-path=\"url(#clip322)\" d=\"M936.989 691.328 L925.677 686.64 L920.989 675.328 L925.677 664.016 L936.989 659.328 L948.301 664.016 L952.989 675.328 L948.301 686.64 Z\" fill=\"#009af9\" fill-rule=\"evenodd\" fill-opacity=\"1\" stroke=\"#000000\" stroke-opacity=\"1\" stroke-width=\"3.2\"/>\n",
       "<path clip-path=\"url(#clip322)\" d=\"M949.101 670.623 L937.789 665.935 L933.101 654.623 L937.789 643.311 L949.101 638.623 L960.413 643.311 L965.101 654.623 L960.413 665.935 Z\" fill=\"#009af9\" fill-rule=\"evenodd\" fill-opacity=\"1\" stroke=\"#000000\" stroke-opacity=\"1\" stroke-width=\"3.2\"/>\n",
       "<path clip-path=\"url(#clip322)\" d=\"M961.213 668.189 L949.901 663.501 L945.213 652.189 L949.901 640.877 L961.213 636.189 L972.525 640.877 L977.213 652.189 L972.525 663.501 Z\" fill=\"#009af9\" fill-rule=\"evenodd\" fill-opacity=\"1\" stroke=\"#000000\" stroke-opacity=\"1\" stroke-width=\"3.2\"/>\n",
       "<path clip-path=\"url(#clip322)\" d=\"M973.325 640.307 L962.013 635.619 L957.325 624.307 L962.013 612.995 L973.325 608.307 L984.637 612.995 L989.325 624.307 L984.637 635.619 Z\" fill=\"#009af9\" fill-rule=\"evenodd\" fill-opacity=\"1\" stroke=\"#000000\" stroke-opacity=\"1\" stroke-width=\"3.2\"/>\n",
       "<path clip-path=\"url(#clip322)\" d=\"M985.437 615.474 L974.125 610.786 L969.437 599.474 L974.125 588.162 L985.437 583.474 L996.749 588.162 L1001.44 599.474 L996.749 610.786 Z\" fill=\"#009af9\" fill-rule=\"evenodd\" fill-opacity=\"1\" stroke=\"#000000\" stroke-opacity=\"1\" stroke-width=\"3.2\"/>\n",
       "<path clip-path=\"url(#clip322)\" d=\"M997.549 588.434 L986.237 583.746 L981.549 572.434 L986.237 561.122 L997.549 556.434 L1008.86 561.122 L1013.55 572.434 L1008.86 583.746 Z\" fill=\"#009af9\" fill-rule=\"evenodd\" fill-opacity=\"1\" stroke=\"#000000\" stroke-opacity=\"1\" stroke-width=\"3.2\"/>\n",
       "<path clip-path=\"url(#clip322)\" d=\"M1009.66 554.921 L998.349 550.233 L993.661 538.921 L998.349 527.609 L1009.66 522.921 L1020.97 527.609 L1025.66 538.921 L1020.97 550.233 Z\" fill=\"#009af9\" fill-rule=\"evenodd\" fill-opacity=\"1\" stroke=\"#000000\" stroke-opacity=\"1\" stroke-width=\"3.2\"/>\n",
       "<path clip-path=\"url(#clip322)\" d=\"M1021.77 531.785 L1010.46 527.097 L1005.77 515.785 L1010.46 504.473 L1021.77 499.785 L1033.08 504.473 L1037.77 515.785 L1033.08 527.097 Z\" fill=\"#009af9\" fill-rule=\"evenodd\" fill-opacity=\"1\" stroke=\"#000000\" stroke-opacity=\"1\" stroke-width=\"3.2\"/>\n",
       "<path clip-path=\"url(#clip322)\" d=\"M1033.88 511.339 L1022.57 506.651 L1017.88 495.339 L1022.57 484.027 L1033.88 479.339 L1045.2 484.027 L1049.88 495.339 L1045.2 506.651 Z\" fill=\"#009af9\" fill-rule=\"evenodd\" fill-opacity=\"1\" stroke=\"#000000\" stroke-opacity=\"1\" stroke-width=\"3.2\"/>\n",
       "<path clip-path=\"url(#clip322)\" d=\"M1046 491.912 L1034.68 487.224 L1030 475.912 L1034.68 464.6 L1046 459.912 L1057.31 464.6 L1062 475.912 L1057.31 487.224 Z\" fill=\"#009af9\" fill-rule=\"evenodd\" fill-opacity=\"1\" stroke=\"#000000\" stroke-opacity=\"1\" stroke-width=\"3.2\"/>\n",
       "<path clip-path=\"url(#clip322)\" d=\"M1058.11 472.956 L1046.8 468.268 L1042.11 456.956 L1046.8 445.644 L1058.11 440.956 L1069.42 445.644 L1074.11 456.956 L1069.42 468.268 Z\" fill=\"#009af9\" fill-rule=\"evenodd\" fill-opacity=\"1\" stroke=\"#000000\" stroke-opacity=\"1\" stroke-width=\"3.2\"/>\n",
       "<path clip-path=\"url(#clip322)\" d=\"M1070.22 457.71 L1058.91 453.022 L1054.22 441.71 L1058.91 430.398 L1070.22 425.71 L1081.53 430.398 L1086.22 441.71 L1081.53 453.022 Z\" fill=\"#009af9\" fill-rule=\"evenodd\" fill-opacity=\"1\" stroke=\"#000000\" stroke-opacity=\"1\" stroke-width=\"3.2\"/>\n",
       "<path clip-path=\"url(#clip322)\" d=\"M1082.33 443.252 L1071.02 438.564 L1066.33 427.252 L1071.02 415.94 L1082.33 411.252 L1093.64 415.94 L1098.33 427.252 L1093.64 438.564 Z\" fill=\"#009af9\" fill-rule=\"evenodd\" fill-opacity=\"1\" stroke=\"#000000\" stroke-opacity=\"1\" stroke-width=\"3.2\"/>\n",
       "<path clip-path=\"url(#clip322)\" d=\"M1094.44 425.749 L1083.13 421.061 L1078.44 409.749 L1083.13 398.437 L1094.44 393.749 L1105.76 398.437 L1110.44 409.749 L1105.76 421.061 Z\" fill=\"#009af9\" fill-rule=\"evenodd\" fill-opacity=\"1\" stroke=\"#000000\" stroke-opacity=\"1\" stroke-width=\"3.2\"/>\n",
       "<path clip-path=\"url(#clip322)\" d=\"M1106.56 411.556 L1095.24 406.868 L1090.56 395.556 L1095.24 384.244 L1106.56 379.556 L1117.87 384.244 L1122.56 395.556 L1117.87 406.868 Z\" fill=\"#009af9\" fill-rule=\"evenodd\" fill-opacity=\"1\" stroke=\"#000000\" stroke-opacity=\"1\" stroke-width=\"3.2\"/>\n",
       "<path clip-path=\"url(#clip322)\" d=\"M1118.67 398.73 L1107.36 394.042 L1102.67 382.73 L1107.36 371.418 L1118.67 366.73 L1129.98 371.418 L1134.67 382.73 L1129.98 394.042 Z\" fill=\"#009af9\" fill-rule=\"evenodd\" fill-opacity=\"1\" stroke=\"#000000\" stroke-opacity=\"1\" stroke-width=\"3.2\"/>\n",
       "<path clip-path=\"url(#clip322)\" d=\"M1130.78 388.172 L1119.47 383.484 L1114.78 372.172 L1119.47 360.86 L1130.78 356.172 L1142.09 360.86 L1146.78 372.172 L1142.09 383.484 Z\" fill=\"#009af9\" fill-rule=\"evenodd\" fill-opacity=\"1\" stroke=\"#000000\" stroke-opacity=\"1\" stroke-width=\"3.2\"/>\n",
       "<path clip-path=\"url(#clip322)\" d=\"M1142.89 377.896 L1131.58 373.208 L1126.89 361.896 L1131.58 350.584 L1142.89 345.896 L1154.2 350.584 L1158.89 361.896 L1154.2 373.208 Z\" fill=\"#009af9\" fill-rule=\"evenodd\" fill-opacity=\"1\" stroke=\"#000000\" stroke-opacity=\"1\" stroke-width=\"3.2\"/>\n",
       "<path clip-path=\"url(#clip322)\" d=\"M1155 367.142 L1143.69 362.454 L1139 351.142 L1143.69 339.83 L1155 335.142 L1166.32 339.83 L1171 351.142 L1166.32 362.454 Z\" fill=\"#009af9\" fill-rule=\"evenodd\" fill-opacity=\"1\" stroke=\"#000000\" stroke-opacity=\"1\" stroke-width=\"3.2\"/>\n",
       "<path clip-path=\"url(#clip322)\" d=\"M1167.12 357.96 L1155.8 353.272 L1151.12 341.96 L1155.8 330.648 L1167.12 325.96 L1178.43 330.648 L1183.12 341.96 L1178.43 353.272 Z\" fill=\"#009af9\" fill-rule=\"evenodd\" fill-opacity=\"1\" stroke=\"#000000\" stroke-opacity=\"1\" stroke-width=\"3.2\"/>\n",
       "<path clip-path=\"url(#clip322)\" d=\"M1179.23 348.337 L1167.92 343.649 L1163.23 332.337 L1167.92 321.025 L1179.23 316.337 L1190.54 321.025 L1195.23 332.337 L1190.54 343.649 Z\" fill=\"#009af9\" fill-rule=\"evenodd\" fill-opacity=\"1\" stroke=\"#000000\" stroke-opacity=\"1\" stroke-width=\"3.2\"/>\n",
       "<path clip-path=\"url(#clip322)\" d=\"M1191.34 339.44 L1180.03 334.752 L1175.34 323.44 L1180.03 312.128 L1191.34 307.44 L1202.65 312.128 L1207.34 323.44 L1202.65 334.752 Z\" fill=\"#009af9\" fill-rule=\"evenodd\" fill-opacity=\"1\" stroke=\"#000000\" stroke-opacity=\"1\" stroke-width=\"3.2\"/>\n",
       "<path clip-path=\"url(#clip322)\" d=\"M1203.45 331.232 L1192.14 326.544 L1187.45 315.232 L1192.14 303.92 L1203.45 299.232 L1214.76 303.92 L1219.45 315.232 L1214.76 326.544 Z\" fill=\"#009af9\" fill-rule=\"evenodd\" fill-opacity=\"1\" stroke=\"#000000\" stroke-opacity=\"1\" stroke-width=\"3.2\"/>\n",
       "<path clip-path=\"url(#clip322)\" d=\"M1215.56 324.984 L1204.25 320.296 L1199.56 308.984 L1204.25 297.672 L1215.56 292.984 L1226.88 297.672 L1231.56 308.984 L1226.88 320.296 Z\" fill=\"#009af9\" fill-rule=\"evenodd\" fill-opacity=\"1\" stroke=\"#000000\" stroke-opacity=\"1\" stroke-width=\"3.2\"/>\n",
       "<path clip-path=\"url(#clip322)\" d=\"M1227.68 318.882 L1216.36 314.194 L1211.68 302.882 L1216.36 291.57 L1227.68 286.882 L1238.99 291.57 L1243.68 302.882 L1238.99 314.194 Z\" fill=\"#009af9\" fill-rule=\"evenodd\" fill-opacity=\"1\" stroke=\"#000000\" stroke-opacity=\"1\" stroke-width=\"3.2\"/>\n",
       "<path clip-path=\"url(#clip322)\" d=\"M1239.79 313.047 L1228.48 308.359 L1223.79 297.047 L1228.48 285.735 L1239.79 281.047 L1251.1 285.735 L1255.79 297.047 L1251.1 308.359 Z\" fill=\"#009af9\" fill-rule=\"evenodd\" fill-opacity=\"1\" stroke=\"#000000\" stroke-opacity=\"1\" stroke-width=\"3.2\"/>\n",
       "<path clip-path=\"url(#clip322)\" d=\"M1251.9 307.491 L1240.59 302.803 L1235.9 291.491 L1240.59 280.179 L1251.9 275.491 L1263.21 280.179 L1267.9 291.491 L1263.21 302.803 Z\" fill=\"#009af9\" fill-rule=\"evenodd\" fill-opacity=\"1\" stroke=\"#000000\" stroke-opacity=\"1\" stroke-width=\"3.2\"/>\n",
       "<path clip-path=\"url(#clip322)\" d=\"M1264.01 301.852 L1252.7 297.164 L1248.01 285.852 L1252.7 274.54 L1264.01 269.852 L1275.32 274.54 L1280.01 285.852 L1275.32 297.164 Z\" fill=\"#009af9\" fill-rule=\"evenodd\" fill-opacity=\"1\" stroke=\"#000000\" stroke-opacity=\"1\" stroke-width=\"3.2\"/>\n",
       "<path clip-path=\"url(#clip322)\" d=\"M1276.12 296.803 L1264.81 292.115 L1260.12 280.803 L1264.81 269.491 L1276.12 264.803 L1287.44 269.491 L1292.12 280.803 L1287.44 292.115 Z\" fill=\"#009af9\" fill-rule=\"evenodd\" fill-opacity=\"1\" stroke=\"#000000\" stroke-opacity=\"1\" stroke-width=\"3.2\"/>\n",
       "<path clip-path=\"url(#clip322)\" d=\"M1288.24 292.558 L1276.92 287.87 L1272.24 276.558 L1276.92 265.246 L1288.24 260.558 L1299.55 265.246 L1304.24 276.558 L1299.55 287.87 Z\" fill=\"#009af9\" fill-rule=\"evenodd\" fill-opacity=\"1\" stroke=\"#000000\" stroke-opacity=\"1\" stroke-width=\"3.2\"/>\n",
       "<path clip-path=\"url(#clip322)\" d=\"M1300.35 288.739 L1289.04 284.051 L1284.35 272.739 L1289.04 261.427 L1300.35 256.739 L1311.66 261.427 L1316.35 272.739 L1311.66 284.051 Z\" fill=\"#009af9\" fill-rule=\"evenodd\" fill-opacity=\"1\" stroke=\"#000000\" stroke-opacity=\"1\" stroke-width=\"3.2\"/>\n",
       "<path clip-path=\"url(#clip322)\" d=\"M1312.46 285.517 L1301.15 280.829 L1296.46 269.517 L1301.15 258.205 L1312.46 253.517 L1323.77 258.205 L1328.46 269.517 L1323.77 280.829 Z\" fill=\"#009af9\" fill-rule=\"evenodd\" fill-opacity=\"1\" stroke=\"#000000\" stroke-opacity=\"1\" stroke-width=\"3.2\"/>\n",
       "<path clip-path=\"url(#clip322)\" d=\"M1324.57 282.221 L1313.26 277.533 L1308.57 266.221 L1313.26 254.909 L1324.57 250.221 L1335.88 254.909 L1340.57 266.221 L1335.88 277.533 Z\" fill=\"#009af9\" fill-rule=\"evenodd\" fill-opacity=\"1\" stroke=\"#000000\" stroke-opacity=\"1\" stroke-width=\"3.2\"/>\n",
       "<path clip-path=\"url(#clip322)\" d=\"M1336.68 278.836 L1325.37 274.148 L1320.68 262.836 L1325.37 251.524 L1336.68 246.836 L1348 251.524 L1352.68 262.836 L1348 274.148 Z\" fill=\"#009af9\" fill-rule=\"evenodd\" fill-opacity=\"1\" stroke=\"#000000\" stroke-opacity=\"1\" stroke-width=\"3.2\"/>\n",
       "<path clip-path=\"url(#clip322)\" d=\"M1348.8 275.364 L1337.48 270.676 L1332.8 259.364 L1337.48 248.052 L1348.8 243.364 L1360.11 248.052 L1364.8 259.364 L1360.11 270.676 Z\" fill=\"#009af9\" fill-rule=\"evenodd\" fill-opacity=\"1\" stroke=\"#000000\" stroke-opacity=\"1\" stroke-width=\"3.2\"/>\n",
       "<path clip-path=\"url(#clip322)\" d=\"M1360.91 271.903 L1349.6 267.215 L1344.91 255.903 L1349.6 244.591 L1360.91 239.903 L1372.22 244.591 L1376.91 255.903 L1372.22 267.215 Z\" fill=\"#009af9\" fill-rule=\"evenodd\" fill-opacity=\"1\" stroke=\"#000000\" stroke-opacity=\"1\" stroke-width=\"3.2\"/>\n",
       "<path clip-path=\"url(#clip322)\" d=\"M1373.02 269.034 L1361.71 264.346 L1357.02 253.034 L1361.71 241.722 L1373.02 237.034 L1384.33 241.722 L1389.02 253.034 L1384.33 264.346 Z\" fill=\"#009af9\" fill-rule=\"evenodd\" fill-opacity=\"1\" stroke=\"#000000\" stroke-opacity=\"1\" stroke-width=\"3.2\"/>\n",
       "<path clip-path=\"url(#clip322)\" d=\"M1385.13 266.494 L1373.82 261.806 L1369.13 250.494 L1373.82 239.182 L1385.13 234.494 L1396.44 239.182 L1401.13 250.494 L1396.44 261.806 Z\" fill=\"#009af9\" fill-rule=\"evenodd\" fill-opacity=\"1\" stroke=\"#000000\" stroke-opacity=\"1\" stroke-width=\"3.2\"/>\n",
       "<path clip-path=\"url(#clip322)\" d=\"M1397.24 263.92 L1385.93 259.232 L1381.24 247.92 L1385.93 236.608 L1397.24 231.92 L1408.56 236.608 L1413.24 247.92 L1408.56 259.232 Z\" fill=\"#009af9\" fill-rule=\"evenodd\" fill-opacity=\"1\" stroke=\"#000000\" stroke-opacity=\"1\" stroke-width=\"3.2\"/>\n",
       "<path clip-path=\"url(#clip322)\" d=\"M1409.36 261.597 L1398.04 256.909 L1393.36 245.597 L1398.04 234.285 L1409.36 229.597 L1420.67 234.285 L1425.36 245.597 L1420.67 256.909 Z\" fill=\"#009af9\" fill-rule=\"evenodd\" fill-opacity=\"1\" stroke=\"#000000\" stroke-opacity=\"1\" stroke-width=\"3.2\"/>\n",
       "<path clip-path=\"url(#clip322)\" d=\"M1421.47 259.114 L1410.16 254.426 L1405.47 243.114 L1410.16 231.802 L1421.47 227.114 L1432.78 231.802 L1437.47 243.114 L1432.78 254.426 Z\" fill=\"#009af9\" fill-rule=\"evenodd\" fill-opacity=\"1\" stroke=\"#000000\" stroke-opacity=\"1\" stroke-width=\"3.2\"/>\n",
       "<path clip-path=\"url(#clip322)\" d=\"M1433.58 256.213 L1422.27 251.525 L1417.58 240.213 L1422.27 228.901 L1433.58 224.213 L1444.89 228.901 L1449.58 240.213 L1444.89 251.525 Z\" fill=\"#009af9\" fill-rule=\"evenodd\" fill-opacity=\"1\" stroke=\"#000000\" stroke-opacity=\"1\" stroke-width=\"3.2\"/>\n",
       "<path clip-path=\"url(#clip322)\" d=\"M1445.69 253.255 L1434.38 248.567 L1429.69 237.255 L1434.38 225.943 L1445.69 221.255 L1457 225.943 L1461.69 237.255 L1457 248.567 Z\" fill=\"#009af9\" fill-rule=\"evenodd\" fill-opacity=\"1\" stroke=\"#000000\" stroke-opacity=\"1\" stroke-width=\"3.2\"/>\n",
       "<path clip-path=\"url(#clip322)\" d=\"M1457.8 250.673 L1446.49 245.985 L1441.8 234.673 L1446.49 223.361 L1457.8 218.673 L1469.12 223.361 L1473.8 234.673 L1469.12 245.985 Z\" fill=\"#009af9\" fill-rule=\"evenodd\" fill-opacity=\"1\" stroke=\"#000000\" stroke-opacity=\"1\" stroke-width=\"3.2\"/>\n",
       "<path clip-path=\"url(#clip322)\" d=\"M1469.92 248.57 L1458.6 243.882 L1453.92 232.57 L1458.6 221.258 L1469.92 216.57 L1481.23 221.258 L1485.92 232.57 L1481.23 243.882 Z\" fill=\"#009af9\" fill-rule=\"evenodd\" fill-opacity=\"1\" stroke=\"#000000\" stroke-opacity=\"1\" stroke-width=\"3.2\"/>\n",
       "<path clip-path=\"url(#clip322)\" d=\"M1482.03 246.906 L1470.72 242.218 L1466.03 230.906 L1470.72 219.594 L1482.03 214.906 L1493.34 219.594 L1498.03 230.906 L1493.34 242.218 Z\" fill=\"#009af9\" fill-rule=\"evenodd\" fill-opacity=\"1\" stroke=\"#000000\" stroke-opacity=\"1\" stroke-width=\"3.2\"/>\n",
       "<path clip-path=\"url(#clip322)\" d=\"M1494.14 245.135 L1482.83 240.447 L1478.14 229.135 L1482.83 217.823 L1494.14 213.135 L1505.45 217.823 L1510.14 229.135 L1505.45 240.447 Z\" fill=\"#009af9\" fill-rule=\"evenodd\" fill-opacity=\"1\" stroke=\"#000000\" stroke-opacity=\"1\" stroke-width=\"3.2\"/>\n",
       "<path clip-path=\"url(#clip322)\" d=\"M1506.25 243.204 L1494.94 238.516 L1490.25 227.204 L1494.94 215.892 L1506.25 211.204 L1517.56 215.892 L1522.25 227.204 L1517.56 238.516 Z\" fill=\"#009af9\" fill-rule=\"evenodd\" fill-opacity=\"1\" stroke=\"#000000\" stroke-opacity=\"1\" stroke-width=\"3.2\"/>\n",
       "<path clip-path=\"url(#clip322)\" d=\"M1518.36 241.165 L1507.05 236.477 L1502.36 225.165 L1507.05 213.853 L1518.36 209.165 L1529.67 213.853 L1534.36 225.165 L1529.67 236.477 Z\" fill=\"#009af9\" fill-rule=\"evenodd\" fill-opacity=\"1\" stroke=\"#000000\" stroke-opacity=\"1\" stroke-width=\"3.2\"/>\n",
       "<path clip-path=\"url(#clip322)\" d=\"M1530.47 238.892 L1519.16 234.204 L1514.47 222.892 L1519.16 211.58 L1530.47 206.892 L1541.79 211.58 L1546.47 222.892 L1541.79 234.204 Z\" fill=\"#009af9\" fill-rule=\"evenodd\" fill-opacity=\"1\" stroke=\"#000000\" stroke-opacity=\"1\" stroke-width=\"3.2\"/>\n",
       "<path clip-path=\"url(#clip322)\" d=\"M1542.59 237.005 L1531.27 232.317 L1526.59 221.005 L1531.27 209.693 L1542.59 205.005 L1553.9 209.693 L1558.59 221.005 L1553.9 232.317 Z\" fill=\"#009af9\" fill-rule=\"evenodd\" fill-opacity=\"1\" stroke=\"#000000\" stroke-opacity=\"1\" stroke-width=\"3.2\"/>\n",
       "<path clip-path=\"url(#clip322)\" d=\"M1554.7 235.39 L1543.39 230.702 L1538.7 219.39 L1543.39 208.078 L1554.7 203.39 L1566.01 208.078 L1570.7 219.39 L1566.01 230.702 Z\" fill=\"#009af9\" fill-rule=\"evenodd\" fill-opacity=\"1\" stroke=\"#000000\" stroke-opacity=\"1\" stroke-width=\"3.2\"/>\n",
       "<path clip-path=\"url(#clip322)\" d=\"M1566.81 234.001 L1555.5 229.313 L1550.81 218.001 L1555.5 206.689 L1566.81 202.001 L1578.12 206.689 L1582.81 218.001 L1578.12 229.313 Z\" fill=\"#009af9\" fill-rule=\"evenodd\" fill-opacity=\"1\" stroke=\"#000000\" stroke-opacity=\"1\" stroke-width=\"3.2\"/>\n",
       "<path clip-path=\"url(#clip322)\" d=\"M1578.92 232.535 L1567.61 227.847 L1562.92 216.535 L1567.61 205.223 L1578.92 200.535 L1590.23 205.223 L1594.92 216.535 L1590.23 227.847 Z\" fill=\"#009af9\" fill-rule=\"evenodd\" fill-opacity=\"1\" stroke=\"#000000\" stroke-opacity=\"1\" stroke-width=\"3.2\"/>\n",
       "<path clip-path=\"url(#clip322)\" d=\"M1591.03 231.035 L1579.72 226.347 L1575.03 215.035 L1579.72 203.723 L1591.03 199.035 L1602.35 203.723 L1607.03 215.035 L1602.35 226.347 Z\" fill=\"#009af9\" fill-rule=\"evenodd\" fill-opacity=\"1\" stroke=\"#000000\" stroke-opacity=\"1\" stroke-width=\"3.2\"/>\n",
       "<path clip-path=\"url(#clip322)\" d=\"M1603.15 229.414 L1591.83 224.726 L1587.15 213.414 L1591.83 202.102 L1603.15 197.414 L1614.46 202.102 L1619.15 213.414 L1614.46 224.726 Z\" fill=\"#009af9\" fill-rule=\"evenodd\" fill-opacity=\"1\" stroke=\"#000000\" stroke-opacity=\"1\" stroke-width=\"3.2\"/>\n",
       "<path clip-path=\"url(#clip322)\" d=\"M1615.26 227.869 L1603.95 223.181 L1599.26 211.869 L1603.95 200.557 L1615.26 195.869 L1626.57 200.557 L1631.26 211.869 L1626.57 223.181 Z\" fill=\"#009af9\" fill-rule=\"evenodd\" fill-opacity=\"1\" stroke=\"#000000\" stroke-opacity=\"1\" stroke-width=\"3.2\"/>\n",
       "<path clip-path=\"url(#clip322)\" d=\"M1627.37 226.435 L1616.06 221.747 L1611.37 210.435 L1616.06 199.123 L1627.37 194.435 L1638.68 199.123 L1643.37 210.435 L1638.68 221.747 Z\" fill=\"#009af9\" fill-rule=\"evenodd\" fill-opacity=\"1\" stroke=\"#000000\" stroke-opacity=\"1\" stroke-width=\"3.2\"/>\n",
       "<path clip-path=\"url(#clip322)\" d=\"M1639.48 225.353 L1628.17 220.665 L1623.48 209.353 L1628.17 198.041 L1639.48 193.353 L1650.79 198.041 L1655.48 209.353 L1650.79 220.665 Z\" fill=\"#009af9\" fill-rule=\"evenodd\" fill-opacity=\"1\" stroke=\"#000000\" stroke-opacity=\"1\" stroke-width=\"3.2\"/>\n",
       "<path clip-path=\"url(#clip322)\" d=\"M1651.59 224.335 L1640.28 219.647 L1635.59 208.335 L1640.28 197.023 L1651.59 192.335 L1662.91 197.023 L1667.59 208.335 L1662.91 219.647 Z\" fill=\"#009af9\" fill-rule=\"evenodd\" fill-opacity=\"1\" stroke=\"#000000\" stroke-opacity=\"1\" stroke-width=\"3.2\"/>\n",
       "<path clip-path=\"url(#clip322)\" d=\"M1663.71 223.168 L1652.39 218.48 L1647.71 207.168 L1652.39 195.856 L1663.71 191.168 L1675.02 195.856 L1679.71 207.168 L1675.02 218.48 Z\" fill=\"#009af9\" fill-rule=\"evenodd\" fill-opacity=\"1\" stroke=\"#000000\" stroke-opacity=\"1\" stroke-width=\"3.2\"/>\n",
       "<path clip-path=\"url(#clip322)\" d=\"M1675.82 222.059 L1664.51 217.371 L1659.82 206.059 L1664.51 194.747 L1675.82 190.059 L1687.13 194.747 L1691.82 206.059 L1687.13 217.371 Z\" fill=\"#009af9\" fill-rule=\"evenodd\" fill-opacity=\"1\" stroke=\"#000000\" stroke-opacity=\"1\" stroke-width=\"3.2\"/>\n",
       "<path clip-path=\"url(#clip322)\" d=\"M1687.93 220.638 L1676.62 215.95 L1671.93 204.638 L1676.62 193.326 L1687.93 188.638 L1699.24 193.326 L1703.93 204.638 L1699.24 215.95 Z\" fill=\"#009af9\" fill-rule=\"evenodd\" fill-opacity=\"1\" stroke=\"#000000\" stroke-opacity=\"1\" stroke-width=\"3.2\"/>\n",
       "<path clip-path=\"url(#clip322)\" d=\"M1700.04 219.361 L1688.73 214.673 L1684.04 203.361 L1688.73 192.049 L1700.04 187.361 L1711.35 192.049 L1716.04 203.361 L1711.35 214.673 Z\" fill=\"#009af9\" fill-rule=\"evenodd\" fill-opacity=\"1\" stroke=\"#000000\" stroke-opacity=\"1\" stroke-width=\"3.2\"/>\n",
       "<path clip-path=\"url(#clip322)\" d=\"M1712.15 218.116 L1700.84 213.428 L1696.15 202.116 L1700.84 190.804 L1712.15 186.116 L1723.47 190.804 L1728.15 202.116 L1723.47 213.428 Z\" fill=\"#009af9\" fill-rule=\"evenodd\" fill-opacity=\"1\" stroke=\"#000000\" stroke-opacity=\"1\" stroke-width=\"3.2\"/>\n",
       "<path clip-path=\"url(#clip322)\" d=\"M1724.27 217.188 L1712.95 212.5 L1708.27 201.188 L1712.95 189.876 L1724.27 185.188 L1735.58 189.876 L1740.27 201.188 L1735.58 212.5 Z\" fill=\"#009af9\" fill-rule=\"evenodd\" fill-opacity=\"1\" stroke=\"#000000\" stroke-opacity=\"1\" stroke-width=\"3.2\"/>\n",
       "<path clip-path=\"url(#clip322)\" d=\"M1736.38 216.138 L1725.07 211.45 L1720.38 200.138 L1725.07 188.826 L1736.38 184.138 L1747.69 188.826 L1752.38 200.138 L1747.69 211.45 Z\" fill=\"#009af9\" fill-rule=\"evenodd\" fill-opacity=\"1\" stroke=\"#000000\" stroke-opacity=\"1\" stroke-width=\"3.2\"/>\n",
       "<path clip-path=\"url(#clip322)\" d=\"M1748.49 215.166 L1737.18 210.478 L1732.49 199.166 L1737.18 187.854 L1748.49 183.166 L1759.8 187.854 L1764.49 199.166 L1759.8 210.478 Z\" fill=\"#009af9\" fill-rule=\"evenodd\" fill-opacity=\"1\" stroke=\"#000000\" stroke-opacity=\"1\" stroke-width=\"3.2\"/>\n",
       "<path clip-path=\"url(#clip322)\" d=\"M1760.6 214.059 L1749.29 209.371 L1744.6 198.059 L1749.29 186.747 L1760.6 182.059 L1771.91 186.747 L1776.6 198.059 L1771.91 209.371 Z\" fill=\"#009af9\" fill-rule=\"evenodd\" fill-opacity=\"1\" stroke=\"#000000\" stroke-opacity=\"1\" stroke-width=\"3.2\"/>\n",
       "<path clip-path=\"url(#clip322)\" d=\"M1772.71 212.881 L1761.4 208.193 L1756.71 196.881 L1761.4 185.569 L1772.71 180.881 L1784.03 185.569 L1788.71 196.881 L1784.03 208.193 Z\" fill=\"#009af9\" fill-rule=\"evenodd\" fill-opacity=\"1\" stroke=\"#000000\" stroke-opacity=\"1\" stroke-width=\"3.2\"/>\n",
       "<path clip-path=\"url(#clip322)\" d=\"M1784.83 211.785 L1773.51 207.097 L1768.83 195.785 L1773.51 184.473 L1784.83 179.785 L1796.14 184.473 L1800.83 195.785 L1796.14 207.097 Z\" fill=\"#009af9\" fill-rule=\"evenodd\" fill-opacity=\"1\" stroke=\"#000000\" stroke-opacity=\"1\" stroke-width=\"3.2\"/>\n",
       "<path clip-path=\"url(#clip322)\" d=\"M1796.94 210.808 L1785.63 206.12 L1780.94 194.808 L1785.63 183.496 L1796.94 178.808 L1808.25 183.496 L1812.94 194.808 L1808.25 206.12 Z\" fill=\"#009af9\" fill-rule=\"evenodd\" fill-opacity=\"1\" stroke=\"#000000\" stroke-opacity=\"1\" stroke-width=\"3.2\"/>\n",
       "<path clip-path=\"url(#clip322)\" d=\"M1809.05 209.888 L1797.74 205.2 L1793.05 193.888 L1797.74 182.576 L1809.05 177.888 L1820.36 182.576 L1825.05 193.888 L1820.36 205.2 Z\" fill=\"#009af9\" fill-rule=\"evenodd\" fill-opacity=\"1\" stroke=\"#000000\" stroke-opacity=\"1\" stroke-width=\"3.2\"/>\n",
       "<path clip-path=\"url(#clip322)\" d=\"M1821.16 209.059 L1809.85 204.371 L1805.16 193.059 L1809.85 181.747 L1821.16 177.059 L1832.47 181.747 L1837.16 193.059 L1832.47 204.371 Z\" fill=\"#009af9\" fill-rule=\"evenodd\" fill-opacity=\"1\" stroke=\"#000000\" stroke-opacity=\"1\" stroke-width=\"3.2\"/>\n",
       "<path clip-path=\"url(#clip322)\" d=\"M1833.27 208.244 L1821.96 203.556 L1817.27 192.244 L1821.96 180.932 L1833.27 176.244 L1844.59 180.932 L1849.27 192.244 L1844.59 203.556 Z\" fill=\"#009af9\" fill-rule=\"evenodd\" fill-opacity=\"1\" stroke=\"#000000\" stroke-opacity=\"1\" stroke-width=\"3.2\"/>\n",
       "<path clip-path=\"url(#clip322)\" d=\"M1845.39 207.464 L1834.07 202.776 L1829.39 191.464 L1834.07 180.152 L1845.39 175.464 L1856.7 180.152 L1861.39 191.464 L1856.7 202.776 Z\" fill=\"#009af9\" fill-rule=\"evenodd\" fill-opacity=\"1\" stroke=\"#000000\" stroke-opacity=\"1\" stroke-width=\"3.2\"/>\n",
       "<path clip-path=\"url(#clip322)\" d=\"M1857.5 206.502 L1846.19 201.814 L1841.5 190.502 L1846.19 179.19 L1857.5 174.502 L1868.81 179.19 L1873.5 190.502 L1868.81 201.814 Z\" fill=\"#009af9\" fill-rule=\"evenodd\" fill-opacity=\"1\" stroke=\"#000000\" stroke-opacity=\"1\" stroke-width=\"3.2\"/>\n",
       "<path clip-path=\"url(#clip322)\" d=\"M1869.61 205.482 L1858.3 200.794 L1853.61 189.482 L1858.3 178.17 L1869.61 173.482 L1880.92 178.17 L1885.61 189.482 L1880.92 200.794 Z\" fill=\"#009af9\" fill-rule=\"evenodd\" fill-opacity=\"1\" stroke=\"#000000\" stroke-opacity=\"1\" stroke-width=\"3.2\"/>\n",
       "<path clip-path=\"url(#clip322)\" d=\"M1881.72 204.488 L1870.41 199.8 L1865.72 188.488 L1870.41 177.176 L1881.72 172.488 L1893.03 177.176 L1897.72 188.488 L1893.03 199.8 Z\" fill=\"#009af9\" fill-rule=\"evenodd\" fill-opacity=\"1\" stroke=\"#000000\" stroke-opacity=\"1\" stroke-width=\"3.2\"/>\n",
       "<path clip-path=\"url(#clip322)\" d=\"M1893.83 203.672 L1882.52 198.984 L1877.83 187.672 L1882.52 176.36 L1893.83 171.672 L1905.15 176.36 L1909.83 187.672 L1905.15 198.984 Z\" fill=\"#009af9\" fill-rule=\"evenodd\" fill-opacity=\"1\" stroke=\"#000000\" stroke-opacity=\"1\" stroke-width=\"3.2\"/>\n",
       "<path clip-path=\"url(#clip322)\" d=\"M1905.95 202.976 L1894.63 198.288 L1889.95 186.976 L1894.63 175.664 L1905.95 170.976 L1917.26 175.664 L1921.95 186.976 L1917.26 198.288 Z\" fill=\"#009af9\" fill-rule=\"evenodd\" fill-opacity=\"1\" stroke=\"#000000\" stroke-opacity=\"1\" stroke-width=\"3.2\"/>\n",
       "<path clip-path=\"url(#clip322)\" d=\"M1918.06 202.147 L1906.75 197.459 L1902.06 186.147 L1906.75 174.835 L1918.06 170.147 L1929.37 174.835 L1934.06 186.147 L1929.37 197.459 Z\" fill=\"#009af9\" fill-rule=\"evenodd\" fill-opacity=\"1\" stroke=\"#000000\" stroke-opacity=\"1\" stroke-width=\"3.2\"/>\n",
       "<path clip-path=\"url(#clip322)\" d=\"M1930.17 201.364 L1918.86 196.676 L1914.17 185.364 L1918.86 174.052 L1930.17 169.364 L1941.48 174.052 L1946.17 185.364 L1941.48 196.676 Z\" fill=\"#009af9\" fill-rule=\"evenodd\" fill-opacity=\"1\" stroke=\"#000000\" stroke-opacity=\"1\" stroke-width=\"3.2\"/>\n",
       "<path clip-path=\"url(#clip322)\" d=\"M1942.28 200.535 L1930.97 195.847 L1926.28 184.535 L1930.97 173.223 L1942.28 168.535 L1953.59 173.223 L1958.28 184.535 L1953.59 195.847 Z\" fill=\"#009af9\" fill-rule=\"evenodd\" fill-opacity=\"1\" stroke=\"#000000\" stroke-opacity=\"1\" stroke-width=\"3.2\"/>\n",
       "<path clip-path=\"url(#clip322)\" d=\"M1954.39 199.568 L1943.08 194.88 L1938.39 183.568 L1943.08 172.256 L1954.39 167.568 L1965.71 172.256 L1970.39 183.568 L1965.71 194.88 Z\" fill=\"#009af9\" fill-rule=\"evenodd\" fill-opacity=\"1\" stroke=\"#000000\" stroke-opacity=\"1\" stroke-width=\"3.2\"/>\n",
       "<path clip-path=\"url(#clip322)\" d=\"M1966.51 198.708 L1955.19 194.02 L1950.51 182.708 L1955.19 171.396 L1966.51 166.708 L1977.82 171.396 L1982.51 182.708 L1977.82 194.02 Z\" fill=\"#009af9\" fill-rule=\"evenodd\" fill-opacity=\"1\" stroke=\"#000000\" stroke-opacity=\"1\" stroke-width=\"3.2\"/>\n",
       "<path clip-path=\"url(#clip322)\" d=\"M1978.62 198.043 L1967.31 193.355 L1962.62 182.043 L1967.31 170.731 L1978.62 166.043 L1989.93 170.731 L1994.62 182.043 L1989.93 193.355 Z\" fill=\"#009af9\" fill-rule=\"evenodd\" fill-opacity=\"1\" stroke=\"#000000\" stroke-opacity=\"1\" stroke-width=\"3.2\"/>\n",
       "<path clip-path=\"url(#clip322)\" d=\"M1990.73 197.397 L1979.42 192.709 L1974.73 181.397 L1979.42 170.085 L1990.73 165.397 L2002.04 170.085 L2006.73 181.397 L2002.04 192.709 Z\" fill=\"#009af9\" fill-rule=\"evenodd\" fill-opacity=\"1\" stroke=\"#000000\" stroke-opacity=\"1\" stroke-width=\"3.2\"/>\n",
       "<path clip-path=\"url(#clip322)\" d=\"M2002.84 196.73 L1991.53 192.042 L1986.84 180.73 L1991.53 169.418 L2002.84 164.73 L2014.15 169.418 L2018.84 180.73 L2014.15 192.042 Z\" fill=\"#009af9\" fill-rule=\"evenodd\" fill-opacity=\"1\" stroke=\"#000000\" stroke-opacity=\"1\" stroke-width=\"3.2\"/>\n",
       "<path clip-path=\"url(#clip322)\" d=\"M2014.95 195.973 L2003.64 191.285 L1998.95 179.973 L2003.64 168.661 L2014.95 163.973 L2026.27 168.661 L2030.95 179.973 L2026.27 191.285 Z\" fill=\"#009af9\" fill-rule=\"evenodd\" fill-opacity=\"1\" stroke=\"#000000\" stroke-opacity=\"1\" stroke-width=\"3.2\"/>\n",
       "<path clip-path=\"url(#clip322)\" d=\"M2027.07 195.146 L2015.75 190.458 L2011.07 179.146 L2015.75 167.834 L2027.07 163.146 L2038.38 167.834 L2043.07 179.146 L2038.38 190.458 Z\" fill=\"#009af9\" fill-rule=\"evenodd\" fill-opacity=\"1\" stroke=\"#000000\" stroke-opacity=\"1\" stroke-width=\"3.2\"/>\n",
       "<path clip-path=\"url(#clip322)\" d=\"M2039.18 194.244 L2027.87 189.556 L2023.18 178.244 L2027.87 166.932 L2039.18 162.244 L2050.49 166.932 L2055.18 178.244 L2050.49 189.556 Z\" fill=\"#009af9\" fill-rule=\"evenodd\" fill-opacity=\"1\" stroke=\"#000000\" stroke-opacity=\"1\" stroke-width=\"3.2\"/>\n",
       "<path clip-path=\"url(#clip322)\" d=\"M2051.29 193.345 L2039.98 188.657 L2035.29 177.345 L2039.98 166.033 L2051.29 161.345 L2062.6 166.033 L2067.29 177.345 L2062.6 188.657 Z\" fill=\"#009af9\" fill-rule=\"evenodd\" fill-opacity=\"1\" stroke=\"#000000\" stroke-opacity=\"1\" stroke-width=\"3.2\"/>\n",
       "<path clip-path=\"url(#clip322)\" d=\"M2063.4 192.656 L2052.09 187.968 L2047.4 176.656 L2052.09 165.344 L2063.4 160.656 L2074.71 165.344 L2079.4 176.656 L2074.71 187.968 Z\" fill=\"#009af9\" fill-rule=\"evenodd\" fill-opacity=\"1\" stroke=\"#000000\" stroke-opacity=\"1\" stroke-width=\"3.2\"/>\n",
       "<path clip-path=\"url(#clip322)\" d=\"M2075.51 191.978 L2064.2 187.29 L2059.51 175.978 L2064.2 164.666 L2075.51 159.978 L2086.83 164.666 L2091.51 175.978 L2086.83 187.29 Z\" fill=\"#009af9\" fill-rule=\"evenodd\" fill-opacity=\"1\" stroke=\"#000000\" stroke-opacity=\"1\" stroke-width=\"3.2\"/>\n",
       "<path clip-path=\"url(#clip322)\" d=\"M2087.63 191.17 L2076.31 186.482 L2071.63 175.17 L2076.31 163.858 L2087.63 159.17 L2098.94 163.858 L2103.63 175.17 L2098.94 186.482 Z\" fill=\"#009af9\" fill-rule=\"evenodd\" fill-opacity=\"1\" stroke=\"#000000\" stroke-opacity=\"1\" stroke-width=\"3.2\"/>\n",
       "<path clip-path=\"url(#clip322)\" d=\"M2099.74 190.308 L2088.43 185.62 L2083.74 174.308 L2088.43 162.996 L2099.74 158.308 L2111.05 162.996 L2115.74 174.308 L2111.05 185.62 Z\" fill=\"#009af9\" fill-rule=\"evenodd\" fill-opacity=\"1\" stroke=\"#000000\" stroke-opacity=\"1\" stroke-width=\"3.2\"/>\n",
       "<path clip-path=\"url(#clip322)\" d=\"M2111.85 189.382 L2100.54 184.694 L2095.85 173.382 L2100.54 162.07 L2111.85 157.382 L2123.16 162.07 L2127.85 173.382 L2123.16 184.694 Z\" fill=\"#009af9\" fill-rule=\"evenodd\" fill-opacity=\"1\" stroke=\"#000000\" stroke-opacity=\"1\" stroke-width=\"3.2\"/>\n",
       "<path clip-path=\"url(#clip322)\" d=\"M2123.96 188.348 L2112.65 183.66 L2107.96 172.348 L2112.65 161.036 L2123.96 156.348 L2135.27 161.036 L2139.96 172.348 L2135.27 183.66 Z\" fill=\"#009af9\" fill-rule=\"evenodd\" fill-opacity=\"1\" stroke=\"#000000\" stroke-opacity=\"1\" stroke-width=\"3.2\"/>\n",
       "<path clip-path=\"url(#clip322)\" d=\"M2136.07 187.287 L2124.76 182.599 L2120.07 171.287 L2124.76 159.975 L2136.07 155.287 L2147.38 159.975 L2152.07 171.287 L2147.38 182.599 Z\" fill=\"#009af9\" fill-rule=\"evenodd\" fill-opacity=\"1\" stroke=\"#000000\" stroke-opacity=\"1\" stroke-width=\"3.2\"/>\n",
       "<path clip-path=\"url(#clip322)\" d=\"M2148.18 186.442 L2136.87 181.754 L2132.18 170.442 L2136.87 159.13 L2148.18 154.442 L2159.5 159.13 L2164.18 170.442 L2159.5 181.754 Z\" fill=\"#009af9\" fill-rule=\"evenodd\" fill-opacity=\"1\" stroke=\"#000000\" stroke-opacity=\"1\" stroke-width=\"3.2\"/>\n",
       "<path clip-path=\"url(#clip322)\" d=\"M2160.3 185.479 L2148.98 180.791 L2144.3 169.479 L2148.98 158.167 L2160.3 153.479 L2171.61 158.167 L2176.3 169.479 L2171.61 180.791 Z\" fill=\"#009af9\" fill-rule=\"evenodd\" fill-opacity=\"1\" stroke=\"#000000\" stroke-opacity=\"1\" stroke-width=\"3.2\"/>\n",
       "<path clip-path=\"url(#clip322)\" d=\"M2172.41 184.384 L2161.1 179.696 L2156.41 168.384 L2161.1 157.072 L2172.41 152.384 L2183.72 157.072 L2188.41 168.384 L2183.72 179.696 Z\" fill=\"#009af9\" fill-rule=\"evenodd\" fill-opacity=\"1\" stroke=\"#000000\" stroke-opacity=\"1\" stroke-width=\"3.2\"/>\n",
       "<path clip-path=\"url(#clip322)\" d=\"M2184.52 183.313 L2173.21 178.625 L2168.52 167.313 L2173.21 156.001 L2184.52 151.313 L2195.83 156.001 L2200.52 167.313 L2195.83 178.625 Z\" fill=\"#009af9\" fill-rule=\"evenodd\" fill-opacity=\"1\" stroke=\"#000000\" stroke-opacity=\"1\" stroke-width=\"3.2\"/>\n",
       "<path clip-path=\"url(#clip322)\" d=\"M2196.63 182.109 L2185.32 177.421 L2180.63 166.109 L2185.32 154.797 L2196.63 150.109 L2207.94 154.797 L2212.63 166.109 L2207.94 177.421 Z\" fill=\"#009af9\" fill-rule=\"evenodd\" fill-opacity=\"1\" stroke=\"#000000\" stroke-opacity=\"1\" stroke-width=\"3.2\"/>\n",
       "<path clip-path=\"url(#clip322)\" d=\"M2208.74 180.767 L2197.43 176.079 L2192.74 164.767 L2197.43 153.455 L2208.74 148.767 L2220.06 153.455 L2224.74 164.767 L2220.06 176.079 Z\" fill=\"#009af9\" fill-rule=\"evenodd\" fill-opacity=\"1\" stroke=\"#000000\" stroke-opacity=\"1\" stroke-width=\"3.2\"/>\n",
       "<path clip-path=\"url(#clip322)\" d=\"M2220.86 179.523 L2209.54 174.835 L2204.86 163.523 L2209.54 152.211 L2220.86 147.523 L2232.17 152.211 L2236.86 163.523 L2232.17 174.835 Z\" fill=\"#009af9\" fill-rule=\"evenodd\" fill-opacity=\"1\" stroke=\"#000000\" stroke-opacity=\"1\" stroke-width=\"3.2\"/>\n",
       "<path clip-path=\"url(#clip322)\" d=\"M2232.97 178.405 L2221.66 173.717 L2216.97 162.405 L2221.66 151.093 L2232.97 146.405 L2244.28 151.093 L2248.97 162.405 L2244.28 173.717 Z\" fill=\"#009af9\" fill-rule=\"evenodd\" fill-opacity=\"1\" stroke=\"#000000\" stroke-opacity=\"1\" stroke-width=\"3.2\"/>\n",
       "<path clip-path=\"url(#clip322)\" d=\"M2245.08 177.237 L2233.77 172.549 L2229.08 161.237 L2233.77 149.925 L2245.08 145.237 L2256.39 149.925 L2261.08 161.237 L2256.39 172.549 Z\" fill=\"#009af9\" fill-rule=\"evenodd\" fill-opacity=\"1\" stroke=\"#000000\" stroke-opacity=\"1\" stroke-width=\"3.2\"/>\n",
       "<path clip-path=\"url(#clip322)\" d=\"M2257.19 175.968 L2245.88 171.28 L2241.19 159.968 L2245.88 148.656 L2257.19 143.968 L2268.5 148.656 L2273.19 159.968 L2268.5 171.28 Z\" fill=\"#009af9\" fill-rule=\"evenodd\" fill-opacity=\"1\" stroke=\"#000000\" stroke-opacity=\"1\" stroke-width=\"3.2\"/>\n",
       "<path clip-path=\"url(#clip322)\" d=\"M2269.3 174.575 L2257.99 169.887 L2253.3 158.575 L2257.99 147.263 L2269.3 142.575 L2280.62 147.263 L2285.3 158.575 L2280.62 169.887 Z\" fill=\"#009af9\" fill-rule=\"evenodd\" fill-opacity=\"1\" stroke=\"#000000\" stroke-opacity=\"1\" stroke-width=\"3.2\"/>\n",
       "<path clip-path=\"url(#clip322)\" d=\"M2281.42 173.12 L2270.1 168.432 L2265.42 157.12 L2270.1 145.808 L2281.42 141.12 L2292.73 145.808 L2297.42 157.12 L2292.73 168.432 Z\" fill=\"#009af9\" fill-rule=\"evenodd\" fill-opacity=\"1\" stroke=\"#000000\" stroke-opacity=\"1\" stroke-width=\"3.2\"/>\n",
       "<path clip-path=\"url(#clip322)\" d=\"M2293.53 171.756 L2282.22 167.068 L2277.53 155.756 L2282.22 144.444 L2293.53 139.756 L2304.84 144.444 L2309.53 155.756 L2304.84 167.068 Z\" fill=\"#009af9\" fill-rule=\"evenodd\" fill-opacity=\"1\" stroke=\"#000000\" stroke-opacity=\"1\" stroke-width=\"3.2\"/>\n",
       "<path clip-path=\"url(#clip320)\" d=\"\n",
       "M332.051 327.952 L733.763 327.952 L733.763 206.992 L332.051 206.992  Z\n",
       "  \" fill=\"#ffffff\" fill-rule=\"evenodd\" fill-opacity=\"1\"/>\n",
       "<polyline clip-path=\"url(#clip320)\" style=\"stroke:#000000; stroke-width:4; stroke-opacity:1; fill:none\" points=\"\n",
       "  332.051,327.952 733.763,327.952 733.763,206.992 332.051,206.992 332.051,327.952 \n",
       "  \"/>\n",
       "<polyline clip-path=\"url(#clip320)\" style=\"stroke:#009af9; stroke-width:4; stroke-opacity:1; fill:none\" points=\"\n",
       "  356.051,267.472 500.051,267.472 \n",
       "  \"/>\n",
       "<path clip-path=\"url(#clip320)\" d=\"M440.051 293.072 L421.952 285.571 L414.451 267.472 L421.952 249.373 L440.051 241.872 L458.15 249.373 L465.651 267.472 L458.15 285.571 Z\" fill=\"#009af9\" fill-rule=\"evenodd\" fill-opacity=\"1\" stroke=\"#000000\" stroke-opacity=\"1\" stroke-width=\"5.12\"/>\n",
       "<path clip-path=\"url(#clip320)\" d=\"M 0 0 M524.051 250.192 L528.75 250.192 L528.75 271.187 Q528.75 276.743 530.764 279.197 Q532.778 281.627 537.292 281.627 Q541.783 281.627 543.797 279.197 Q545.81 276.743 545.81 271.187 L545.81 250.192 L550.509 250.192 L550.509 271.766 Q550.509 278.525 547.153 281.974 Q543.82 285.423 537.292 285.423 Q530.741 285.423 527.385 281.974 Q524.051 278.525 524.051 271.766 L524.051 250.192 Z\" fill=\"#000000\" fill-rule=\"evenodd\" fill-opacity=\"1\" /><path clip-path=\"url(#clip320)\" d=\"M 0 0 M575.88 251.326 L575.88 255.887 Q573.218 254.613 570.857 253.988 Q568.495 253.363 566.296 253.363 Q562.477 253.363 560.394 254.845 Q558.333 256.326 558.333 259.058 Q558.333 261.349 559.699 262.53 Q561.088 263.687 564.931 264.405 L567.755 264.984 Q572.986 265.979 575.463 268.502 Q577.963 271.002 577.963 275.215 Q577.963 280.238 574.583 282.831 Q571.227 285.423 564.722 285.423 Q562.269 285.423 559.491 284.868 Q556.736 284.312 553.773 283.224 L553.773 278.41 Q556.621 280.007 559.352 280.817 Q562.083 281.627 564.722 281.627 Q568.727 281.627 570.903 280.053 Q573.079 278.479 573.079 275.562 Q573.079 273.016 571.505 271.581 Q569.954 270.146 566.389 269.428 L563.542 268.873 Q558.31 267.831 555.972 265.609 Q553.634 263.386 553.634 259.428 Q553.634 254.845 556.852 252.206 Q560.093 249.567 565.764 249.567 Q568.195 249.567 570.718 250.007 Q573.241 250.447 575.88 251.326 Z\" fill=\"#000000\" fill-rule=\"evenodd\" fill-opacity=\"1\" /><path clip-path=\"url(#clip320)\" d=\"M 0 0 M614.56 262.762 L614.56 248.734 L618.819 248.734 L618.819 284.752 L614.56 284.752 L614.56 280.863 Q613.217 283.178 611.157 284.312 Q609.12 285.423 606.25 285.423 Q601.551 285.423 598.588 281.673 Q595.648 277.923 595.648 271.812 Q595.648 265.701 598.588 261.951 Q601.551 258.201 606.25 258.201 Q609.12 258.201 611.157 259.336 Q613.217 260.447 614.56 262.762 M600.046 271.812 Q600.046 276.511 601.967 279.197 Q603.912 281.859 607.292 281.859 Q610.671 281.859 612.616 279.197 Q614.56 276.511 614.56 271.812 Q614.56 267.113 612.616 264.451 Q610.671 261.766 607.292 261.766 Q603.912 261.766 601.967 264.451 Q600.046 267.113 600.046 271.812 Z\" fill=\"#000000\" fill-rule=\"evenodd\" fill-opacity=\"1\" /><path clip-path=\"url(#clip320)\" d=\"M 0 0 M635.069 271.72 Q629.907 271.72 627.916 272.9 Q625.926 274.081 625.926 276.928 Q625.926 279.197 627.407 280.539 Q628.912 281.859 631.481 281.859 Q635.023 281.859 637.152 279.359 Q639.305 276.836 639.305 272.669 L639.305 271.72 L635.069 271.72 M643.564 269.961 L643.564 284.752 L639.305 284.752 L639.305 280.817 Q637.847 283.178 635.671 284.312 Q633.495 285.423 630.347 285.423 Q626.366 285.423 624.004 283.201 Q621.666 280.956 621.666 277.206 Q621.666 272.831 624.583 270.609 Q627.523 268.386 633.333 268.386 L639.305 268.386 L639.305 267.97 Q639.305 265.03 637.361 263.433 Q635.44 261.812 631.944 261.812 Q629.722 261.812 627.615 262.345 Q625.509 262.877 623.565 263.942 L623.565 260.007 Q625.903 259.104 628.102 258.664 Q630.301 258.201 632.384 258.201 Q638.009 258.201 640.787 261.118 Q643.564 264.035 643.564 269.961 Z\" fill=\"#000000\" fill-rule=\"evenodd\" fill-opacity=\"1\" /><path clip-path=\"url(#clip320)\" d=\"M 0 0 M652.245 251.465 L652.245 258.826 L661.018 258.826 L661.018 262.137 L652.245 262.137 L652.245 276.211 Q652.245 279.382 653.101 280.285 Q653.981 281.187 656.643 281.187 L661.018 281.187 L661.018 284.752 L656.643 284.752 Q651.713 284.752 649.838 282.923 Q647.963 281.072 647.963 276.211 L647.963 262.137 L644.838 262.137 L644.838 258.826 L647.963 258.826 L647.963 251.465 L652.245 251.465 Z\" fill=\"#000000\" fill-rule=\"evenodd\" fill-opacity=\"1\" /><path clip-path=\"url(#clip320)\" d=\"M 0 0 M677.268 271.72 Q672.106 271.72 670.115 272.9 Q668.125 274.081 668.125 276.928 Q668.125 279.197 669.606 280.539 Q671.111 281.859 673.68 281.859 Q677.222 281.859 679.351 279.359 Q681.504 276.836 681.504 272.669 L681.504 271.72 L677.268 271.72 M685.763 269.961 L685.763 284.752 L681.504 284.752 L681.504 280.817 Q680.046 283.178 677.87 284.312 Q675.694 285.423 672.546 285.423 Q668.564 285.423 666.203 283.201 Q663.865 280.956 663.865 277.206 Q663.865 272.831 666.782 270.609 Q669.722 268.386 675.532 268.386 L681.504 268.386 L681.504 267.97 Q681.504 265.03 679.56 263.433 Q677.638 261.812 674.143 261.812 Q671.921 261.812 669.814 262.345 Q667.708 262.877 665.763 263.942 L665.763 260.007 Q668.101 259.104 670.3 258.664 Q672.5 258.201 674.583 258.201 Q680.208 258.201 682.986 261.118 Q685.763 264.035 685.763 269.961 Z\" fill=\"#000000\" fill-rule=\"evenodd\" fill-opacity=\"1\" /></svg>\n"
      ]
     },
     "execution_count": 130,
     "metadata": {},
     "output_type": "execute_result"
    }
   ],
   "source": [
    "plot(dates, US_data, xticks=dates[1:10:end], xrotation=45, leg=:topleft, label=\"US data\", m=:o, yscale=:log10)\n",
    "xlabel!(\"date\")\n",
    "ylabel!(\"Cases\")\n",
    "title!(\"US confirmed COVID-19 cases\")"
   ]
  },
  {
   "cell_type": "code",
   "execution_count": 124,
   "metadata": {},
   "outputs": [
    {
     "name": "stdout",
     "output_type": "stream",
     "text": [
      "search: \u001b[0m\u001b[1mp\u001b[22m\u001b[0m\u001b[1ml\u001b[22m\u001b[0m\u001b[1mo\u001b[22m\u001b[0m\u001b[1mt\u001b[22m \u001b[0m\u001b[1mp\u001b[22m\u001b[0m\u001b[1ml\u001b[22m\u001b[0m\u001b[1mo\u001b[22m\u001b[0m\u001b[1mt\u001b[22m! \u001b[0m\u001b[1mp\u001b[22m\u001b[0m\u001b[1ml\u001b[22m\u001b[0m\u001b[1mo\u001b[22m\u001b[0m\u001b[1mt\u001b[22mly \u001b[0m\u001b[1mp\u001b[22m\u001b[0m\u001b[1ml\u001b[22m\u001b[0m\u001b[1mo\u001b[22m\u001b[0m\u001b[1mt\u001b[22m3d \u001b[0m\u001b[1mP\u001b[22m\u001b[0m\u001b[1ml\u001b[22m\u001b[0m\u001b[1mo\u001b[22m\u001b[0m\u001b[1mt\u001b[22ms \u001b[0m\u001b[1mp\u001b[22m\u001b[0m\u001b[1ml\u001b[22m\u001b[0m\u001b[1mo\u001b[22m\u001b[0m\u001b[1mt\u001b[22m3d! \u001b[0m\u001b[1mp\u001b[22m\u001b[0m\u001b[1ml\u001b[22m\u001b[0m\u001b[1mo\u001b[22m\u001b[0m\u001b[1mt\u001b[22mlyjs \u001b[0m\u001b[1mp\u001b[22m\u001b[0m\u001b[1ml\u001b[22m\u001b[0m\u001b[1mo\u001b[22m\u001b[0m\u001b[1mt\u001b[22mattr \u001b[0m\u001b[1mp\u001b[22m\u001b[0m\u001b[1ml\u001b[22m\u001b[0m\u001b[1mo\u001b[22m\u001b[0m\u001b[1mt\u001b[22marea\n",
      "\n"
     ]
    },
    {
     "data": {
      "text/latex": [
       "The main plot command. Use \\texttt{plot} to create a new plot object, and \\texttt{plot!} to add to an existing one:\n",
       "\n",
       "\\begin{verbatim}\n",
       "    plot(args...; kw...)                  # creates a new plot window, and sets it to be the current\n",
       "    plot!(args...; kw...)                 # adds to the `current`\n",
       "    plot!(plotobj, args...; kw...)        # adds to the plot `plotobj`\n",
       "\\end{verbatim}\n",
       "There are lots of ways to pass in data, and lots of keyword arguments... just try it and it will likely work as expected. When you pass in matrices, it splits by columns. To see the list of available attributes, use the \\texttt{plotattr([attr])} function, where \\texttt{attr} is the symbol \\texttt{:Series:}, \\texttt{:Subplot:}, \\texttt{:Plot} or \\texttt{:Axis}. Pass any attribute to \\texttt{plotattr} as a String to look up its docstring; e.g. \\texttt{plotattr(\"seriestype\")}.\n",
       "\n"
      ],
      "text/markdown": [
       "The main plot command. Use `plot` to create a new plot object, and `plot!` to add to an existing one:\n",
       "\n",
       "```\n",
       "    plot(args...; kw...)                  # creates a new plot window, and sets it to be the current\n",
       "    plot!(args...; kw...)                 # adds to the `current`\n",
       "    plot!(plotobj, args...; kw...)        # adds to the plot `plotobj`\n",
       "```\n",
       "\n",
       "There are lots of ways to pass in data, and lots of keyword arguments... just try it and it will likely work as expected. When you pass in matrices, it splits by columns. To see the list of available attributes, use the `plotattr([attr])` function, where `attr` is the symbol `:Series:`, `:Subplot:`, `:Plot` or `:Axis`. Pass any attribute to `plotattr` as a String to look up its docstring; e.g. `plotattr(\"seriestype\")`.\n"
      ],
      "text/plain": [
       "  The main plot command. Use \u001b[36mplot\u001b[39m to create a new plot object, and \u001b[36mplot!\u001b[39m to\n",
       "  add to an existing one:\n",
       "\n",
       "\u001b[36m      plot(args...; kw...)                  # creates a new plot window, and sets it to be the current\u001b[39m\n",
       "\u001b[36m      plot!(args...; kw...)                 # adds to the `current`\u001b[39m\n",
       "\u001b[36m      plot!(plotobj, args...; kw...)        # adds to the plot `plotobj`\u001b[39m\n",
       "\n",
       "  There are lots of ways to pass in data, and lots of keyword arguments...\n",
       "  just try it and it will likely work as expected. When you pass in matrices,\n",
       "  it splits by columns. To see the list of available attributes, use the\n",
       "  \u001b[36mplotattr([attr])\u001b[39m function, where \u001b[36mattr\u001b[39m is the symbol \u001b[36m:Series:\u001b[39m, \u001b[36m:Subplot:\u001b[39m,\n",
       "  \u001b[36m:Plot\u001b[39m or \u001b[36m:Axis\u001b[39m. Pass any attribute to \u001b[36mplotattr\u001b[39m as a String to look up its\n",
       "  docstring; e.g. \u001b[36mplotattr(\"seriestype\")\u001b[39m."
      ]
     },
     "execution_count": 124,
     "metadata": {},
     "output_type": "execute_result"
    }
   ],
   "source": [
    "?plot"
   ]
  },
  {
   "cell_type": "markdown",
   "metadata": {},
   "source": [
    "https://aatishb.com/covidtrends/\n",
    "\n"
   ]
  },
  {
   "cell_type": "code",
   "execution_count": 6,
   "metadata": {},
   "outputs": [],
   "source": [
    "using Interact"
   ]
  },
  {
   "cell_type": "code",
   "execution_count": 7,
   "metadata": {},
   "outputs": [
    {
     "data": {
      "application/vnd.webio.node+json": {
       "children": [
        {
         "children": [
          {
           "children": [
            {
             "children": [
              {
               "children": [
                {
                 "children": [
                  "i"
                 ],
                 "instanceArgs": {
                  "namespace": "html",
                  "tag": "label"
                 },
                 "nodeType": "DOM",
                 "props": {
                  "className": "interact ",
                  "style": {
                   "padding": "5px 10px 0px 10px"
                  }
                 },
                 "type": "node"
                }
               ],
               "instanceArgs": {
                "namespace": "html",
                "tag": "div"
               },
               "nodeType": "DOM",
               "props": {
                "className": "interact-flex-row-left"
               },
               "type": "node"
              },
              {
               "children": [
                {
                 "children": [],
                 "instanceArgs": {
                  "namespace": "html",
                  "tag": "input"
                 },
                 "nodeType": "DOM",
                 "props": {
                  "attributes": {
                   "data-bind": "numericValue: index, valueUpdate: 'input', event: {change: function (){this.changes(this.changes()+1)}}",
                   "orient": "horizontal",
                   "type": "range"
                  },
                  "className": "slider slider is-fullwidth",
                  "max": 10,
                  "min": 1,
                  "step": 1,
                  "style": {}
                 },
                 "type": "node"
                }
               ],
               "instanceArgs": {
                "namespace": "html",
                "tag": "div"
               },
               "nodeType": "DOM",
               "props": {
                "className": "interact-flex-row-center"
               },
               "type": "node"
              },
              {
               "children": [
                {
                 "children": [],
                 "instanceArgs": {
                  "namespace": "html",
                  "tag": "p"
                 },
                 "nodeType": "DOM",
                 "props": {
                  "attributes": {
                   "data-bind": "text: formatted_val"
                  }
                 },
                 "type": "node"
                }
               ],
               "instanceArgs": {
                "namespace": "html",
                "tag": "div"
               },
               "nodeType": "DOM",
               "props": {
                "className": "interact-flex-row-right"
               },
               "type": "node"
              }
             ],
             "instanceArgs": {
              "namespace": "html",
              "tag": "div"
             },
             "nodeType": "DOM",
             "props": {
              "className": "interact-flex-row interact-widget"
             },
             "type": "node"
            }
           ],
           "instanceArgs": {
            "handlers": {
             "changes": [
              "(function (val){return (val!=this.model[\"changes\"]()) ? (this.valueFromJulia[\"changes\"]=true, this.model[\"changes\"](val)) : undefined})"
             ],
             "index": [
              "(function (val){return (val!=this.model[\"index\"]()) ? (this.valueFromJulia[\"index\"]=true, this.model[\"index\"](val)) : undefined})"
             ]
            },
            "id": "11633930638241249793",
            "imports": {
             "data": [
              {
               "name": "knockout",
               "type": "js",
               "url": "/assetserver/86d35f578cc6df0888b228ece5b7d41227571e50-knockout.js"
              },
              {
               "name": "knockout_punches",
               "type": "js",
               "url": "/assetserver/2185806c6526985e7612f2542af908c44e4386d6-knockout_punches.js"
              },
              {
               "name": null,
               "type": "js",
               "url": "/assetserver/b01234696f6d4b6d3fb35f94cfc55c4507e09d25-all.js"
              },
              {
               "name": null,
               "type": "css",
               "url": "/assetserver/d1c22124cc10c9e047d39317282c17c1140cd29b-style.css"
              },
              {
               "name": null,
               "type": "css",
               "url": "/assetserver/dd0973d955850a8563a03eccf71ab07cb5a30de1-bulma_confined.min.css"
              }
             ],
             "type": "async_block"
            },
            "mount_callbacks": [
             "function () {\n    var handler = (function (ko, koPunches) {\n    ko.punches.enableAll();\n    ko.bindingHandlers.numericValue = {\n        init: function(element, valueAccessor, allBindings, data, context) {\n            var stringified = ko.observable(ko.unwrap(valueAccessor()));\n            stringified.subscribe(function(value) {\n                var val = parseFloat(value);\n                if (!isNaN(val)) {\n                    valueAccessor()(val);\n                }\n            });\n            valueAccessor().subscribe(function(value) {\n                var str = JSON.stringify(value);\n                if ((str == \"0\") && ([\"-0\", \"-0.\"].indexOf(stringified()) >= 0))\n                     return;\n                 if ([\"null\", \"\"].indexOf(str) >= 0)\n                     return;\n                stringified(str);\n            });\n            ko.applyBindingsToNode(\n                element,\n                {\n                    value: stringified,\n                    valueUpdate: allBindings.get('valueUpdate'),\n                },\n                context,\n            );\n        }\n    };\n    var json_data = {\"formatted_vals\":[\"1\",\"2\",\"3\",\"4\",\"5\",\"6\",\"7\",\"8\",\"9\",\"10\"],\"changes\":WebIO.getval({\"name\":\"changes\",\"scope\":\"11633930638241249793\",\"id\":\"1479777488472415600\",\"type\":\"observable\"}),\"index\":WebIO.getval({\"name\":\"index\",\"scope\":\"11633930638241249793\",\"id\":\"12597777435050289509\",\"type\":\"observable\"})};\n    var self = this;\n    function AppViewModel() {\n        for (var key in json_data) {\n            var el = json_data[key];\n            this[key] = Array.isArray(el) ? ko.observableArray(el) : ko.observable(el);\n        }\n        \n        [this[\"formatted_val\"]=ko.computed(    function(){\n        return this.formatted_vals()[parseInt(this.index())-(1)];\n    }\n,this)]\n        [this[\"changes\"].subscribe((function (val){!(this.valueFromJulia[\"changes\"]) ? (WebIO.setval({\"name\":\"changes\",\"scope\":\"11633930638241249793\",\"id\":\"1479777488472415600\",\"type\":\"observable\"},val)) : undefined; return this.valueFromJulia[\"changes\"]=false}),self),this[\"index\"].subscribe((function (val){!(this.valueFromJulia[\"index\"]) ? (WebIO.setval({\"name\":\"index\",\"scope\":\"11633930638241249793\",\"id\":\"12597777435050289509\",\"type\":\"observable\"},val)) : undefined; return this.valueFromJulia[\"index\"]=false}),self)]\n        \n    }\n    self.model = new AppViewModel();\n    self.valueFromJulia = {};\n    for (var key in json_data) {\n        self.valueFromJulia[key] = false;\n    }\n    ko.applyBindings(self.model, self.dom);\n}\n);\n    (WebIO.importBlock({\"data\":[{\"name\":\"knockout\",\"type\":\"js\",\"url\":\"/assetserver/86d35f578cc6df0888b228ece5b7d41227571e50-knockout.js\"},{\"name\":\"knockout_punches\",\"type\":\"js\",\"url\":\"/assetserver/2185806c6526985e7612f2542af908c44e4386d6-knockout_punches.js\"}],\"type\":\"async_block\"})).then((imports) => handler.apply(this, imports));\n}\n"
            ],
            "observables": {
             "changes": {
              "id": "1479777488472415600",
              "sync": false,
              "value": 0
             },
             "index": {
              "id": "12597777435050289509",
              "sync": true,
              "value": 5
             }
            },
            "systemjs_options": null
           },
           "nodeType": "Scope",
           "props": {},
           "type": "node"
          }
         ],
         "instanceArgs": {
          "namespace": "html",
          "tag": "div"
         },
         "nodeType": "DOM",
         "props": {
          "className": "field interact-widget"
         },
         "type": "node"
        },
        {
         "children": [
          {
           "children": [],
           "instanceArgs": {
            "id": "15469149707903137600",
            "name": "obs-node"
           },
           "nodeType": "ObservableNode",
           "props": {},
           "type": "node"
          }
         ],
         "instanceArgs": {
          "handlers": {},
          "id": "8871314405339660261",
          "imports": {
           "data": [],
           "type": "async_block"
          },
          "mount_callbacks": [],
          "observables": {
           "obs-node": {
            "id": "15469149707903137600",
            "sync": false,
            "value": {
             "children": [
              {
               "children": [],
               "instanceArgs": {
                "namespace": "html",
                "tag": "div"
               },
               "nodeType": "DOM",
               "props": {
                "setInnerHtml": "<pre>5</pre>"
               },
               "type": "node"
              }
             ],
             "instanceArgs": {
              "namespace": "html",
              "tag": "div"
             },
             "nodeType": "DOM",
             "props": {
              "className": "interact-flex-row interact-widget"
             },
             "type": "node"
            }
           }
          },
          "systemjs_options": null
         },
         "nodeType": "Scope",
         "props": {},
         "type": "node"
        }
       ],
       "instanceArgs": {
        "namespace": "html",
        "tag": "div"
       },
       "nodeType": "DOM",
       "props": {},
       "type": "node"
      },
      "text/html": [
       "<div\n",
       "    class=\"webio-mountpoint\"\n",
       "    data-webio-mountpoint=\"10313242275487205132\"\n",
       ">\n",
       "    <script>\n",
       "    if (window.require && require.defined && require.defined(\"nbextensions/webio-jupyter-notebook\")) {\n",
       "        console.log(\"Jupyter WebIO extension detected, not mounting.\");\n",
       "    } else if (window.WebIO) {\n",
       "        WebIO.mount(\n",
       "            document.querySelector('[data-webio-mountpoint=\"10313242275487205132\"]'),\n",
       "            {\"props\":{},\"nodeType\":\"DOM\",\"type\":\"node\",\"instanceArgs\":{\"namespace\":\"html\",\"tag\":\"div\"},\"children\":[{\"props\":{\"className\":\"field interact-widget\"},\"nodeType\":\"DOM\",\"type\":\"node\",\"instanceArgs\":{\"namespace\":\"html\",\"tag\":\"div\"},\"children\":[{\"props\":{},\"nodeType\":\"Scope\",\"type\":\"node\",\"instanceArgs\":{\"imports\":{\"data\":[{\"name\":\"knockout\",\"type\":\"js\",\"url\":\"\\/assetserver\\/86d35f578cc6df0888b228ece5b7d41227571e50-knockout.js\"},{\"name\":\"knockout_punches\",\"type\":\"js\",\"url\":\"\\/assetserver\\/2185806c6526985e7612f2542af908c44e4386d6-knockout_punches.js\"},{\"name\":null,\"type\":\"js\",\"url\":\"\\/assetserver\\/b01234696f6d4b6d3fb35f94cfc55c4507e09d25-all.js\"},{\"name\":null,\"type\":\"css\",\"url\":\"\\/assetserver\\/d1c22124cc10c9e047d39317282c17c1140cd29b-style.css\"},{\"name\":null,\"type\":\"css\",\"url\":\"\\/assetserver\\/dd0973d955850a8563a03eccf71ab07cb5a30de1-bulma_confined.min.css\"}],\"type\":\"async_block\"},\"id\":\"11633930638241249793\",\"handlers\":{\"changes\":[\"(function (val){return (val!=this.model[\\\"changes\\\"]()) ? (this.valueFromJulia[\\\"changes\\\"]=true, this.model[\\\"changes\\\"](val)) : undefined})\"],\"index\":[\"(function (val){return (val!=this.model[\\\"index\\\"]()) ? (this.valueFromJulia[\\\"index\\\"]=true, this.model[\\\"index\\\"](val)) : undefined})\"]},\"systemjs_options\":null,\"mount_callbacks\":[\"function () {\\n    var handler = (function (ko, koPunches) {\\n    ko.punches.enableAll();\\n    ko.bindingHandlers.numericValue = {\\n        init: function(element, valueAccessor, allBindings, data, context) {\\n            var stringified = ko.observable(ko.unwrap(valueAccessor()));\\n            stringified.subscribe(function(value) {\\n                var val = parseFloat(value);\\n                if (!isNaN(val)) {\\n                    valueAccessor()(val);\\n                }\\n            });\\n            valueAccessor().subscribe(function(value) {\\n                var str = JSON.stringify(value);\\n                if ((str == \\\"0\\\") && ([\\\"-0\\\", \\\"-0.\\\"].indexOf(stringified()) >= 0))\\n                     return;\\n                 if ([\\\"null\\\", \\\"\\\"].indexOf(str) >= 0)\\n                     return;\\n                stringified(str);\\n            });\\n            ko.applyBindingsToNode(\\n                element,\\n                {\\n                    value: stringified,\\n                    valueUpdate: allBindings.get('valueUpdate'),\\n                },\\n                context,\\n            );\\n        }\\n    };\\n    var json_data = {\\\"formatted_vals\\\":[\\\"1\\\",\\\"2\\\",\\\"3\\\",\\\"4\\\",\\\"5\\\",\\\"6\\\",\\\"7\\\",\\\"8\\\",\\\"9\\\",\\\"10\\\"],\\\"changes\\\":WebIO.getval({\\\"name\\\":\\\"changes\\\",\\\"scope\\\":\\\"11633930638241249793\\\",\\\"id\\\":\\\"1479777488472415600\\\",\\\"type\\\":\\\"observable\\\"}),\\\"index\\\":WebIO.getval({\\\"name\\\":\\\"index\\\",\\\"scope\\\":\\\"11633930638241249793\\\",\\\"id\\\":\\\"12597777435050289509\\\",\\\"type\\\":\\\"observable\\\"})};\\n    var self = this;\\n    function AppViewModel() {\\n        for (var key in json_data) {\\n            var el = json_data[key];\\n            this[key] = Array.isArray(el) ? ko.observableArray(el) : ko.observable(el);\\n        }\\n        \\n        [this[\\\"formatted_val\\\"]=ko.computed(    function(){\\n        return this.formatted_vals()[parseInt(this.index())-(1)];\\n    }\\n,this)]\\n        [this[\\\"changes\\\"].subscribe((function (val){!(this.valueFromJulia[\\\"changes\\\"]) ? (WebIO.setval({\\\"name\\\":\\\"changes\\\",\\\"scope\\\":\\\"11633930638241249793\\\",\\\"id\\\":\\\"1479777488472415600\\\",\\\"type\\\":\\\"observable\\\"},val)) : undefined; return this.valueFromJulia[\\\"changes\\\"]=false}),self),this[\\\"index\\\"].subscribe((function (val){!(this.valueFromJulia[\\\"index\\\"]) ? (WebIO.setval({\\\"name\\\":\\\"index\\\",\\\"scope\\\":\\\"11633930638241249793\\\",\\\"id\\\":\\\"12597777435050289509\\\",\\\"type\\\":\\\"observable\\\"},val)) : undefined; return this.valueFromJulia[\\\"index\\\"]=false}),self)]\\n        \\n    }\\n    self.model = new AppViewModel();\\n    self.valueFromJulia = {};\\n    for (var key in json_data) {\\n        self.valueFromJulia[key] = false;\\n    }\\n    ko.applyBindings(self.model, self.dom);\\n}\\n);\\n    (WebIO.importBlock({\\\"data\\\":[{\\\"name\\\":\\\"knockout\\\",\\\"type\\\":\\\"js\\\",\\\"url\\\":\\\"\\/assetserver\\/86d35f578cc6df0888b228ece5b7d41227571e50-knockout.js\\\"},{\\\"name\\\":\\\"knockout_punches\\\",\\\"type\\\":\\\"js\\\",\\\"url\\\":\\\"\\/assetserver\\/2185806c6526985e7612f2542af908c44e4386d6-knockout_punches.js\\\"}],\\\"type\\\":\\\"async_block\\\"})).then((imports) => handler.apply(this, imports));\\n}\\n\"],\"observables\":{\"changes\":{\"sync\":false,\"id\":\"1479777488472415600\",\"value\":0},\"index\":{\"sync\":true,\"id\":\"12597777435050289509\",\"value\":5}}},\"children\":[{\"props\":{\"className\":\"interact-flex-row interact-widget\"},\"nodeType\":\"DOM\",\"type\":\"node\",\"instanceArgs\":{\"namespace\":\"html\",\"tag\":\"div\"},\"children\":[{\"props\":{\"className\":\"interact-flex-row-left\"},\"nodeType\":\"DOM\",\"type\":\"node\",\"instanceArgs\":{\"namespace\":\"html\",\"tag\":\"div\"},\"children\":[{\"props\":{\"className\":\"interact \",\"style\":{\"padding\":\"5px 10px 0px 10px\"}},\"nodeType\":\"DOM\",\"type\":\"node\",\"instanceArgs\":{\"namespace\":\"html\",\"tag\":\"label\"},\"children\":[\"i\"]}]},{\"props\":{\"className\":\"interact-flex-row-center\"},\"nodeType\":\"DOM\",\"type\":\"node\",\"instanceArgs\":{\"namespace\":\"html\",\"tag\":\"div\"},\"children\":[{\"props\":{\"max\":10,\"min\":1,\"attributes\":{\"type\":\"range\",\"data-bind\":\"numericValue: index, valueUpdate: 'input', event: {change: function (){this.changes(this.changes()+1)}}\",\"orient\":\"horizontal\"},\"step\":1,\"className\":\"slider slider is-fullwidth\",\"style\":{}},\"nodeType\":\"DOM\",\"type\":\"node\",\"instanceArgs\":{\"namespace\":\"html\",\"tag\":\"input\"},\"children\":[]}]},{\"props\":{\"className\":\"interact-flex-row-right\"},\"nodeType\":\"DOM\",\"type\":\"node\",\"instanceArgs\":{\"namespace\":\"html\",\"tag\":\"div\"},\"children\":[{\"props\":{\"attributes\":{\"data-bind\":\"text: formatted_val\"}},\"nodeType\":\"DOM\",\"type\":\"node\",\"instanceArgs\":{\"namespace\":\"html\",\"tag\":\"p\"},\"children\":[]}]}]}]}]},{\"props\":{},\"nodeType\":\"Scope\",\"type\":\"node\",\"instanceArgs\":{\"imports\":{\"data\":[],\"type\":\"async_block\"},\"id\":\"5968929939506906899\",\"handlers\":{},\"systemjs_options\":null,\"mount_callbacks\":[],\"observables\":{\"obs-node\":{\"sync\":false,\"id\":\"2296664575373941603\",\"value\":{\"props\":{\"className\":\"interact-flex-row interact-widget\"},\"nodeType\":\"DOM\",\"type\":\"node\",\"instanceArgs\":{\"namespace\":\"html\",\"tag\":\"div\"},\"children\":[{\"props\":{\"setInnerHtml\":\"<pre>5<\\/pre>\"},\"nodeType\":\"DOM\",\"type\":\"node\",\"instanceArgs\":{\"namespace\":\"html\",\"tag\":\"div\"},\"children\":[]}]}}}},\"children\":[{\"props\":{},\"nodeType\":\"ObservableNode\",\"type\":\"node\",\"instanceArgs\":{\"id\":\"2296664575373941603\",\"name\":\"obs-node\"},\"children\":[]}]}]},\n",
       "            window,\n",
       "        );\n",
       "    } else {\n",
       "        document\n",
       "            .querySelector('[data-webio-mountpoint=\"10313242275487205132\"]')\n",
       "            .innerHTML = (\n",
       "                '<div style=\"padding: 1em; background-color: #f8d6da; border: 1px solid #f5c6cb\">' +\n",
       "                '<p><strong>WebIO not detected.</strong></p>' +\n",
       "                '<p>Please read ' +\n",
       "                '<a href=\"https://juliagizmos.github.io/WebIO.jl/latest/troubleshooting/not-detected/\" target=\"_blank\">the troubleshooting guide</a> ' +\n",
       "                'for more information on how to resolve this issue.</p>' +\n",
       "                '<p><a href=\"https://juliagizmos.github.io/WebIO.jl/latest/troubleshooting/not-detected/\" target=\"_blank\">https://juliagizmos.github.io/WebIO.jl/latest/troubleshooting/not-detected/</a></p>' +\n",
       "                '</div>'\n",
       "            );\n",
       "    }\n",
       "    </script>\n",
       "</div>\n"
      ],
      "text/plain": [
       "Node{WebIO.DOM}(WebIO.DOM(:html, :div), Any[Node{WebIO.DOM}(WebIO.DOM(:html, :div), Any[Scope(Node{WebIO.DOM}(WebIO.DOM(:html, :div), Any[Node{WebIO.DOM}(WebIO.DOM(:html, :div), Any[Node{WebIO.DOM}(WebIO.DOM(:html, :label), Any[\"i\"], Dict{Symbol,Any}(:className => \"interact \",:style => Dict{Any,Any}(:padding => \"5px 10px 0px 10px\")))], Dict{Symbol,Any}(:className => \"interact-flex-row-left\")), Node{WebIO.DOM}(WebIO.DOM(:html, :div), Any[Node{WebIO.DOM}(WebIO.DOM(:html, :input), Any[], Dict{Symbol,Any}(:max => 10,:min => 1,:attributes => Dict{Any,Any}(:type => \"range\",Symbol(\"data-bind\") => \"numericValue: index, valueUpdate: 'input', event: {change: function (){this.changes(this.changes()+1)}}\",\"orient\" => \"horizontal\"),:step => 1,:className => \"slider slider is-fullwidth\",:style => Dict{Any,Any}()))], Dict{Symbol,Any}(:className => \"interact-flex-row-center\")), Node{WebIO.DOM}(WebIO.DOM(:html, :div), Any[Node{WebIO.DOM}(WebIO.DOM(:html, :p), Any[], Dict{Symbol,Any}(:attributes => Dict(\"data-bind\" => \"text: formatted_val\")))], Dict{Symbol,Any}(:className => \"interact-flex-row-right\"))], Dict{Symbol,Any}(:className => \"interact-flex-row interact-widget\")), Dict{String,Tuple{Observables.AbstractObservable,Union{Nothing, Bool}}}(\"changes\" => (Observable{Int64} with 1 listeners. Value:\n",
       "0, nothing),\"index\" => (Observable{Int64} with 2 listeners. Value:\n",
       "5, nothing)), Set(String[]), nothing, Asset[Asset(\"js\", \"knockout\", \"C:\\\\Users\\\\hgyan\\\\.julia\\\\packages\\\\Knockout\\\\IP1uR\\\\src\\\\..\\\\assets\\\\knockout.js\"), Asset(\"js\", \"knockout_punches\", \"C:\\\\Users\\\\hgyan\\\\.julia\\\\packages\\\\Knockout\\\\IP1uR\\\\src\\\\..\\\\assets\\\\knockout_punches.js\"), Asset(\"js\", nothing, \"C:\\\\Users\\\\hgyan\\\\.julia\\\\packages\\\\InteractBase\\\\sOe2Z\\\\src\\\\..\\\\assets\\\\all.js\"), Asset(\"css\", nothing, \"C:\\\\Users\\\\hgyan\\\\.julia\\\\packages\\\\InteractBase\\\\sOe2Z\\\\src\\\\..\\\\assets\\\\style.css\"), Asset(\"css\", nothing, \"C:\\\\Users\\\\hgyan\\\\.julia\\\\packages\\\\Interact\\\\SbgIk\\\\src\\\\..\\\\assets\\\\bulma_confined.min.css\")], Dict{Any,Any}(\"changes\" => Any[WebIO.JSString(\"(function (val){return (val!=this.model[\\\"changes\\\"]()) ? (this.valueFromJulia[\\\"changes\\\"]=true, this.model[\\\"changes\\\"](val)) : undefined})\")],\"index\" => Any[WebIO.JSString(\"(function (val){return (val!=this.model[\\\"index\\\"]()) ? (this.valueFromJulia[\\\"index\\\"]=true, this.model[\\\"index\\\"](val)) : undefined})\")]), WebIO.ConnectionPool(Channel{Any}(sz_max:32,sz_curr:0), Set(AbstractConnection[]), Base.GenericCondition{Base.AlwaysLockedST}(Base.InvasiveLinkedList{Task}(Task (runnable) @0x000000003d6459f0, Task (runnable) @0x000000003d6459f0), Base.AlwaysLockedST(1))), WebIO.JSString[WebIO.JSString(\"function () {\\n    var handler = (function (ko, koPunches) {\\n    ko.punches.enableAll();\\n    ko.bindingHandlers.numericValue = {\\n        init: function(element, valueAccessor, allBindings, data, context) {\\n            var stringified = ko.observable(ko.unwrap(valueAccessor()));\\n            stringified.subscribe(function(value) {\\n                var val = parseFloat(value);\\n                if (!isNaN(val)) {\\n                    valueAccessor()(val);\\n                }\\n            });\\n            valueAccessor().subscribe(function(value) {\\n                var str = JSON.stringify(value);\\n                if ((str == \\\"0\\\") && ([\\\"-0\\\", \\\"-0.\\\"].indexOf(stringified()) >= 0))\\n                     return;\\n                 if ([\\\"null\\\", \\\"\\\"].indexOf(str) >= 0)\\n                     return;\\n                stringified(str);\\n            });\\n            ko.applyBindingsToNode(\\n                element,\\n                {\\n                    value: stringified,\\n                    valueUpdate: allBindings.get('valueUpdate'),\\n                },\\n                context,\\n            );\\n        }\\n    };\\n    var json_data = {\\\"formatted_vals\\\":[\\\"1\\\",\\\"2\\\",\\\"3\\\",\\\"4\\\",\\\"5\\\",\\\"6\\\",\\\"7\\\",\\\"8\\\",\\\"9\\\",\\\"10\\\"],\\\"changes\\\":WebIO.getval({\\\"name\\\":\\\"changes\\\",\\\"scope\\\":\\\"11633930638241249793\\\",\\\"id\\\":\\\"1479777488472415600\\\",\\\"type\\\":\\\"observable\\\"}),\\\"index\\\":WebIO.getval({\\\"name\\\":\\\"index\\\",\\\"scope\\\":\\\"11633930638241249793\\\",\\\"id\\\":\\\"12597777435050289509\\\",\\\"type\\\":\\\"observable\\\"})};\\n    var self = this;\\n    function AppViewModel() {\\n        for (var key in json_data) {\\n            var el = json_data[key];\\n            this[key] = Array.isArray(el) ? ko.observableArray(el) : ko.observable(el);\\n        }\\n        \\n        [this[\\\"formatted_val\\\"]=ko.computed(    function(){\\n        return this.formatted_vals()[parseInt(this.index())-(1)];\\n    }\\n,this)]\\n        [this[\\\"changes\\\"].subscribe((function (val){!(this.valueFromJulia[\\\"changes\\\"]) ? (WebIO.setval({\\\"name\\\":\\\"changes\\\",\\\"scope\\\":\\\"11633930638241249793\\\",\\\"id\\\":\\\"1479777488472415600\\\",\\\"type\\\":\\\"observable\\\"},val)) : undefined; return this.valueFromJulia[\\\"changes\\\"]=false}),self),this[\\\"index\\\"].subscribe((function (val){!(this.valueFromJulia[\\\"index\\\"]) ? (WebIO.setval({\\\"name\\\":\\\"index\\\",\\\"scope\\\":\\\"11633930638241249793\\\",\\\"id\\\":\\\"12597777435050289509\\\",\\\"type\\\":\\\"observable\\\"},val)) : undefined; return this.valueFromJulia[\\\"index\\\"]=false}),self)]\\n        \\n    }\\n    self.model = new AppViewModel();\\n    self.valueFromJulia = {};\\n    for (var key in json_data) {\\n        self.valueFromJulia[key] = false;\\n    }\\n    ko.applyBindings(self.model, self.dom);\\n}\\n);\\n    (WebIO.importBlock({\\\"data\\\":[{\\\"name\\\":\\\"knockout\\\",\\\"type\\\":\\\"js\\\",\\\"url\\\":\\\"/assetserver/86d35f578cc6df0888b228ece5b7d41227571e50-knockout.js\\\"},{\\\"name\\\":\\\"knockout_punches\\\",\\\"type\\\":\\\"js\\\",\\\"url\\\":\\\"/assetserver/2185806c6526985e7612f2542af908c44e4386d6-knockout_punches.js\\\"}],\\\"type\\\":\\\"async_block\\\"})).then((imports) => handler.apply(this, imports));\\n}\\n\")])], Dict{Symbol,Any}(:className => \"field interact-widget\")), Observable{Any} with 0 listeners. Value:\n",
       "Node{WebIO.DOM}(WebIO.DOM(:html, :div), Any[5], Dict{Symbol,Any}(:className => \"interact-flex-row interact-widget\"))], Dict{Symbol,Any}())"
      ]
     },
     "execution_count": 7,
     "metadata": {},
     "output_type": "execute_result"
    }
   ],
   "source": [
    "@manipulate for i in 1:10\n",
    "    i\n",
    "end"
   ]
  },
  {
   "cell_type": "code",
   "execution_count": 3,
   "metadata": {},
   "outputs": [
    {
     "name": "stderr",
     "output_type": "stream",
     "text": [
      "┌ Info: Installing Jupyter WebIO extension...\n",
      "│   cmd = `\u001b[4m'C:\\Users\\hgyan\\.julia\\conda\\3\\Scripts\\jupyter.exe'\u001b[24m \u001b[4mnbextension\u001b[24m \u001b[4minstall\u001b[24m \u001b[4m--user\u001b[24m \u001b[4m'C:\\Users\\hgyan\\.julia\\packages\\WebIO\\nTMDV\\deps\\bundles\\webio-jupyter-notebook.js'\u001b[24m`\n",
      "└ @ WebIO C:\\Users\\hgyan\\.julia\\packages\\WebIO\\nTMDV\\deps\\jupyter.jl:237\n",
      "Copying: C:\\Users\\hgyan\\.julia\\packages\\WebIO\\nTMDV\\deps\\bundles\\webio-jupyter-notebook.js -> C:\\Users\\hgyan\\AppData\\Roaming\\jupyter\\nbextensions\\webio-jupyter-notebook.js\n",
      "Traceback (most recent call last):\n",
      "  File \"C:\\Users\\hgyan\\.julia\\conda\\3\\Scripts\\jupyter-nbextension-script.py\", line 10, in <module>\n",
      "    sys.exit(main())\n",
      "  File \"C:\\Users\\hgyan\\.julia\\conda\\3\\lib\\site-packages\\jupyter_core\\application.py\", line 270, in launch_instance\n",
      "    return super(JupyterApp, cls).launch_instance(argv=argv, **kwargs)\n",
      "  File \"C:\\Users\\hgyan\\.julia\\conda\\3\\lib\\site-packages\\traitlets\\config\\application.py\", line 664, in launch_instance\n",
      "    app.start()\n",
      "  File \"C:\\Users\\hgyan\\.julia\\conda\\3\\lib\\site-packages\\notebook\\nbextensions.py\", line 983, in start\n",
      "    super(NBExtensionApp, self).start()\n",
      "  File \"C:\\Users\\hgyan\\.julia\\conda\\3\\lib\\site-packages\\jupyter_core\\application.py\", line 259, in start\n",
      "    self.subapp.start()\n",
      "  File \"C:\\Users\\hgyan\\.julia\\conda\\3\\lib\\site-packages\\notebook\\nbextensions.py\", line 711, in start\n",
      "    self.install_extensions()\n",
      "  File \"C:\\Users\\hgyan\\.julia\\conda\\3\\lib\\site-packages\\notebook\\nbextensions.py\", line 690, in install_extensions\n",
      "    **kwargs\n",
      "  File \"C:\\Users\\hgyan\\.julia\\conda\\3\\lib\\site-packages\\notebook\\nbextensions.py\", line 194, in install_nbextension\n",
      "    _maybe_copy(src, full_dest, logger=logger)\n",
      "  File \"C:\\Users\\hgyan\\.julia\\conda\\3\\lib\\site-packages\\notebook\\nbextensions.py\", line 1041, in _maybe_copy\n",
      "    shutil.copy2(src, dest)\n",
      "  File \"C:\\Users\\hgyan\\.julia\\conda\\3\\lib\\shutil.py\", line 266, in copy2\n",
      "    copyfile(src, dst, follow_symlinks=follow_symlinks)\n",
      "  File \"C:\\Users\\hgyan\\.julia\\conda\\3\\lib\\shutil.py\", line 120, in copyfile\n",
      "    with open(src, 'rb') as fsrc:\n",
      "FileNotFoundError: [Errno 2] No such file or directory: 'C:\\\\Users\\\\hgyan\\\\.julia\\\\packages\\\\WebIO\\\\nTMDV\\\\deps\\\\bundles\\\\webio-jupyter-notebook.js'\n"
     ]
    },
    {
     "ename": "ProcessFailedException",
     "evalue": "failed process: Process(`'C:\\Users\\hgyan\\.julia\\conda\\3\\Scripts\\jupyter.exe' nbextension install --user 'C:\\Users\\hgyan\\.julia\\packages\\WebIO\\nTMDV\\deps\\bundles\\webio-jupyter-notebook.js'`, ProcessExited(1)) [1]\n",
     "output_type": "error",
     "traceback": [
      "failed process: Process(`'C:\\Users\\hgyan\\.julia\\conda\\3\\Scripts\\jupyter.exe' nbextension install --user 'C:\\Users\\hgyan\\.julia\\packages\\WebIO\\nTMDV\\deps\\bundles\\webio-jupyter-notebook.js'`, ProcessExited(1)) [1]\n",
      "",
      "Stacktrace:",
      " [1] pipeline_error at .\\process.jl:525 [inlined]",
      " [2] run(::Cmd; wait::Bool) at .\\process.jl:440",
      " [3] run at .\\process.jl:438 [inlined]",
      " [4] install_jupyter_nbextension(::Cmd; nbextension_flags::Cmd) at C:\\Users\\hgyan\\.julia\\packages\\WebIO\\nTMDV\\deps\\jupyter.jl:238",
      " [5] install_jupyter_nbextension(::Cmd) at C:\\Users\\hgyan\\.julia\\packages\\WebIO\\nTMDV\\deps\\jupyter.jl:233 (repeats 2 times)",
      " [6] top-level scope at In[3]:2"
     ]
    }
   ],
   "source": [
    "using WebIO\n",
    "WebIO.install_jupyter_nbextension()\n"
   ]
  },
  {
   "cell_type": "code",
   "execution_count": null,
   "metadata": {},
   "outputs": [],
   "source": []
  }
 ],
 "metadata": {
  "kernelspec": {
   "display_name": "Julia 1.4.2",
   "language": "julia",
   "name": "julia-1.4"
  },
  "language_info": {
   "file_extension": ".jl",
   "mimetype": "application/julia",
   "name": "julia",
   "version": "1.4.2"
  }
 },
 "nbformat": 4,
 "nbformat_minor": 4
}
