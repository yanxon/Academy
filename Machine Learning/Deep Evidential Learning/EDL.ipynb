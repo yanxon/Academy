{
 "cells": [
  {
   "cell_type": "code",
   "execution_count": 1,
   "metadata": {},
   "outputs": [
    {
     "data": {
      "text/plain": [
       "<torch._C.Generator at 0x10a4e99d0>"
      ]
     },
     "execution_count": 1,
     "metadata": {},
     "output_type": "execute_result"
    }
   ],
   "source": [
    "import torch\n",
    "import numpy as np\n",
    "import matplotlib.pyplot as plt\n",
    "\n",
    "torch.manual_seed(0)"
   ]
  },
  {
   "cell_type": "code",
   "execution_count": 2,
   "metadata": {},
   "outputs": [
    {
     "data": {
      "image/png": "[encoded data removed]",
      "text/plain": [
       "<Figure size 432x288 with 1 Axes>"
      ]
     },
     "metadata": {
      "needs_background": "light"
     },
     "output_type": "display_data"
    }
   ],
   "source": [
    "xs = torch.arange(-4., 4.1, 0.01)\n",
    "rand = torch.empty(xs.shape).normal_(mean=0,std=3.)\n",
    "ys = xs ** 3 + rand\n",
    "\n",
    "xs.unsqueeze_(1)\n",
    "ys.unsqueeze_(1)\n",
    "\n",
    "plt.scatter(xs, ys)\n",
    "total_pts = len(xs)"
   ]
  },
  {
   "cell_type": "code",
   "execution_count": 3,
   "metadata": {},
   "outputs": [],
   "source": [
    "# Functions\n",
    "\n",
    "from torch.nn import Module\n",
    "import torch.nn.functional as F\n",
    "\n",
    "def NIG_NLL(y: torch.Tensor,\n",
    "            gamma: torch.Tensor,\n",
    "            nu: torch.Tensor,\n",
    "            alpha: torch.Tensor,\n",
    "            beta: torch.Tensor, reduction='mean'):\n",
    "    twoBlambda = 2*beta*(1+nu)\n",
    "    nll = 0.5*torch.log(np.pi/nu) - alpha*torch.log(twoBlambda) \\\n",
    "          + (alpha+0.5) * torch.log(nu*(y-gamma)**2 + twoBlambda) \\\n",
    "          + torch.lgamma(alpha)  \\\n",
    "          - torch.lgamma(alpha+0.5)\n",
    "    return nll.mean()\n",
    "\n",
    "def NIG_Reg(y, gamma, nu, alpha, reduction='mean'):\n",
    "    error = (y - gamma).abs()\n",
    "    evidence = 2. * nu + alpha\n",
    "    return (error * evidence).mean()\n",
    "\n",
    "def EvidentialRegression(y: torch.Tensor, evidential_output: torch.Tensor, lmbda=1e-2, eps=0.):\n",
    "    gamma = evidential_output[0, :]\n",
    "    nu = evidential_output[1, :]\n",
    "    alpha = evidential_output[2, :]\n",
    "    beta = evidential_output[3, :]\n",
    "\n",
    "    #gamma, nu, alpha, beta = evidential_output\n",
    "    loss_nll = NIG_NLL(y, gamma, nu, alpha, beta)\n",
    "    loss_reg = NIG_Reg(y, gamma, nu, alpha)\n",
    "    return loss_nll + lmbda * (loss_reg - eps)\n",
    "\n",
    "from torch.nn import Module\n",
    "import torch.nn.functional as F\n",
    "\n",
    "class DenseNormalGamma(Module):\n",
    "    def __init__(self, n_input, n_out_tasks=1):\n",
    "        super(DenseNormalGamma, self).__init__()\n",
    "        self.n_in = n_input\n",
    "        self.n_out = 4 * n_out_tasks\n",
    "        self.n_tasks = n_out_tasks\n",
    "        self.l1 = nn.Linear(self.n_in, self.n_out)\n",
    "\n",
    "    def forward(self, x):\n",
    "        x = self.l1(x)\n",
    "        if len(x.shape) == 1:\n",
    "            gamma, lognu, logalpha, logbeta = torch.split(x, self.n_tasks, dim=0)\n",
    "        else:\n",
    "            gamma, lognu, logalpha, logbeta = torch.split(x, self.n_tasks, dim=1)\n",
    "\n",
    "        nu = F.softplus(lognu)\n",
    "        alpha = F.softplus(logalpha) + 1.\n",
    "        beta = F.softplus(logbeta)\n",
    "\n",
    "        return torch.stack([gamma, nu, alpha, beta]).to(x.device)\n"
   ]
  },
  {
   "cell_type": "code",
   "execution_count": 4,
   "metadata": {},
   "outputs": [],
   "source": [
    "from torch import nn\n",
    "\n",
    "class BasicNetwork(torch.nn.Module):\n",
    "    def __init__(self, n_in=1, n_tasks=1):\n",
    "        super(BasicNetwork, self).__init__()\n",
    "        self.l1 = torch.nn.Linear(n_in, 100)\n",
    "        self.l2 = torch.nn.Linear(100, 100)\n",
    "        self.l3 = torch.nn.Linear(100, 100)\n",
    "        self.l4 = torch.nn.Linear(100, 100)\n",
    "        self.l5 = DenseNormalGamma(100, 1)\n",
    "        \n",
    "    def forward(self, x):\n",
    "        x = self.l1(x)\n",
    "        x = torch.nn.functional.relu(x)\n",
    "        x = self.l2(x)\n",
    "        x = torch.nn.functional.relu(x)\n",
    "        x = self.l3(x)\n",
    "        x = torch.nn.functional.relu(x)\n",
    "        x = self.l4(x)\n",
    "        x = torch.nn.functional.relu(x)\n",
    "        x = self.l5(x)\n",
    "        return x"
   ]
  },
  {
   "cell_type": "code",
   "execution_count": 5,
   "metadata": {},
   "outputs": [
    {
     "name": "stdout",
     "output_type": "stream",
     "text": [
      "Step 0:  8.838248252868652\n",
      "Step 500:  2.6869401931762695\n",
      "Step 1000:  2.574862003326416\n",
      "Step 1500:  2.582831382751465\n",
      "Step 2000:  2.560563802719116\n",
      "Step 2500:  2.554502487182617\n",
      "Step 3000:  2.5474510192871094\n",
      "Step 3500:  2.5447142124176025\n",
      "Step 4000:  2.5118396282196045\n",
      "Step 4500:  2.4927148818969727\n",
      "Step 4999:  2.4704625606536865\n"
     ]
    }
   ],
   "source": [
    "epochs = 5000\n",
    "\n",
    "model = BasicNetwork()\n",
    "optim = torch.optim.Adam(model.parameters(), lr=5e-3)\n",
    "#optim = torch.optim.LBFGS(model.parameters(), lr=5e-5)\n",
    "for epoch in range(epochs):\n",
    "    def closure():\n",
    "        output = model(xs)\n",
    "        loss = EvidentialRegression(ys, output)\n",
    "        if epoch%500 == 0 or epoch == 4999:\n",
    "            print(f\"Step {epoch}: \", loss.item())\n",
    "        optim.zero_grad()\n",
    "        loss.backward()\n",
    "        return loss\n",
    "    optim.step(closure)"
   ]
  },
  {
   "cell_type": "code",
   "execution_count": 6,
   "metadata": {},
   "outputs": [],
   "source": [
    "# Prediction\n",
    "\n",
    "y_hat = []\n",
    "y_aleatoric = []\n",
    "y_epistemic = []\n",
    "xs_hat = torch.arange(-6, 6.1, 0.1)\n",
    "xs_hat.unsqueeze_(1)\n",
    "ys_hat = xs_hat ** 3\n",
    "for i, x in enumerate(xs_hat):\n",
    "    output = model(x)\n",
    "    gamma, nu, alpha, beta = output\n",
    "    gamma, nu, alpha, beta = gamma.item(), nu.item(), alpha.item(), beta.item()\n",
    "    y_hat.append(gamma)\n",
    "    try:\n",
    "        y_aleatoric.append((beta/(alpha-1))**0.5)\n",
    "        y_epistemic.append((beta/(alpha-1)/nu)**0.5)\n",
    "    except:\n",
    "        y_aleatoric.append(0.)\n",
    "        y_epistemic.append(0.)\n",
    "        print(\"step x x^3 gamma nu alpha beta\")\n",
    "        print(i, x, x**3, gamma, nu, alpha, beta)\n",
    "        \n",
    "y_hat = np.array(y_hat)\n",
    "y_aleatoric = np.array(y_aleatoric)\n",
    "y_epistemic = np.array(y_epistemic)"
   ]
  },
  {
   "cell_type": "code",
   "execution_count": 8,
   "metadata": {},
   "outputs": [
    {
     "data": {
      "text/plain": [
       "<matplotlib.legend.Legend at 0x12380e438>"
      ]
     },
     "execution_count": 8,
     "metadata": {},
     "output_type": "execute_result"
    },
    {
     "data": {
      "image/png": "[encoded data removed]",
      "text/plain": [
       "<Figure size 432x288 with 1 Axes>"
      ]
     },
     "metadata": {
      "needs_background": "light"
     },
     "output_type": "display_data"
    }
   ],
   "source": [
    "# Plot\n",
    "\n",
    "plt.plot(xs_hat, y_hat, label='Prediction')\n",
    "plt.scatter(xs_hat, ys_hat, label='Original')\n",
    "plt.fill_between(xs_hat[:,0], y_hat-2*y_aleatoric, y_hat+2*y_aleatoric, alpha=0.7, label='Aleatoric')\n",
    "plt.fill_between(xs_hat[:,0], y_hat-2*y_epistemic, y_hat+2*y_epistemic, alpha=0.3, label='Epistemic')\n",
    "plt.ylim((-150, 150))\n",
    "plt.legend()"
   ]
  }
 ],
 "metadata": {
  "@webio": {
   "lastCommId": null,
   "lastKernelId": null
  },
  "kernelspec": {
   "display_name": "Python 3",
   "language": "python",
   "name": "python3"
  },
  "language_info": {
   "codemirror_mode": {
    "name": "ipython",
    "version": 3
   },
   "file_extension": ".py",
   "mimetype": "text/x-python",
   "name": "python",
   "nbconvert_exporter": "python",
   "pygments_lexer": "ipython3",
   "version": "3.7.3"
  }
 },
 "nbformat": 4,
 "nbformat_minor": 4
}
