{
 "cells": [
  {
   "cell_type": "markdown",
   "id": "786f04e0",
   "metadata": {},
   "source": [
    "## Classification using Convolutional Neural Network\n",
    "\n",
    "Convolutional Neural Network (CNN) has revolutionized the computer vision space. As one of the recent breakthrough in deep learning, CNN has become the state-of-the-art in computer vision technique. \n",
    "\n",
    "Here, CNN algorithm will be applied using Keras---a Python API for deep learning that uses TensorFlow as backend. The algorithm will be built to classify hand-written digits on MNIST Dataset. However, we will first apply the simple fully-connected layers before investigating CNN."
   ]
  },
  {
   "cell_type": "markdown",
   "id": "4f448119",
   "metadata": {},
   "source": [
    "## Fully-connected"
   ]
  },
  {
   "cell_type": "code",
   "execution_count": 1,
   "id": "9e9d4e66",
   "metadata": {},
   "outputs": [],
   "source": [
    "# Import libraries\n",
    "\n",
    "from keras.datasets import mnist\n",
    "from keras.models import Sequential\n",
    "from keras.layers import Dense, Dropout, Conv2D, MaxPool2D, Flatten\n",
    "from keras.utils import np_utils\n",
    "from sklearn.metrics import accuracy_score"
   ]
  },
  {
   "cell_type": "code",
   "execution_count": 2,
   "id": "d52197d7",
   "metadata": {},
   "outputs": [
    {
     "name": "stdout",
     "output_type": "stream",
     "text": [
      "Shape before one-hot encoding:  (60000,)\n",
      "Shape after one-hot encoding:  (60000, 10)\n"
     ]
    }
   ],
   "source": [
    "(X_train, y_train), (X_test, y_test) = mnist.load_data()\n",
    "\n",
    "# Flattening images from 28x28 pixels to 1D\n",
    "X_train = X_train.reshape(60000, 784).astype('float32')\n",
    "X_test = X_test.reshape(10000, 784).astype('float32')\n",
    "\n",
    "# Normalize the dataset to help with the stability of training\n",
    "X_train /= 255.\n",
    "X_test /= 255.\n",
    "\n",
    "# One-hot encoding for the output\n",
    "n_classes = 10\n",
    "print(\"Shape before one-hot encoding: \", y_train.shape)\n",
    "Y_train = np_utils.to_categorical(y_train, n_classes)\n",
    "Y_test = np_utils.to_categorical(y_test, n_classes)\n",
    "print(\"Shape after one-hot encoding: \", Y_train.shape)"
   ]
  },
  {
   "cell_type": "code",
   "execution_count": 3,
   "id": "4a0710f5",
   "metadata": {},
   "outputs": [
    {
     "name": "stdout",
     "output_type": "stream",
     "text": [
      "5 :  [0. 0. 0. 0. 0. 1. 0. 0. 0. 0.]\n"
     ]
    }
   ],
   "source": [
    "# Digit 5 is represented as an array of\n",
    "print(y_train[0], \": \", Y_train[0])"
   ]
  },
  {
   "cell_type": "code",
   "execution_count": 4,
   "id": "0b123eae",
   "metadata": {},
   "outputs": [
    {
     "name": "stdout",
     "output_type": "stream",
     "text": [
      "Model: \"sequential\"\n",
      "_________________________________________________________________\n",
      " Layer (type)                Output Shape              Param #   \n",
      "=================================================================\n",
      " dense (Dense)               (None, 100)               78500     \n",
      "                                                                 \n",
      " dense_1 (Dense)             (None, 100)               10100     \n",
      "                                                                 \n",
      " dense_2 (Dense)             (None, 100)               10100     \n",
      "                                                                 \n",
      " dense_3 (Dense)             (None, 100)               10100     \n",
      "                                                                 \n",
      " dense_4 (Dense)             (None, 10)                1010      \n",
      "                                                                 \n",
      "=================================================================\n",
      "Total params: 109,810\n",
      "Trainable params: 109,810\n",
      "Non-trainable params: 0\n",
      "_________________________________________________________________\n"
     ]
    }
   ],
   "source": [
    "# Building a linear stack of layers with the sequential model\n",
    "model = Sequential()\n",
    "model.add(Dense(100, input_shape=(784,), activation='relu')) # hidden layer 1\n",
    "model.add(Dense(100, input_shape=(100,), activation='relu')) # hidden layer 2\n",
    "model.add(Dense(100, input_shape=(100,), activation='relu')) # hidden layer 3\n",
    "model.add(Dense(100, input_shape=(100,), activation='relu')) # hidden layer 4\n",
    "model.add(Dense(10, activation='softmax')) # output layer\n",
    "model.summary() # print model summary"
   ]
  },
  {
   "cell_type": "code",
   "execution_count": 5,
   "id": "85c4050a",
   "metadata": {},
   "outputs": [
    {
     "name": "stdout",
     "output_type": "stream",
     "text": [
      "Epoch 1/10\n",
      "469/469 [==============================] - 1s 2ms/step - loss: 0.3302 - accuracy: 0.9046 - val_loss: 0.1363 - val_accuracy: 0.9588\n",
      "Epoch 2/10\n",
      "469/469 [==============================] - 1s 2ms/step - loss: 0.1234 - accuracy: 0.9625 - val_loss: 0.1102 - val_accuracy: 0.9656\n",
      "Epoch 3/10\n",
      "469/469 [==============================] - 1s 2ms/step - loss: 0.0856 - accuracy: 0.9734 - val_loss: 0.0997 - val_accuracy: 0.9689\n",
      "Epoch 4/10\n",
      "469/469 [==============================] - 1s 2ms/step - loss: 0.0662 - accuracy: 0.9791 - val_loss: 0.0858 - val_accuracy: 0.9738\n",
      "Epoch 5/10\n",
      "469/469 [==============================] - 1s 2ms/step - loss: 0.0518 - accuracy: 0.9830 - val_loss: 0.1103 - val_accuracy: 0.9661\n",
      "Epoch 6/10\n",
      "469/469 [==============================] - 1s 2ms/step - loss: 0.0436 - accuracy: 0.9862 - val_loss: 0.0825 - val_accuracy: 0.9744\n",
      "Epoch 7/10\n",
      "469/469 [==============================] - 1s 2ms/step - loss: 0.0381 - accuracy: 0.9876 - val_loss: 0.0835 - val_accuracy: 0.9738\n",
      "Epoch 8/10\n",
      "469/469 [==============================] - 1s 2ms/step - loss: 0.0338 - accuracy: 0.9886 - val_loss: 0.0807 - val_accuracy: 0.9768\n",
      "Epoch 9/10\n",
      "469/469 [==============================] - 1s 2ms/step - loss: 0.0281 - accuracy: 0.9910 - val_loss: 0.0822 - val_accuracy: 0.9754\n",
      "Epoch 10/10\n",
      "469/469 [==============================] - 1s 2ms/step - loss: 0.0225 - accuracy: 0.9923 - val_loss: 0.0909 - val_accuracy: 0.9755\n"
     ]
    },
    {
     "data": {
      "text/plain": [
       "<keras.callbacks.History at 0x7fde082255b0>"
      ]
     },
     "execution_count": 5,
     "metadata": {},
     "output_type": "execute_result"
    }
   ],
   "source": [
    "model.compile(loss='categorical_crossentropy', metrics=['accuracy'], optimizer='adam') # construct loss function\n",
    "model.fit(X_train, Y_train, batch_size=128, epochs=10, validation_data=(X_test, Y_test)) # training"
   ]
  },
  {
   "cell_type": "markdown",
   "id": "bf824de9",
   "metadata": {},
   "source": [
    "#### Validation accuracy of 97% is the best we can do with fully-connected layers."
   ]
  },
  {
   "cell_type": "markdown",
   "id": "681cda54",
   "metadata": {},
   "source": [
    "## Convolutional Neural Network"
   ]
  },
  {
   "cell_type": "code",
   "execution_count": 6,
   "id": "22b90eb2",
   "metadata": {},
   "outputs": [
    {
     "name": "stdout",
     "output_type": "stream",
     "text": [
      "Shape before one-hot encoding:  (60000,)\n",
      "Shape after one-hot encoding:  (60000, 10)\n"
     ]
    }
   ],
   "source": [
    "(X_train, y_train), (X_test, y_test) = mnist.load_data()\n",
    "\n",
    "# building the input vector from the 28x28 pixels\n",
    "X_train = X_train.reshape(X_train.shape[0], 28, 28, 1).astype('float32')\n",
    "X_test = X_test.reshape(X_test.shape[0], 28, 28, 1).astype('float32')\n",
    "\n",
    "# Normalize the dataset to help with the stability of training\n",
    "X_train /= 255.\n",
    "X_test /= 255.\n",
    "\n",
    "# One-hot encoding for the output\n",
    "n_classes = 10\n",
    "print(\"Shape before one-hot encoding: \", y_train.shape)\n",
    "Y_train = np_utils.to_categorical(y_train, n_classes)\n",
    "Y_test = np_utils.to_categorical(y_test, n_classes)\n",
    "print(\"Shape after one-hot encoding: \", Y_train.shape)"
   ]
  },
  {
   "cell_type": "code",
   "execution_count": 7,
   "id": "2a393a7a",
   "metadata": {},
   "outputs": [
    {
     "name": "stdout",
     "output_type": "stream",
     "text": [
      "Model: \"sequential_1\"\n",
      "_________________________________________________________________\n",
      " Layer (type)                Output Shape              Param #   \n",
      "=================================================================\n",
      " conv2d (Conv2D)             (None, 26, 26, 25)        250       \n",
      "                                                                 \n",
      " max_pooling2d (MaxPooling2D  (None, 26, 26, 25)       0         \n",
      " )                                                               \n",
      "                                                                 \n",
      " flatten (Flatten)           (None, 16900)             0         \n",
      "                                                                 \n",
      " dense_5 (Dense)             (None, 100)               1690100   \n",
      "                                                                 \n",
      " dense_6 (Dense)             (None, 10)                1010      \n",
      "                                                                 \n",
      "=================================================================\n",
      "Total params: 1,691,360\n",
      "Trainable params: 1,691,360\n",
      "Non-trainable params: 0\n",
      "_________________________________________________________________\n"
     ]
    }
   ],
   "source": [
    "model = Sequential()\n",
    "model.add(Conv2D(25, kernel_size=(3,3), strides=(1,1), padding='valid', activation='relu', input_shape=(28,28,1)))\n",
    "model.add(MaxPool2D(pool_size=(1,1)))\n",
    "model.add(Flatten())\n",
    "model.add(Dense(100, activation='relu'))\n",
    "model.add(Dense(10, activation='softmax'))\n",
    "\n",
    "model.summary()"
   ]
  },
  {
   "cell_type": "code",
   "execution_count": 8,
   "id": "c907e2fb",
   "metadata": {},
   "outputs": [
    {
     "name": "stdout",
     "output_type": "stream",
     "text": [
      "Epoch 1/10\n",
      "469/469 [==============================] - 9s 19ms/step - loss: 0.2009 - accuracy: 0.9417 - val_loss: 0.0751 - val_accuracy: 0.9758\n",
      "Epoch 2/10\n",
      "469/469 [==============================] - 9s 20ms/step - loss: 0.0614 - accuracy: 0.9818 - val_loss: 0.0761 - val_accuracy: 0.9771\n",
      "Epoch 3/10\n",
      "469/469 [==============================] - 10s 20ms/step - loss: 0.0373 - accuracy: 0.9887 - val_loss: 0.0519 - val_accuracy: 0.9839\n",
      "Epoch 4/10\n",
      "469/469 [==============================] - 10s 21ms/step - loss: 0.0241 - accuracy: 0.9929 - val_loss: 0.0582 - val_accuracy: 0.9811\n",
      "Epoch 5/10\n",
      "469/469 [==============================] - 10s 21ms/step - loss: 0.0167 - accuracy: 0.9952 - val_loss: 0.0549 - val_accuracy: 0.9838\n",
      "Epoch 6/10\n",
      "469/469 [==============================] - 10s 21ms/step - loss: 0.0123 - accuracy: 0.9965 - val_loss: 0.0517 - val_accuracy: 0.9852\n",
      "Epoch 7/10\n",
      "469/469 [==============================] - 10s 22ms/step - loss: 0.0076 - accuracy: 0.9978 - val_loss: 0.0636 - val_accuracy: 0.9828\n",
      "Epoch 8/10\n",
      "469/469 [==============================] - 10s 21ms/step - loss: 0.0061 - accuracy: 0.9984 - val_loss: 0.0616 - val_accuracy: 0.9843\n",
      "Epoch 9/10\n",
      "469/469 [==============================] - 10s 22ms/step - loss: 0.0035 - accuracy: 0.9991 - val_loss: 0.0601 - val_accuracy: 0.9837\n",
      "Epoch 10/10\n",
      "469/469 [==============================] - 11s 23ms/step - loss: 0.0054 - accuracy: 0.9983 - val_loss: 0.0676 - val_accuracy: 0.9835\n"
     ]
    },
    {
     "data": {
      "text/plain": [
       "<keras.callbacks.History at 0x7fddd99bc4f0>"
      ]
     },
     "execution_count": 8,
     "metadata": {},
     "output_type": "execute_result"
    }
   ],
   "source": [
    "model.compile(loss='categorical_crossentropy', metrics=['accuracy'], optimizer='adam')\n",
    "model.fit(X_train, Y_train, batch_size=128, epochs=10, validation_data=(X_test, Y_test))"
   ]
  },
  {
   "cell_type": "markdown",
   "id": "c28ba1c6",
   "metadata": {},
   "source": [
    "#### Using CNN, the validation accuracy is improved to 98%. This is expected since the CNN number of parameters is an order of magnitude larger for the fully-connected network. "
   ]
  }
 ],
 "metadata": {
  "kernelspec": {
   "display_name": "Python 3",
   "language": "python",
   "name": "python3"
  },
  "language_info": {
   "codemirror_mode": {
    "name": "ipython",
    "version": 3
   },
   "file_extension": ".py",
   "mimetype": "text/x-python",
   "name": "python",
   "nbconvert_exporter": "python",
   "pygments_lexer": "ipython3",
   "version": "3.8.8"
  }
 },
 "nbformat": 4,
 "nbformat_minor": 5
}
