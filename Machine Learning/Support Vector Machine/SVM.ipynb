{
 "cells": [
  {
   "cell_type": "markdown",
   "metadata": {},
   "source": [
    "# Support Vector Machines"
   ]
  },
  {
   "cell_type": "markdown",
   "metadata": {},
   "source": [
    "```\n",
    "Table of Contents\n",
    "\n",
    "1. Introduction\n",
    "\n",
    "2. Mathematical Intuition\n",
    "    - The cost function\n",
    "    - Inner product of two vectors\n",
    "    - SVM boundary decision\n",
    "    - Kernel methods\n",
    "\n",
    "3. Codes:\n",
    "    - With Scikit-learn\n",
    "    - From scratch\n",
    "```"
   ]
  },
  {
   "cell_type": "markdown",
   "metadata": {},
   "source": [
    "### 1. Introduction"
   ]
  },
  {
   "cell_type": "markdown",
   "metadata": {},
   "source": [
    "Support Vector Machines (SVM) is one of the most popular machine learning algorithms. Before the deep learning method was popular in 2012, most researches preferred SVM to deep learning. SVM is a supervised-learning algorithm that kernelized data for classification and regression analysis. SVM constructs a multi-dimensional hyperplane or a set of multi-dimensional hyperplanes to separate different types of data.\n",
    "\n",
    "Here, the mathematical intuition behind SVM will be explained. In order to describe the nonlinear problem, explainations to the kernel method will be provide. **In the end, simple codes are provided.**"
   ]
  },
  {
   "cell_type": "markdown",
   "metadata": {},
   "source": [
    "### 2. Mathematical Intuition"
   ]
  },
  {
   "cell_type": "markdown",
   "metadata": {},
   "source": [
    "### The cost function\n",
    "\n",
    "In every machine learning algorithm, there exists an optimization scheme. The optimization objective is to minimize the cost function with respect to the weights. Here is an example of cost function:<br />\n",
    "<br />\n",
    "<center> $min_{w} [C \\sum_{i=1}^m{y^{(i)} F_{1}(w^Tx^{(i)}) + (1-y^{(i)}) F_{0}(w^Tx^{(i)})} + \\frac{1}{2} \\sum_{j=1}^{n}w_j^{2} ] $ </center>\n",
    "<br />\n",
    "This cost function measures the performance of a binary classification sampling. Let's suppose a prediction to classify negative and positive ions. $y^{(i)}$ is the i-th sample of ions out of the total of m ions. If the i-th ion is negative, $y^{(i)}$ is 0 and vice versa. The C in the first term is the weight penalizing parameter. Large C represents smaller effect on the weights (i.e. the second term), whereas small C emphasize on the importance of the weights. The second term is the regularization term which composes of the sum all the weights square up to n weights. This is usually called l2 regularization due to the square. Here, the $F(w^Tx)$ is defined to be the Rectified Linear Unit (ReLU)* function. The subscripts 0 and 1 on the F function correspond to negative and positive ion, respectively.\n",
    "\n",
    "The plots of the ReLU functions are shown below. The left-hand side graph is $F_{0}(w^Tx^{(i)})$, and the right-hand side graph is $F_{1}(w^Tx^{(i)})$. Thus, there are two conditions to be satisfied in minimization of the weights:\n",
    "<br />\n",
    "- If y = 1 (positive ion), then $w^Tx >> 0$\n",
    "<br />\n",
    "- If y = 0 (negative ion), then $w^Tx << 0$\n",
    "\n",
    "*ReLU is the most popular activation function for artificial neural network (ANN)."
   ]
  },
  {
   "cell_type": "code",
   "execution_count": 2,
   "metadata": {},
   "outputs": [
    {
     "data": {
      "image/png": "[encoded data removed]",
      "text/plain": [
       "<Figure size 432x288 with 2 Axes>"
      ]
     },
     "metadata": {
      "needs_background": "light"
     },
     "output_type": "display_data"
    }
   ],
   "source": [
    "# Plotting ReLU function\n",
    "import numpy as np\n",
    "import matplotlib.pyplot as plt\n",
    "\n",
    "z = np.arange(-2, 2.1, .1)\n",
    "zero = np.zeros(len(z))\n",
    "y1 = np.max([zero, z], axis=0)\n",
    "y2 = np.max([zero, -z], axis=0)\n",
    "\n",
    "f, (ax1, ax2) = plt.subplots(1, 2, sharey=True)\n",
    "ax1.plot(z, y1)\n",
    "ax1.set_title('$F_{0}(w^Tx^{(i)})$')\n",
    "ax1.set_xlabel('$w^Tx$')\n",
    "\n",
    "ax2.plot(z, y2)\n",
    "ax2.set_title('$F_{1}(w^Tx^{(i)})$')\n",
    "ax2.set_xlabel('$w^Tx$')\n",
    "plt.show()"
   ]
  },
  {
   "cell_type": "markdown",
   "metadata": {},
   "source": [
    "The choice of C is usually of a large number (i.e. $10^5$) for the SVM to perform better. For example, SVM can detect outliers with larger choice of C. If C is large, the minimization process will force the sum in the first term of the cost function to be as close to zero. Thus, the first term is assumed to be zero for large C. Then, the second term is the only term remains.\n",
    "\n",
    "Before moving on to minimizing the second term, let's revisit vector inner product because it is the fundamental workhorse of SVM."
   ]
  },
  {
   "cell_type": "markdown",
   "metadata": {},
   "source": [
    "### Inner product of two vectors"
   ]
  },
  {
   "cell_type": "markdown",
   "metadata": {},
   "source": [
    "Let's review the vector inner product. For instance, there are vector a and b defined as:\n",
    "\n",
    "a = (a1, a2) <br />\n",
    "b = (b1, b2) <br />\n",
    "a · b = (a1)(b1) + (a2)(b2) <br />\n",
    "\n",
    "This is also equivalently true:\n",
    "\n",
    "a · b = |a||b| cos(θ)\n",
    "\n",
    "Now, let's suppose that p = |a| cos(θ). p is the length of projection of vector a to vector b. In the figure below, the length of the black vector (p) is equal to |a| cos(θ), i.e. the projection of red vector to the blue vector."
   ]
  },
  {
   "cell_type": "code",
   "execution_count": 4,
   "metadata": {},
   "outputs": [
    {
     "data": {
      "image/png": "[encoded data removed]",
      "text/plain": [
       "<Figure size 432x288 with 1 Axes>"
      ]
     },
     "metadata": {
      "needs_background": "light"
     },
     "output_type": "display_data"
    }
   ],
   "source": [
    "# A visualization for inner product\n",
    "import numpy as np\n",
    "import matplotlib.pyplot as plt\n",
    "\n",
    "soa = np.array([[0, 0, 2, 3], [0, 0, 4, 2],[0, 0, 2.7996, 1.3998]])\n",
    "X, Y, U, V = zip(*soa)\n",
    "plt.figure()\n",
    "ax = plt.gca()\n",
    "ax.axis('scaled')\n",
    "ax.quiver(X, Y, U, V, angles='xy', scale_units='xy', scale=1, color = ['r', 'b','k'])\n",
    "ax.set_xlim([0, 5])\n",
    "ax.set_ylim([0, 5])\n",
    "plt.draw()\n",
    "plt.show()"
   ]
  },
  {
   "cell_type": "markdown",
   "metadata": {},
   "source": [
    "### SVM Decision Boundary"
   ]
  },
  {
   "cell_type": "markdown",
   "metadata": {},
   "source": [
    "Instictively, the black line looks like a better choice for separating the red and blue datasets in comparison to the green line. Coincidentally, SVM also pick the black line to be the decision boundary."
   ]
  },
  {
   "cell_type": "code",
   "execution_count": 6,
   "metadata": {},
   "outputs": [
    {
     "data": {
      "image/png": "[encoded data removed]",
      "text/plain": [
       "<Figure size 432x288 with 1 Axes>"
      ]
     },
     "metadata": {
      "needs_background": "light"
     },
     "output_type": "display_data"
    }
   ],
   "source": [
    "# Example of \n",
    "\n",
    "import numpy as np\n",
    "import matplotlib.pyplot as plt\n",
    "\n",
    "x = np.linspace(-10,10,1000)\n",
    "y1 = -x + 10\n",
    "y2 = -(11/8)*x + 11\n",
    "\n",
    "# Plotting\n",
    "plt.figure()\n",
    "ax = plt.gca()\n",
    "ax.axis('scaled')\n",
    "ax.scatter([2,2,4,3,4.5,6.2,2.5],[2,3,1,3,4.5,2,6.1])\n",
    "ax.scatter([7,9,9.5,6.8,5.5],[5.7,9.3,6.6,8.1,5.5], c = 'r')\n",
    "ax.plot(x,y1, color = 'k')\n",
    "ax.plot(x,y2, color = 'g')\n",
    "ax.set_xlim([0, 10])\n",
    "ax.set_ylim([0, 10])\n",
    "plt.draw()\n",
    "plt.show()"
   ]
  },
  {
   "cell_type": "markdown",
   "metadata": {},
   "source": [
    "To explain SVM decision boundary, let's imagine that the vector a == w and b == x. w is a vector of weights, and x is a vector of features. For simplicity, let's consider 2 dimensions:\n",
    "\n",
    "w = (w1, w2)<br />\n",
    "x = (x1, x2)<br />\n",
    "\n",
    "This means x has two features: x1 and x2. And, $w^Tx$ = |w||x|cos(θ) or $w^Tx$ = p·|w|. With large C, one can rewrite the two conditions given in the cost function as follow:\n",
    "<br />\n",
    "- If y = 1 (positive ion), then $p·|w| >> 0$\n",
    "<br />\n",
    "- If y = 0 (negative ion), then $p·|w| << 0$\n",
    "\n",
    "It can be proved that the decision boundary is perpendicular to the weight vector (w). In the graph below, the green vector is the weight vector. The purple vector is a projection vector of the X point."
   ]
  },
  {
   "cell_type": "code",
   "execution_count": 7,
   "metadata": {},
   "outputs": [
    {
     "data": {
      "image/png": "[encoded data removed]",
      "text/plain": [
       "<Figure size 432x288 with 1 Axes>"
      ]
     },
     "metadata": {
      "needs_background": "light"
     },
     "output_type": "display_data"
    }
   ],
   "source": [
    "# SVM Decision Boundary in feature space with blue line as decision boundary.\n",
    "\n",
    "import numpy as np\n",
    "import matplotlib.pyplot as plt\n",
    "\n",
    "# Decision boundary (blue line)\n",
    "x = np.linspace(-10,10,1000)\n",
    "y1 = -2*x\n",
    "\n",
    "# the weight vector\n",
    "soa = np.array([[0, 0, 5, 2.5], [0, 0, 2.5, 1.25]])\n",
    "X, Y, U, V = zip(*soa)\n",
    "\n",
    "# Plotting\n",
    "plt.figure()\n",
    "ax = plt.gca()\n",
    "ax.axis('scaled')\n",
    "ax.scatter([2,4,3],[-3,-1,3])\n",
    "ax.scatter([-4,-3,-2,-2],[2,-3,-1,3], c = 'r')\n",
    "ax.scatter(2,2,c = 'r', marker = 'X', s = 50)\n",
    "ax.quiver(X, Y, U, V, angles='xy', scale_units='xy', scale=1, color = ['g', 'm']) # weight vector and projection vector of X\n",
    "ax.plot(x,y1)\n",
    "ax.set_xlim([-5, 5])\n",
    "ax.set_ylim([-5, 5])\n",
    "plt.draw()\n",
    "plt.show()"
   ]
  },
  {
   "cell_type": "markdown",
   "metadata": {},
   "source": [
    "However, this decision boundary will not be the optimal one because it doesn't satisfy the two equation. The optimal decision boundary will be the black line as describe below."
   ]
  },
  {
   "cell_type": "code",
   "execution_count": 8,
   "metadata": {},
   "outputs": [
    {
     "data": {
      "image/png": "[encoded data removed]",
      "text/plain": [
       "<Figure size 432x288 with 1 Axes>"
      ]
     },
     "metadata": {
      "needs_background": "light"
     },
     "output_type": "display_data"
    }
   ],
   "source": [
    "# SVM Decision Boundary in feature space with black line as the best decision boundary.\n",
    "\n",
    "import numpy as np\n",
    "import matplotlib.pyplot as plt\n",
    "\n",
    "# Decision boundary (blue line)\n",
    "x = np.linspace(-10,10,1000)\n",
    "y1 = 10000*x\n",
    "\n",
    "# the weight vector\n",
    "soa = np.array([[0, 0, 5, 0], [0, 0, 2, 0]])\n",
    "X, Y, U, V = zip(*soa)\n",
    "\n",
    "# Plotting\n",
    "plt.figure()\n",
    "ax = plt.gca()\n",
    "ax.axis('scaled')\n",
    "ax.scatter([2,4,3],[-3,-1,3])\n",
    "ax.scatter([-4,-3,-2,-2],[2,-3,-1,3], c = 'r')\n",
    "ax.scatter(2,2,c = 'r', marker = 'X', s = 50)\n",
    "ax.quiver(X, Y, U, V, angles='xy', scale_units='xy', scale=1, color = ['g', 'm']) # weight vector and projection vector of X\n",
    "ax.plot(x,y1,color='k')\n",
    "ax.set_xlim([-5, 5])\n",
    "ax.set_ylim([-5, 5])\n",
    "plt.draw()\n",
    "plt.show()"
   ]
  },
  {
   "cell_type": "markdown",
   "metadata": {},
   "source": [
    "### Kernel methods"
   ]
  },
  {
   "cell_type": "markdown",
   "metadata": {},
   "source": [
    "#### Polynomial Kernel\n",
    "For non-linear decision boundary, one can extend the polynomial of the features to a higher order than 1. For instance, the SVM is separating datasets with two features ($x_1 and x_2$):<br />\n",
    "<br />\n",
    "<center> $y = w_0 + w_1x_1+ w_2x_2 + w_3x_1x_2 + w_4x_1^2 + w_5x_2^2 + ... $ </center>\n",
    "<br />\n",
    "Now, let's suppose: \n",
    "<br />\n",
    "<center> $y = w_0 + w_1f_1+ w_2f_2 + w_3f_3 + w_4f_4 + w_5f_5 + ... $ </center>\n",
    "<br />\n",
    "where $f_1 = x_1, f_2 = x_2, f_3 = x_1x_2, f_4 = x_1^2, f_5 = x_2^2, ...$. This is called kernelized. In this particular case, $f_i$ is a polynomial kernel. However, polynomial optimization can be very time consuming as the order increases."
   ]
  },
  {
   "cell_type": "markdown",
   "metadata": {},
   "source": [
    "#### Gaussian Kernel\n",
    "\n",
    "Gaussian kernel is sometimes called similarity kernel. In scikit-learn, rbf is equivalent to gaussian kernel. Let's define the gaussian kernel:\n",
    "<br />\n",
    "<br />\n",
    "<center> $f = similarity(x,l) = exp(-\\frac{||x-l||^2}{2\\gamma^2}) $ </center>\n",
    "<br />\n",
    "l is a landmark. A landmark is a point in feature space which defines as a similarity reference point relative to the data point. The numbers of feature are equal to the numbers of landmark.\n",
    "<br />\n",
    "<br />\n",
    "If x ≈ l:\n",
    "<br />\n",
    "<br />\n",
    "<center> $f = exp(-\\frac{||x-l||^2}{2\\gamma^2}) = 1$ </center>\n",
    "<br />\n",
    "If x is far from l:\n",
    "<br />\n",
    "<br />\n",
    "<center> $f = exp(-\\frac{||x-l||^2}{2\\gamma^2}) = 0$ </center>\n",
    "<br />"
   ]
  },
  {
   "cell_type": "markdown",
   "metadata": {},
   "source": [
    "## 3. Codes"
   ]
  },
  {
   "cell_type": "markdown",
   "metadata": {},
   "source": [
    "### With Scikit-learn"
   ]
  },
  {
   "cell_type": "code",
   "execution_count": 12,
   "metadata": {},
   "outputs": [
    {
     "name": "stdout",
     "output_type": "stream",
     "text": [
      "Automatically created module for IPython interactive environment\n"
     ]
    },
    {
     "name": "stderr",
     "output_type": "stream",
     "text": [
      "C:\\Users\\hgyan\\Anaconda3\\lib\\site-packages\\sklearn\\svm\\base.py:196: FutureWarning: The default value of gamma will change from 'auto' to 'scale' in version 0.22 to account better for unscaled features. Set gamma explicitly to 'auto' or 'scale' to avoid this warning.\n",
      "  \"avoid this warning.\", FutureWarning)\n"
     ]
    },
    {
     "data": {
      "image/png": "[encoded data removed]",
      "text/plain": [
       "<Figure size 432x288 with 1 Axes>"
      ]
     },
     "metadata": {
      "needs_background": "light"
     },
     "output_type": "display_data"
    }
   ],
   "source": [
    "# This code is taken from:\n",
    "# http://scikit-learn.org/stable/auto_examples/svm/plot_svm_regression.html#sphx-glr-auto-examples-svm-plot-svm-regression-py\n",
    "\n",
    "\n",
    "print(__doc__)\n",
    "\n",
    "import numpy as np\n",
    "from sklearn.svm import SVR\n",
    "import matplotlib.pyplot as plt\n",
    "\n",
    "# #############################################################################\n",
    "# Generate sample data\n",
    "X = np.sort(5 * np.random.rand(40, 1), axis=0)\n",
    "y = np.sin(X).ravel()\n",
    "\n",
    "# #############################################################################\n",
    "# Add noise to targets\n",
    "y[::5] += 3 * (0.5 - np.random.rand(8))\n",
    "\n",
    "# #############################################################################\n",
    "# Fit regression model\n",
    "svr_rbf = SVR(kernel='rbf', C=1e4, gamma=0.1)\n",
    "svr_lin = SVR(kernel='linear', C=1e4)\n",
    "svr_poly = SVR(kernel='poly', C=1e4, degree=2)\n",
    "y_rbf = svr_rbf.fit(X, y).predict(X)\n",
    "y_lin = svr_lin.fit(X, y).predict(X)\n",
    "y_poly = svr_poly.fit(X, y).predict(X)\n",
    "\n",
    "# #############################################################################\n",
    "# Look at the results\n",
    "lw = 2\n",
    "plt.scatter(X, y, color='darkorange', label='data')\n",
    "plt.plot(X, y_rbf, color='navy', lw=lw, label='RBF model')\n",
    "plt.plot(X, y_lin, color='c', lw=lw, label='Linear model')\n",
    "plt.plot(X, y_poly, color='cornflowerblue', lw=lw, label='Polynomial model')\n",
    "plt.xlabel('data')\n",
    "plt.ylabel('target')\n",
    "plt.title('Support Vector Regression')\n",
    "plt.legend()\n",
    "plt.show()"
   ]
  },
  {
   "cell_type": "markdown",
   "metadata": {},
   "source": [
    "### From Scratch"
   ]
  },
  {
   "cell_type": "code",
   "execution_count": 332,
   "metadata": {},
   "outputs": [],
   "source": [
    "import numpy as np\n",
    "\n",
    "class SVM:\n",
    "    def __init__(self, x, y, epsilon=0.001, C=1.0):\n",
    "        self._x = x\n",
    "        self._y = y\n",
    "        self.no_of_samples = np.shape(x)[0]\n",
    "        self.epsilon = epsilon\n",
    "        self.C = C\n",
    "        \n",
    "        # Parameters to be optimized\n",
    "        self._alpha = np.mat(np.zeros((self.no_of_samples, 1)))\n",
    "        self._b = np.mat([[0]])\n",
    "        \n",
    "    def fit(self, iteration):\n",
    "        \n",
    "        i = 0\n",
    "        while (i < iteration):\n",
    "            if (self.SMO() == 0):\n",
    "                i += 1\n",
    "            else:\n",
    "                i = 0\n",
    "                \n",
    "        self._w = self.calculate_w(self._alpha, self._x, self._y)\n",
    "        \n",
    "        \n",
    "    def SMO(self,):\n",
    "        \"\"\"Perform SMO algorithm here.\"\"\"\n",
    "        no_of_opt_alphas = 0\n",
    "        for i in range(self.no_of_samples):\n",
    "            Ei = np.multiply(self._y, self._alpha).T * self._x * self._x[i].T + self._b - self._y[i]\n",
    "            if self.check_KKT(self._alpha[i], Ei):\n",
    "                j = self.generate_alphaj_index(i, self.no_of_samples)\n",
    "                Ej = np.multiply(self._y, self._alpha).T * self._x * self._x[j].T + self._b - self._y[j]\n",
    "                alphaIold = self._alpha[i].copy()\n",
    "                alphaJold = self._alpha[j].copy()\n",
    "                bounds = self.get_bounds(self._alpha[i], self._alpha[j], self._y[i], self._y[j])\n",
    "                eta = self.eta(self._x[i], self._x[j])\n",
    "                \n",
    "                # update alphas and b\n",
    "                if bounds[0] != bounds[1] and eta < 0:\n",
    "                    self._alpha[j] -= self._y[j] * (Ei - Ej) / eta # Update alpha j\n",
    "                    self.clip_alphaj(j, bounds)\n",
    "                    \n",
    "                    # Check if the alpha j satisfy some tolerance\n",
    "                    if (abs(self._alpha[j] - alphaJold) >= self.epsilon):\n",
    "                        self._alpha[i] += self._y[j] * self._y[i] * (alphaJold - self._alpha[j]) # Update alpha i\n",
    "                        \n",
    "                        # Update b\n",
    "                        b1 = self._b - Ei - self._y[i] * (self._alpha[i] - alphaIold) * self._x[i] * self._x[j].T\\\n",
    "                                          - self._y[j] * (self._alpha[j] - alphaJold) * self._x[i] * self._x[j].T\n",
    "                        b2 = self._b - Ej - self._y[i] * (self._alpha[i] - alphaIold) * self._x[i] * self._x[j].T\\\n",
    "                                          - self._y[j] * (self._alpha[j] - alphaJold) * self._x[j] * self._x[j].T\n",
    "                        \n",
    "                        if (0 < self._alpha[i]) and (self.C > self._alpha[i]):\n",
    "                            self._b = b1\n",
    "                        elif (0 < self._alpha[j]) and (self.C > self._alpha[j]):\n",
    "                            self._b = b2\n",
    "                        else:\n",
    "                            self._b = (b1 + b2) / 2.\n",
    "                            \n",
    "                        no_of_opt_alphas += 1\n",
    "                        \n",
    "                    else:\n",
    "                        self._alpha[j] = alphaJold\n",
    "            \n",
    "        return no_of_opt_alphas\n",
    "        \n",
    "    def generate_alphaj_index(self, alpha1index, no_of_samples):\n",
    "        alpha2index = alpha1index\n",
    "        while(alpha1index == alpha2index):\n",
    "            alpha2index = int(np.random.uniform(0, no_of_samples))\n",
    "        return alpha2index\n",
    "    \n",
    "    def check_KKT(self, alpha, error):\n",
    "        \"\"\"Check if the alpha violates the KKT conditions.\"\"\"\n",
    "        return (alpha > 0 and error > self.epsilon) or (alpha < self.C and error < -self.epsilon)\n",
    "    \n",
    "    def get_bounds(self, alphai, alphaj, yi, yj):\n",
    "        bounds = []\n",
    "        if (yi == yj):\n",
    "            bounds.insert(0, max(0, alphaj + alphai - self.C))\n",
    "            bounds.insert(1, min(self.C, alphaj + alphai))\n",
    "        else:\n",
    "            bounds.insert(0, max(0, alphaj - alphai))\n",
    "            bounds.insert(1, min(self.C, alphaj - alphai + self.C))\n",
    "            \n",
    "        return bounds\n",
    "            \n",
    "    def eta(self, xi, xj):\n",
    "        return (2.0 * xi * xj.T - xi * xi.T - xj * xj.T)\n",
    "    \n",
    "    def clip_alphaj(self, j, bounds):\n",
    "        self._alpha[j] = min(self._alpha[j], bounds[0])\n",
    "        self._alpha[j] = max(self._alpha[j], bounds[1])\n",
    "        #if self._alpha[j] < bounds[0]:\n",
    "        #    self._alpha[j] = bounds[0]\n",
    "        #if self._alpha[j] < bounds[1]:\n",
    "        #    self._alpha[j] = bounds[1]        \n",
    "        \n",
    "    def calculate_w(self, alpha, x, y):\n",
    "        w = np.zeros((np.shape(x)[1], 1))\n",
    "        for i in range(self.no_of_samples):\n",
    "            w += np.multiply(y[i] * alpha [i], x[i].T)\n",
    "        return w\n",
    "    \n",
    "    def classify(self, w):\n",
    "        classification = \"No!\"\n",
    "        if (np.sign((x @ self._w + self._b).item(0, 0)) == 1):\n",
    "            classification = \"Yes!\"\n",
    "        return classification\n",
    "    \n",
    "    def get_alpha(self):\n",
    "        return self._alpha\n",
    "    \n",
    "    def get_b(self):\n",
    "        return self._b\n",
    "    \n",
    "    def get_w(self):\n",
    "        return self._w"
   ]
  },
  {
   "cell_type": "code",
   "execution_count": 345,
   "metadata": {},
   "outputs": [],
   "source": [
    "# Train SVM\n",
    "\n",
    "x_ = [[9.123456, 3.123456],\n",
    "      [9.123456, 5.123456],\n",
    "      [5.123456, 5.123456],\n",
    "      [8.123456, 6.654321],\n",
    "      [4.654321, 4.123456],\n",
    "      [2.123456, 4.123456],\n",
    "      [9.123456, 7.123456],\n",
    "      [4.123456, 4.654321],\n",
    "      [8.654321, 2.123456],\n",
    "      [2.123456, 2.123456],\n",
    "      [3.123456, 3.123456],\n",
    "      [8.654321, 4.123456],\n",
    "      [7.123456, 6.123456],\n",
    "      [4.123456, 7.123456],\n",
    "      [6.923456, 4.623456],\n",
    "      [8.123456, 5.123456],\n",
    "      [3.123456, 4.123456]]\n",
    "y_ = [+1, +1, -1, +1, -1, -1, +1, -1, +1, -1, -1, +1, +1, -1, -1, +1, -1]\n",
    "\n",
    "x = np.mat(x_)\n",
    "y = np.mat(y_).transpose()\n",
    "\n",
    "# Run SVM\n",
    "iteration = 50\n",
    "C = 8.\n",
    "svm = SVM(x, y, C=C)\n",
    "svm.fit(iteration)"
   ]
  },
  {
   "cell_type": "code",
   "execution_count": 346,
   "metadata": {},
   "outputs": [
    {
     "name": "stdout",
     "output_type": "stream",
     "text": [
      "+----------------+-------+-------+\n",
      "| support vector | label | alpha |\n",
      "+----------------+-------+-------+\n",
      "+----------------+-------+-------+\n",
      "+-------------------------+--------------------+\n",
      "|          weight         |        bias        |\n",
      "+-------------------------+--------------------+\n",
      "| [[316.24692  40.     ]] | [[-2060.23567656]] |\n",
      "+-------------------------+--------------------+\n"
     ]
    },
    {
     "data": {
      "image/png": "[encoded data removed]",
      "text/plain": [
       "<Figure size 432x288 with 1 Axes>"
      ]
     },
     "metadata": {
      "needs_background": "light"
     },
     "output_type": "display_data"
    }
   ],
   "source": [
    "import prettytable as pt\n",
    "import matplotlib.pyplot as plt\n",
    "import matplotlib.patches as patches\n",
    "\n",
    "def display():\n",
    "    svmtable = pt.PrettyTable(['support vector', 'label', 'alpha'])\n",
    "    for i in range(len(x)):\n",
    "        if svm.get_alpha()[i] > 0.0 and svm.get_alpha()[i] != C:\n",
    "            svmtable.add_row([x[i], y[i], svm.get_alpha()[i].item(0, 0)])\n",
    "    print(svmtable)\n",
    "\n",
    "    table = pt.PrettyTable(['weight', 'bias'])\n",
    "    table.add_row([svm.get_w().T, svm.get_b()])\n",
    "    print(table)\n",
    "    \n",
    "display()\n",
    "\n",
    "def plot(alpha, b, w):\n",
    "    x0 = []; y0= []; x1 = []; y1 = []\n",
    "    for i in range(17):\n",
    "        if y_[i] == -1:\n",
    "            x0.append(x_[i][0])\n",
    "            y0.append(x_[i][1])\n",
    "        else:\n",
    "            x1.append(x_[i][0])\n",
    "            y1.append(x_[i][1])\n",
    "    \n",
    "    plot = plt.figure()\n",
    "    plt.xlabel('Feature1')\n",
    "    plt.ylabel('Feature2')\n",
    "    ax = plot.add_subplot(1,1,1)\n",
    "    ax.scatter(x0, y0, marker='o', s=30, c='blue')\n",
    "    ax.scatter(x1, y1, marker='o', s=30, c='green')\n",
    "    \n",
    "    _x = np.arange(0.0, 10.0, 0.1)\n",
    "    _y = (-w[0] * _x - b) / w[1]\n",
    "    \n",
    "    ax.plot(_x, _y)\n",
    "    ax.axis([0, 10, 0, 10])\n",
    "    plt.show()\n",
    "    \n",
    "plot(svm.get_alpha(), svm.get_b().item(0, 0), svm.get_w())"
   ]
  },
  {
   "cell_type": "code",
   "execution_count": null,
   "metadata": {},
   "outputs": [],
   "source": []
  }
 ],
 "metadata": {
  "kernelspec": {
   "display_name": "Python 3",
   "language": "python",
   "name": "python3"
  },
  "language_info": {
   "codemirror_mode": {
    "name": "ipython",
    "version": 3
   },
   "file_extension": ".py",
   "mimetype": "text/x-python",
   "name": "python",
   "nbconvert_exporter": "python",
   "pygments_lexer": "ipython3",
   "version": "3.7.1"
  }
 },
 "nbformat": 4,
 "nbformat_minor": 2
}
