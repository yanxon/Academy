{
 "cells": [
  {
   "cell_type": "markdown",
   "metadata": {},
   "source": [
    "# Homework 1\n",
    "\n",
    "Calculate the \"effective Bohr magneton number\" for all elements (up to Db) in the periodic table.\n",
    "\n",
    "$p = g(JLS)[J(J+1)]^{1/2}$\n",
    "\n",
    "where $g(JLS)$ is known as the <em>Landè</em> g-factor:\n",
    "\n",
    "$g(JLS)=\\frac{3}{2}+\\frac{1}{2}\\bigg[\\frac{S(S+1)-L(L+1)}{J(J+1)}\\bigg]$\n",
    "\n",
    "The JLS values can be extracted from https://www.nist.gov/pml/periodic-table-elements by looking at the lowest lying J-multiplet that is described by the symbol $^{2S+1}X_{J}$. Where X is the angular momentum L that is given by a letter according to the hallowed spectroscopic code: SPDFGHI. Here, S corresponds to 0, P denotes 1, and so on. For example, the J, L, and S values for Li are 1/2, 0, and 1/2."
   ]
  },
  {
   "cell_type": "code",
   "execution_count": 1,
   "metadata": {},
   "outputs": [],
   "source": [
    "from codes.element import Element"
   ]
  },
  {
   "cell_type": "code",
   "execution_count": 2,
   "metadata": {},
   "outputs": [],
   "source": [
    "atom = Element(10)"
   ]
  },
  {
   "cell_type": "code",
   "execution_count": 3,
   "metadata": {
    "scrolled": true
   },
   "outputs": [
    {
     "name": "stdout",
     "output_type": "stream",
     "text": [
      "The ground state symbol of Protactinium is  4K11/2\n"
     ]
    }
   ],
   "source": [
    "print(\"The ground state symbol of Protactinium is \", atom.print_symbol(pos=91))"
   ]
  },
  {
   "cell_type": "code",
   "execution_count": 4,
   "metadata": {},
   "outputs": [],
   "source": [
    "short_names = atom.all_short_names()\n",
    "Js, Ls, Ss = atom.all_J(), atom.all_L(), atom.all_S()"
   ]
  },
  {
   "cell_type": "code",
   "execution_count": 7,
   "metadata": {},
   "outputs": [
    {
     "name": "stdout",
     "output_type": "stream",
     "text": [
      "    Effective Bohr Magneton\n",
      " H  1.73\n",
      "He  0.0\n",
      "Li  1.73\n",
      "Be  0.0\n",
      " B  0.58\n",
      " C  0.0\n",
      " N  3.87\n",
      " O  3.67\n",
      " F  2.58\n",
      "Ne  0.0\n",
      "Na  1.73\n",
      "Mg  0.0\n",
      "Al  0.58\n",
      "Si  0.0\n",
      " P  3.87\n",
      " S  3.67\n",
      "Cl  2.58\n",
      "Ar  0.0\n",
      " K  1.73\n",
      "Ca  0.0\n",
      "Sc  1.55\n",
      "Ti  1.63\n",
      " V  0.77\n",
      "Cr  6.93\n",
      "Mn  5.92\n",
      "Fe  6.71\n",
      "Co  6.63\n",
      "Ni  5.59\n",
      "Cu  1.73\n",
      "Zn  0.0\n",
      "Ga  0.58\n",
      "Ge  0.0\n",
      "As  3.87\n",
      "Se  2.86\n",
      "Br  1.55\n",
      "Kr  0.0\n",
      "Rb  1.73\n",
      "Sr  0.0\n",
      " Y  1.55\n",
      "Zr  1.63\n",
      "Nb  2.89\n",
      "Mo  6.93\n",
      "Tc  5.92\n",
      "Ru  7.67\n",
      "Rh  6.63\n",
      "Pd  0.0\n",
      "Ag  1.73\n",
      "Cd  0.0\n",
      "In  0.58\n",
      "Sn  0.0\n",
      "Sb  3.87\n",
      "Te  3.67\n",
      " I  2.58\n",
      "Xe  0.0\n",
      "Cs  1.73\n",
      "Ba  0.0\n",
      "La  1.55\n",
      "Ce  4.47\n",
      "Pr  3.62\n",
      "Nd  2.68\n",
      "Pm  0.85\n",
      "Sm  0.0\n",
      "Eu  7.94\n",
      "Gd  6.53\n",
      "Tb  10.65\n",
      "Dy  10.61\n",
      "Ho  9.58\n",
      "Er  7.56\n",
      "Tm  4.54\n",
      "Yb  0.0\n",
      "Lu  1.55\n",
      "Hf  1.63\n",
      "Ta  0.77\n",
      " W  0.0\n",
      "Re  5.92\n",
      "Os  6.71\n",
      "Ir  6.63\n",
      "Pt  4.62\n",
      "Au  1.73\n",
      "Hg  0.0\n",
      "Tl  0.58\n",
      "Pb  0.0\n",
      "Bi  3.87\n",
      "Po  3.67\n",
      "At  2.58\n",
      "Rn  0.0\n",
      "Fr  1.73\n",
      "Ra  0.0\n",
      "Ac  1.55\n",
      "Th  1.63\n",
      "Pa  4.6\n",
      " U  4.63\n",
      "Np  3.68\n",
      "Pu  0.0\n",
      "Am  7.94\n",
      "Cm  6.53\n",
      "Bk  10.65\n",
      "Cf  10.61\n",
      "Es  9.58\n",
      "Fm  7.56\n",
      "Md  4.54\n",
      "No  0.0\n",
      "Lr  0.58\n",
      "Rf  1.63\n",
      "Db  0.77\n"
     ]
    }
   ],
   "source": [
    "from codes.lande import effective_Bohr_magneton\n",
    "\n",
    "print(\"    Effective Bohr Magneton\")\n",
    "for i in range(len(short_names)):\n",
    "    J, L, S = Js[i], Ls[i], Ss[i]\n",
    "    p = effective_Bohr_magneton(J, L, S)\n",
    "    print(\"{0:^3}\".format(short_names[i]), round(p, 2))"
   ]
  }
 ],
 "metadata": {
  "kernelspec": {
   "display_name": "Python 3",
   "language": "python",
   "name": "python3"
  },
  "language_info": {
   "codemirror_mode": {
    "name": "ipython",
    "version": 3
   },
   "file_extension": ".py",
   "mimetype": "text/x-python",
   "name": "python",
   "nbconvert_exporter": "python",
   "pygments_lexer": "ipython3",
   "version": "3.7.4"
  }
 },
 "nbformat": 4,
 "nbformat_minor": 2
}
