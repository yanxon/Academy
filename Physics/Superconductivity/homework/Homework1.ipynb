{
 "cells": [
  {
   "cell_type": "markdown",
   "metadata": {},
   "source": [
    "# Homework 1\n",
    "\n",
    "Calculate the \"effective Bohr magneton number\" for all elements (up to Db) in the periodic table.\n",
    "\n",
    "$p = g(JLS)[J(J+1)]^{1/2}$\n",
    "\n",
    "where $g(JLS)$ is known as the <em>Landè</em> g-factor:\n",
    "\n",
    "$g(JLS)=\\frac{3}{2}+\\frac{1}{2}\\bigg[\\frac{S(S+1)-L(L+1)}{J(J+1)}\\bigg]$\n",
    "\n",
    "The JLS values can be extracted from https://www.nist.gov/pml/periodic-table-elements by looking at the lowest lying J-multiplet that is described by the symbol $^{2S+1}X_{J}$. Where X is the angular momentum L that is given by a letter according to the hallowed spectroscopic code: SPDFGHI. Here, S corresponds to 0, P denotes 1, and so on. For example, the J, L, and S values for Li are 1/2, 0, and 1/2."
   ]
  },
  {
   "cell_type": "code",
   "execution_count": 1,
   "metadata": {},
   "outputs": [],
   "source": [
    "from codes.element import Element"
   ]
  },
  {
   "cell_type": "code",
   "execution_count": 2,
   "metadata": {},
   "outputs": [],
   "source": [
    "atom = Element(10)"
   ]
  },
  {
   "cell_type": "code",
   "execution_count": 3,
   "metadata": {
    "scrolled": true
   },
   "outputs": [
    {
     "name": "stdout",
     "output_type": "stream",
     "text": [
      "The ground state symbol of Protactinium is  4K11/2\n"
     ]
    }
   ],
   "source": [
    "print(\"The ground state symbol of Protactinium is \", atom.print_symbol(pos=91))"
   ]
  },
  {
   "cell_type": "code",
   "execution_count": 4,
   "metadata": {},
   "outputs": [],
   "source": [
    "short_names = atom.all_short_names()\n",
    "Js, Ls, Ss = atom.all_J(), atom.all_L(), atom.all_S()"
   ]
  },
  {
   "cell_type": "code",
   "execution_count": 5,
   "metadata": {},
   "outputs": [
    {
     "name": "stdout",
     "output_type": "stream",
     "text": [
      "Element   J     L     S     p  \n",
      "   H     1/2    0    1/2   1.73\n",
      "  He      0     0     0    0.0 \n",
      "  Li     1/2    0    1/2   1.73\n",
      "  Be      0     0     0    0.0 \n",
      "   B     1/2    1    1/2   0.58\n",
      "   C      0     1     1    0.0 \n",
      "   N     3/2    0    3/2   3.87\n",
      "   O      2     1     1    3.67\n",
      "   F     3/2    1    1/2   2.58\n",
      "  Ne      0     0     0    0.0 \n",
      "  Na     1/2    0    1/2   1.73\n",
      "  Mg      0     0     0    0.0 \n",
      "  Al     1/2    1    1/2   0.58\n",
      "  Si      0     1     1    0.0 \n",
      "   P     3/2    0    3/2   3.87\n",
      "   S      2     1     1    3.67\n",
      "  Cl     3/2    1    1/2   2.58\n",
      "  Ar      0     0     0    0.0 \n",
      "   K     1/2    0    1/2   1.73\n",
      "  Ca      0     0     0    0.0 \n",
      "  Sc     3/2    2    1/2   1.55\n",
      "  Ti      2     3     1    1.63\n",
      "   V     3/2    3    3/2   0.77\n",
      "  Cr      3     0     3    6.93\n",
      "  Mn     5/2    0    5/2   5.92\n",
      "  Fe      4     2     2    6.71\n",
      "  Co     9/2    3    3/2   6.63\n",
      "  Ni      4     3     1    5.59\n",
      "  Cu     1/2    0    1/2   1.73\n",
      "  Zn      0     0     0    0.0 \n",
      "  Ga     1/2    1    1/2   0.58\n",
      "  Ge      0     1     1    0.0 \n",
      "  As     3/2    0    3/2   3.87\n",
      "  Se      2     2     1    2.86\n",
      "  Br     3/2    2    1/2   1.55\n",
      "  Kr      0     0     0    0.0 \n",
      "  Rb     1/2    0    1/2   1.73\n",
      "  Sr      0     0     0    0.0 \n",
      "   Y     3/2    2    1/2   1.55\n",
      "  Zr      2     3     1    1.63\n",
      "  Nb     1/2    2    5/2   2.89\n",
      "  Mo      3     0     3    6.93\n",
      "  Tc     5/2    0    5/2   5.92\n",
      "  Ru      5     3     2    7.67\n",
      "  Rh     9/2    3    3/2   6.63\n",
      "  Pd      0     0     0    0.0 \n",
      "  Ag     1/2    0    1/2   1.73\n",
      "  Cd      0     0     0    0.0 \n",
      "  In     1/2    1    1/2   0.58\n",
      "  Sn      0     1     1    0.0 \n",
      "  Sb     3/2    0    3/2   3.87\n",
      "  Te      2     1     1    3.67\n",
      "   I     3/2    1    1/2   2.58\n",
      "  Xe      0     0     0    0.0 \n",
      "  Cs     1/2    0    1/2   1.73\n",
      "  Ba      0     0     0    0.0 \n",
      "  La     3/2    2    1/2   1.55\n",
      "  Ce      4     4     0    4.47\n",
      "  Pr     9/2    6    3/2   3.62\n",
      "  Nd      4     6     2    2.68\n",
      "  Pm     5/2    5    5/2   0.85\n",
      "  Sm      0     3     3    0.0 \n",
      "  Eu     7/2    0    7/2   7.94\n",
      "  Gd      2     2     4    6.53\n",
      "  Tb     15/2   5    5/2   10.65\n",
      "  Dy      8     6     2    10.61\n",
      "  Ho     15/2   6    3/2   9.58\n",
      "  Er      6     5     1    7.56\n",
      "  Tm     7/2    3    1/2   4.54\n",
      "  Yb      0     0     0    0.0 \n",
      "  Lu     3/2    2    1/2   1.55\n",
      "  Hf      2     3     1    1.63\n",
      "  Ta     3/2    3    3/2   0.77\n",
      "   W      0     2     2    0.0 \n",
      "  Re     5/2    0    5/2   5.92\n",
      "  Os      4     2     2    6.71\n",
      "  Ir     9/2    3    3/2   6.63\n",
      "  Pt      3     2     1    4.62\n",
      "  Au     1/2    0    1/2   1.73\n",
      "  Hg      0     0     0    0.0 \n",
      "  Tl     1/2    1    1/2   0.58\n",
      "  Pb      0     1     1    0.0 \n",
      "  Bi     3/2    0    3/2   3.87\n",
      "  Po      2     1     1    3.67\n",
      "  At     3/2    1    1/2   2.58\n",
      "  Rn      0     0     0    0.0 \n",
      "  Fr     1/2    0    1/2   1.73\n",
      "  Ra      0     0     0    0.0 \n",
      "  Ac     3/2    2    1/2   1.55\n",
      "  Th      2     3     1    1.63\n",
      "  Pa     11/2   7    3/2   4.6 \n",
      "   U      6     8     2    4.63\n",
      "  Np     11/2   8    5/2   3.68\n",
      "  Pu      0     3     3    0.0 \n",
      "  Am     7/2    0    7/2   7.94\n",
      "  Cm      2     2     4    6.53\n",
      "  Bk     15/2   5    5/2   10.65\n",
      "  Cf      8     6     2    10.61\n",
      "  Es     15/2   6    3/2   9.58\n",
      "  Fm      6     5     1    7.56\n",
      "  Md     7/2    3    1/2   4.54\n",
      "  No      0     0     0    0.0 \n",
      "  Lr     1/2    1    1/2   0.58\n",
      "  Rf      2     3     1    1.63\n",
      "  Db     3/2    3    3/2   0.77\n"
     ]
    }
   ],
   "source": [
    "from fractions import Fraction\n",
    "from codes.lande import effective_Bohr_magneton\n",
    "\n",
    "print(\"{0:^7}  {1:^4}  {2:^4}  {3:^4}  {4:^4}\".format(\"Element\", \"J\", \"L\", \"S\", \"p\"))\n",
    "for i in range(len(short_names)):\n",
    "    J, L, S = Js[i], Ls[i], Ss[i]\n",
    "    p = effective_Bohr_magneton(J, L, S)\n",
    "    print(\"{0:^7}  {1:^4}  {2:^4}  {3:^4}  {4:^4}\".format(short_names[i], str(Fraction(J)), int(L), str(Fraction(S)), round(p, 2)))"
   ]
  }
 ],
 "metadata": {
  "kernelspec": {
   "display_name": "Python 3",
   "language": "python",
   "name": "python3"
  },
  "language_info": {
   "codemirror_mode": {
    "name": "ipython",
    "version": 3
   },
   "file_extension": ".py",
   "mimetype": "text/x-python",
   "name": "python",
   "nbconvert_exporter": "python",
   "pygments_lexer": "ipython3",
   "version": "3.7.4"
  }
 },
 "nbformat": 4,
 "nbformat_minor": 2
}
