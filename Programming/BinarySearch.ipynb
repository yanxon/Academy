{
 "cells": [
  {
   "cell_type": "code",
   "execution_count": 1,
   "metadata": {},
   "outputs": [],
   "source": [
    "A = [2, 3, 5, 7, 11, 13, 17, 23, 29, 31, 37, 41, 43, 47, 53]\n",
    "\n",
    "def BinarySearch(A: list, a: int) -> bool:\n",
    "    L, R = 0, len(A) - 1\n",
    "    \n",
    "    while L <= R:\n",
    "        M = (L + R) // 2\n",
    "        #M = L + (R - L) / 2 # to prevent overflow\n",
    "        if A[M] == a:\n",
    "            return True\n",
    "        elif A[M] > a:\n",
    "            R = M - 1\n",
    "        elif A[M] < a:\n",
    "            L = M + 1\n",
    "    return False"
   ]
  },
  {
   "cell_type": "code",
   "execution_count": 2,
   "metadata": {},
   "outputs": [],
   "source": [
    "# Check answers whether for each 0 to 1000000 is in A\n",
    "\n",
    "for i in range(0, 1000000):\n",
    "    if i in A:\n",
    "        truth = True\n",
    "    else:\n",
    "        truth = False\n",
    "        \n",
    "    binarytruth = BinarySearch(A, i)\n",
    "\n",
    "    if truth != binarytruth:\n",
    "        print(\"Error in \", i)"
   ]
  }
 ],
 "metadata": {
  "kernelspec": {
   "display_name": "Python 3",
   "language": "python",
   "name": "python3"
  },
  "language_info": {
   "codemirror_mode": {
    "name": "ipython",
    "version": 3
   },
   "file_extension": ".py",
   "mimetype": "text/x-python",
   "name": "python",
   "nbconvert_exporter": "python",
   "pygments_lexer": "ipython3",
   "version": "3.7.4"
  }
 },
 "nbformat": 4,
 "nbformat_minor": 2
}
