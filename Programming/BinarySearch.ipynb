{
 "cells": [
  {
   "cell_type": "code",
   "execution_count": 2,
   "metadata": {},
   "outputs": [],
   "source": [
    "A = [2, 3, 5, 7, 11, 13, 17, 23, 29, 31, 37, 41, 43, 47, 53]\n",
    "\n",
    "def BinarySearch(A: list, a: int) -> bool:\n",
    "    L, R = 0, len(A) - 1\n",
    "    \n",
    "    while L <= R:\n",
    "        #M = (L + R) // 2\n",
    "        M = L + (R - L) / 2 # to prevent overflow\n",
    "        if A[M] == a:\n",
    "            return True\n",
    "        elif A[M] > a:\n",
    "            R = M - 1\n",
    "        elif A[M] < a:\n",
    "            L = M + 1\n",
    "    return False"
   ]
  },
  {
   "cell_type": "code",
   "execution_count": 3,
   "metadata": {},
   "outputs": [],
   "source": [
    "# Check answers whether for each 0 to 1000000 is in A\n",
    "\n",
    "for i in range(0, 1000000):\n",
    "    if i in A:\n",
    "        truth = True\n",
    "    else:\n",
    "        truth = False\n",
    "        \n",
    "    binarytruth = BinarySearch(A, i)\n",
    "\n",
    "    if truth != binarytruth:\n",
    "        print(\"Error in \", i)"
   ]
  },
  {
   "cell_type": "code",
   "execution_count": 7,
   "metadata": {},
   "outputs": [
    {
     "name": "stdout",
     "output_type": "stream",
     "text": [
      "[[-1, 2, 4, 4, 6], [1, 5, 5, 9, 21], [3, 6, 6, 9, 22], [3, 6, 8, 10, 24], [6, 8, 9, 12, 25], [8, 10, 12, 13, 40]]\n"
     ]
    }
   ],
   "source": [
    "Mat = [[-1, 2, 4, 4, 6], [1, 5, 5, 9, 21], [3, 6, 6, 9, 22], \n",
    "       [3, 6, 8, 10, 24], [6, 8, 9, 12, 25], [8, 10, 12, 13, 40]]\n",
    "print(Mat)"
   ]
  },
  {
   "cell_type": "code",
   "execution_count": 53,
   "metadata": {},
   "outputs": [],
   "source": [
    "def MatrixSearch(A, a) -> bool:\n",
    "    row, column = 0, len(A[0]) - 1\n",
    "    \n",
    "    while row < len(A) and column >= 0:\n",
    "        arr = A[row]\n",
    "        #print(arr[column])\n",
    "        if a > arr[column]:\n",
    "            row += 1\n",
    "        elif a == arr[column]:\n",
    "            return True\n",
    "        elif a < arr[column]:\n",
    "            column -= 1\n",
    "        \n",
    "    return False"
   ]
  },
  {
   "cell_type": "code",
   "execution_count": 55,
   "metadata": {},
   "outputs": [
    {
     "name": "stdout",
     "output_type": "stream",
     "text": [
      "6\n",
      "21\n",
      "9\n",
      "5\n",
      "6\n",
      "8\n"
     ]
    },
    {
     "data": {
      "text/plain": [
       "True"
      ]
     },
     "execution_count": 55,
     "metadata": {},
     "output_type": "execute_result"
    }
   ],
   "source": [
    "MatrixSearch(Mat, 8)"
   ]
  }
 ],
 "metadata": {
  "kernelspec": {
   "display_name": "Python 3",
   "language": "python",
   "name": "python3"
  },
  "language_info": {
   "codemirror_mode": {
    "name": "ipython",
    "version": 3
   },
   "file_extension": ".py",
   "mimetype": "text/x-python",
   "name": "python",
   "nbconvert_exporter": "python",
   "pygments_lexer": "ipython3",
   "version": "3.7.3"
  }
 },
 "nbformat": 4,
 "nbformat_minor": 2
}
