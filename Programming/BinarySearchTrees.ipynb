{
 "cells": [
  {
   "cell_type": "code",
   "execution_count": 1,
   "metadata": {},
   "outputs": [],
   "source": [
    "class BstNode:\n",
    "    def __init__(self, data=None, left=None, right=None):\n",
    "        self.data, self.left, self.right = data, left, right"
   ]
  },
  {
   "cell_type": "code",
   "execution_count": 2,
   "metadata": {},
   "outputs": [],
   "source": [
    "from copy import deepcopy\n",
    "def search_bst(tree: BstNode, key:int):\n",
    "    if key < tree.data:\n",
    "        return tree if not tree or tree.data == key else search_bst(tree.left, key)\n",
    "    else:\n",
    "        return tree if not tree or tree.data == key else search_bst(tree.right, key)"
   ]
  },
  {
   "cell_type": "code",
   "execution_count": 3,
   "metadata": {},
   "outputs": [],
   "source": [
    "A = BstNode(19)\n",
    "B = BstNode(7)\n",
    "C = BstNode(3)\n",
    "D = BstNode(2)\n",
    "E = BstNode(5)\n",
    "F = BstNode(11)\n",
    "G = BstNode(17)\n",
    "H = BstNode(13)\n",
    "I = BstNode(43)\n",
    "J = BstNode(23)\n",
    "K = BstNode(37)\n",
    "L = BstNode(29)\n",
    "M = BstNode(31)\n",
    "N = BstNode(41)\n",
    "O = BstNode(47)\n",
    "P = BstNode(53)\n",
    "\n",
    "A.left, A.right = B, I\n",
    "B.left, B.right = C, F\n",
    "C.left, C.right = D, E\n",
    "F.right = G\n",
    "G.left = H\n",
    "I.left, I.right = J, O\n",
    "J.right = K\n",
    "O.right = P\n",
    "K.left, K.right = L, N\n",
    "L.right = M"
   ]
  },
  {
   "cell_type": "code",
   "execution_count": 4,
   "metadata": {},
   "outputs": [
    {
     "name": "stdout",
     "output_type": "stream",
     "text": [
      " 19 is found\n",
      "  7 is found\n",
      "  3 is found\n",
      "  2 is found\n",
      "  5 is found\n",
      " 11 is found\n",
      " 17 is found\n",
      " 13 is found\n",
      " 43 is found\n",
      " 23 is found\n",
      " 37 is found\n",
      " 29 is found\n",
      " 31 is found\n",
      " 41 is found\n",
      " 47 is found\n",
      " 53 is found\n",
      " 44 is not found\n"
     ]
    }
   ],
   "source": [
    "for i in [19, 7, 3, 2, 5, 11, 17, 13, 43, 23, 37, 29, 31, 41, 47, 53, 44]:\n",
    "    try:\n",
    "        a = search_bst(A, i)\n",
    "        print(\"%3d is found\" % (a.data))\n",
    "    except:\n",
    "        print(\"%3d is not found\" % (i))"
   ]
  }
 ],
 "metadata": {
  "kernelspec": {
   "display_name": "Python 3",
   "language": "python",
   "name": "python3"
  },
  "language_info": {
   "codemirror_mode": {
    "name": "ipython",
    "version": 3
   },
   "file_extension": ".py",
   "mimetype": "text/x-python",
   "name": "python",
   "nbconvert_exporter": "python",
   "pygments_lexer": "ipython3",
   "version": "3.7.3"
  }
 },
 "nbformat": 4,
 "nbformat_minor": 2
}
