{
 "cells": [
  {
   "cell_type": "code",
   "execution_count": 1,
   "metadata": {},
   "outputs": [],
   "source": [
    "class BinaryTreeNode:\n",
    "    def __init__(self, data=None, left=None, right=None):\n",
    "        self.data = data\n",
    "        self.left = left\n",
    "        self.right = right"
   ]
  },
  {
   "cell_type": "code",
   "execution_count": 2,
   "metadata": {},
   "outputs": [],
   "source": [
    "a = BinaryTreeNode('A')\n",
    "b = BinaryTreeNode('B')\n",
    "c = BinaryTreeNode('C')\n",
    "d = BinaryTreeNode('D')\n",
    "e = BinaryTreeNode('E')\n",
    "f = BinaryTreeNode('F')\n",
    "g = BinaryTreeNode('G')\n",
    "h = BinaryTreeNode('H')\n",
    "i = BinaryTreeNode('I')\n",
    "j = BinaryTreeNode('J')\n",
    "k = BinaryTreeNode('K')\n",
    "l = BinaryTreeNode('L')\n",
    "m = BinaryTreeNode('M')\n",
    "n = BinaryTreeNode('N')\n",
    "o = BinaryTreeNode('O')\n",
    "p = BinaryTreeNode('P')\n",
    "\n",
    "a.left = b\n",
    "a.right = i\n",
    "b.left = c\n",
    "b.right = f\n",
    "c.left = d\n",
    "c.right = e\n",
    "f.right = g\n",
    "g.left = h\n",
    "\n",
    "i.left = j\n",
    "i.right = o\n",
    "j.right = k\n",
    "k.left = l\n",
    "k.right = n\n",
    "l.right = m\n",
    "o.right = p"
   ]
  },
  {
   "cell_type": "code",
   "execution_count": 11,
   "metadata": {},
   "outputs": [],
   "source": [
    "def tree_traversal(root):\n",
    "    if root:\n",
    "        print('Preorder: %s' % root.data)\n",
    "        tree_traversal(root.left)\n",
    "        \n",
    "        #print('Inorder: %s' % root.data)\n",
    "        tree_traversal(root.right)\n",
    "        \n",
    "        #print('Postorder: %s' % root.data)"
   ]
  },
  {
   "cell_type": "code",
   "execution_count": 12,
   "metadata": {},
   "outputs": [
    {
     "name": "stdout",
     "output_type": "stream",
     "text": [
      "Preorder: A\n",
      "Preorder: B\n",
      "Preorder: C\n",
      "Preorder: D\n",
      "Preorder: E\n",
      "Preorder: F\n",
      "Preorder: G\n",
      "Preorder: H\n",
      "Preorder: I\n",
      "Preorder: J\n",
      "Preorder: K\n",
      "Preorder: L\n",
      "Preorder: M\n",
      "Preorder: N\n",
      "Preorder: O\n",
      "Preorder: P\n"
     ]
    }
   ],
   "source": [
    "tree_traversal(a)"
   ]
  },
  {
   "cell_type": "code",
   "execution_count": 17,
   "metadata": {},
   "outputs": [],
   "source": [
    "def create_list_of_leaves(tree: BinaryTreeNode) -> list:\n",
    "    if not tree:\n",
    "        return []\n",
    "    \n",
    "    if not tree.left and not tree.right:\n",
    "        return [tree]\n",
    "    \n",
    "    return create_list_of_leaves(tree.left) + create_list_of_leaves(tree.right)"
   ]
  },
  {
   "cell_type": "code",
   "execution_count": 18,
   "metadata": {},
   "outputs": [],
   "source": [
    "leaves = create_list_of_leaves(a)"
   ]
  },
  {
   "cell_type": "code",
   "execution_count": 19,
   "metadata": {},
   "outputs": [
    {
     "name": "stdout",
     "output_type": "stream",
     "text": [
      "D\n",
      "E\n",
      "H\n",
      "M\n",
      "N\n",
      "P\n"
     ]
    }
   ],
   "source": [
    "for l in leaves:\n",
    "    print(l.data)"
   ]
  },
  {
   "cell_type": "code",
   "execution_count": null,
   "metadata": {},
   "outputs": [],
   "source": [
    "def return_exterior_binary_tree(tree: BinaryTreeNode) -> list:\n",
    "    if not tree:\n",
    "        []\n",
    "        \n",
    "    if not tree.left and not tree.right:\n",
    "        return [tree]\n",
    "    \n",
    "    "
   ]
  }
 ],
 "metadata": {
  "kernelspec": {
   "display_name": "Python 3",
   "language": "python",
   "name": "python3"
  },
  "language_info": {
   "codemirror_mode": {
    "name": "ipython",
    "version": 3
   },
   "file_extension": ".py",
   "mimetype": "text/x-python",
   "name": "python",
   "nbconvert_exporter": "python",
   "pygments_lexer": "ipython3",
   "version": "3.7.4"
  }
 },
 "nbformat": 4,
 "nbformat_minor": 2
}
