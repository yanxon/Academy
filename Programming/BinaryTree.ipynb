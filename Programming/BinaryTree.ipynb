{
 "cells": [
  {
   "cell_type": "code",
   "execution_count": 20,
   "metadata": {},
   "outputs": [],
   "source": [
    "class BinaryTreeNode:\n",
    "    def __init__(self, data=None, left=None, right=None):\n",
    "        self.data = data\n",
    "        self.left = left\n",
    "        self.right = right\n",
    "        self.next = None"
   ]
  },
  {
   "cell_type": "code",
   "execution_count": 21,
   "metadata": {},
   "outputs": [],
   "source": [
    "a = BinaryTreeNode('A')\n",
    "b = BinaryTreeNode('B')\n",
    "c = BinaryTreeNode('C')\n",
    "d = BinaryTreeNode('D')\n",
    "e = BinaryTreeNode('E')\n",
    "f = BinaryTreeNode('F')\n",
    "g = BinaryTreeNode('G')\n",
    "h = BinaryTreeNode('H')\n",
    "i = BinaryTreeNode('I')\n",
    "j = BinaryTreeNode('J')\n",
    "k = BinaryTreeNode('K')\n",
    "l = BinaryTreeNode('L')\n",
    "m = BinaryTreeNode('M')\n",
    "n = BinaryTreeNode('N')\n",
    "o = BinaryTreeNode('O')\n",
    "p = BinaryTreeNode('P')\n",
    "\n",
    "a.left = b\n",
    "a.right = i\n",
    "b.left = c\n",
    "b.right = f\n",
    "c.left = d\n",
    "c.right = e\n",
    "f.right = g\n",
    "g.left = h\n",
    "\n",
    "i.left = j\n",
    "i.right = o\n",
    "j.right = k\n",
    "k.left = l\n",
    "k.right = n\n",
    "l.right = m\n",
    "o.right = p"
   ]
  },
  {
   "cell_type": "code",
   "execution_count": 22,
   "metadata": {},
   "outputs": [],
   "source": [
    "def tree_traversal(root):\n",
    "    if root:\n",
    "        #print('Preorder: %s' % root.data)\n",
    "        tree_traversal(root.left)\n",
    "        \n",
    "        #print('Inorder: %s' % root.data)\n",
    "        tree_traversal(root.right)\n",
    "        \n",
    "        #print('Postorder: %s' % root.data)\n",
    "tree_traversal(a)"
   ]
  },
  {
   "cell_type": "code",
   "execution_count": 23,
   "metadata": {},
   "outputs": [],
   "source": [
    "def create_list_of_leaves(tree: BinaryTreeNode) -> list:\n",
    "    if not tree:\n",
    "        return []\n",
    "    \n",
    "    if not tree.left and not tree.right:\n",
    "        return [tree]\n",
    "    \n",
    "    return create_list_of_leaves(tree.left) + create_list_of_leaves(tree.right)"
   ]
  },
  {
   "cell_type": "code",
   "execution_count": 24,
   "metadata": {},
   "outputs": [],
   "source": [
    "leaves = create_list_of_leaves(a)"
   ]
  },
  {
   "cell_type": "code",
   "execution_count": 25,
   "metadata": {},
   "outputs": [
    {
     "name": "stdout",
     "output_type": "stream",
     "text": [
      "D\n",
      "E\n",
      "H\n",
      "M\n",
      "N\n",
      "P\n"
     ]
    }
   ],
   "source": [
    "for l in leaves:\n",
    "    print(l.data)"
   ]
  },
  {
   "cell_type": "code",
   "execution_count": 76,
   "metadata": {},
   "outputs": [],
   "source": [
    "# Construct a perfect binary tree\n",
    "\n",
    "a = BinaryTreeNode('A')\n",
    "b = BinaryTreeNode('B')\n",
    "c = BinaryTreeNode('C')\n",
    "d = BinaryTreeNode('D')\n",
    "e = BinaryTreeNode('E')\n",
    "f = BinaryTreeNode('F')\n",
    "g = BinaryTreeNode('G')\n",
    "h = BinaryTreeNode('H')\n",
    "i = BinaryTreeNode('I')\n",
    "j = BinaryTreeNode('J')\n",
    "k = BinaryTreeNode('K')\n",
    "l = BinaryTreeNode('L')\n",
    "m = BinaryTreeNode('M')\n",
    "n = BinaryTreeNode('N')\n",
    "o = BinaryTreeNode('O')\n",
    "\n",
    "a.left = b\n",
    "a.right = i\n",
    "b.left = c\n",
    "b.right = f\n",
    "c.left = d\n",
    "c.right = e\n",
    "f.left = g\n",
    "f.right = h\n",
    "i.left = j\n",
    "i.right = m\n",
    "j.left = k\n",
    "j.right = l\n",
    "m.left = n\n",
    "m.right = o"
   ]
  },
  {
   "cell_type": "code",
   "execution_count": 77,
   "metadata": {},
   "outputs": [],
   "source": [
    "def construct_children_next_neighbor(tree: BinaryTreeNode) -> None:\n",
    "    def populate_next_neighbor(start_node):\n",
    "        while start_node and start_node.left:\n",
    "            start_node.left.next = start_node.right\n",
    "            start_node.right.next = start_node.next and start_node.next.left\n",
    "            start_node = start_node.next\n",
    "    \n",
    "    while tree and tree.left:\n",
    "        populate_next_neighbor(tree)\n",
    "        tree = tree.left"
   ]
  },
  {
   "cell_type": "code",
   "execution_count": 78,
   "metadata": {},
   "outputs": [],
   "source": [
    "construct_children_next_neighbor(a)"
   ]
  },
  {
   "cell_type": "code",
   "execution_count": 83,
   "metadata": {},
   "outputs": [
    {
     "name": "stdout",
     "output_type": "stream",
     "text": [
      "A next neighbor is:  None\n",
      "B next neighbor is:  I\n",
      "C next neighbor is:  F\n",
      "D next neighbor is:  E\n",
      "E next neighbor is:  G\n",
      "F next neighbor is:  J\n",
      "G next neighbor is:  H\n",
      "H next neighbor is:  K\n",
      "I next neighbor is:  None\n",
      "J next neighbor is:  M\n",
      "K next neighbor is:  L\n",
      "L next neighbor is:  N\n",
      "M next neighbor is:  None\n",
      "N next neighbor is:  O\n",
      "O next neighbor is:  None\n"
     ]
    }
   ],
   "source": [
    "for node in [a, b, c, d, e, f, g, h, i, j, k, l, m, n, o]:\n",
    "    print(node.data, \"next neighbor is: \", node.next if node.next == None else node.next.data)\n",
    "\n"
   ]
  }
 ],
 "metadata": {
  "kernelspec": {
   "display_name": "Python 3",
   "language": "python",
   "name": "python3"
  },
  "language_info": {
   "codemirror_mode": {
    "name": "ipython",
    "version": 3
   },
   "file_extension": ".py",
   "mimetype": "text/x-python",
   "name": "python",
   "nbconvert_exporter": "python",
   "pygments_lexer": "ipython3",
   "version": "3.7.4"
  }
 },
 "nbformat": 4,
 "nbformat_minor": 2
}
