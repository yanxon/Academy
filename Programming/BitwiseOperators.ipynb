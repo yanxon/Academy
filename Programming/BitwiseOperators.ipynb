{
 "cells": [
  {
   "cell_type": "markdown",
   "metadata": {},
   "source": [
    "This is an exercise to familiarize yourself to bitwise operators such as:\n",
    "- &   is bitwise AND operator\n",
    "- |   is bitwise OR operator\n",
    "- ^   is bitwise XOR operator\n",
    "- ~   is COMPLEMENT operator\n",
    "- \\>> is SHIFTS bit to the LEFT\n",
    "- << is SHIFTS bit to the RIGHT"
   ]
  },
  {
   "cell_type": "code",
   "execution_count": 1,
   "metadata": {},
   "outputs": [
    {
     "name": "stdout",
     "output_type": "stream",
     "text": [
      "6\n",
      "0\n"
     ]
    }
   ],
   "source": [
    "\"\"\"\n",
    "Examples for & operator:\n",
    "1. 14 & 6\n",
    "    14  -> 1 1 1 0\n",
    "    6   -> 0 1 1 0 &\n",
    "    ----------------\n",
    "           0 1 1 0\n",
    "    ----------------\n",
    "   The binary of 6 is (0 1 1 0).\n",
    "           \n",
    "2. 8 & 3\n",
    "    8  -> 1 0 0 0\n",
    "    3  -> 0 0 1 1 &\n",
    "    ---------------\n",
    "          0 0 0 0\n",
    "    ---------------\n",
    "   The binary of 0 is (0 0 0 0). \n",
    "\"\"\"\n",
    "print(14 & 6)\n",
    "print( 8 & 3)"
   ]
  },
  {
   "cell_type": "code",
   "execution_count": 2,
   "metadata": {},
   "outputs": [
    {
     "name": "stdout",
     "output_type": "stream",
     "text": [
      "14\n",
      "11\n"
     ]
    }
   ],
   "source": [
    "\"\"\"\n",
    "Examples for | operator:\n",
    "1. 14 | 6\n",
    "    14  -> 1 1 1 0\n",
    "    6   -> 0 1 1 0 |\n",
    "    ----------------\n",
    "           1 1 1 0\n",
    "    ----------------\n",
    "   The binary of 14 is (1 1 1 0).\n",
    "           \n",
    "2. 8 | 3\n",
    "    8  -> 1 0 0 0\n",
    "    3  -> 0 0 1 1 |\n",
    "    ---------------\n",
    "          1 0 1 1\n",
    "    ---------------\n",
    "   The binary of 11 is (1 0 1 1). \n",
    "\"\"\"\n",
    "print(14 | 6)\n",
    "print( 8 | 3)"
   ]
  },
  {
   "cell_type": "code",
   "execution_count": 3,
   "metadata": {},
   "outputs": [
    {
     "name": "stdout",
     "output_type": "stream",
     "text": [
      "8\n",
      "11\n"
     ]
    }
   ],
   "source": [
    "\"\"\"\n",
    "Examples for | operator:\n",
    "1. 14 ^ 6\n",
    "    14  -> 1 1 1 0\n",
    "    6   -> 0 1 1 0 ^\n",
    "    ----------------\n",
    "           1 0 0 0\n",
    "    ----------------\n",
    "   The binary of 8 is (1 0 0 0).\n",
    "           \n",
    "2. 8 ^ 3\n",
    "    8  -> 1 0 0 0\n",
    "    3  -> 0 0 1 1 ^\n",
    "    ---------------\n",
    "          1 0 1 1\n",
    "    ---------------\n",
    "   The binary of 11 is (1 0 1 1). \n",
    "\"\"\"\n",
    "print(14 ^ 6)\n",
    "print( 8 ^ 3)"
   ]
  },
  {
   "cell_type": "code",
   "execution_count": 4,
   "metadata": {},
   "outputs": [
    {
     "name": "stdout",
     "output_type": "stream",
     "text": [
      "7\n",
      "3\n"
     ]
    }
   ],
   "source": [
    "\"\"\"\n",
    "Examples for >> operator:\n",
    "1. 14 >> 1\n",
    "    14 -> (1 1 1 0): SHIFTS 1 bit to the LEFT becomes (0 1 1 1) which is 7.\n",
    "\n",
    "2. 14 >> 2\n",
    "    14 -> (1 1 1 0): SHIFTS 2 bit to the LEFT becomes (0 0 1 1) which is 3.\n",
    "\"\"\"\n",
    "print(14 >> 1)\n",
    "print(14 >> 2)"
   ]
  },
  {
   "cell_type": "code",
   "execution_count": 5,
   "metadata": {},
   "outputs": [
    {
     "name": "stdout",
     "output_type": "stream",
     "text": [
      "28\n",
      "56\n"
     ]
    }
   ],
   "source": [
    "\"\"\"\n",
    "Examples for << operator:\n",
    "1. 14 >> 1\n",
    "    14 -> (1 1 1 0) SHIFTS 1 bit to the RIGHT becomes (1 1 1 0 0) which is 28.\n",
    "\n",
    "2. 14 >> 2\n",
    "    14 -> (1 1 1 0) SHIFTS 2 bit to the RIGHT becomes (1 1 1 0 0 0) which is 56.\n",
    "\"\"\"\n",
    "print(14 << 1)\n",
    "print(14 << 2)"
   ]
  },
  {
   "cell_type": "code",
   "execution_count": 6,
   "metadata": {},
   "outputs": [
    {
     "name": "stdout",
     "output_type": "stream",
     "text": [
      "There are  3 ones in the number    7.\n",
      "There are  1 ones in the number    8.\n",
      "There are 10 ones in the number 1023.\n"
     ]
    }
   ],
   "source": [
    "# Write a program that count the number of bits that are set to 1 in a positive integer.\n",
    "# For example, since the binary representations of 7 and 8 are (0111) and (1000), \n",
    "# the program has to return 3 and 1, respectively.\n",
    "\n",
    "def count_bits(x):\n",
    "    num_bits = 0\n",
    "    while x:SS\n",
    "        num_bits += x & 1\n",
    "        x >>= 1\n",
    "    return num_bits\n",
    "print(\"There are {:2d} ones in the number {:4d}.\".format(count_bits(7), 7)) \n",
    "print(\"There are {:2d} ones in the number {:4d}.\".format(count_bits(8), 8)) \n",
    "print(\"There are {:2d} ones in the number {:4d}.\".format(count_bits(2**10-1), 2**10-1))"
   ]
  },
  {
   "cell_type": "code",
   "execution_count": 7,
   "metadata": {},
   "outputs": [
    {
     "name": "stdout",
     "output_type": "stream",
     "text": [
      "There are  3 ones in the number    7.\n",
      "There are  1 ones in the number    8.\n",
      "There are 10 ones in the number 1023.\n"
     ]
    }
   ],
   "source": [
    "# Given that another solution exist with the same time complexity, \n",
    "# i.e. O(n), where n is the number of digit in binary.\n",
    "\n",
    "def count_bits2(x):\n",
    "    x_bin = bin(x)[2:]\n",
    "    count = 0\n",
    "    for xb in x_bin:\n",
    "        if xb == '1':\n",
    "            count += 1\n",
    "    return count\n",
    "print(\"There are {:2d} ones in the number {:4d}.\".format(count_bits2(7), 7)) \n",
    "print(\"There are {:2d} ones in the number {:4d}.\".format(count_bits2(8), 8)) \n",
    "print(\"There are {:2d} ones in the number {:4d}.\".format(count_bits2(2**10-1), 2**10-1))"
   ]
  },
  {
   "cell_type": "code",
   "execution_count": 8,
   "metadata": {},
   "outputs": [],
   "source": [
    "# Here is my implementation for replacing bin function in the above example.\n",
    "# decimal_to_binary(x) function to replace bin(x)[2:] function.\n",
    "\n",
    "def decimal_to_binary(n: int) -> str:\n",
    "    \"\"\"\n",
    "    O(n) time complexity and O(n) space, \n",
    "    where n is the number of binary digit.\n",
    "    \"\"\"\n",
    "    arr = []\n",
    "    if n == 0:\n",
    "        arr.append(0)\n",
    "        \n",
    "    while (n != 0):\n",
    "        arr.append(n % 2)\n",
    "        n //= 2\n",
    "\n",
    "    result = ''\n",
    "    for i in range(len(arr)-1, -1, -1):\n",
    "        result += str(arr[i])\n",
    "        \n",
    "    return result"
   ]
  }
 ],
 "metadata": {
  "kernelspec": {
   "display_name": "Python 3",
   "language": "python",
   "name": "python3"
  },
  "language_info": {
   "codemirror_mode": {
    "name": "ipython",
    "version": 3
   },
   "file_extension": ".py",
   "mimetype": "text/x-python",
   "name": "python",
   "nbconvert_exporter": "python",
   "pygments_lexer": "ipython3",
   "version": "3.7.3"
  }
 },
 "nbformat": 4,
 "nbformat_minor": 2
}
