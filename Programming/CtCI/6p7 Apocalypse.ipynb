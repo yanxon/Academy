{
 "cells": [
  {
   "cell_type": "markdown",
   "metadata": {},
   "source": [
    "6.7. The Apocalypse: In the new post-apocalyptic world, the world queen is desperately concerned\n",
    "about the birth rate. Therefore, she decrees that all families should ensure that they have one girl or\n",
    "else they face massive fines. If all families abide by this policy-that is, they have continue to have\n",
    "children until they have one girl, at which point they immediately stop-what will the gender ratio\n",
    "of the new generation be? (Assume that the odds of someone having a boy or a girl on any given\n",
    "pregnancy is equal.) Solve this out logically and then write a computer simulation of it."
   ]
  },
  {
   "cell_type": "code",
   "execution_count": 22,
   "metadata": {},
   "outputs": [
    {
     "name": "stderr",
     "output_type": "stream",
     "text": [
      "/home/yanxon/anaconda3/lib/python3.7/site-packages/ipykernel_launcher.py:8: DeprecationWarning: This function is deprecated. Please call randint(0, 1 + 1) instead\n",
      "  \n",
      "/home/yanxon/anaconda3/lib/python3.7/site-packages/ipykernel_launcher.py:12: DeprecationWarning: This function is deprecated. Please call randint(0, 1 + 1) instead\n",
      "  if sys.path[0] == '':\n"
     ]
    },
    {
     "name": "stdout",
     "output_type": "stream",
     "text": [
      "0.5005122743127591\n"
     ]
    }
   ],
   "source": [
    "import numpy as np\n",
    "\n",
    "trial = 10000000\n",
    "\n",
    "boys = 0\n",
    "girls = 0\n",
    "for i in range(trial):\n",
    "    boy_or_girl = np.random.random_integers(0, 1)\n",
    "    if boy_or_girl == 1:\n",
    "        boys += 1\n",
    "        while (boy_or_girl == 1):\n",
    "            boy_or_girl = np.random.random_integers(0, 1)\n",
    "            if boy_or_girl == 1:\n",
    "                boys += 1\n",
    "            else:\n",
    "                girls += 1\n",
    "    else:\n",
    "        girls += 1\n",
    "        \n",
    "print(girls/(girls+boys))"
   ]
  }
 ],
 "metadata": {
  "kernelspec": {
   "display_name": "Python 3",
   "language": "python",
   "name": "python3"
  },
  "language_info": {
   "codemirror_mode": {
    "name": "ipython",
    "version": 3
   },
   "file_extension": ".py",
   "mimetype": "text/x-python",
   "name": "python",
   "nbconvert_exporter": "python",
   "pygments_lexer": "ipython3",
   "version": "3.7.1"
  }
 },
 "nbformat": 4,
 "nbformat_minor": 2
}
