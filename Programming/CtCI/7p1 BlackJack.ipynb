{
 "cells": [
  {
   "cell_type": "markdown",
   "metadata": {},
   "source": [
    "7.1. Deck of Cards: Design the data structures for a generic deck of cards. Explain how you would subclass the data structures to implement blackjack."
   ]
  },
  {
   "cell_type": "markdown",
   "metadata": {},
   "source": [
    "Assumption:\n",
    "- There is no card comparison if dealer and player have the same number, i.e. king is more important than jack.\n",
    "- # of card dealed doesn't matter, i.e. player has 10 cards to achieve 21, and dealer has king and ace."
   ]
  },
  {
   "cell_type": "code",
   "execution_count": 251,
   "metadata": {},
   "outputs": [],
   "source": [
    "from random import *\n",
    "\n",
    "class generic_cards:\n",
    "    def __init__(self,):\n",
    "        # Initialized the 52 deck of cards!\n",
    "        pass\n",
    "\n",
    "class BlackJack:\n",
    "    def __init__(self, card1, card2):\n",
    "        self.no_of_aces = 0\n",
    "        self.update_ace(card1)\n",
    "        self.total = self.numerized_card(card1)\n",
    "        \n",
    "        self.update_ace(card2)\n",
    "        self.total += self.numerized_card(card2)\n",
    "        \n",
    "        print(f\"You have dealed: {card1} and {card2}\")\n",
    "        \n",
    "        if self.total == 21:\n",
    "            return print(\"BlackJack!\")\n",
    "        else:\n",
    "            return print(self.total)\n",
    "        \n",
    "        \n",
    "    def update_ace(self, card):\n",
    "        if card == 1:\n",
    "            self.no_of_aces += 1\n",
    "        else:\n",
    "            pass\n",
    "        \n",
    "    def numerized_card(self, card):\n",
    "        if card == 1:\n",
    "            if self.no_of_aces > 1 and self.total > 21:\n",
    "                value = 1\n",
    "            elif self.no_of_aces > 1:\n",
    "                value = 1\n",
    "            else:\n",
    "                value = 11\n",
    "        elif card in [11, 12, 13]:\n",
    "            value = 10\n",
    "        elif card > 10 or card < 2:\n",
    "            raise NotImplementedError(f\"{card} is not implemented.\")\n",
    "        else:\n",
    "            value = card\n",
    "        \n",
    "        return value\n",
    "    \n",
    "    def hit(self, card):\n",
    "        print(f\"You have dealed: {card}\")\n",
    "        if self.total < 21:\n",
    "            self.update_ace(card)\n",
    "            self.total += self.numerized_card(card)\n",
    "            \n",
    "            if self.total > 21:\n",
    "                return print(f\"{self.total}: You lost!\")\n",
    "            elif self.total == 21:\n",
    "                return print(\"BlackJack!\")\n",
    "            else:\n",
    "                return print(f\"Your total: {self.total}\")\n",
    "        \n",
    "        elif self.total > 21:\n",
    "            return print(f\"You have lost! Can't hit\")\n",
    "        \n",
    "        else:\n",
    "            return print(\"You have a BlackJack! Can't hit!\")\n",
    "        \n",
    "    def call(self):\n",
    "        print(f\"Your total is: {self.total}. Waiting for the dealer!\")\n",
    "        \n",
    "def random_number():\n",
    "    return randint(1, 13)"
   ]
  },
  {
   "cell_type": "code",
   "execution_count": 280,
   "metadata": {},
   "outputs": [
    {
     "name": "stdout",
     "output_type": "stream",
     "text": [
      "You have dealed: 4 and 5\n",
      "9\n"
     ]
    }
   ],
   "source": [
    "player = BlackJack(random_number(), random_number())"
   ]
  },
  {
   "cell_type": "code",
   "execution_count": 281,
   "metadata": {},
   "outputs": [
    {
     "name": "stdout",
     "output_type": "stream",
     "text": [
      "You have dealed: 9\n",
      "Your total: 18\n"
     ]
    }
   ],
   "source": [
    "player.hit(random_number())"
   ]
  }
 ],
 "metadata": {
  "kernelspec": {
   "display_name": "Python 3",
   "language": "python",
   "name": "python3"
  },
  "language_info": {
   "codemirror_mode": {
    "name": "ipython",
    "version": 3
   },
   "file_extension": ".py",
   "mimetype": "text/x-python",
   "name": "python",
   "nbconvert_exporter": "python",
   "pygments_lexer": "ipython3",
   "version": "3.7.1"
  }
 },
 "nbformat": 4,
 "nbformat_minor": 2
}
