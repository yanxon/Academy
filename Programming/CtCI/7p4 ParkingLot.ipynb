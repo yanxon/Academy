{
 "cells": [
  {
   "cell_type": "markdown",
   "metadata": {},
   "source": [
    "7.4. Parking Lot: Design a parking lot using object-oriented principles."
   ]
  },
  {
   "cell_type": "markdown",
   "metadata": {},
   "source": [
    "Step 1: Handle Ambiguity, i.e. asking your interviewer to provide you clarification on the problem.\n",
    "\n",
    "Assuming the interviewer provides the details as follow:\n",
    "- It's an open parking space, with the size of 1km x 1km. This means there are 400 rows and 83 columns.\n",
    "- It has no angle dependence, i.e. 90 degrees from the wall\n",
    "- It can be parked by car, motorcycle, and buses.\n",
    "- A motorcycle can be parked anywhere."
   ]
  },
  {
   "cell_type": "markdown",
   "metadata": {},
   "source": [
    "Step 2: Define the Core Objects\n",
    "\n",
    "Type of vehicles, size of vehicles, spots."
   ]
  },
  {
   "cell_type": "markdown",
   "metadata": {},
   "source": [
    "Step 3: Analyze Relationships\n",
    "\n",
    "- Every type of vehicle is associated with its size."
   ]
  },
  {
   "cell_type": "markdown",
   "metadata": {},
   "source": [
    "Step 4: Investigate Action\n",
    "\n",
    "For example, we would like to determine if the parking lot can fit x number of cars, y number of busses, and z number of motorcycles. "
   ]
  },
  {
   "cell_type": "code",
   "execution_count": 40,
   "metadata": {},
   "outputs": [],
   "source": [
    "# Type of vehicles\n",
    "class vehicles:\n",
    "    def __init__(self, v_type):\n",
    "        if v_type == 'compact':\n",
    "            self.v_size = (6, 2.5)\n",
    "        if v_type == 'bus':\n",
    "            self.v_size = (15, 5)\n",
    "        if v_type == 'motorcycle':\n",
    "            self.v_size = (3, .5)\n",
    "        \n",
    "    def get_size(self,):\n",
    "        return self.v_size\n",
    "    \n",
    "# Initiate the parking lot.\n",
    "class parkinglot():\n",
    "    def __init__(self, length, width):\n",
    "        \"\"\"The length and width of the parking lot are measured in km\"\"\"\n",
    "        length = length * 1000\n",
    "        width = width * 1000\n",
    "        \n",
    "        spot_size = vehicles('compact').get_size()\n",
    "        \n",
    "        rows = int(width / spot_size[1])\n",
    "        columns = int(length / spot_size[0] / 2)        \n",
    "        \n",
    "        self.rows = rows\n",
    "        self.columns = columns\n",
    "        self.spots = int(self.rows * self.columns)\n",
    "        \n",
    "    def get_spot(self,):\n",
    "        pass\n",
    "    \n",
    "    def fitness(self, x, y, z):\n",
    "        \"\"\"x is the number of cars, y is the number of buses,\n",
    "        and z is the number of motorcycles.\"\"\"\n",
    "        maximum = self.spots\n",
    "        \n",
    "        spots = x\n",
    "        spots += y * 5\n",
    "        spots += z\n",
    "        \n",
    "        if spots > maximum:\n",
    "            print(\"The parking lot can't fit these many vehicles.\")\n",
    "        if spots <= maximum:\n",
    "            print(\"The vehicles are welcome!\")"
   ]
  },
  {
   "cell_type": "code",
   "execution_count": 41,
   "metadata": {},
   "outputs": [
    {
     "name": "stdout",
     "output_type": "stream",
     "text": [
      "The parking lot can't fit these many vehicles.\n"
     ]
    }
   ],
   "source": [
    "p = parkinglot(1, 1)\n",
    "p.fitness(399, 8255, 100)"
   ]
  },
  {
   "cell_type": "code",
   "execution_count": null,
   "metadata": {},
   "outputs": [],
   "source": []
  }
 ],
 "metadata": {
  "kernelspec": {
   "display_name": "Python 3",
   "language": "python",
   "name": "python3"
  },
  "language_info": {
   "codemirror_mode": {
    "name": "ipython",
    "version": 3
   },
   "file_extension": ".py",
   "mimetype": "text/x-python",
   "name": "python",
   "nbconvert_exporter": "python",
   "pygments_lexer": "ipython3",
   "version": "3.7.1"
  }
 },
 "nbformat": 4,
 "nbformat_minor": 2
}
