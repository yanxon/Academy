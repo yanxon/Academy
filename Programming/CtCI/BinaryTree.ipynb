{
 "cells": [
  {
   "cell_type": "markdown",
   "metadata": {},
   "source": [
    "4.5. Validate BST: Implement a function to check if a binary tree is a binary search tree. Given the value can be repeated."
   ]
  },
  {
   "cell_type": "code",
   "execution_count": 1,
   "metadata": {},
   "outputs": [],
   "source": [
    "# Create class for binary tree.\n",
    "\n",
    "class BinaryTree:\n",
    "    def __init__(self, root_value=None):\n",
    "        self.root = Node(root_value)\n",
    "        \n",
    "class Node:\n",
    "    def __init__(self, value):\n",
    "        self.value = value\n",
    "        self.left = None\n",
    "        self.right = None"
   ]
  },
  {
   "cell_type": "code",
   "execution_count": 2,
   "metadata": {},
   "outputs": [
    {
     "data": {
      "text/plain": [
       "True"
      ]
     },
     "execution_count": 2,
     "metadata": {},
     "output_type": "execute_result"
    }
   ],
   "source": [
    "# Create a hypothetical binary tree (i.e. Binary search tree).\n",
    "\n",
    "bt = BinaryTree(36)\n",
    "bt.root.left = Node(32)\n",
    "bt.root.right = Node(61)\n",
    "bt.root.left.left = Node(17)\n",
    "bt.root.left.right = Node(33)\n",
    "bt.root.right.left = Node(57)\n",
    "bt.root.right.right = Node(73)\n",
    "bt.root.left.left.left = Node(10)\n",
    "bt.root.right.left.left = Node(55)\n",
    "bt.root.right.left.right = Node(58)\n",
    "bt.root.right.right.left = Node(68)\n",
    "bt.root.right.right.right = Node(74)\n",
    "bt.root.right.right.left.right = Node(70)\n",
    "\n",
    "\n",
    "bt.root.right.left.right.value == 58"
   ]
  },
  {
   "cell_type": "markdown",
   "metadata": {},
   "source": [
    "This figure is generated [here](http://btv.melezinek.cz/binary-search-tree.html).\n",
    "![Screenshot](images/BST.jpg)"
   ]
  },
  {
   "cell_type": "code",
   "execution_count": 3,
   "metadata": {},
   "outputs": [],
   "source": [
    "# Validate BST function.\n",
    "\n",
    "def validate(root, min_value=None, max_value=None):\n",
    "    if root is None or root.value is None:\n",
    "        return True\n",
    "    \n",
    "    else:\n",
    "        if min_value is not None:\n",
    "            if root.value < min_value:\n",
    "                return False\n",
    "        \n",
    "        if max_value is not None:\n",
    "            if root.value > max_value:\n",
    "                return False\n",
    "        \n",
    "        #print(root.value)\n",
    "        boolL = validate(root.left, min_value=min_value, max_value=root.value)\n",
    "        if boolL == False:\n",
    "            return boolL\n",
    "        \n",
    "        boolR = validate(root.right, min_value=root.value, max_value=max_value)\n",
    "        if boolR == False:\n",
    "            return boolR\n",
    "        \n",
    "        if boolL == True and boolR == True:\n",
    "            return True"
   ]
  },
  {
   "cell_type": "code",
   "execution_count": 4,
   "metadata": {},
   "outputs": [
    {
     "data": {
      "text/plain": [
       "True"
      ]
     },
     "execution_count": 4,
     "metadata": {},
     "output_type": "execute_result"
    }
   ],
   "source": [
    "# Validate if the bt is a binary search tree.\n",
    "\n",
    "validate(bt.root)"
   ]
  },
  {
   "cell_type": "code",
   "execution_count": 5,
   "metadata": {},
   "outputs": [],
   "source": [
    "# Create a non-binary search tree.\n",
    "\n",
    "bt1 = BinaryTree(20)\n",
    "bt1.root.left = Node(16)\n",
    "bt1.root.right = Node(25)\n",
    "bt1.root.left.left = Node(10)\n",
    "bt1.root.left.right = Node(20) # This has to be 16 < Node < 20\n",
    "bt1.root.right.left = Node(22)\n",
    "bt1.root.right.right = Node(28)\n",
    "bt1.root.left.left.left = Node(5)\n",
    "bt1.root.left.left.right = Node(11)\n",
    "bt1.root.left.right.left = Node(17) # This has to be 20\n",
    "bt1.root.left.right.right = Node(19) # This has to be 20\n",
    "bt1.root.right.left.left = Node(22)\n",
    "bt1.root.right.left.right = Node(23)\n",
    "bt1.root.right.right.left = Node(26)\n",
    "bt1.root.right.right.right = Node(30)"
   ]
  },
  {
   "cell_type": "code",
   "execution_count": 6,
   "metadata": {},
   "outputs": [
    {
     "data": {
      "text/plain": [
       "False"
      ]
     },
     "execution_count": 6,
     "metadata": {},
     "output_type": "execute_result"
    }
   ],
   "source": [
    "# Validate if the bt is not a binary search tree.\n",
    "\n",
    "validate(bt1.root)"
   ]
  }
 ],
 "metadata": {
  "kernelspec": {
   "display_name": "Python 3",
   "language": "python",
   "name": "python3"
  },
  "language_info": {
   "codemirror_mode": {
    "name": "ipython",
    "version": 3
   },
   "file_extension": ".py",
   "mimetype": "text/x-python",
   "name": "python",
   "nbconvert_exporter": "python",
   "pygments_lexer": "ipython3",
   "version": "3.7.1"
  }
 },
 "nbformat": 4,
 "nbformat_minor": 2
}
