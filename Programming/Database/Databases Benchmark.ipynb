{
 "cells": [
  {
   "cell_type": "markdown",
   "metadata": {},
   "source": [
    "# Databases Benchmark\n",
    "\n",
    "This note is a toy model to measure the performance cost of databases:\n",
    "Sqlite3, Shelve, Numpy, and PyTables.\n",
    "\n",
    "3 different sizes of arrays will be created with numpy random sample: x (2D), dx (4D), rdx (3D)."
   ]
  },
  {
   "cell_type": "code",
   "execution_count": 1,
   "metadata": {},
   "outputs": [],
   "source": [
    "import numpy as np\n",
    "import io\n",
    "import time\n",
    "import tables\n",
    "import shelve\n",
    "import sqlite3"
   ]
  },
  {
   "cell_type": "code",
   "execution_count": 2,
   "metadata": {},
   "outputs": [],
   "source": [
    "# Common variables\n",
    "\n",
    "s = 219 \n",
    "I, d = 64, 30 # The size of the arrays\n",
    "\n",
    "n = np.array([I])\n",
    "x, dx, rdx = [], [], []\n",
    "for i in range(219):\n",
    "    x.append(np.random.random_sample([I, d]))\n",
    "    dx.append(np.random.random_sample([I, I, d, 3]))\n",
    "    rdx.append(np.random.random_sample([I, d, 6]))"
   ]
  },
  {
   "cell_type": "code",
   "execution_count": 3,
   "metadata": {
    "scrolled": true
   },
   "outputs": [
    {
     "name": "stdout",
     "output_type": "stream",
     "text": [
      "Original i-th array\n",
      "[0.33948743 0.48868521 0.51485682 0.08198881 0.30296833 0.65542285\n",
      " 0.16506783 0.58281834 0.11599848 0.94128936]\n",
      "[0.85511308 0.20217528 0.62297042 0.78892205 0.52779912 0.61027226\n",
      " 0.71761675 0.19223772 0.92188666 0.88631914]\n",
      "[0.06427396 0.12132217 0.52165158 0.95120372 0.17288603 0.02940254\n",
      " 0.91761227 0.75852959 0.04859202 0.79117988]\n",
      "Extracted i-th array\n",
      "[0.33948743 0.48868521 0.51485682 0.08198881 0.30296833 0.65542285\n",
      " 0.16506783 0.58281834 0.11599848 0.94128936]\n",
      "[0.85511308 0.20217528 0.62297042 0.78892205 0.52779912 0.61027226\n",
      " 0.71761675 0.19223772 0.92188666 0.88631914]\n",
      "[0.06427396 0.12132217 0.52165158 0.95120372 0.17288603 0.02940254\n",
      " 0.91761227 0.75852959 0.04859202 0.79117988]\n",
      "The time it takes to save shelve database: 1.0530524253845215 s\n",
      "The time it takes to load shelve database: 0.7090840339660645 s\n"
     ]
    }
   ],
   "source": [
    "### Shelve ###\n",
    "\n",
    "# Insert\n",
    "db = shelve.open(\"database\")\n",
    "t0 = time.time()\n",
    "for i in range(s):\n",
    "    db[str(i)] = [x[i], dx[i], rdx[i]]\n",
    "    \n",
    "    if i == 5:\n",
    "        print(\"Original i-th array\")\n",
    "        print(x[i][5, :10])\n",
    "        print(dx[i][5, 5, :10, 1])\n",
    "        print(rdx[i][5, :10, 4])\n",
    "t1 = time.time()\n",
    "db.close()\n",
    "\n",
    "# Reading\n",
    "db = shelve.open(\"database\")\n",
    "_t0 = time.time()\n",
    "for i in range(s):\n",
    "    _d = db[str(i)]\n",
    "    _x = _d[0]\n",
    "    _dx = _d[1]\n",
    "    _rdx = _d[2]\n",
    "_t1 = time.time()\n",
    "\n",
    "print(\"Extracted i-th array\")\n",
    "print(db['5'][0][5, :10])\n",
    "print(db['5'][1][5, 5, :10, 1])\n",
    "print(db['5'][2][5, :10, 4])\n",
    "print(\"The time it takes to save shelve database:\", t1-t0, \"s\")\n",
    "print(\"The time it takes to load shelve database:\", _t1-_t0, \"s\")\n",
    "db.close()"
   ]
  },
  {
   "cell_type": "code",
   "execution_count": 4,
   "metadata": {},
   "outputs": [
    {
     "name": "stdout",
     "output_type": "stream",
     "text": [
      "[0.33948743 0.48868521 0.51485682 0.08198881 0.30296833 0.65542285\n",
      " 0.16506783 0.58281834 0.11599848 0.94128936]\n",
      "[0.85511308 0.20217528 0.62297042 0.78892205 0.52779912 0.61027226\n",
      " 0.71761675 0.19223772 0.92188666 0.88631914]\n",
      "[0.06427396 0.12132217 0.52165158 0.95120372 0.17288603 0.02940254\n",
      " 0.91761227 0.75852959 0.04859202 0.79117988]\n",
      "The time it takes to save sqlite3 database: 1.9592840671539307 s\n",
      "The time it takes to load sqlite3 database: 0.9866747856140137 s\n"
     ]
    }
   ],
   "source": [
    "### Sqlite3 ###\n",
    "\n",
    "def adapt_array(arr):\n",
    "    return arr.tobytes()\n",
    "\n",
    "def convert_array(text):\n",
    "    return np.frombuffer(text)\n",
    "\n",
    "# Converts np.array to TEXT when inserting\n",
    "sqlite3.register_adapter(np.ndarray, adapt_array)\n",
    "\n",
    "# Converts TEXT to np.array when selecting\n",
    "sqlite3.register_converter(\"array\", convert_array)\n",
    "\n",
    "conn = sqlite3.connect(\"sqldatabase.db\", detect_types=sqlite3.PARSE_DECLTYPES)\n",
    "c = conn.cursor()\n",
    "\n",
    "try:\n",
    "    c.execute(\"create table test (num integer, x array, dx array, rdx array)\")\n",
    "except:\n",
    "    pass\n",
    "\n",
    "# Insert\n",
    "t0 = time.time()\n",
    "for i in range(s):\n",
    "    c.execute(\"insert into test (num, x, dx, rdx) values (?, ?, ?, ?)\", (i, x[i], dx[i], rdx[i]))\n",
    "t1 = time.time()\n",
    "\n",
    "# Reading\n",
    "_t0 = time.time()\n",
    "for i in range(s):\n",
    "    c.execute(\"select * from test where num=?\", (i,))\n",
    "    data = c.fetchone()\n",
    "    _x = np.reshape(data[1], x[i].shape)\n",
    "    _dx = np.reshape(data[2], dx[i].shape)\n",
    "    _rdx = np.reshape(data[3], rdx[i].shape)\n",
    "_t1 = time.time()\n",
    "c.execute(\"select * from test where num=?\", (5,))\n",
    "data = c.fetchone()\n",
    "print(np.reshape(data[1], x[5].shape)[5, :10])\n",
    "print(np.reshape(data[2], dx[5].shape)[5, 5, :10, 1])\n",
    "print(np.reshape(data[3], rdx[5].shape)[5, :10, 4])\n",
    "print(\"The time it takes to save sqlite3 database:\", t1-t0, \"s\")\n",
    "print(\"The time it takes to load sqlite3 database:\", _t1-_t0, \"s\")"
   ]
  },
  {
   "cell_type": "code",
   "execution_count": 5,
   "metadata": {},
   "outputs": [
    {
     "name": "stdout",
     "output_type": "stream",
     "text": [
      "[0.33948743 0.48868521 0.51485682 0.08198881 0.30296833 0.65542285\n",
      " 0.16506783 0.58281834 0.11599848 0.94128936]\n",
      "[0.85511308 0.20217528 0.62297042 0.78892205 0.52779912 0.61027226\n",
      " 0.71761675 0.19223772 0.92188666 0.88631914]\n",
      "[0.06427396 0.12132217 0.52165158 0.95120372 0.17288603 0.02940254\n",
      " 0.91761227 0.75852959 0.04859202 0.79117988]\n",
      "The time it takes to load numpy database: 3.6811532974243164 s\n"
     ]
    }
   ],
   "source": [
    "### Numpy ###\n",
    "\n",
    "_data = []\n",
    "for i in range(s):\n",
    "    _data.append({'x': x[i], 'dx': dx[i], 'rdx': rdx[i]})\n",
    "\n",
    "np.save(\"database.npy\", _data)\n",
    "\n",
    "t0 = time.time()\n",
    "data = np.load(\"database.npy\", allow_pickle=True)\n",
    "for i in range(s):\n",
    "    _x = data[i]['x']\n",
    "    _dx = data[i]['dx']\n",
    "    _rdx = data[i]['rdx']\n",
    "t1 = time.time()\n",
    "\n",
    "print(data[5]['x'][5, :10])\n",
    "print(data[5]['dx'][5, 5, :10, 1])\n",
    "print(data[5]['rdx'][5, :10, 4])\n",
    "print(\"The time it takes to load numpy database:\", t1-t0, \"s\")"
   ]
  },
  {
   "cell_type": "code",
   "execution_count": 6,
   "metadata": {},
   "outputs": [
    {
     "name": "stdout",
     "output_type": "stream",
     "text": [
      "[0.85511308 0.20217528 0.62297042 0.78892205 0.52779912 0.61027226\n",
      " 0.71761675 0.19223772 0.92188666 0.88631914]\n",
      "The time it takes to load numpy database: 0.0858304500579834 s\n"
     ]
    }
   ],
   "source": [
    "### Numpy Alt ###\n",
    "\n",
    "_x, _dx, _rdx = [], [], []\n",
    "for i in range(s):\n",
    "    _x.append(x[i])\n",
    "    _dx.append(dx[i])\n",
    "    _rdx.append(rdx[i])\n",
    "\n",
    "#np.save(\"x.npy\", _x)\n",
    "np.save(\"dx.npy\", _dx)\n",
    "#np.save(\"rdx.npy\", _rdx)\n",
    "\n",
    "t0 = time.time()\n",
    "for i in range(s):    \n",
    "    #_x = np.load(\"x.npy\", allow_pickle=True, mmap_mode='r')\n",
    "    _dx = np.load(\"dx.npy\", allow_pickle=True, mmap_mode='r')\n",
    "    _DX = _dx[i]\n",
    "    #_rdx = np.load(\"rdx.npy\", allow_pickle=True, mmap_mode='r')\n",
    "t1 = time.time()\n",
    "\n",
    "print(_dx[5][5, 5, :10, 1])\n",
    "print(\"The time it takes to load numpy database:\", t1-t0, \"s\")"
   ]
  },
  {
   "cell_type": "code",
   "execution_count": 7,
   "metadata": {},
   "outputs": [
    {
     "name": "stdout",
     "output_type": "stream",
     "text": [
      "The time it takes to save hdf5 database: 0.27224040031433105 s\n",
      "[0.33948743 0.48868521 0.51485682 0.08198881 0.30296833 0.65542285\n",
      " 0.16506783 0.58281834 0.11599848 0.94128936]\n",
      "The time it takes to load hdf5 database: 0.3594202995300293 s\n"
     ]
    }
   ],
   "source": [
    "### PyTables ###\n",
    "\n",
    "hdf5_path = \"test.hdf5\"\n",
    "\n",
    "# Write data\n",
    "hdf5_file = tables.open_file(hdf5_path, mode='w')\n",
    "#filters = tables.Filters(complevel=5, complib='blosc')\n",
    "\n",
    "t0 = time.time()\n",
    "earray1 = hdf5_file.create_earray(\n",
    "    hdf5_file.root,\n",
    "    'x', \n",
    "    tables.Atom.from_dtype(x[0].dtype), \n",
    "    shape=(0, 30), \n",
    "    #filters=filters,\n",
    "    expectedrows=14000\n",
    "    )\n",
    "earray2 = hdf5_file.create_earray(\n",
    "    hdf5_file.root,\n",
    "    'dx', \n",
    "    tables.Atom.from_dtype(x[0].dtype), \n",
    "    shape=(0, 64, 30, 3), \n",
    "    #filters=filters,\n",
    "    expectedrows=14000\n",
    "    )\n",
    "earray3 = hdf5_file.create_earray(\n",
    "    hdf5_file.root,\n",
    "    'rdx',\n",
    "    tables.Atom.from_dtype(x[0].dtype),\n",
    "    shape=(0, 30, 6),\n",
    "    #filters=filters,\n",
    "    expectedrows=14000\n",
    "    )\n",
    "numbers = np.zeros(s, dtype=int)\n",
    "for i in range(s):\n",
    "    numbers[i] = I\n",
    "    earray1.append(x[i])\n",
    "    earray2.append(dx[i])\n",
    "    earray3.append(rdx[i])\n",
    "\n",
    "hdf5_file.close()\n",
    "    \n",
    "t1 = time.time()\n",
    "\n",
    "print(\"The time it takes to save hdf5 database:\", t1-t0, \"s\")\n",
    "\n",
    "hdf5_file = tables.open_file(hdf5_path, mode='r')\n",
    "_t0 = time.time()\n",
    "for i in range(s):\n",
    "    id_0 = sum(numbers[:i])\n",
    "    id_1 = sum(numbers[:i+1])\n",
    "    _x = hdf5_file.root.x[id_0:id_1, :]\n",
    "    _dx = hdf5_file.root.dx[id_0:id_1, :, :, :]\n",
    "    _rdx = hdf5_file.root.rdx[id_0:id_1, :, :]\n",
    "    if i == 5:\n",
    "        print(_x[5, :10])\n",
    "_t1 = time.time()\n",
    "hdf5_file.close()\n",
    "print(\"The time it takes to load hdf5 database:\", _t1-_t0, \"s\")"
   ]
  },
  {
   "cell_type": "markdown",
   "metadata": {},
   "source": [
    "### Conclusion\n",
    "\n",
    "Shelve is not very stable. For every run of shelve loading, it will give a range of time. In my computer, it ranges from 0.6 - 2.3 s.\n",
    "\n",
    "Sqlite3 is more stable. In which, the loading time is at about 1 second.\n",
    "\n",
    "Numpy alt provides the best time. However, it may not be feasible in many application since dx may not have the same size for its every member.\n",
    "\n",
    "It seems like PyTables provide the best option in term of flexibility and loading time at 0.3 s (max=0.6s)."
   ]
  }
 ],
 "metadata": {
  "kernelspec": {
   "display_name": "Python 3",
   "language": "python",
   "name": "python3"
  },
  "language_info": {
   "codemirror_mode": {
    "name": "ipython",
    "version": 3
   },
   "file_extension": ".py",
   "mimetype": "text/x-python",
   "name": "python",
   "nbconvert_exporter": "python",
   "pygments_lexer": "ipython3",
   "version": "3.7.1"
  }
 },
 "nbformat": 4,
 "nbformat_minor": 2
}
