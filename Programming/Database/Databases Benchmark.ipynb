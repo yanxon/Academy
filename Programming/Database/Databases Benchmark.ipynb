{
 "cells": [
  {
   "cell_type": "markdown",
   "metadata": {},
   "source": [
    "# Sqlite3 vs Shelve vs Numpy\n",
    "\n",
    "This note is a toy model to measure the performance cost of Sqlite3 and Shelve databases.\n",
    "\n",
    "For each sqlite3 or shelve database, it will only contain one member (a list of numpy arrays). \n",
    "\n",
    "Specifially, this note will measure the cost to call the database's member multiple times, i.e. 1000x.\n",
    "\n",
    "To make it more interesting, I will also add a benchmark for `np.save`."
   ]
  },
  {
   "cell_type": "code",
   "execution_count": 1,
   "metadata": {},
   "outputs": [],
   "source": [
    "import torch\n",
    "import numpy as np\n",
    "import io\n",
    "import time\n",
    "import shelve\n",
    "import sqlite3"
   ]
  },
  {
   "cell_type": "code",
   "execution_count": 2,
   "metadata": {},
   "outputs": [
    {
     "name": "stdout",
     "output_type": "stream",
     "text": [
      "[0.18392743 0.40013709 0.87024558 0.18679166 0.86769028 0.90518177\n",
      " 0.80863903 0.27152487 0.40435877 0.77129857]\n",
      "[0.39939181 0.72122024 0.98375967 0.32827872 0.30841818 0.36752987\n",
      " 0.99104522 0.72557409 0.44660145 0.10458994]\n",
      "[0.53994022 0.40873679 0.68797249 0.26424826 0.23271192 0.4937447\n",
      " 0.42121443 0.31617132 0.93257187 0.2151361 ]\n"
     ]
    }
   ],
   "source": [
    "s = 219\n",
    "i, d = 64, 30\n",
    "x = np.random.random_sample([i, d])\n",
    "dx = np.random.random_sample([i, i, d, 3])\n",
    "rdx = np.random.random_sample([i, d, 6])\n",
    "\n",
    "print(x[30, :10])\n",
    "print(dx[8, 3, :10, 2])\n",
    "print(rdx[8, :10, 4])"
   ]
  },
  {
   "cell_type": "code",
   "execution_count": 3,
   "metadata": {
    "scrolled": true
   },
   "outputs": [
    {
     "name": "stdout",
     "output_type": "stream",
     "text": [
      "[0.18392743 0.40013709 0.87024558 0.18679166 0.86769028 0.90518177\n",
      " 0.80863903 0.27152487 0.40435877 0.77129857]\n",
      "[0.39939181 0.72122024 0.98375967 0.32827872 0.30841818 0.36752987\n",
      " 0.99104522 0.72557409 0.44660145 0.10458994]\n",
      "[0.53994022 0.40873679 0.68797249 0.26424826 0.23271192 0.4937447\n",
      " 0.42121443 0.31617132 0.93257187 0.2151361 ]\n",
      "The time it takes to save shelve database: 0.5499148368835449 s\n",
      "The time it takes to load shelve database: 0.1622021198272705 s\n"
     ]
    }
   ],
   "source": [
    "### Shelve ###\n",
    "\n",
    "# Insert\n",
    "db = shelve.open(\"database\")\n",
    "t0 = time.time()\n",
    "for i in range(s):\n",
    "    db[str(i)] = [x, dx, rdx]\n",
    "t1 = time.time()\n",
    "db.close()\n",
    "\n",
    "# Reading\n",
    "db = shelve.open(\"database\")\n",
    "_t0 = time.time()\n",
    "for i in range(s):\n",
    "    _d = db[str(i)]\n",
    "    _x = _d[0]\n",
    "    _dx = _d[1]\n",
    "    _rdx = _d[2]\n",
    "_t1 = time.time()\n",
    "db.close()\n",
    "\n",
    "print(_x[30, :10])\n",
    "print(_dx[8, 3, :10, 2])\n",
    "print(_rdx[8, :10, 4])\n",
    "print(\"The time it takes to save shelve database:\", t1-t0, \"s\")\n",
    "print(\"The time it takes to load shelve database:\", _t1-_t0, \"s\")"
   ]
  },
  {
   "cell_type": "code",
   "execution_count": 4,
   "metadata": {},
   "outputs": [
    {
     "name": "stdout",
     "output_type": "stream",
     "text": [
      "[0.18392743 0.40013709 0.87024558 0.18679166 0.86769028 0.90518177\n",
      " 0.80863903 0.27152487 0.40435877 0.77129857]\n",
      "[0.39939181 0.72122024 0.98375967 0.32827872 0.30841818 0.36752987\n",
      " 0.99104522 0.72557409 0.44660145 0.10458994]\n",
      "[0.53994022 0.40873679 0.68797249 0.26424826 0.23271192 0.4937447\n",
      " 0.42121443 0.31617132 0.93257187 0.2151361 ]\n",
      "The time it takes to save sqlite3 database: 0.5620255470275879 s\n",
      "The time it takes to load sqlite3 database: 0.24424338340759277 s\n"
     ]
    }
   ],
   "source": [
    "### Sqlite3 ###\n",
    "\n",
    "def adapt_array(arr):\n",
    "    return arr.tobytes()\n",
    "\n",
    "def convert_array(text):\n",
    "    return np.frombuffer(text)\n",
    "\n",
    "# Converts np.array to TEXT when inserting\n",
    "sqlite3.register_adapter(np.ndarray, adapt_array)\n",
    "\n",
    "# Converts TEXT to np.array when selecting\n",
    "sqlite3.register_converter(\"array\", convert_array)\n",
    "\n",
    "conn = sqlite3.connect(\"sqldatabase.db\", detect_types=sqlite3.PARSE_DECLTYPES)\n",
    "c = conn.cursor()\n",
    "c.execute(\"create table test (num integer, x array, dx array, rdx array)\")\n",
    "\n",
    "# Insert\n",
    "t0 = time.time()\n",
    "for i in range(s):\n",
    "    c.execute(\"insert into test (num, x, dx, rdx) values (?, ?, ?, ?)\", (i, x, dx, rdx))\n",
    "t1 = time.time()\n",
    "\n",
    "# Reading\n",
    "_t0 = time.time()\n",
    "for i in range(s):\n",
    "    c.execute(\"select * from test where num=?\", (i,))\n",
    "    data = c.fetchone()\n",
    "    _x = np.reshape(data[1], x.shape)\n",
    "    _dx = np.reshape(data[2], dx.shape)\n",
    "    _rdx = np.reshape(data[3], rdx.shape)\n",
    "_t1 = time.time()\n",
    "print(_x[30, :10])\n",
    "print(_dx[8, 3, :10, 2])\n",
    "print(_rdx[8, :10, 4])\n",
    "print(\"The time it takes to save sqlite3 database:\", t1-t0, \"s\")\n",
    "print(\"The time it takes to load sqlite3 database:\", _t1-_t0, \"s\")"
   ]
  },
  {
   "cell_type": "code",
   "execution_count": 5,
   "metadata": {},
   "outputs": [
    {
     "name": "stdout",
     "output_type": "stream",
     "text": [
      "[0.18392743 0.40013709 0.87024558 0.18679166 0.86769028 0.90518177\n",
      " 0.80863903 0.27152487 0.40435877 0.77129857]\n",
      "[0.39939181 0.72122024 0.98375967 0.32827872 0.30841818 0.36752987\n",
      " 0.99104522 0.72557409 0.44660145 0.10458994]\n",
      "[0.53994022 0.40873679 0.68797249 0.26424826 0.23271192 0.4937447\n",
      " 0.42121443 0.31617132 0.93257187 0.2151361 ]\n",
      "The time it takes to load numpy database: 0.13050246238708496 s\n"
     ]
    }
   ],
   "source": [
    "### Numpy ###\n",
    "\n",
    "data = {'x': x, 'dx': dx, 'rdx': rdx}\n",
    "_data = []\n",
    "for i in range(s):\n",
    "    _data.append(data)\n",
    "\n",
    "np.save(\"database.npy\", _data)\n",
    "\n",
    "t0 = time.time()\n",
    "for i in range(s):\n",
    "    data = np.load(\"database.npy\", allow_pickle=True)\n",
    "    _x = data[i]['x']\n",
    "    _dx = data[i]['dx']\n",
    "    _rdx = data[i]['rdx']\n",
    "t1 = time.time()\n",
    "\n",
    "print(_x[30, :10])\n",
    "print(_dx[8, 3, :10, 2])\n",
    "print(_rdx[8, :10, 4])\n",
    "print(\"The time it takes to load numpy database:\", t1-t0, \"s\")"
   ]
  },
  {
   "cell_type": "code",
   "execution_count": 6,
   "metadata": {},
   "outputs": [
    {
     "name": "stdout",
     "output_type": "stream",
     "text": [
      "[0.39939181 0.72122024 0.98375967 0.32827872 0.30841818 0.36752987\n",
      " 0.99104522 0.72557409 0.44660145 0.10458994]\n",
      "The time it takes to load numpy database: 0.04536080360412598 s\n"
     ]
    }
   ],
   "source": [
    "### Numpy Alt ###\n",
    "\n",
    "_x, _dx, _rdx = [], [], []\n",
    "for i in range(s):\n",
    "    _x.append(x)\n",
    "    _dx.append(dx)\n",
    "    _rdx.append(rdx)\n",
    "\n",
    "#np.save(\"x.npy\", _x)\n",
    "np.save(\"dx.npy\", _dx)\n",
    "#np.save(\"rdx.npy\", _rdx)\n",
    "\n",
    "t0 = time.time()\n",
    "for i in range(s):    \n",
    "    #_x = np.load(\"x.npy\", allow_pickle=True, mmap_mode='r')\n",
    "    _dx = np.load(\"dx.npy\", allow_pickle=True, mmap_mode='r')\n",
    "    #_rdx = np.load(\"rdx.npy\", allow_pickle=True, mmap_mode='r')\n",
    "t1 = time.time()\n",
    "\n",
    "print(_dx[0][8, 3, :10, 2])\n",
    "print(\"The time it takes to load numpy database:\", t1-t0, \"s\")"
   ]
  },
  {
   "cell_type": "markdown",
   "metadata": {},
   "source": [
    "### Conclusion\n",
    "\n",
    "Sqlite3 performs the worst because it doesn't store numpy array. Therefore, sqlite3 needs to bypass it by using external function to convert numpy array to byte and vice versa everytime the database is called.\n",
    "\n",
    "It seems like numpy database provides the best performance for storing numpy array. Numpy storing can be further improved by `mmap_mode`."
   ]
  }
 ],
 "metadata": {
  "kernelspec": {
   "display_name": "Python 3",
   "language": "python",
   "name": "python3"
  },
  "language_info": {
   "codemirror_mode": {
    "name": "ipython",
    "version": 3
   },
   "file_extension": ".py",
   "mimetype": "text/x-python",
   "name": "python",
   "nbconvert_exporter": "python",
   "pygments_lexer": "ipython3",
   "version": "3.7.4"
  }
 },
 "nbformat": 4,
 "nbformat_minor": 2
}
