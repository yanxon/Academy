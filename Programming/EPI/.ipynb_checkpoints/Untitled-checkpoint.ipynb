{
 "cells": [
  {
   "cell_type": "markdown",
   "metadata": {},
   "source": [
    "Certain applications require arbitrary precision arithmetic. One way to achieve this is to use arrays\n",
    "to represent integers, e.g., with one digit per array entry, with the most significant digit appearing\n",
    "first, and a negative leading digit denoting a negative integer. For example, <1,9,3,7,0,7,7,2,1>\n",
    "represents 193707721 and <-7,6,1,8,3,8,2,5,7,2,8,7> represents -761838257287.\n",
    "\n",
    "Write a program that takes two arrays representing integers, and retums an integer representing their product. For example, since 193707721 x -761838257287 = -147573952589676412927, if\n",
    "the inputs are <1,9,3,7,0,7,7,2,1> and <-7,6,1,8,3,8,2,5,7,2,8,7>, your function should return\n",
    "<-1,4,7,5,7,3,9,5,2,5,8,9,6,7,6,4,1,2,9,2,7>."
   ]
  },
  {
   "cell_type": "code",
   "execution_count": 84,
   "metadata": {},
   "outputs": [],
   "source": [
    "arr1 = [1,9,3,7,0,7,7,2,1]\n",
    "arr2 = [-7,6,1,8,3,8,2,5,7,2,8,7]"
   ]
  },
  {
   "cell_type": "code",
   "execution_count": 78,
   "metadata": {},
   "outputs": [
    {
     "name": "stdout",
     "output_type": "stream",
     "text": [
      "[1, 1, 0, 1, 0, 2]\n",
      "5 2\n",
      "4 2\n",
      "3 3\n"
     ]
    },
    {
     "data": {
      "text/plain": [
       "3"
      ]
     },
     "execution_count": 78,
     "metadata": {},
     "output_type": "execute_result"
    }
   ],
   "source": [
    "def multiply(arr1, arr2):\n",
    "    negative1 = -1 if arr1[0] < 0 else 1\n",
    "    negative2 = -1 if arr2[0] < 0 else 1\n",
    "    negative = negative1 * negative2\n",
    "    \n",
    "    n1 = len(arr1)\n",
    "    n2 = len(arr2)\n",
    "    res = [0] * (n1+n2)\n",
    "    \n",
    "    overflow = 0\n",
    "    for i in range(res, -1, -1):\n",
    "        multi = (arr1[i] * arr2[i]) + overflow\n",
    "        residual = multi % 10\n",
    "        overflow = multi\n",
    "        res[i] = \n",
    "        \n",
    "        \n",
    "    \n",
    "    \n",
    "    return res"
   ]
  },
  {
   "cell_type": "code",
   "execution_count": 82,
   "metadata": {},
   "outputs": [
    {
     "name": "stdout",
     "output_type": "stream",
     "text": [
      "[1, 0, 0, 0, 1, 3]\n",
      "5 3\n",
      "4 4\n"
     ]
    },
    {
     "data": {
      "text/plain": [
       "4"
      ]
     },
     "execution_count": 82,
     "metadata": {},
     "output_type": "execute_result"
    }
   ],
   "source": [
    "hIndex([6,5,5,4,0])"
   ]
  },
  {
   "cell_type": "code",
   "execution_count": null,
   "metadata": {},
   "outputs": [],
   "source": []
  }
 ],
 "metadata": {
  "kernelspec": {
   "display_name": "Python 3",
   "language": "python",
   "name": "python3"
  },
  "language_info": {
   "codemirror_mode": {
    "name": "ipython",
    "version": 3
   },
   "file_extension": ".py",
   "mimetype": "text/x-python",
   "name": "python",
   "nbconvert_exporter": "python",
   "pygments_lexer": "ipython3",
   "version": "3.7.4"
  }
 },
 "nbformat": 4,
 "nbformat_minor": 2
}
