{
 "cells": [
  {
   "cell_type": "markdown",
   "metadata": {},
   "source": [
    "Given an array of comparable objects, you can find either the min or the max of the elements in the array with n-1 comparison, where n is the length of the array.\n",
    "\n",
    "Comparing elements may be expensive, e.g., a comparison may involve a number of nested calls or the elements being compared may be long strings. Therefore, it is natural to ask if both the min and the max can be computed with less than the 2(n-1) comparisons required to compute the min and max independently.\n",
    "\n",
    "Design an algorithm to find the min an max elements in an array For example, if A = <3, 2, 5, 1, 2, 4>, you should return 1 for the min and 5 for the max."
   ]
  },
  {
   "cell_type": "code",
   "execution_count": 9,
   "metadata": {},
   "outputs": [],
   "source": [
    "# 2(n-1) solution\n",
    "A = [3, 2, 5, 1, 2, 4]\n",
    "\n",
    "def find_min_max(A):\n",
    "\n",
    "    minimum = A[0]\n",
    "    if A[1] <= minimum:\n",
    "        maximum = minimum\n",
    "        minimum = A[1]\n",
    "    else:\n",
    "        maximum = A[1]\n",
    "        \n",
    "    for a in A[2:]:\n",
    "        if a < minimum:\n",
    "            minimum = a\n",
    "        elif a > maximum:\n",
    "            maximum = a\n",
    "    return (minimum, maximum)"
   ]
  },
  {
   "cell_type": "code",
   "execution_count": 17,
   "metadata": {},
   "outputs": [
    {
     "name": "stdout",
     "output_type": "stream",
     "text": [
      "Minimum value:  1\n",
      "Maximum value:  5\n"
     ]
    }
   ],
   "source": [
    "min_max = find_min_max(A)\n",
    "print(\"Minimum value: \", min_max[0])\n",
    "print(\"Maximum value: \", min_max[1])"
   ]
  },
  {
   "cell_type": "code",
   "execution_count": 18,
   "metadata": {},
   "outputs": [
    {
     "name": "stdout",
     "output_type": "stream",
     "text": [
      "Minimum value:  1\n",
      "Maximum value:  5\n"
     ]
    }
   ],
   "source": [
    "import collections\n",
    "\n",
    "A = [3, 2, 5, 1, 2, 4]\n",
    "\n",
    "MinMax = collections.namedtuple('MinMax', ('smallest', 'largest'))\n",
    "def find_min_max2(A: list) -> MinMax:\n",
    "    def min_max(a, b):\n",
    "        return MinMax(a, b) if a < b else MinMax(b, a)\n",
    "    \n",
    "    if len(A) <= 1:\n",
    "        return MinMax(A[0], A[0])\n",
    "    \n",
    "    global_min_max = min_max(A[0], A[1])\n",
    "    for i in range(2, len(A) - 1, 2):\n",
    "        local_min_max = min_max(A[i], A[i+1])\n",
    "        global_min_max = MinMax(min(global_min_max.smallest, local_min_max.smallest),\n",
    "                                max(global_min_max.largest, local_min_max.largest))\n",
    "        \n",
    "    if len(A) % 2:\n",
    "        global_min_max = MinMax(min(global_min_max.smallest, A[-1]),\n",
    "                                max(global_min_max.largest, A[-1]))\n",
    "    \n",
    "    return global_min_max\n",
    "min_max = find_min_max2(A)\n",
    "print(\"Minimum value: \", min_max.smallest)\n",
    "print(\"Maximum value: \", min_max.largest)"
   ]
  }
 ],
 "metadata": {
  "kernelspec": {
   "display_name": "Python 3",
   "language": "python",
   "name": "python3"
  },
  "language_info": {
   "codemirror_mode": {
    "name": "ipython",
    "version": 3
   },
   "file_extension": ".py",
   "mimetype": "text/x-python",
   "name": "python",
   "nbconvert_exporter": "python",
   "pygments_lexer": "ipython3",
   "version": "3.7.3"
  }
 },
 "nbformat": 4,
 "nbformat_minor": 2
}
