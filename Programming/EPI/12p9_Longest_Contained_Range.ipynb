{
 "cells": [
  {
   "cell_type": "code",
   "execution_count": 4,
   "metadata": {},
   "outputs": [
    {
     "data": {
      "text/plain": [
       "6"
      ]
     },
     "execution_count": 4,
     "metadata": {},
     "output_type": "execute_result"
    }
   ],
   "source": [
    "def longest_contained_range(A: list) -> int:\n",
    "    remaining_entries = set(A)\n",
    "    \n",
    "    max_interval_size = 0\n",
    "    while remaining_entries:\n",
    "        a = remaining_entries.pop()\n",
    "        \n",
    "        lower_bound = a - 1\n",
    "        while lower_bound in remaining_entries:\n",
    "            remaining_entries.remove(lower_bound)\n",
    "            lower_bound -= 1\n",
    "            \n",
    "        upper_bound = a + 1\n",
    "        while upper_bound in remaining_entries:\n",
    "            remaining_entries.remove(upper_bound)\n",
    "            upper_bound += 1\n",
    "            \n",
    "        max_interval_size = max(max_interval_size, upper_bound - lower_bound - 1)\n",
    "        \n",
    "    return max_interval_size\n",
    "\n",
    "\n",
    "longest_contained_range([20, 3, -2, 7, 9, 8, 1, 2, 0, -1, 5, 8])"
   ]
  }
 ],
 "metadata": {
  "kernelspec": {
   "display_name": "Python 3",
   "language": "python",
   "name": "python3"
  },
  "language_info": {
   "codemirror_mode": {
    "name": "ipython",
    "version": 3
   },
   "file_extension": ".py",
   "mimetype": "text/x-python",
   "name": "python",
   "nbconvert_exporter": "python",
   "pygments_lexer": "ipython3",
   "version": "3.7.3"
  }
 },
 "nbformat": 4,
 "nbformat_minor": 2
}
