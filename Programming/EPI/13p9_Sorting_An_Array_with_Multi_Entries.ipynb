{
 "cells": [
  {
   "cell_type": "code",
   "execution_count": 1,
   "metadata": {},
   "outputs": [],
   "source": [
    "import collections\n",
    "\n",
    "Person = collections.namedtuple('Person', ('age', 'name'))\n",
    "Greg = Person(14, 'Greg')\n",
    "John = Person(12, 'John')\n",
    "Andy = Person(11, 'Andy')\n",
    "Jim = Person(13, 'Jim')\n",
    "Phil = Person(12, 'Phil')\n",
    "Bob = Person(13, 'Bob')\n",
    "Chip = Person(13, 'Chip')\n",
    "Tim = Person(14, 'Tim')\n",
    "people = [Greg, John, Andy, Jim, Phil, Bob, Chip, Tim]"
   ]
  },
  {
   "cell_type": "code",
   "execution_count": 2,
   "metadata": {},
   "outputs": [],
   "source": [
    "def group_by_age(people: list)-> None:\n",
    "    people_by_age = collections.Counter((person.age for person in people))\n",
    "    counter, count = {}, 0\n",
    "    for age, head_count in people_by_age.items():\n",
    "        counter[age] = count\n",
    "        count += head_count\n",
    "        \n",
    "    while counter:\n",
    "        from_age = next(iter(counter.keys())) # find a member in people that is in inappropriate location.\n",
    "        from_idx = counter[from_age]   # get the index of the member in people that is in inappropriate location.\n",
    "        to_age = people[from_idx].age  # get the age information of the member in people that is in inappropriate location.\n",
    "        to_idx = counter[to_age]       # get its appropriate index/location.\n",
    "        \n",
    "        people[from_idx], people[to_idx] = people[to_idx], people[from_idx]\n",
    "        people_by_age[to_age] -= 1\n",
    "        \n",
    "        if people_by_age[to_age]:\n",
    "            counter[to_age] = to_idx + 1\n",
    "        else:\n",
    "            del counter[to_age]\n",
    "                \n",
    "    return None"
   ]
  },
  {
   "cell_type": "code",
   "execution_count": 3,
   "metadata": {},
   "outputs": [
    {
     "data": {
      "text/plain": [
       "[Person(age=14, name='Greg'),\n",
       " Person(age=14, name='Tim'),\n",
       " Person(age=12, name='John'),\n",
       " Person(age=12, name='Phil'),\n",
       " Person(age=11, name='Andy'),\n",
       " Person(age=13, name='Jim'),\n",
       " Person(age=13, name='Bob'),\n",
       " Person(age=13, name='Chip')]"
      ]
     },
     "execution_count": 3,
     "metadata": {},
     "output_type": "execute_result"
    }
   ],
   "source": [
    "group_by_age(people)\n",
    "people"
   ]
  }
 ],
 "metadata": {
  "kernelspec": {
   "display_name": "Python 3",
   "language": "python",
   "name": "python3"
  },
  "language_info": {
   "codemirror_mode": {
    "name": "ipython",
    "version": 3
   },
   "file_extension": ".py",
   "mimetype": "text/x-python",
   "name": "python",
   "nbconvert_exporter": "python",
   "pygments_lexer": "ipython3",
   "version": "3.7.3"
  }
 },
 "nbformat": 4,
 "nbformat_minor": 2
}
