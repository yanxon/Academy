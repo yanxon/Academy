{
 "cells": [
  {
   "cell_type": "markdown",
   "metadata": {},
   "source": [
    "Design an algorithm for efficiently computing the k smallest numbers of the form a + b * sqrt(2) for nonnegative integers a and b."
   ]
  },
  {
   "cell_type": "code",
   "execution_count": 1,
   "metadata": {},
   "outputs": [],
   "source": [
    "import bintrees\n",
    "class Number:\n",
    "    def __init__(self, a, b):\n",
    "        self.a, self.b = a, b\n",
    "        self.value = a + b * 2 ** 0.5\n",
    "        \n",
    "    def __lt__(self, other):\n",
    "        return self.value < other.value\n",
    "    \n",
    "    def __eq__(self, other):\n",
    "        return self.value == other.value\n",
    "    \n",
    "    def __str__(self):\n",
    "        return \"{:3d} + {:3d} * sqrt(2) = {:5.3f} \".format(self.a, self.b, self.value)\n",
    "\n",
    "# O(klog(k)) solution:\n",
    "# There are k insertion to the result list. \n",
    "# In addition, there are 2*log(k) for lookup and log(k) for removing min value.\n",
    "def generate_k_smallest(k: int) -> list:\n",
    "    candidates = bintrees.RBTree([(Number(0,0), None)])\n",
    "    result = []\n",
    "    while len(result) < k:\n",
    "        #for can in candidates: print(can)\n",
    "        #print('\\n')\n",
    "        next_smallest = candidates.pop_min()[0]\n",
    "        result.append(next_smallest.value)\n",
    "        candidates.insert(Number(next_smallest.a+1, next_smallest.b), None)\n",
    "        candidates.insert(Number(next_smallest.a, next_smallest.b+1), None)\n",
    "    return result"
   ]
  },
  {
   "cell_type": "code",
   "execution_count": 2,
   "metadata": {},
   "outputs": [
    {
     "data": {
      "text/plain": [
       "[0.0,\n",
       " 1.0,\n",
       " 1.4142135623730951,\n",
       " 2.0,\n",
       " 2.414213562373095,\n",
       " 2.8284271247461903,\n",
       " 3.0,\n",
       " 3.414213562373095,\n",
       " 3.8284271247461903,\n",
       " 4.0]"
      ]
     },
     "execution_count": 2,
     "metadata": {},
     "output_type": "execute_result"
    }
   ],
   "source": [
    "lis = generate_k_smallest(10)\n",
    "lis"
   ]
  },
  {
   "cell_type": "code",
   "execution_count": 3,
   "metadata": {},
   "outputs": [],
   "source": [
    "# O(n) solution\n",
    "\n",
    "def generate_k_smallest2(k: int) -> list:\n",
    "    results = [Number(0,0)]\n",
    "    i = j = 0\n",
    "    for _ in range(1, k):\n",
    "        cand_i = Number(results[i].a + 1, results[i].b)\n",
    "        cand_j = Number(results[j].a, results[j].b + 1)\n",
    "        \n",
    "        results.append(min(cand_i, cand_j))\n",
    "        \n",
    "        if cand_i.value == results[-1].value:\n",
    "            i += 1\n",
    "        if cand_j.value == results[-1].value:\n",
    "            j += 1\n",
    "            \n",
    "    return [res.value for res in results]"
   ]
  },
  {
   "cell_type": "code",
   "execution_count": 4,
   "metadata": {},
   "outputs": [
    {
     "data": {
      "text/plain": [
       "[0.0,\n",
       " 1.0,\n",
       " 1.4142135623730951,\n",
       " 2.0,\n",
       " 2.414213562373095,\n",
       " 2.8284271247461903,\n",
       " 3.0,\n",
       " 3.414213562373095,\n",
       " 3.8284271247461903,\n",
       " 4.0]"
      ]
     },
     "execution_count": 4,
     "metadata": {},
     "output_type": "execute_result"
    }
   ],
   "source": [
    "lis = generate_k_smallest2(10)\n",
    "lis"
   ]
  }
 ],
 "metadata": {
  "kernelspec": {
   "display_name": "Python 3",
   "language": "python",
   "name": "python3"
  },
  "language_info": {
   "codemirror_mode": {
    "name": "ipython",
    "version": 3
   },
   "file_extension": ".py",
   "mimetype": "text/x-python",
   "name": "python",
   "nbconvert_exporter": "python",
   "pygments_lexer": "ipython3",
   "version": "3.7.3"
  }
 },
 "nbformat": 4,
 "nbformat_minor": 2
}
