{
 "cells": [
  {
   "cell_type": "markdown",
   "metadata": {},
   "source": [
    "Write a program which takes n as input and returns an n-bit Gray code.\n",
    "\n",
    "An n-bit Gray code consists of binary representations of consecutive integers in the sequence differ in only one place.\n",
    "\n",
    "For instance, when n = 3, the n-bit Gray code is {0, 1, 3, 2, 6, 7, 5, 4}.\n",
    "- 0 -> (0 0 0)\n",
    "- 1 -> (0 0 1)\n",
    "- 3 -> (0 1 1)\n",
    "- 2 -> (0 1 0)\n",
    "- 6 -> (1 1 0)\n",
    "- 7 -> (1 1 1)\n",
    "- 5 -> (1 0 1)\n",
    "- 4 -> (1 0 0)"
   ]
  },
  {
   "cell_type": "code",
   "execution_count": 1,
   "metadata": {},
   "outputs": [
    {
     "name": "stdout",
     "output_type": "stream",
     "text": [
      "1-bit Gray code:  [0, 1]\n",
      "2-bit Gray code:  [0, 1, 3, 2]\n",
      "3-bit Gray code:  [0, 1, 3, 2, 6, 7, 5, 4]\n",
      "4-bit Gray code:  [0, 1, 3, 2, 6, 7, 5, 4, 12, 13, 15, 14, 10, 11, 9, 8]\n"
     ]
    }
   ],
   "source": [
    "# First we need to construct a function that compares the two consecutive members of the list.\n",
    "def compare(x, y):\n",
    "    diff = x ^ y\n",
    "    return not (diff & (diff-1))\n",
    "\n",
    "def gray_code(n):\n",
    "    def get_gray_code(history):\n",
    "        if len(result) == 1 << n:\n",
    "            return compare(result[0], result[-1])\n",
    "        \n",
    "        for i in range(n):\n",
    "            prev = result[-1]\n",
    "            cand = prev ^ (1 << i)\n",
    "            if cand not in history:\n",
    "                result.append(cand)\n",
    "                history.add(cand)\n",
    "                if get_gray_code(history):\n",
    "                    return True\n",
    "        return False\n",
    "    \n",
    "    result = [0]\n",
    "    get_gray_code(set([0]))\n",
    "    return result\n",
    "\n",
    "print(\"1-bit Gray code: \", gray_code(1))\n",
    "print(\"2-bit Gray code: \", gray_code(2))\n",
    "print(\"3-bit Gray code: \", gray_code(3))\n",
    "print(\"4-bit Gray code: \", gray_code(4))"
   ]
  },
  {
   "cell_type": "code",
   "execution_count": 2,
   "metadata": {},
   "outputs": [
    {
     "name": "stdout",
     "output_type": "stream",
     "text": [
      "1-bit Gray code:  [0, 1]\n",
      "2-bit Gray code:  [0, 1, 3, 2]\n",
      "3-bit Gray code:  [0, 1, 3, 2, 6, 7, 5, 4]\n",
      "4-bit Gray code:  [0, 1, 3, 2, 6, 7, 5, 4, 12, 13, 15, 14, 10, 11, 9, 8]\n"
     ]
    }
   ],
   "source": [
    "def gray_code2(n):\n",
    "    result = [0]\n",
    "    if n == 0:\n",
    "        return result\n",
    "    \n",
    "    for i in range(n):\n",
    "        result += [res+2**i for res in reversed(result)]\n",
    "    \n",
    "    return result\n",
    "\n",
    "print(\"1-bit Gray code: \", gray_code2(1))\n",
    "print(\"2-bit Gray code: \", gray_code2(2))\n",
    "print(\"3-bit Gray code: \", gray_code2(3))\n",
    "print(\"4-bit Gray code: \", gray_code2(4))"
   ]
  },
  {
   "cell_type": "code",
   "execution_count": 3,
   "metadata": {},
   "outputs": [
    {
     "name": "stdout",
     "output_type": "stream",
     "text": [
      "1-bit Gray code:  [0, 1]\n",
      "2-bit Gray code:  [0, 1, 3, 2]\n",
      "3-bit Gray code:  [0, 1, 3, 2, 6, 7, 5, 4]\n",
      "4-bit Gray code:  [0, 1, 3, 2, 6, 7, 5, 4, 12, 13, 15, 14, 10, 11, 9, 8]\n"
     ]
    }
   ],
   "source": [
    "def gray_code3(n):\n",
    "    result = [0]\n",
    "    if n == 0:\n",
    "        return result\n",
    "    \n",
    "    result = gray_code3(n - 1)\n",
    "    leading_one = 1 << (n - 1)\n",
    "    result += [(leading_one + i) for i in reversed(result)]\n",
    "    \n",
    "    return result \n",
    "\n",
    "print(\"1-bit Gray code: \", gray_code3(1))\n",
    "print(\"2-bit Gray code: \", gray_code3(2))\n",
    "print(\"3-bit Gray code: \", gray_code3(3))\n",
    "print(\"4-bit Gray code: \", gray_code3(4))"
   ]
  }
 ],
 "metadata": {
  "kernelspec": {
   "display_name": "Python 3",
   "language": "python",
   "name": "python3"
  },
  "language_info": {
   "codemirror_mode": {
    "name": "ipython",
    "version": 3
   },
   "file_extension": ".py",
   "mimetype": "text/x-python",
   "name": "python",
   "nbconvert_exporter": "python",
   "pygments_lexer": "ipython3",
   "version": "3.7.3"
  }
 },
 "nbformat": 4,
 "nbformat_minor": 2
}
