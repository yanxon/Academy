{
 "cells": [
  {
   "cell_type": "code",
   "execution_count": 39,
   "metadata": {},
   "outputs": [],
   "source": [
    "import collections\n",
    "\n",
    "class Vertex:\n",
    "    def __init__(self, value, edges=[]):\n",
    "        self.value = value\n",
    "        self.edges = edges\n",
    "\n",
    "def clone_graph(vertex):\n",
    "    if not vertex:\n",
    "        return None\n",
    "    \n",
    "    q = collections.deque([vertex])\n",
    "    new_graph = {vertex: Vertex(vertex.value)}\n",
    "    while q:\n",
    "        v = q.popleft()\n",
    "        for edge in v.edges:\n",
    "            if edge not in new_graph:\n",
    "                new_graph[edge] = Vertex(edge.value)\n",
    "                q.append(edge)\n",
    "            new_graph[v].edges.append(new_graph[edge])\n",
    "            \n",
    "    return new_graph[vertex]"
   ]
  },
  {
   "cell_type": "code",
   "execution_count": 40,
   "metadata": {},
   "outputs": [
    {
     "name": "stdout",
     "output_type": "stream",
     "text": [
      "2\n",
      "4\n",
      "1\n",
      "3\n",
      "1\n",
      "3\n",
      "2\n",
      "4\n"
     ]
    }
   ],
   "source": [
    "q = collections.deque([[[2,4], [1,3], [2,4], [1,3]]])\n",
    "\n",
    "n1 = Vertex('1')\n",
    "n2 = Vertex('2')\n",
    "n3 = Vertex('3')\n",
    "n4 = Vertex('4')\n",
    "\n",
    "n1.edges = [n2, n4]\n",
    "n2.edges = [n1, n3]\n",
    "n3.edges = [n2, n4]\n",
    "n4.edges = [n1, n3]\n",
    "\n",
    "G = clone_graph(n1)"
   ]
  },
  {
   "cell_type": "code",
   "execution_count": null,
   "metadata": {},
   "outputs": [],
   "source": [
    "2 2\n",
    "4 4\n",
    "1 1\n",
    "3 3\n",
    "1 1\n",
    "3 3\n",
    "2 2\n",
    "4 4"
   ]
  }
 ],
 "metadata": {
  "kernelspec": {
   "display_name": "Python 3",
   "language": "python",
   "name": "python3"
  },
  "language_info": {
   "codemirror_mode": {
    "name": "ipython",
    "version": 3
   },
   "file_extension": ".py",
   "mimetype": "text/x-python",
   "name": "python",
   "nbconvert_exporter": "python",
   "pygments_lexer": "ipython3",
   "version": "3.7.7"
  }
 },
 "nbformat": 4,
 "nbformat_minor": 4
}
