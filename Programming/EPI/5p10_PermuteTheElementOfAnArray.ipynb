{
 "cells": [
  {
   "cell_type": "markdown",
   "metadata": {},
   "source": [
    "A permutation is a rearrangement of members of a sequence into a new sequence. For example,\n",
    "there are 24 permutations of <a,b,c,d>; some of these are <b,a,d,c>,<d,a,b,c>, and <a,d,b,c>.\n",
    "\n",
    "A permutation can be specified by an array P, where P[i] represents the location of the element\n",
    "at i in the permutation. For example, the array <2,0,1,3> represents the permutation that maps the\n",
    "element at location 0 to location 2, the element at location 1 to location 0, the element at location 2\n",
    "to location 1, and keep the element at location 3 unchanged. A permutation can be applied to an\n",
    "array to reorder the array. For example, the permutation <2,0,1,3> applied to A = <a,b,c,d> yields\n",
    "the array <b,c,a,d>.\n",
    "\n",
    "Given an arrayA of n elements and a permutation P, apply P to A."
   ]
  },
  {
   "cell_type": "code",
   "execution_count": 1,
   "metadata": {},
   "outputs": [],
   "source": [
    "A = ['a', 'b', 'c', 'd']\n",
    "P1 = [3,2,1,0]\n",
    "P2 = [2,0,1,3]"
   ]
  },
  {
   "cell_type": "code",
   "execution_count": 2,
   "metadata": {},
   "outputs": [],
   "source": [
    "from copy import deepcopy\n",
    "\n",
    "def permutation1(A, P):\n",
    "    A_permute = []\n",
    "    for i in range(len(A)):\n",
    "        A_permute.append(A[P[i]])\n",
    "    return A_permute\n",
    "    \n",
    "def permutation2(A, P):\n",
    "    A_copy = deepcopy(A)\n",
    "    for i in range(len(P)):\n",
    "        if i == P[i]:\n",
    "            pass\n",
    "        else:\n",
    "            A_copy[i], A_copy[P[i]] = A_copy[P[i]], A_copy[i]\n",
    "            P[P[i]], P[i] = P[i], P[P[i]]\n",
    "    return A_copy"
   ]
  },
  {
   "cell_type": "code",
   "execution_count": 3,
   "metadata": {},
   "outputs": [
    {
     "name": "stdout",
     "output_type": "stream",
     "text": [
      "['d', 'c', 'b', 'a']\n",
      "['d', 'c', 'b', 'a']\n"
     ]
    }
   ],
   "source": [
    "print(permutation1(A, P1))\n",
    "print(permutation2(A, P1))"
   ]
  },
  {
   "cell_type": "code",
   "execution_count": 4,
   "metadata": {},
   "outputs": [
    {
     "name": "stdout",
     "output_type": "stream",
     "text": [
      "['c', 'a', 'b', 'd']\n",
      "['b', 'c', 'a', 'd']\n"
     ]
    }
   ],
   "source": [
    "print(permutation1(A, P2))\n",
    "print(permutation2(A, P2))"
   ]
  },
  {
   "cell_type": "code",
   "execution_count": null,
   "metadata": {},
   "outputs": [],
   "source": []
  }
 ],
 "metadata": {
  "kernelspec": {
   "display_name": "Python 3",
   "language": "python",
   "name": "python3"
  },
  "language_info": {
   "codemirror_mode": {
    "name": "ipython",
    "version": 3
   },
   "file_extension": ".py",
   "mimetype": "text/x-python",
   "name": "python",
   "nbconvert_exporter": "python",
   "pygments_lexer": "ipython3",
   "version": "3.7.4"
  }
 },
 "nbformat": 4,
 "nbformat_minor": 2
}
