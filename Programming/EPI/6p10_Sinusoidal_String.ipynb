{
 "cells": [
  {
   "cell_type": "code",
   "execution_count": 1,
   "metadata": {},
   "outputs": [
    {
     "data": {
      "text/plain": [
       "'e lHloWrdlo!'"
      ]
     },
     "execution_count": 1,
     "metadata": {},
     "output_type": "execute_result"
    }
   ],
   "source": [
    "def sinusoidal_string(s):\n",
    "    result = []\n",
    "    for i in range(1, len(s), 4):\n",
    "        result.append(s[i])\n",
    "    \n",
    "    for i in range(0, len(s), 2):\n",
    "        result.append(s[i])\n",
    "        \n",
    "    for i in range(3, len(s), 4):\n",
    "        result.append(s[i])\n",
    "        \n",
    "    return ''.join(result)\n",
    "\n",
    "\n",
    "\n",
    "sinusoidal_string('Hello World!')"
   ]
  },
  {
   "cell_type": "code",
   "execution_count": 2,
   "metadata": {},
   "outputs": [
    {
     "data": {
      "text/plain": [
       "'e lHloWrdlo!'"
      ]
     },
     "execution_count": 2,
     "metadata": {},
     "output_type": "execute_result"
    }
   ],
   "source": [
    "def sinusoidal_string_slice(s):\n",
    "    return s[1::4] + s[0::2] +s[3::4]\n",
    "sinusoidal_string_slice('Hello World!')"
   ]
  }
 ],
 "metadata": {
  "kernelspec": {
   "display_name": "Python 3",
   "language": "python",
   "name": "python3"
  },
  "language_info": {
   "codemirror_mode": {
    "name": "ipython",
    "version": 3
   },
   "file_extension": ".py",
   "mimetype": "text/x-python",
   "name": "python",
   "nbconvert_exporter": "python",
   "pygments_lexer": "ipython3",
   "version": "3.7.7"
  }
 },
 "nbformat": 4,
 "nbformat_minor": 4
}
