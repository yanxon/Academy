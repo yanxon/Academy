{
 "cells": [
  {
   "cell_type": "code",
   "execution_count": 23,
   "metadata": {},
   "outputs": [],
   "source": [
    "def encoding(s:str) -> str:\n",
    "    result = ''\n",
    "    current_alphabet, count_alphabet = s[0], 1\n",
    "    for i in range(1, len(s)):\n",
    "        if s[i] == current_alphabet:\n",
    "            count_alphabet += 1\n",
    "        else:\n",
    "            result += str(count_alphabet)+current_alphabet \n",
    "            current_alphabet = s[i]\n",
    "            count_alphabet = 1   \n",
    "    return result + str(count_alphabet)+current_alphabet\n",
    "\n",
    "def decoding(s:str) -> str:\n",
    "    if len(a) % 2 != 0:\n",
    "        raise ValueError(\"The input is invalid.\")\n",
    "    \n",
    "    result = ''\n",
    "    for i in range(0, len(s), 2):\n",
    "        count, alphabet = s[i], s[i+1]\n",
    "        result += int(count)*alphabet\n",
    "    return result"
   ]
  },
  {
   "cell_type": "code",
   "execution_count": 28,
   "metadata": {},
   "outputs": [
    {
     "data": {
      "text/plain": [
       "'3e4f2e'"
      ]
     },
     "execution_count": 28,
     "metadata": {},
     "output_type": "execute_result"
    }
   ],
   "source": [
    "encoding('eeeffffee')"
   ]
  },
  {
   "cell_type": "code",
   "execution_count": 25,
   "metadata": {},
   "outputs": [
    {
     "data": {
      "text/plain": [
       "'4a1b3c2a'"
      ]
     },
     "execution_count": 25,
     "metadata": {},
     "output_type": "execute_result"
    }
   ],
   "source": [
    "decoding('4a1b3c2a')"
   ]
  }
 ],
 "metadata": {
  "kernelspec": {
   "display_name": "Python 3",
   "language": "python",
   "name": "python3"
  },
  "language_info": {
   "codemirror_mode": {
    "name": "ipython",
    "version": 3
   },
   "file_extension": ".py",
   "mimetype": "text/x-python",
   "name": "python",
   "nbconvert_exporter": "python",
   "pygments_lexer": "ipython3",
   "version": "3.7.3"
  }
 },
 "nbformat": 4,
 "nbformat_minor": 4
}
