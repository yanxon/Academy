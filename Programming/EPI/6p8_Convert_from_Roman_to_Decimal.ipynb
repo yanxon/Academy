{
 "cells": [
  {
   "cell_type": "code",
   "execution_count": 1,
   "metadata": {},
   "outputs": [],
   "source": [
    "def convert_roman_to_decimal(roman):\n",
    "    store_val = {'M': 1000,\n",
    "                 'D': 500,\n",
    "                 'C': 100,\n",
    "                 'L': 50,\n",
    "                 'X': 10,\n",
    "                 'V': 5,\n",
    "                 'I': 1}\n",
    "    \n",
    "    total = 0\n",
    "    for i in range(len(roman)-1):\n",
    "        cur_val = store_val[roman[i]]\n",
    "        next_val = store_val[roman[i+1]]\n",
    "        if cur_val < next_val:\n",
    "            total -= cur_val\n",
    "        else:\n",
    "            total += cur_val\n",
    "    total += store_val[roman[-1]]\n",
    "    \n",
    "    return total"
   ]
  },
  {
   "cell_type": "code",
   "execution_count": 2,
   "metadata": {},
   "outputs": [
    {
     "name": "stdout",
     "output_type": "stream",
     "text": [
      "59\n",
      "59\n",
      "99\n"
     ]
    }
   ],
   "source": [
    "print(convert_roman_to_decimal('XXXXXIIIIIIIII'))\n",
    "print(convert_roman_to_decimal('LIX'))\n",
    "print(convert_roman_to_decimal('IC'))"
   ]
  }
 ],
 "metadata": {
  "kernelspec": {
   "display_name": "Python 3",
   "language": "python",
   "name": "python3"
  },
  "language_info": {
   "codemirror_mode": {
    "name": "ipython",
    "version": 3
   },
   "file_extension": ".py",
   "mimetype": "text/x-python",
   "name": "python",
   "nbconvert_exporter": "python",
   "pygments_lexer": "ipython3",
   "version": "3.7.7"
  }
 },
 "nbformat": 4,
 "nbformat_minor": 4
}
