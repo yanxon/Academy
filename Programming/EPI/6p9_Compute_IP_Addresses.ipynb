{
 "cells": [
  {
   "cell_type": "code",
   "execution_count": 50,
   "metadata": {},
   "outputs": [],
   "source": [
    "def is_valid(num):\n",
    "    if len(num) == 1:\n",
    "        return True\n",
    "    elif (int(num) > 255):\n",
    "        return False\n",
    "    elif (num[0] == '0'):\n",
    "        return False\n",
    "    else:\n",
    "        return True\n",
    "\n",
    "def IP_address(s: str) -> list:\n",
    "    results = []\n",
    "    \n",
    "    for i in range(1,4):\n",
    "        partI = s[0:i]\n",
    "        if is_valid(partI):\n",
    "            for j in range(1,4):\n",
    "                partJ = s[i:i+j]                \n",
    "                if len(s[i+j:]) > 6 or not is_valid(partJ):\n",
    "                    break\n",
    "                else:\n",
    "                    for k in range(1,4):\n",
    "                        partK1 = s[i+j:i+j+k]\n",
    "                        partK2 = s[i+j+k:]\n",
    "                        if (len(partK2) > 3 or len(partK2) < 1):\n",
    "                            continue\n",
    "                        elif is_valid(partK1) and is_valid(partK2):\n",
    "                            results.append(partI+\".\"+partJ+\".\"+partK1+\".\"+partK2)\n",
    "        else:\n",
    "            break\n",
    "    return results"
   ]
  },
  {
   "cell_type": "code",
   "execution_count": 60,
   "metadata": {},
   "outputs": [
    {
     "data": {
      "text/plain": [
       "['1.92.160.11',\n",
       " '19.2.160.11',\n",
       " '19.21.60.11',\n",
       " '19.216.0.11',\n",
       " '192.1.60.11',\n",
       " '192.16.0.11',\n",
       " '192.160.1.1']"
      ]
     },
     "execution_count": 60,
     "metadata": {},
     "output_type": "execute_result"
    }
   ],
   "source": [
    "IP_address('19216011')"
   ]
  },
  {
   "cell_type": "code",
   "execution_count": 61,
   "metadata": {},
   "outputs": [
    {
     "data": {
      "text/plain": [
       "['1.92.160.11',\n",
       " '19.2.160.11',\n",
       " '19.21.60.11',\n",
       " '19.216.0.11',\n",
       " '192.1.60.11',\n",
       " '192.16.0.11',\n",
       " '192.160.1.1']"
      ]
     },
     "execution_count": 61,
     "metadata": {},
     "output_type": "execute_result"
    }
   ],
   "source": [
    "# Verification from EPI\n",
    "\n",
    "def get_valid_ip_address(s:str) -> list:\n",
    "    def is_valid_part(s):\n",
    "        return len(s) == 1 or (s[0] != '0' and int(s) <= 255)\n",
    "    \n",
    "    result, parts = [], ['']*4\n",
    "    for i in range(1, min(4, len(s))):\n",
    "        parts[0] = s[:i]\n",
    "        if is_valid_part(parts[0]):\n",
    "            for j in range(1, min(len(s)-1, 4)):\n",
    "                parts[1] = s[i:i+j]\n",
    "                if is_valid_part(parts[1]):\n",
    "                    for k in range(1, min(len(s)-i-j,4)):\n",
    "                        parts[2], parts[3] = s[i+j:i+j+k], s[i+j+k:]\n",
    "                        if is_valid_part(parts[2]) and is_valid_part(parts[3]):\n",
    "                            result.append('.'.join(parts))\n",
    "    return result\n",
    "get_valid_ip_address('19216011')"
   ]
  }
 ],
 "metadata": {
  "kernelspec": {
   "display_name": "Python 3",
   "language": "python",
   "name": "python3"
  },
  "language_info": {
   "codemirror_mode": {
    "name": "ipython",
    "version": 3
   },
   "file_extension": ".py",
   "mimetype": "text/x-python",
   "name": "python",
   "nbconvert_exporter": "python",
   "pygments_lexer": "ipython3",
   "version": "3.7.3"
  }
 },
 "nbformat": 4,
 "nbformat_minor": 4
}
