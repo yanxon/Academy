{
 "cells": [
  {
   "cell_type": "code",
   "execution_count": 1,
   "metadata": {},
   "outputs": [],
   "source": [
    "# Defined necessary items for convenience.\n",
    "\n",
    "class ListNode:\n",
    "    def __init__(self, data, next=None):\n",
    "        self.data, self.next = data, next\n",
    "        \n",
    "def insert_after(L, next_list):\n",
    "    next_list.next = L.next\n",
    "    L.next = next_list\n",
    "    \n",
    "def make_LinkedList(L):\n",
    "    # L is a list of items\n",
    "    LinkedList = LinkedListIter = ListNode(L[0])\n",
    "    for l in L[1:]:\n",
    "        insert_after(LinkedListIter, ListNode(l))\n",
    "        LinkedListIter = LinkedListIter.next\n",
    "    return LinkedList\n",
    "\n",
    "def print_LinkedList(node):\n",
    "    while node:\n",
    "        print(node.data)\n",
    "        node = node.next\n",
    "        \n",
    "def reversed_LinkedList(L):\n",
    "    dummy = pre = ListNode(0, L)\n",
    "    iter = pre.next\n",
    "    \n",
    "    while iter.next:\n",
    "        temp = iter.next\n",
    "        iter.next, temp.next, pre.next = temp.next, pre.next, temp\n",
    "\n",
    "    return dummy.next"
   ]
  },
  {
   "cell_type": "code",
   "execution_count": 2,
   "metadata": {},
   "outputs": [
    {
     "name": "stdout",
     "output_type": "stream",
     "text": [
      "1\n",
      "2\n",
      "3\n",
      "4\n",
      "5\n",
      "6\n",
      "7\n",
      "8\n",
      "9\n"
     ]
    }
   ],
   "source": [
    "# Make Linked List\n",
    "LIST1 = [1, 2, 3, 4, 5, 6, 7, 8, 9]\n",
    "LinkedList1 = make_LinkedList(LIST1)\n",
    "print_LinkedList(LinkedList1)"
   ]
  },
  {
   "cell_type": "code",
   "execution_count": 3,
   "metadata": {},
   "outputs": [
    {
     "name": "stdout",
     "output_type": "stream",
     "text": [
      "9\n",
      "8\n",
      "7\n",
      "6\n",
      "5\n",
      "4\n",
      "3\n",
      "2\n",
      "1\n"
     ]
    }
   ],
   "source": [
    "# Reversed the linked list\n",
    "ReversedLinkedList1 = reversed_LinkedList(LinkedList1)\n",
    "print_LinkedList(ReversedLinkedList1)"
   ]
  },
  {
   "cell_type": "code",
   "execution_count": 4,
   "metadata": {},
   "outputs": [
    {
     "name": "stdout",
     "output_type": "stream",
     "text": [
      "True\n",
      "False\n"
     ]
    }
   ],
   "source": [
    "def palindromic_LinkedList(L):\n",
    "    # Finds the half point\n",
    "    fast = slow = L\n",
    "    while fast and fast.next:\n",
    "        fast, slow = fast.next.next, slow.next\n",
    "    \n",
    "    # Evaluate the string\n",
    "    first_half, second_half = L, reversed_LinkedList(slow)\n",
    "    while second_half:\n",
    "        if first_half.data != second_half.data:\n",
    "            return False\n",
    "        first_half, second_half = first_half.next, second_half.next\n",
    "    \n",
    "    return True\n",
    "    \n",
    "LIST2 = ['i', 't', 'e', 'r', 'e', 't', 'i']\n",
    "LIST3 = ['i', 't', 'e', 'r', 'a', 'b', 'i']\n",
    "LinkedList2 = make_LinkedList(LIST2)\n",
    "LinkedList3 = make_LinkedList(LIST3)\n",
    "print(palindromic_LinkedList(LinkedList2))\n",
    "print(palindromic_LinkedList(LinkedList3))"
   ]
  }
 ],
 "metadata": {
  "kernelspec": {
   "display_name": "Python 3",
   "language": "python",
   "name": "python3"
  },
  "language_info": {
   "codemirror_mode": {
    "name": "ipython",
    "version": 3
   },
   "file_extension": ".py",
   "mimetype": "text/x-python",
   "name": "python",
   "nbconvert_exporter": "python",
   "pygments_lexer": "ipython3",
   "version": "3.7.7"
  }
 },
 "nbformat": 4,
 "nbformat_minor": 4
}
