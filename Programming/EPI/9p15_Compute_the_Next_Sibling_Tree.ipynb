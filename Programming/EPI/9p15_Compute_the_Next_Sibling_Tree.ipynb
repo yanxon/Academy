{
 "cells": [
  {
   "cell_type": "code",
   "execution_count": 1,
   "metadata": {},
   "outputs": [],
   "source": [
    "class Node:\n",
    "    def __init__(self, value, left=None, right=None, next=None):\n",
    "        self.value = value\n",
    "        self.left = left\n",
    "        self.right = right\n",
    "        self.next = next"
   ]
  },
  {
   "cell_type": "code",
   "execution_count": 2,
   "metadata": {},
   "outputs": [],
   "source": [
    "a = Node('A')\n",
    "b = Node('B')\n",
    "c = Node('C')\n",
    "d = Node('D')\n",
    "e = Node('E')\n",
    "f = Node('F')\n",
    "g = Node('G')\n",
    "h = Node('H')\n",
    "i = Node('I')\n",
    "j = Node('J')\n",
    "k = Node('K')\n",
    "l = Node('L')\n",
    "m = Node('M')\n",
    "n = Node('N')\n",
    "o = Node('O')\n",
    "\n",
    "# Perfect binary tree\n",
    "a.left, a.right = b, i\n",
    "b.left, b.right = c, f\n",
    "i.left, i.right = j, m\n",
    "c.left, c.right = d, e\n",
    "f.left, f.right = g, h\n",
    "j.left, j.right = k, l\n",
    "m.left, m.right = n, o\n",
    "\n",
    "Tree_list = [a, b, c, d, e, f, g, h, i, j, k, l, m, n, o]"
   ]
  },
  {
   "cell_type": "code",
   "execution_count": 3,
   "metadata": {},
   "outputs": [],
   "source": [
    "def attach_next_siblings(head):\n",
    "    def get_next_siblings(Node):\n",
    "        while Node and Node.left:\n",
    "            Node.left.next = Node.right\n",
    "            try:\n",
    "                Node.right.next = Node.next.left\n",
    "            except:\n",
    "                Node.right.next = Node.next\n",
    "            # an equivalent to try/except is\n",
    "            # Node.right.next = Node.next and Node.next.left\n",
    "            Node = Node.next\n",
    "            \n",
    "    while head and head.left:\n",
    "        get_next_siblings(head)\n",
    "        head = head.left"
   ]
  },
  {
   "cell_type": "code",
   "execution_count": 4,
   "metadata": {},
   "outputs": [],
   "source": [
    "attach_next_siblings(a)"
   ]
  },
  {
   "cell_type": "code",
   "execution_count": 5,
   "metadata": {},
   "outputs": [],
   "source": [
    "def print_next_siblings(tree_list):\n",
    "    for node in tree_list:\n",
    "        if node.next:\n",
    "            print(node.value, node.next.value)\n",
    "        else:\n",
    "            print(node.value, node.next)"
   ]
  },
  {
   "cell_type": "code",
   "execution_count": 6,
   "metadata": {},
   "outputs": [
    {
     "name": "stdout",
     "output_type": "stream",
     "text": [
      "A None\n",
      "B I\n",
      "C F\n",
      "D E\n",
      "E G\n",
      "F J\n",
      "G H\n",
      "H K\n",
      "I None\n",
      "J M\n",
      "K L\n",
      "L N\n",
      "M None\n",
      "N O\n",
      "O None\n"
     ]
    }
   ],
   "source": [
    "print_next_siblings(Tree_list)"
   ]
  }
 ],
 "metadata": {
  "kernelspec": {
   "display_name": "Python 3",
   "language": "python",
   "name": "python3"
  },
  "language_info": {
   "codemirror_mode": {
    "name": "ipython",
    "version": 3
   },
   "file_extension": ".py",
   "mimetype": "text/x-python",
   "name": "python",
   "nbconvert_exporter": "python",
   "pygments_lexer": "ipython3",
   "version": "3.7.7"
  }
 },
 "nbformat": 4,
 "nbformat_minor": 4
}
