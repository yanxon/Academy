{
 "cells": [
  {
   "cell_type": "code",
   "execution_count": 1,
   "metadata": {},
   "outputs": [],
   "source": [
    "lst_strings = ['kendo', 'taekwondo', 'judo', 'kungfu', 'MMA', 'jesus', 'japanese-jujitsu', 'brazilian-jujitsu',\n",
    "               'shaolin', 'krav maga']\n",
    "\n",
    "import heapq, itertools\n",
    "def top_k(k: int, lst_strings):\n",
    "    min_heap = [(len(s), s) for s in itertools.islice(lst_strings, k)]\n",
    "    heapq.heapify(min_heap)\n",
    "    for next_string in lst_strings[k:]:\n",
    "        heapq.heappushpop(min_heap, (len(next_string), next_string))\n",
    "    return [p[1] for p in heapq.nsmallest(k, min_heap)]"
   ]
  },
  {
   "cell_type": "code",
   "execution_count": 2,
   "metadata": {},
   "outputs": [
    {
     "data": {
      "text/plain": [
       "['shaolin', 'krav maga', 'taekwondo', 'japanese-jujitsu', 'brazilian-jujitsu']"
      ]
     },
     "execution_count": 2,
     "metadata": {},
     "output_type": "execute_result"
    }
   ],
   "source": [
    "top_k(5, lst_strings)"
   ]
  }
 ],
 "metadata": {
  "kernelspec": {
   "display_name": "Python 3",
   "language": "python",
   "name": "python3"
  },
  "language_info": {
   "codemirror_mode": {
    "name": "ipython",
    "version": 3
   },
   "file_extension": ".py",
   "mimetype": "text/x-python",
   "name": "python",
   "nbconvert_exporter": "python",
   "pygments_lexer": "ipython3",
   "version": "3.7.7"
  }
 },
 "nbformat": 4,
 "nbformat_minor": 4
}
