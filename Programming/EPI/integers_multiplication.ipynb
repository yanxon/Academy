{
 "cells": [
  {
   "cell_type": "markdown",
   "metadata": {},
   "source": [
    "Certain applications require arbitrary precision arithmetic. One way to achieve this is to use arrays\n",
    "to represent integers, e.g., with one digit per array entry, with the most significant digit appearing\n",
    "first, and a negative leading digit denoting a negative integer. For example, <1,9,3,7,0,7,7,2,1>\n",
    "represents 193707721 and <-7,6,1,8,3,8,2,5,7,2,8,7> represents -761838257287.\n",
    "\n",
    "Write a program that takes two arrays representing integers, and retums an integer representing their product. For example, since 193707721 x -761838257287 = -147573952589676412927, if\n",
    "the inputs are <1,9,3,7,0,7,7,2,1> and <-7,6,1,8,3,8,2,5,7,2,8,7>, your function should return\n",
    "<-1,4,7,5,7,3,9,5,2,5,8,9,6,7,6,4,1,2,9,2,7>."
   ]
  },
  {
   "cell_type": "code",
   "execution_count": 1,
   "metadata": {},
   "outputs": [],
   "source": [
    "A1 = [1,9,3,7,0,7,7,2,1]\n",
    "A2 = [-7,6,1,8,3,8,2,5,7,2,8,7]"
   ]
  },
  {
   "cell_type": "code",
   "execution_count": 2,
   "metadata": {},
   "outputs": [],
   "source": [
    "# Attempt 1\n",
    "\n",
    "def multiply(arr1, arr2):\n",
    "    negative1 = -1 if arr1[0] < 0 else 1\n",
    "    negative2 = -1 if arr2[0] < 0 else 1\n",
    "    negative = negative1 * negative2\n",
    "    \n",
    "    n1 = len(arr1)\n",
    "    n2 = len(arr2)\n",
    "    res = []\n",
    "    \n",
    "    for i in range(n1-1, -1, -1):\n",
    "        tmp = []\n",
    "        overflow = 0\n",
    "        for j in range(n2-1, -1, -1):\n",
    "            multi = abs(arr1[i] * arr2[j]) + overflow\n",
    "            residual = multi % 10\n",
    "            overflow = (multi - residual) / 10\n",
    "            tmp.append(int(residual))\n",
    "        if int(overflow) != 0:\n",
    "            tmp.append(int(overflow))\n",
    "        res.append(tmp)\n",
    "        #print(tmp[::-1])\n",
    "    \n",
    "    total_res = []\n",
    "    for i in range(len(res[0])):\n",
    "        total_res.append(res[0][i])\n",
    "    \n",
    "    for i in range(1, len(res)):\n",
    "        residual, overflow = 0, 0\n",
    "        for j in range(0, len(res[i])):\n",
    "            if i+j < len(total_res):\n",
    "                total_res[i+j] += res[i][j] + overflow\n",
    "                residual = total_res[i+j] % 10\n",
    "                overflow = (total_res[i+j] - residual) / 10\n",
    "                total_res[i+j] = int(residual)\n",
    "                #print(total_res[i+j])\n",
    "            elif i+j >= len(total_res):\n",
    "                total_res.append(int(res[i][j]+overflow))\n",
    "                overflow = int(0)\n",
    "    if int(overflow) != 0:\n",
    "        total_res.append(int(overflow))\n",
    "            \n",
    "    total_res[-1] *= negative\n",
    "    \n",
    "    return total_res[::-1]\n",
    "\n",
    "# The time complexity is O(M*N) where M & N are the lengths of the first and second array."
   ]
  },
  {
   "cell_type": "code",
   "execution_count": 3,
   "metadata": {},
   "outputs": [
    {
     "name": "stdout",
     "output_type": "stream",
     "text": [
      "-147573952589676412927\n"
     ]
    }
   ],
   "source": [
    "result = multiply(A1, A2)\n",
    "\n",
    "# Print out\n",
    "total_res, factor = 0, 1\n",
    "for i in range(len(result)-1, -1, -1):\n",
    "    if i != 0:\n",
    "        total_res += factor * result[i]\n",
    "    else:\n",
    "        sign = -1 if result[i] < 0 else 1\n",
    "        total_res += factor * abs(result[i])\n",
    "        total_res *= sign\n",
    "    factor *= 10\n",
    "print(int(total_res))"
   ]
  },
  {
   "cell_type": "code",
   "execution_count": 4,
   "metadata": {},
   "outputs": [],
   "source": [
    "# Attempt 2\n",
    "\n",
    "def multiply2(A1, A2):\n",
    "    arr1 = list(A1) # Create a copy of A1\n",
    "    arr2 = list(A2) # Create a copy of A2\n",
    "    sign = -1 if ((arr1[0] < 0) ^ (arr2[0] < 0)) else 1\n",
    "    arr1[0], arr2[0] = abs(arr1[0]), abs(arr2[0])\n",
    "    \n",
    "    n1 = len(arr1)\n",
    "    n2 = len(arr2)\n",
    "    results = [0] * (n1+n2)\n",
    "    \n",
    "    for i in range(n1-1, -1, -1):\n",
    "        for j in range(n2-1, -1, -1):\n",
    "            results[i+j+1] += arr1[i] * arr2[j]\n",
    "            results[i+j] += results[i+j+1] // 10\n",
    "            results[i+j+1] %= 10\n",
    "    \n",
    "    if results[0] == 0:\n",
    "        return [sign*results[1]] + results[2:]\n",
    "    else:\n",
    "        return [sign*results[0]] + results[1:]"
   ]
  },
  {
   "cell_type": "code",
   "execution_count": 5,
   "metadata": {},
   "outputs": [
    {
     "name": "stdout",
     "output_type": "stream",
     "text": [
      "-147573952589676412927\n"
     ]
    }
   ],
   "source": [
    "multiply2(A1, A2)\n",
    "\n",
    "# Print out\n",
    "total_res, factor = 0, 1\n",
    "for i in range(len(result)-1, -1, -1):\n",
    "    if i != 0:\n",
    "        total_res += factor * result[i]\n",
    "    else:\n",
    "        sign = -1 if result[i] < 0 else 1\n",
    "        total_res += factor * abs(result[i])\n",
    "        total_res *= sign\n",
    "    factor *= 10\n",
    "print(int(total_res))"
   ]
  }
 ],
 "metadata": {
  "kernelspec": {
   "display_name": "Python 3",
   "language": "python",
   "name": "python3"
  },
  "language_info": {
   "codemirror_mode": {
    "name": "ipython",
    "version": 3
   },
   "file_extension": ".py",
   "mimetype": "text/x-python",
   "name": "python",
   "nbconvert_exporter": "python",
   "pygments_lexer": "ipython3",
   "version": "3.7.4"
  }
 },
 "nbformat": 4,
 "nbformat_minor": 2
}
