{
 "cells": [
  {
   "cell_type": "code",
   "execution_count": 1,
   "metadata": {},
   "outputs": [
    {
     "data": {
      "text/plain": [
       "[['logarithmic', 'algorithmic']]"
      ]
     },
     "execution_count": 1,
     "metadata": {},
     "output_type": "execute_result"
    }
   ],
   "source": [
    "# My O(n * mlogm) solution\n",
    "\n",
    "array = ['logarithmic', 'algorithmic']\n",
    "\n",
    "def find_anagrams(array: list) -> dict:\n",
    "    anagrams = {}\n",
    "    for arr in array:\n",
    "        anagram = ''.join(sorted(arr))\n",
    "        if anagram not in anagrams.keys():\n",
    "            anagrams[anagram] = [arr]\n",
    "        else:\n",
    "            anagrams[anagram].append(arr)\n",
    "    return [value for key, value in anagrams.items() if len(value) > 1]\n",
    "\n",
    "find_anagrams(array)"
   ]
  },
  {
   "cell_type": "code",
   "execution_count": 2,
   "metadata": {},
   "outputs": [
    {
     "data": {
      "text/plain": [
       "[['logarithmic', 'algorithmic']]"
      ]
     },
     "execution_count": 2,
     "metadata": {},
     "output_type": "execute_result"
    }
   ],
   "source": [
    "# O(n * mlogm) solution\n",
    "\n",
    "import collections\n",
    "def find_anagrams_2(dictionary) -> list:\n",
    "    sorted_string_to_anagrams = collections.defaultdict(list)\n",
    "    \n",
    "    for s in dictionary:\n",
    "        sorted_string_to_anagrams[''.join(sorted(s))].append(s)\n",
    "        \n",
    "    return [group for group in sorted_string_to_anagrams.values() if len(group) >= 2]\n",
    "\n",
    "find_anagrams_2(array)"
   ]
  },
  {
   "cell_type": "code",
   "execution_count": 3,
   "metadata": {},
   "outputs": [
    {
     "data": {
      "text/plain": [
       "[['logarithmic', 'algorithmic']]"
      ]
     },
     "execution_count": 3,
     "metadata": {},
     "output_type": "execute_result"
    }
   ],
   "source": [
    "# O(nm) solution\n",
    "\n",
    "def find_anagrams3(array: list) -> dict:\n",
    "    anagrams = {}\n",
    "    for arr in array:\n",
    "        k_anagram = [0] * 26\n",
    "        for a in arr:\n",
    "            i = ord(a) - 96\n",
    "            k_anagram[i] += 1\n",
    "        k_anagram = tuple(k_anagram)\n",
    "        \n",
    "        if k_anagram not in anagrams.keys():\n",
    "            anagrams[k_anagram] = [arr]\n",
    "        else:\n",
    "            anagrams[k_anagram].append(arr)\n",
    "    return [value for key, value in anagrams.items() if len(value) > 1]\n",
    "\n",
    "find_anagrams3(array)"
   ]
  }
 ],
 "metadata": {
  "kernelspec": {
   "display_name": "Python 3",
   "language": "python",
   "name": "python3"
  },
  "language_info": {
   "codemirror_mode": {
    "name": "ipython",
    "version": 3
   },
   "file_extension": ".py",
   "mimetype": "text/x-python",
   "name": "python",
   "nbconvert_exporter": "python",
   "pygments_lexer": "ipython3",
   "version": "3.7.4"
  }
 },
 "nbformat": 4,
 "nbformat_minor": 2
}
