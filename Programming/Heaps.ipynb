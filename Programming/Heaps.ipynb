{
 "cells": [
  {
   "cell_type": "code",
   "execution_count": 43,
   "metadata": {},
   "outputs": [],
   "source": [
    "a = [561, 314, 401, 28, 156, 359, 271, 11, 3]"
   ]
  },
  {
   "cell_type": "code",
   "execution_count": 26,
   "metadata": {},
   "outputs": [],
   "source": [
    "def delete_max(heap):\n",
    "    new_heap = heap[1:]\n",
    "    if new_heap[0] < new_heap[1]:\n",
    "        new_heap[0], new_heap[1] = new_heap[1], new_heap[0]\n",
    "    \n",
    "    for i in range(1, len(new_heap)//2-1):\n",
    "        print(new_heap[i])\n",
    "        if new_heap[2*i+1] > new_heap[i]:\n",
    "            new_heap[i+1], new_heap[2*i+1] = new_heap[2*i+1], new_heap[i+1]\n",
    "        if new_heap[2*i+2] > new_heap[i]:\n",
    "            new_heap[i+1], new_heap[2*i+2] = new_heap[2*i+2], new_heap[i+1]\n",
    "            \n",
    "    return new_heap"
   ]
  },
  {
   "cell_type": "code",
   "execution_count": 202,
   "metadata": {},
   "outputs": [
    {
     "data": {
      "text/plain": [
       "[561, 401]"
      ]
     },
     "execution_count": 202,
     "metadata": {},
     "output_type": "execute_result"
    }
   ],
   "source": [
    "a = [561, 314, 401, 28, 156, 359, 271, 11, 3]\n",
    "def k_largest_in_binary_heap_v2(arr: list, k: int) -> list:\n",
    "    if k <= 0:\n",
    "        return []\n",
    "    \n",
    "    result, k_array = [], []\n",
    "    k_array.append((-arr[0], 0))\n",
    "    \n",
    "    for _ in range(k):\n",
    "        candidate_idx = k_array[0][1]\n",
    "        result.append(-heapq.heappop(k_array)[0])\n",
    "        \n",
    "        left_idx = 2 * candidate_idx + 1\n",
    "        if left_idx < len(arr):\n",
    "            heapq.heappush(k_array, (-arr[left_idx], left_idx))\n",
    "            \n",
    "        right_idx = 2 * candidate_idx + 2\n",
    "        if right_idx < len(arr):\n",
    "            heapq.heappush(k_array, (-arr[right_idx], right_idx))\n",
    "            \n",
    "    return result\n",
    "k_largest_in_binary_heap_v2(a, 2)"
   ]
  }
 ],
 "metadata": {
  "kernelspec": {
   "display_name": "Python 3",
   "language": "python",
   "name": "python3"
  },
  "language_info": {
   "codemirror_mode": {
    "name": "ipython",
    "version": 3
   },
   "file_extension": ".py",
   "mimetype": "text/x-python",
   "name": "python",
   "nbconvert_exporter": "python",
   "pygments_lexer": "ipython3",
   "version": "3.7.4"
  }
 },
 "nbformat": 4,
 "nbformat_minor": 2
}
