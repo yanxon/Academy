{
 "cells": [
  {
   "cell_type": "code",
   "execution_count": 1,
   "metadata": {},
   "outputs": [],
   "source": [
    "import collections\n",
    "\n",
    "MatchResult = collections.namedtuple('MatchResult', ('winning_team', 'losing_team'))\n",
    "\n",
    "def can_team_a_beat_team_b(matches, team_a, team_b):\n",
    "    def build_graph():\n",
    "        graph = collections.defaultdict(set)\n",
    "        for match in matches:\n",
    "            graph[match.winning_team].add(match.losing_team)\n",
    "        return graph\n",
    "    \n",
    "    def is_reachable_dfs(graph, curr, dest, visited=set()):\n",
    "        if curr == dest:\n",
    "            return True\n",
    "        elif curr in visited or curr not in graph:\n",
    "            return False\n",
    "        visited.add(curr)\n",
    "        return any(is_reachable_dfs(graph, team, dest) for team in graph[curr])\n",
    "    \n",
    "    return is_reachable_dfs(build_graph(), team_a, team_b)"
   ]
  },
  {
   "cell_type": "code",
   "execution_count": 11,
   "metadata": {},
   "outputs": [],
   "source": [
    "graph = collections.defaultdict(set)"
   ]
  }
 ],
 "metadata": {
  "kernelspec": {
   "display_name": "Python 3",
   "language": "python",
   "name": "python3"
  },
  "language_info": {
   "codemirror_mode": {
    "name": "ipython",
    "version": 3
   },
   "file_extension": ".py",
   "mimetype": "text/x-python",
   "name": "python",
   "nbconvert_exporter": "python",
   "pygments_lexer": "ipython3",
   "version": "3.7.4"
  }
 },
 "nbformat": 4,
 "nbformat_minor": 2
}
