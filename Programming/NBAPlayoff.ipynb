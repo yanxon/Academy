{
 "cells": [
  {
   "cell_type": "markdown",
   "metadata": {},
   "source": [
    "Given a list of the outcomes of matches between pairs of teams, with each outcome being a win or loss. If there exists two teams (A and B), is there a sequence of teams starting with A and ending with B such that each team is the sequence has beaten the next team in the sequence?\n",
    "\n",
    "I will provide an example of with the 2020 NBA playoffs."
   ]
  },
  {
   "cell_type": "code",
   "execution_count": 5,
   "metadata": {},
   "outputs": [],
   "source": [
    "# EPI Graphs Boot Camp\n",
    "import collections\n",
    "MatchResult = collections.namedtuple('MatchResult', ('winning_team', 'losing_team'))\n",
    "\n",
    "def can_team_a_beat_team_b(matches, team_a, team_b):\n",
    "    def build_graph():\n",
    "        graph = collections.defaultdict(set)\n",
    "        for match in matches:\n",
    "            graph[match.winning_team].add(match.losing_team)\n",
    "        return graph\n",
    "    \n",
    "    def is_reachable_dfs(graph, curr, dest, visited=set()):\n",
    "        print(curr)\n",
    "        if curr == dest:\n",
    "            return True\n",
    "        elif curr in visited or curr not in graph:\n",
    "            return False\n",
    "        visited.add(curr)\n",
    "        return any(is_reachable_dfs(graph, team, dest) for team in graph[curr])\n",
    "    \n",
    "    return is_reachable_dfs(build_graph(), team_a, team_b)"
   ]
  },
  {
   "cell_type": "code",
   "execution_count": 6,
   "metadata": {},
   "outputs": [],
   "source": [
    "# NBA playoffs 2020\n",
    "\n",
    "East1 = MatchResult('Lakers', 'Trail Blazers')\n",
    "East2 = MatchResult('Rockets', 'Thunders')\n",
    "East3 = MatchResult('Nuggets', 'Jazz')\n",
    "East4 = MatchResult('Clippers', 'Mavericks')\n",
    "\n",
    "East5 = MatchResult('Lakers', 'Rockets')\n",
    "East6 = MatchResult('Nuggets', 'Clippers')\n",
    "\n",
    "East7 = MatchResult('Lakers', 'Nuggets')\n",
    "\n",
    "West1 = MatchResult('Bucks', 'Magic')\n",
    "West2 = MatchResult('Heat', 'Pacers')\n",
    "West3 = MatchResult('Celtics', '76ers')\n",
    "West4 = MatchResult('Raptors', 'Nets')\n",
    "\n",
    "West5 = MatchResult('Heat', 'Bucks')\n",
    "West6 = MatchResult('Celtics', 'Raptors')\n",
    "\n",
    "West7 = MatchResult('Heat', 'Celtics')\n",
    "\n",
    "East_West = MatchResult('Lakers', 'Heat')\n",
    "\n",
    "matches = [East1, East2, East3, East4, East5, East6, East7,\n",
    "           West1, West2, West3, West4, West5, West6, West7,\n",
    "           East_West]"
   ]
  },
  {
   "cell_type": "code",
   "execution_count": 7,
   "metadata": {},
   "outputs": [
    {
     "name": "stdout",
     "output_type": "stream",
     "text": [
      "Lakers\n",
      "Nuggets\n",
      "Jazz\n",
      "Clippers\n",
      "Mavericks\n",
      "Rockets\n",
      "Thunders\n",
      "Trail Blazers\n",
      "Heat\n"
     ]
    },
    {
     "data": {
      "text/plain": [
       "True"
      ]
     },
     "execution_count": 7,
     "metadata": {},
     "output_type": "execute_result"
    }
   ],
   "source": [
    "# Lakers wins the champions\n",
    "can_team_a_beat_team_b(matches, 'Lakers', 'Heat')"
   ]
  },
  {
   "cell_type": "code",
   "execution_count": 4,
   "metadata": {},
   "outputs": [
    {
     "data": {
      "text/plain": [
       "False"
      ]
     },
     "execution_count": 4,
     "metadata": {},
     "output_type": "execute_result"
    }
   ],
   "source": [
    "# Heat beats the Bucks, so this should return False\n",
    "can_team_a_beat_team_b(matches, 'Bucks', 'Heat')"
   ]
  }
 ],
 "metadata": {
  "kernelspec": {
   "display_name": "Python 3",
   "language": "python",
   "name": "python3"
  },
  "language_info": {
   "codemirror_mode": {
    "name": "ipython",
    "version": 3
   },
   "file_extension": ".py",
   "mimetype": "text/x-python",
   "name": "python",
   "nbconvert_exporter": "python",
   "pygments_lexer": "ipython3",
   "version": "3.7.7"
  }
 },
 "nbformat": 4,
 "nbformat_minor": 2
}
