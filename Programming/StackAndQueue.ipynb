{
 "cells": [
  {
   "cell_type": "code",
   "execution_count": 2,
   "metadata": {},
   "outputs": [],
   "source": [
    "class Node:\n",
    "    def __init__(self, data, next=None):\n",
    "        self.data = data\n",
    "        self.next = next\n",
    "\n",
    "def print_linked_list_in_reverse(head: Node) -> None:\n",
    "    nodes = []\n",
    "    while head:\n",
    "        nodes.append(head.data)\n",
    "        head = head.next\n",
    "    while nodes:\n",
    "        print(nodes.pop())"
   ]
  },
  {
   "cell_type": "code",
   "execution_count": 17,
   "metadata": {},
   "outputs": [],
   "source": [
    "import collections\n",
    "\n",
    "class Stack:\n",
    "    ElementWithCachedMax = collections.namedtuple('ElementWithCachedMax', ('element', 'max'))\n",
    "    def __init__(self) -> None:\n",
    "        self._element_with_cached_max: List[Stack.ElementWithCachedMax] = []\n",
    "            \n",
    "    def empty(self) -> bool:\n",
    "        return len(self._element_with_cached_max) == 0\n",
    "    \n",
    "    def max(self) -> int:\n",
    "        return self._element_with_cached_max[-1].max\n",
    "    \n",
    "    def pop(self) -> int:\n",
    "        return self._element_with_cached_max.pop().element\n",
    "    \n",
    "    def push(self, x: int) -> None:\n",
    "        self._element_with_cached_max.append(self.ElementWithCachedMax(x, x if self.empty() else max(x, self.max())))"
   ]
  },
  {
   "cell_type": "code",
   "execution_count": 18,
   "metadata": {},
   "outputs": [],
   "source": [
    "stack = Stack()"
   ]
  },
  {
   "cell_type": "code",
   "execution_count": 19,
   "metadata": {},
   "outputs": [],
   "source": [
    "stack.push(1)\n",
    "stack.push(5)\n",
    "stack.push(0)\n",
    "stack.push(1)\n",
    "stack.push(2)\n",
    "stack.push(2)\n",
    "stack.push(1)\n",
    "stack.push(5)\n",
    "stack.push(2)\n",
    "stack.push(6)\n",
    "stack.push(3)\n",
    "stack.push(3)\n",
    "stack.push(0)\n",
    "stack.push(3)"
   ]
  },
  {
   "cell_type": "code",
   "execution_count": 20,
   "metadata": {},
   "outputs": [
    {
     "name": "stdout",
     "output_type": "stream",
     "text": [
      "6\n"
     ]
    }
   ],
   "source": [
    "print(stack._element_with_cached_max[-1].max)"
   ]
  },
  {
   "cell_type": "code",
   "execution_count": 26,
   "metadata": {},
   "outputs": [],
   "source": [
    "def shortest_equivalent_path(path: str) -> str:\n",
    "    if not path:\n",
    "        raise ValueError('Empty string is not a valid path.')\n",
    "        \n",
    "    path_names = [] # Uses list as a stack\n",
    "    if path[0] == '/':\n",
    "        path_names.append('/')\n",
    "        \n",
    "    for token in (token for token in path.split('/') if token not in ['.', '']):\n",
    "        if token == '..':\n",
    "            if not path_names or path_names[-1] == '..':\n",
    "                path_names.append(token)\n",
    "            else:\n",
    "                if path_names[-1] == '/':\n",
    "                    raise ValueError('Path Error')\n",
    "                path_names.pop()\n",
    "        else:\n",
    "            path_names.append(token)\n",
    "            \n",
    "    result = '/'.join(path_names)\n",
    "    return result[result.startswith('//'):]"
   ]
  },
  {
   "cell_type": "code",
   "execution_count": 27,
   "metadata": {},
   "outputs": [
    {
     "name": "stdout",
     "output_type": "stream",
     "text": [
      "sc\n",
      "..\n",
      "tc\n",
      "awk\n"
     ]
    },
    {
     "data": {
      "text/plain": [
       "'tc/awk'"
      ]
     },
     "execution_count": 27,
     "metadata": {},
     "output_type": "execute_result"
    }
   ],
   "source": [
    "shortest_equivalent_path('sc//./../tc/awk/./.')"
   ]
  },
  {
   "cell_type": "code",
   "execution_count": 31,
   "metadata": {},
   "outputs": [],
   "source": [
    "def shortest_equivalent_path(path: str) -> str:\n",
    "    if not path:\n",
    "        raise ValueError('An empty string is not a path')\n",
    "    \n",
    "    path_names = []\n",
    "    if path[0] == '/':\n",
    "        path_names.append('/')\n",
    "        \n",
    "    for token in (token for token in path.split('/') if token not in ['.', '']):\n",
    "        if token == '..':\n",
    "            if not path_names or path_names[-1] == '..':\n",
    "                path_names.append(token)\n",
    "            else:\n",
    "                if path_names[-1] == '/':\n",
    "                    raise ValueError('Path Error')\n",
    "                path_names.pop()\n",
    "        else:\n",
    "            path_names.append(token)\n",
    "    \n",
    "    result = '/'.join(path_names)\n",
    "    return result[result.startswith('//'):]"
   ]
  },
  {
   "cell_type": "code",
   "execution_count": 32,
   "metadata": {},
   "outputs": [
    {
     "data": {
      "text/plain": [
       "'tc/awk'"
      ]
     },
     "execution_count": 32,
     "metadata": {},
     "output_type": "execute_result"
    }
   ],
   "source": [
    "shortest_equivalent_path('sc//./../tc/awk/./.')"
   ]
  }
 ],
 "metadata": {
  "kernelspec": {
   "display_name": "Python 3",
   "language": "python",
   "name": "python3"
  },
  "language_info": {
   "codemirror_mode": {
    "name": "ipython",
    "version": 3
   },
   "file_extension": ".py",
   "mimetype": "text/x-python",
   "name": "python",
   "nbconvert_exporter": "python",
   "pygments_lexer": "ipython3",
   "version": "3.7.4"
  }
 },
 "nbformat": 4,
 "nbformat_minor": 2
}
