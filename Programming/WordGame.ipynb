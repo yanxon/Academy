{
 "cells": [
  {
   "cell_type": "code",
   "execution_count": 152,
   "metadata": {},
   "outputs": [],
   "source": [
    "def is_different_by_one_char(str_a, str_b):\n",
    "    if len(str_a) != len(str_b):\n",
    "        return False\n",
    "    \n",
    "    count = 0\n",
    "    for i in range(len(str_a)):\n",
    "        if str_a[i] != str_b[i]:\n",
    "            count += 1\n",
    "        if count > 1:\n",
    "            break\n",
    "\n",
    "    return True if count == 1 else False\n",
    "\n",
    "\n",
    "def set_of_words(word_a, word_b, english_dictionary):\n",
    "    if len(word_a) != len(word_b):\n",
    "        raise ValueError('Word A and B don\\'t have the same length')\n",
    "    not_found = True\n",
    "    \n",
    "    my_dictionary = {}    \n",
    "    next_word = {word_a}\n",
    "    \n",
    "    while next_word and not_found:\n",
    "        curr_word = next_word.pop()\n",
    "        if curr_word not in my_dictionary:\n",
    "            my_dictionary[curr_word] = set()\n",
    "\n",
    "            for word in english_dictionary:\n",
    "                if is_different_by_one_char(curr_word, word):                    \n",
    "                    my_dictionary[curr_word].add(word)\n",
    "                    next_word.add(word)\n",
    "                    \n",
    "                    if word == word_b:\n",
    "                        not_found = False\n",
    "    \n",
    "    graph = []\n",
    "    def dfs(graph, curr, dest, visited=set()):\n",
    "        if curr == dest:\n",
    "            return True\n",
    "        elif curr in visited or curr not in graph:\n",
    "            return False\n",
    "        visited.append(curr)\n",
    "        return any(dfs(graph, team, dest, visited) for team in graph[curr])\n",
    "    \n",
    "    dfs(my_dictionary, word_a, word_b, graph)\n",
    "    graph.append(word_b)\n",
    "    \n",
    "    \n",
    "    return graph"
   ]
  },
  {
   "cell_type": "code",
   "execution_count": 153,
   "metadata": {},
   "outputs": [],
   "source": [
    "dictionary = ['aardvarks', 'beat', 'aardwolf', 'aardwolves', 'Aaren','Aargau', 'tent',\n",
    "             'meat', 'best', 'test', 'tend']"
   ]
  },
  {
   "cell_type": "code",
   "execution_count": 155,
   "metadata": {},
   "outputs": [
    {
     "name": "stdout",
     "output_type": "stream",
     "text": [
      "['meat', 'beat', 'best', 'test', 'tent']\n"
     ]
    }
   ],
   "source": [
    "path = set_of_words('meat', 'tent', dictionary)\n",
    "print(path)"
   ]
  },
  {
   "cell_type": "code",
   "execution_count": 159,
   "metadata": {},
   "outputs": [
    {
     "name": "stderr",
     "output_type": "stream",
     "text": [
      "IOPub data rate exceeded.\n",
      "The notebook server will temporarily stop sending output\n",
      "to the client in order to avoid crashing it.\n",
      "To change this limit, set the config variable\n",
      "`--NotebookApp.iopub_data_rate_limit`.\n",
      "\n",
      "Current values:\n",
      "NotebookApp.iopub_data_rate_limit=1000000.0 (bytes/sec)\n",
      "NotebookApp.rate_limit_window=3.0 (secs)\n",
      "\n"
     ]
    }
   ],
   "source": [
    "with open('mics/dictionary.txt') as word_file:\n",
    "    english_dictionary = list(word_file.read().split())\n",
    "print(english_dictionary)\n",
    "#path = set_of_words('meat', 'tent', dictionary)\n"
   ]
  },
  {
   "cell_type": "code",
   "execution_count": null,
   "metadata": {},
   "outputs": [],
   "source": []
  },
  {
   "cell_type": "code",
   "execution_count": null,
   "metadata": {},
   "outputs": [],
   "source": []
  }
 ],
 "metadata": {
  "kernelspec": {
   "display_name": "Python 3",
   "language": "python",
   "name": "python3"
  },
  "language_info": {
   "codemirror_mode": {
    "name": "ipython",
    "version": 3
   },
   "file_extension": ".py",
   "mimetype": "text/x-python",
   "name": "python",
   "nbconvert_exporter": "python",
   "pygments_lexer": "ipython3",
   "version": "3.7.7"
  }
 },
 "nbformat": 4,
 "nbformat_minor": 4
}
