{
 "cells": [
  {
   "cell_type": "markdown",
   "metadata": {},
   "source": [
    "Given two words, build a code to return a set of words between word A and word B, in which the difference between two consecutive words is one character. In addition, the set of words has to be as short as possible.\n",
    "\n",
    "For example, given word A is 'meat' and word B is 'peak'. A few results are <'meat', 'meak', 'peak'> and <'meat', 'meas', 'meak', 'peak'>. In this case, the optimal result will be <'meat', 'meak', 'peak'>. The differences between 'meat' and 'meak' are in the 't' and 'k'. Meanwhile, the differences between 'meak' and 'peak' are in the 'm' and 'p'."
   ]
  },
  {
   "cell_type": "code",
   "execution_count": 1,
   "metadata": {},
   "outputs": [],
   "source": [
    "# A class for a vertex in a graph\n",
    "class Vertex:\n",
    "    def __init__(self, vertex):\n",
    "        self.vertex = vertex\n",
    "        self.edges = []"
   ]
  },
  {
   "cell_type": "code",
   "execution_count": 2,
   "metadata": {},
   "outputs": [],
   "source": [
    "# A function to evaluate whether \n",
    "# the distance from str_a and str_b is 1 or False.\n",
    "def is_different_by_one_char(str_a, str_b):\n",
    "    if len(str_a) != len(str_b):\n",
    "        return False\n",
    "    \n",
    "    count = 0\n",
    "    for i in range(len(str_a)):\n",
    "        if str_a[i] != str_b[i]:\n",
    "            count += 1\n",
    "        if count > 1:\n",
    "            break\n",
    "\n",
    "    return True if count == 1 else False"
   ]
  },
  {
   "cell_type": "code",
   "execution_count": 3,
   "metadata": {},
   "outputs": [],
   "source": [
    "import collections\n",
    "def set_of_words(word_a, word_b, english_dictionary):\n",
    "    n = len(word_a)\n",
    "    if len(word_a) != len(word_b):\n",
    "        raise ValueError(f'{word_a} and {word_b} don\\'t have the same length.')\n",
    "    if word_a == word_b:\n",
    "        return [word_a]\n",
    "    \n",
    "    not_found = True\n",
    "    temp_words = collections.deque([word_a]) # queue/FIFO\n",
    "    graph = {word_a: Vertex(vertex=word_a)}\n",
    "    \n",
    "    # Build graph based on BFS algorithm\n",
    "    while not_found and temp_words:\n",
    "        current_word = temp_words.popleft()\n",
    "        for word in english_dictionary:\n",
    "            if len(word) == n:\n",
    "                if is_different_by_one_char(current_word, word):\n",
    "                    if word not in graph:\n",
    "                        graph[word] = Vertex(vertex=word)\n",
    "                        temp_words.append(word)\n",
    "                    graph[current_word].edges.append(graph[word])\n",
    "                    if word == word_b:\n",
    "                        not_found = False\n",
    "    \n",
    "    # Return None if there exist no path.\n",
    "    if not_found == True and len(temp_words) == 0:\n",
    "        print(f'There is no path that exists between {word_a} and {word_b}')\n",
    "        return None\n",
    "    \n",
    "    # Find the shortest path in the graph\n",
    "    explored = []\n",
    "    q = collections.deque([[word_a]])\n",
    "    while q:\n",
    "        path = q.popleft()\n",
    "        node = path[-1]\n",
    "\n",
    "        if node not in explored:\n",
    "            edges = graph[node].edges\n",
    "            for edge in edges:\n",
    "                new_path = list(path)\n",
    "                new_path.append(edge.vertex)\n",
    "                q.append(new_path)\n",
    "                \n",
    "                if edge.vertex == word_b:\n",
    "                    return new_path\n",
    "            explored.append(node)"
   ]
  },
  {
   "cell_type": "code",
   "execution_count": 4,
   "metadata": {},
   "outputs": [
    {
     "name": "stdout",
     "output_type": "stream",
     "text": [
      "['meat', 'meak', 'peak']\n"
     ]
    }
   ],
   "source": [
    "# meat to peak\n",
    "with open('mics/dictionary.txt') as word_file:\n",
    "    english_dictionary = list(word_file.read().split())\n",
    "shortest_path = set_of_words('meat', 'peak', english_dictionary)\n",
    "print(shortest_path)"
   ]
  },
  {
   "cell_type": "code",
   "execution_count": 5,
   "metadata": {},
   "outputs": [
    {
     "name": "stdout",
     "output_type": "stream",
     "text": [
      "['sever', 'sewer']\n"
     ]
    }
   ],
   "source": [
    "# sever to sewer\n",
    "with open('mics/dictionary.txt') as word_file:\n",
    "    english_dictionary = list(word_file.read().split())\n",
    "shortest_path = set_of_words('sever', 'sewer', english_dictionary)\n",
    "print(shortest_path)"
   ]
  },
  {
   "cell_type": "code",
   "execution_count": 6,
   "metadata": {},
   "outputs": [
    {
     "name": "stdout",
     "output_type": "stream",
     "text": [
      "['great']\n"
     ]
    }
   ],
   "source": [
    "# great to great\n",
    "with open('mics/dictionary.txt') as word_file:\n",
    "    english_dictionary = list(word_file.read().split())\n",
    "shortest_path = set_of_words('great', 'great', english_dictionary)\n",
    "print(shortest_path)"
   ]
  },
  {
   "cell_type": "code",
   "execution_count": 7,
   "metadata": {},
   "outputs": [
    {
     "name": "stdout",
     "output_type": "stream",
     "text": [
      "There is no path that exists between basketball and volleyball\n",
      "None\n"
     ]
    }
   ],
   "source": [
    "# basketball to volleyball\n",
    "with open('mics/dictionary.txt') as word_file:\n",
    "    english_dictionary = list(word_file.read().split())\n",
    "shortest_path = set_of_words('basketball', 'volleyball', english_dictionary)\n",
    "print(shortest_path)"
   ]
  }
 ],
 "metadata": {
  "kernelspec": {
   "display_name": "Python 3",
   "language": "python",
   "name": "python3"
  },
  "language_info": {
   "codemirror_mode": {
    "name": "ipython",
    "version": 3
   },
   "file_extension": ".py",
   "mimetype": "text/x-python",
   "name": "python",
   "nbconvert_exporter": "python",
   "pygments_lexer": "ipython3",
   "version": "3.7.7"
  }
 },
 "nbformat": 4,
 "nbformat_minor": 4
}
