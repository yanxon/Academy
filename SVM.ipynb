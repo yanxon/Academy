{
 "cells": [
  {
   "cell_type": "markdown",
   "metadata": {},
   "source": [
    "# Understanding Support Vector Machines (SVM)\n",
    "\n",
    "In Machine Learning or Data Science community, Support Vector Machines (SVMs) is popular algorithms employed by many data scientists. SVMs is a supervised-learning algorithm for classification, regression, and outliers detection. But, how does SVR work?\n",
    "\n",
    "In this note, I will explain the mathematical intuition behind SVM and provide an example for SVM with Scikit-learn."
   ]
  },
  {
   "cell_type": "markdown",
   "metadata": {},
   "source": [
    "### 1. Mathematical Intuition"
   ]
  },
  {
   "cell_type": "markdown",
   "metadata": {},
   "source": [
    "### The cost function\n",
    "\n",
    "In every machine learning problem, it is essentially an optimization problem. The optimization objective of SVM is to minimize the weights in the cost function defined as:\n",
    "<br />\n",
    "<br />\n",
    "<center> $min_{w} [C \\sum_{i=1}^m{y^{(i)} F_{1}(w^Tx^{(i)}) + (1-y^{(i)}) F_{0}(w^Tx^{(i)})} + \\frac{1}{2} \\sum_{j=1}^{n}w_j^{2} ] $ </center>\n",
    "<br />\n",
    "To explain this cost function, it is better to provide some real example. Let's say we would like to determine between negative and positive ions. $y^{(i)}$ is the i-th sample of ions out of m ions. If it is positive ion, then $y^{(i)}$ is 1. If negative ion, $y^{(i)}$ is 0. The second term is composed of the sum all the weights square up to n weights. The C is the penalizing parameter; basically, a large C gives a smaller effect of the weights (the second term). The $F(w^Tx)$ is the rectified linear unit (ReLU) function. The subscripts on the F function corresponds to positive (1) and negative (2). (FYI, ReLU is a very popular activation function for artificial neural network (ANN). Here, the usage of ReLU has nothing to do with ANN activation function, so I'm not going to explain activation function.)\n",
    "\n",
    "The plots for the F functions are depicted below. The left-hand side graph is $F_{0}(w^Tx^{(i)})$, and the right-hand side graph is $F_{1}(w^Tx^{(i)})$. Thus, there are two conditions to be satisfied in minimization of the weights:\n",
    "<br />\n",
    "- If y = 1 (positive ion), then $w^Tx >> 0$\n",
    "<br />\n",
    "- If y = 0 (negative ion), then $w^Tx << 0$"
   ]
  },
  {
   "cell_type": "code",
   "execution_count": 110,
   "metadata": {},
   "outputs": [
    {
     "data": {
      "image/png": "[encoded data removed]",
      "text/plain": [
       "<Figure size 432x288 with 2 Axes>"
      ]
     },
     "metadata": {
      "needs_background": "light"
     },
     "output_type": "display_data"
    }
   ],
   "source": [
    "# Plotting ReLU function\n",
    "import numpy as np\n",
    "import matplotlib.pyplot as plt\n",
    "\n",
    "z = np.arange(-2, 2, .1)\n",
    "zero = np.zeros(len(z))\n",
    "y1 = np.max([zero, z], axis=0)\n",
    "y2 = np.max([zero, -z], axis=0)\n",
    "\n",
    "f, (ax1, ax2) = plt.subplots(1, 2, sharey=True)\n",
    "ax1.plot(z, y1)\n",
    "ax1.set_title('$F_{0}(w^Tx^{(i)})$')\n",
    "ax1.set_xlabel('$w^Tx$')\n",
    "\n",
    "ax2.plot(z, y2)\n",
    "ax2.set_title('$F_{1}(w^Tx^{(i)})$')\n",
    "ax2.set_xlabel('$w^Tx$')\n",
    "plt.show()"
   ]
  },
  {
   "cell_type": "markdown",
   "metadata": {},
   "source": [
    "Now, let's suppose that C is very large because SVMs usually performs better. The sum in the first term of the first equation has to be as close to zero as possible in order to minimize the equation. Thus, it is safe to say that the first term is zero if we choose a large C. Then, the second term is the only one remains. Before moving on to minimizing the second term, let's revisit vector inner product because it is the fundamental workhorse of SVMs."
   ]
  },
  {
   "cell_type": "markdown",
   "metadata": {},
   "source": [
    "### Vector Inner Product\n",
    "\n",
    "Let's review the vector inner product. For example:\n",
    "\n",
    "a = (a1,a2) <br />\n",
    "b = (b1,b2) <br />\n",
    "a · b = (a1)(b1) + (a2)(b2) <br />\n",
    "\n",
    "This is also equivalently true:\n",
    "\n",
    "a · b = |a||b| cos(θ)\n",
    "\n",
    "Now let's assume p = |a| cos(θ). p is a length of projection a to b. In the figure below, the length of the black vector is p = |a| cos(θ), i.e. the projection of red vector to the blue vector."
   ]
  },
  {
   "cell_type": "code",
   "execution_count": 158,
   "metadata": {},
   "outputs": [
    {
     "data": {
      "image/png": "[encoded data removed]",
      "text/plain": [
       "<Figure size 432x288 with 1 Axes>"
      ]
     },
     "metadata": {
      "needs_background": "light"
     },
     "output_type": "display_data"
    }
   ],
   "source": [
    "# A visualization for inner product\n",
    "\n",
    "import numpy as np\n",
    "import matplotlib.pyplot as plt\n",
    "\n",
    "soa = np.array([[0, 0, 2, 3], [0, 0, 4, 2],[0, 0, 2.7996, 1.3998]])\n",
    "X, Y, U, V = zip(*soa)\n",
    "plt.figure()\n",
    "ax = plt.gca()\n",
    "ax.axis('scaled')\n",
    "ax.quiver(X, Y, U, V, angles='xy', scale_units='xy', scale=1, color = ['r', 'b','k'])\n",
    "ax.set_xlim([0, 5])\n",
    "ax.set_ylim([0, 5])\n",
    "plt.draw()\n",
    "plt.show()"
   ]
  },
  {
   "cell_type": "markdown",
   "metadata": {},
   "source": [
    "### SVM Decision Boundary\n",
    "\n",
    "In the figure below, you and I intuitively know the black line is a better choice to separate the two datasets. But, how does the SVMs choose the black to be the best choice?"
   ]
  },
  {
   "cell_type": "code",
   "execution_count": 135,
   "metadata": {},
   "outputs": [
    {
     "data": {
      "image/png": "[encoded data removed]",
      "text/plain": [
       "<Figure size 432x288 with 1 Axes>"
      ]
     },
     "metadata": {
      "needs_background": "light"
     },
     "output_type": "display_data"
    }
   ],
   "source": [
    "import numpy as np\n",
    "import matplotlib.pyplot as plt\n",
    "\n",
    "x = np.linspace(-10,10,1000)\n",
    "y1 = -x + 10\n",
    "y2 = -(11/8)*x + 11\n",
    "\n",
    "# Plotting\n",
    "plt.figure()\n",
    "ax = plt.gca()\n",
    "ax.axis('scaled')\n",
    "ax.scatter([2,2,4,3,4.5,6.2,2.5],[2,3,1,3,4.5,2,6.1])\n",
    "ax.scatter([7,9,9.5,6.8,5.5],[5.7,9.3,6.6,8.1,5.5], c = 'r')\n",
    "ax.plot(x,y1, color = 'k')\n",
    "ax.plot(x,y2, color = 'g')\n",
    "ax.set_xlim([0, 10])\n",
    "ax.set_ylim([0, 10])\n",
    "plt.draw()\n",
    "plt.show()"
   ]
  },
  {
   "cell_type": "markdown",
   "metadata": {},
   "source": [
    "Let's take the above graph and explain it in term of SVM decision boundary. Imagine that, the vector a == w and b == x. w is a vector of weights, and x is a vector of features. For simplicity, let's consider 2 dimensions:\n",
    "\n",
    "`w = (w1,w2)`<br />\n",
    "`x = (x1,x2)`<br />\n",
    "\n",
    "This means x has two features: x1 and x2. And, $w^Tx$ = |w||x|cos(θ) or $w^Tx$ = p·|w|. Back to equation (1) with large C, one can rewrite the two conditions:\n",
    "<br />\n",
    "- If y = 1 (positive ion), then $p·|w| >> 0$\n",
    "<br />\n",
    "- If y = 0 (negative ion), then $p·|w| << 0$\n",
    "\n",
    "It can be proved that the decision boundary is perpendicular to the weight vector (w). In the graph below, the green vector is the weight vector. The purple vector is a projection vector of the X point."
   ]
  },
  {
   "cell_type": "code",
   "execution_count": 147,
   "metadata": {},
   "outputs": [
    {
     "data": {
      "image/png": "[encoded data removed]",
      "text/plain": [
       "<Figure size 432x288 with 1 Axes>"
      ]
     },
     "metadata": {
      "needs_background": "light"
     },
     "output_type": "display_data"
    }
   ],
   "source": [
    "# SVM Decision Boundary in feature space.\n",
    "\n",
    "import numpy as np\n",
    "import matplotlib.pyplot as plt\n",
    "\n",
    "# Decision boundary (blue line)\n",
    "x = np.linspace(-10,10,1000)\n",
    "y1 = -2*x\n",
    "\n",
    "# the weight vector\n",
    "soa = np.array([[0, 0, 5, 2.5], [0, 0, 2.5, 1.25]])\n",
    "X, Y, U, V = zip(*soa)\n",
    "\n",
    "# Plotting\n",
    "plt.figure()\n",
    "ax = plt.gca()\n",
    "ax.axis('scaled')\n",
    "ax.scatter([2,4,3],[-3,-1,3])\n",
    "ax.scatter([-4,-3,-2,-2],[2,-3,-1,3], c = 'r')\n",
    "ax.scatter(2,2,c = 'r', marker = 'X', s = 50)\n",
    "ax.quiver(X, Y, U, V, angles='xy', scale_units='xy', scale=1, color = ['g', 'm']) # weight vector and projection vector of X\n",
    "ax.plot(x,y1)\n",
    "ax.set_xlim([-5, 5])\n",
    "ax.set_ylim([-5, 5])\n",
    "plt.draw()\n",
    "plt.show()"
   ]
  },
  {
   "cell_type": "markdown",
   "metadata": {},
   "source": [
    "However, this decision boundary will not be the optimal one because it doesn't satisfy the two equation. The optimal decision boundary will be the black line as describe below."
   ]
  },
  {
   "cell_type": "code",
   "execution_count": 157,
   "metadata": {},
   "outputs": [
    {
     "data": {
      "image/png": "[encoded data removed]",
      "text/plain": [
       "<Figure size 432x288 with 1 Axes>"
      ]
     },
     "metadata": {
      "needs_background": "light"
     },
     "output_type": "display_data"
    }
   ],
   "source": [
    "# SVM Decision Boundary in feature space.\n",
    "\n",
    "import numpy as np\n",
    "import matplotlib.pyplot as plt\n",
    "\n",
    "# Decision boundary (blue line)\n",
    "x = np.linspace(-10,10,1000)\n",
    "y1 = 10000*x\n",
    "\n",
    "# the weight vector\n",
    "soa = np.array([[0, 0, 5, 0], [0, 0, 2, 0]])\n",
    "X, Y, U, V = zip(*soa)\n",
    "\n",
    "# Plotting\n",
    "plt.figure()\n",
    "ax = plt.gca()\n",
    "ax.axis('scaled')\n",
    "ax.scatter([2,4,3],[-3,-1,3])\n",
    "ax.scatter([-4,-3,-2,-2],[2,-3,-1,3], c = 'r')\n",
    "ax.scatter(2,2,c = 'r', marker = 'X', s = 50)\n",
    "ax.quiver(X, Y, U, V, angles='xy', scale_units='xy', scale=1, color = ['g', 'm']) # weight vector and projection vector of X\n",
    "ax.plot(x,y1,color='k')\n",
    "ax.set_xlim([-5, 5])\n",
    "ax.set_ylim([-5, 5])\n",
    "plt.draw()\n",
    "plt.show()"
   ]
  },
  {
   "cell_type": "markdown",
   "metadata": {},
   "source": [
    "### Kernel\n",
    "\n",
    "For non-linear decision boundary, one can extend the polynomial of the features to a higher order than 1. For instance, <br />\n",
    "<br />\n",
    "<center> $y = w_0 + w_1x_1+ w_2x_2 + w_3x_1x_2 + w_4x_1^2 + w_5x_2^2 + ... $ </center>\n",
    "<br />\n",
    "Now, let's suppose: \n",
    "<br />\n",
    "<center> $y = w_0 + w_1f_1+ w_2f_2 + w_3f_3 + w_4f_4 + w_5f_5 + ... $ </center>\n",
    "<br />\n",
    "where $f_1 = x_1, f_2 = x_2, f_3 = x_1x_2, f_4 = x_1^2, f_5 = x_2^2, ...$. This is called kernelized. In this particular case, $f_i$ is a polynomial kernel. However, polynomial optimization can be very time consuming as the order increases. Is there any better kernel?"
   ]
  },
  {
   "cell_type": "markdown",
   "metadata": {},
   "source": [
    "### Gaussian Kernel\n",
    "\n",
    "Gaussian kernel is sometimes called similarity kernel. In scikit-learn, rbf is equivalent to gaussian kernel. Let's define the gaussian kernel:\n",
    "<br />\n",
    "<br />\n",
    "<center> $f = similarity(x,l) = exp(-\\frac{||x-l||^2}{2\\gamma^2}) $ </center>\n",
    "<br />\n",
    "l is a landmark. A landmark is a point in feature space which defines as a similarity reference point relative to the data point. The numbers of feature are equal to the numbers of landmark.\n",
    "<br />\n",
    "<br />\n",
    "If x ≈ l:\n",
    "<br />\n",
    "<br />\n",
    "<center> $f = exp(-\\frac{||x-l||^2}{2\\gamma^2}) = 1$ </center>\n",
    "<br />\n",
    "If x is far from l:\n",
    "<br />\n",
    "<br />\n",
    "<center> $f = exp(-\\frac{||x-l||^2}{2\\gamma^2}) = 0$ </center>\n",
    "<br />"
   ]
  },
  {
   "cell_type": "markdown",
   "metadata": {},
   "source": [
    "## 2. Code implementation with scikit-learn"
   ]
  },
  {
   "cell_type": "code",
   "execution_count": 161,
   "metadata": {},
   "outputs": [
    {
     "name": "stdout",
     "output_type": "stream",
     "text": [
      "Automatically created module for IPython interactive environment\n"
     ]
    },
    {
     "name": "stderr",
     "output_type": "stream",
     "text": [
      "C:\\Program Files\\Anaconda3\\lib\\site-packages\\sklearn\\svm\\base.py:196: FutureWarning: The default value of gamma will change from 'auto' to 'scale' in version 0.22 to account better for unscaled features. Set gamma explicitly to 'auto' or 'scale' to avoid this warning.\n",
      "  \"avoid this warning.\", FutureWarning)\n"
     ]
    },
    {
     "data": {
      "image/png": "[encoded data removed]",
      "text/plain": [
       "<Figure size 432x288 with 1 Axes>"
      ]
     },
     "metadata": {
      "needs_background": "light"
     },
     "output_type": "display_data"
    }
   ],
   "source": [
    "# This code is taken from http://scikit-learn.org/stable/auto_examples/svm/plot_svm_regression.html#sphx-glr-auto-examples-svm-plot-svm-regression-py\n",
    "\n",
    "\n",
    "print(__doc__)\n",
    "\n",
    "import numpy as np\n",
    "from sklearn.svm import SVR\n",
    "import matplotlib.pyplot as plt\n",
    "\n",
    "# #############################################################################\n",
    "# Generate sample data\n",
    "X = np.sort(5 * np.random.rand(40, 1), axis=0)\n",
    "y = np.sin(X).ravel()\n",
    "\n",
    "# #############################################################################\n",
    "# Add noise to targets\n",
    "y[::5] += 3 * (0.5 - np.random.rand(8))\n",
    "\n",
    "# #############################################################################\n",
    "# Fit regression model\n",
    "svr_rbf = SVR(kernel='rbf', C=1e3, gamma=0.1)\n",
    "svr_lin = SVR(kernel='linear', C=1e3)\n",
    "svr_poly = SVR(kernel='poly', C=1e3, degree=2)\n",
    "y_rbf = svr_rbf.fit(X, y).predict(X)\n",
    "y_lin = svr_lin.fit(X, y).predict(X)\n",
    "y_poly = svr_poly.fit(X, y).predict(X)\n",
    "\n",
    "# #############################################################################\n",
    "# Look at the results\n",
    "lw = 2\n",
    "plt.scatter(X, y, color='darkorange', label='data')\n",
    "plt.plot(X, y_rbf, color='navy', lw=lw, label='RBF model')\n",
    "plt.plot(X, y_lin, color='c', lw=lw, label='Linear model')\n",
    "plt.plot(X, y_poly, color='cornflowerblue', lw=lw, label='Polynomial model')\n",
    "plt.xlabel('data')\n",
    "plt.ylabel('target')\n",
    "plt.title('Support Vector Regression')\n",
    "plt.legend()\n",
    "plt.show()"
   ]
  },
  {
   "cell_type": "code",
   "execution_count": null,
   "metadata": {},
   "outputs": [],
   "source": []
  }
 ],
 "metadata": {
  "kernelspec": {
   "display_name": "Python 3",
   "language": "python",
   "name": "python3"
  },
  "language_info": {
   "codemirror_mode": {
    "name": "ipython",
    "version": 3
   },
   "file_extension": ".py",
   "mimetype": "text/x-python",
   "name": "python",
   "nbconvert_exporter": "python",
   "pygments_lexer": "ipython3",
   "version": "3.6.6"
  }
 },
 "nbformat": 4,
 "nbformat_minor": 2
}
